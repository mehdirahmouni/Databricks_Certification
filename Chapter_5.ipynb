{
 "cells": [
  {
   "cell_type": "code",
   "execution_count": 1,
   "source": [
    "import $ivy.`org.apache.spark::spark-sql:3.1.1`\n",
    "import org.apache.spark.sql._"
   ],
   "outputs": [
    {
     "output_type": "execute_result",
     "data": {
      "text/plain": [
       "\u001b[32mimport \u001b[39m\u001b[36m$ivy.$                                  \n",
       "\u001b[39m\n",
       "\u001b[32mimport \u001b[39m\u001b[36morg.apache.spark.sql._\u001b[39m"
      ]
     },
     "metadata": {},
     "execution_count": 1
    }
   ],
   "metadata": {}
  },
  {
   "cell_type": "code",
   "execution_count": 2,
   "source": [
    "val spark = {\n",
    "  NotebookSparkSession.builder()\n",
    "    .master(\"local[*]\")\n",
    "    .getOrCreate()\n",
    "}"
   ],
   "outputs": [
    {
     "output_type": "stream",
     "name": "stdout",
     "text": [
      "Loading spark-stubs\n"
     ]
    },
    {
     "output_type": "stream",
     "name": "stderr",
     "text": [
      "log4j:WARN No appenders could be found for logger (org.eclipse.jetty.util.log).\n",
      "log4j:WARN Please initialize the log4j system properly.\n",
      "log4j:WARN See http://logging.apache.org/log4j/1.2/faq.html#noconfig for more info.\n"
     ]
    },
    {
     "output_type": "stream",
     "name": "stdout",
     "text": [
      "Creating SparkSession\n"
     ]
    },
    {
     "output_type": "stream",
     "name": "stderr",
     "text": [
      "Using Spark's default log4j profile: org/apache/spark/log4j-defaults.properties\n",
      "21/09/11 23:51:12 INFO SparkContext: Running Spark version 3.1.1\n",
      "21/09/11 23:51:12 WARN NativeCodeLoader: Unable to load native-hadoop library for your platform... using builtin-java classes where applicable\n",
      "21/09/11 23:51:12 INFO ResourceUtils: ==============================================================\n",
      "21/09/11 23:51:12 INFO ResourceUtils: No custom resources configured for spark.driver.\n",
      "21/09/11 23:51:12 INFO ResourceUtils: ==============================================================\n",
      "21/09/11 23:51:12 INFO SparkContext: Submitted application: 046b431d-9342-4975-8e64-cd7c255ec03d\n",
      "21/09/11 23:51:12 INFO ResourceProfile: Default ResourceProfile created, executor resources: Map(cores -> name: cores, amount: 1, script: , vendor: , memory -> name: memory, amount: 1024, script: , vendor: , offHeap -> name: offHeap, amount: 0, script: , vendor: ), task resources: Map(cpus -> name: cpus, amount: 1.0)\n",
      "21/09/11 23:51:12 INFO ResourceProfile: Limiting resource is cpu\n",
      "21/09/11 23:51:12 INFO ResourceProfileManager: Added ResourceProfile id: 0\n",
      "21/09/11 23:51:12 INFO SecurityManager: Changing view acls to: mehdi\n",
      "21/09/11 23:51:12 INFO SecurityManager: Changing modify acls to: mehdi\n",
      "21/09/11 23:51:12 INFO SecurityManager: Changing view acls groups to: \n",
      "21/09/11 23:51:12 INFO SecurityManager: Changing modify acls groups to: \n",
      "21/09/11 23:51:12 INFO SecurityManager: SecurityManager: authentication disabled; ui acls disabled; users  with view permissions: Set(mehdi); groups with view permissions: Set(); users  with modify permissions: Set(mehdi); groups with modify permissions: Set()\n",
      "21/09/11 23:51:13 INFO Utils: Successfully started service 'sparkDriver' on port 63870.\n",
      "21/09/11 23:51:13 INFO SparkEnv: Registering MapOutputTracker\n",
      "21/09/11 23:51:13 INFO SparkEnv: Registering BlockManagerMaster\n",
      "21/09/11 23:51:13 INFO BlockManagerMasterEndpoint: Using org.apache.spark.storage.DefaultTopologyMapper for getting topology information\n",
      "21/09/11 23:51:13 INFO BlockManagerMasterEndpoint: BlockManagerMasterEndpoint up\n",
      "21/09/11 23:51:13 INFO SparkEnv: Registering BlockManagerMasterHeartbeat\n",
      "21/09/11 23:51:13 INFO DiskBlockManager: Created local directory at /private/var/folders/pm/y4lv5tyd1rzfr9sx2jzdn2jw0000gn/T/blockmgr-aeefedf3-1b6b-45af-9135-9f563d529dea\n",
      "21/09/11 23:51:13 INFO MemoryStore: MemoryStore started with capacity 2004.6 MiB\n",
      "21/09/11 23:51:13 INFO SparkEnv: Registering OutputCommitCoordinator\n",
      "21/09/11 23:51:13 INFO Utils: Successfully started service 'SparkUI' on port 4041.\n",
      "21/09/11 23:51:13 INFO SparkUI: Bound SparkUI to 0.0.0.0, and started at http://192.168.0.71:4041\n",
      "21/09/11 23:51:13 INFO SparkContext: Added JAR file:/Users/mehdi/Library/Caches/Coursier/v1/https/jitpack.io/com/github/jupyter/jvm-repr/0.4.0/jvm-repr-0.4.0-sources.jar at spark://192.168.0.71:63870/jars/jvm-repr-0.4.0-sources.jar with timestamp 1631429472401\n",
      "21/09/11 23:51:13 INFO SparkContext: Added JAR file:/Users/mehdi/Library/Caches/Coursier/v1/https/jitpack.io/com/github/jupyter/jvm-repr/0.4.0/jvm-repr-0.4.0.jar at spark://192.168.0.71:63870/jars/jvm-repr-0.4.0.jar with timestamp 1631429472401\n",
      "21/09/11 23:51:13 INFO SparkContext: Added JAR file:/Users/mehdi/Library/Caches/Coursier/v1/https/repo1.maven.org/maven2/com/github/javaparser/javaparser-core/3.2.5/javaparser-core-3.2.5-sources.jar at spark://192.168.0.71:63870/jars/javaparser-core-3.2.5-sources.jar with timestamp 1631429472401\n",
      "21/09/11 23:51:13 INFO SparkContext: Added JAR file:/Users/mehdi/Library/Caches/Coursier/v1/https/repo1.maven.org/maven2/com/github/javaparser/javaparser-core/3.2.5/javaparser-core-3.2.5.jar at spark://192.168.0.71:63870/jars/javaparser-core-3.2.5.jar with timestamp 1631429472401\n",
      "21/09/11 23:51:13 INFO SparkContext: Added JAR file:/Users/mehdi/Library/Caches/Coursier/v1/https/repo1.maven.org/maven2/com/lihaoyi/ammonite-compiler-interface_2.12/2.3.8-36-1cce53f3/ammonite-compiler-interface_2.12-2.3.8-36-1cce53f3-sources.jar at spark://192.168.0.71:63870/jars/ammonite-compiler-interface_2.12-2.3.8-36-1cce53f3-sources.jar with timestamp 1631429472401\n",
      "21/09/11 23:51:13 INFO SparkContext: Added JAR file:/Users/mehdi/Library/Caches/Coursier/v1/https/repo1.maven.org/maven2/com/lihaoyi/ammonite-compiler-interface_2.12/2.3.8-36-1cce53f3/ammonite-compiler-interface_2.12-2.3.8-36-1cce53f3.jar at spark://192.168.0.71:63870/jars/ammonite-compiler-interface_2.12-2.3.8-36-1cce53f3.jar with timestamp 1631429472401\n",
      "21/09/11 23:51:13 INFO SparkContext: Added JAR file:/Users/mehdi/Library/Caches/Coursier/v1/https/repo1.maven.org/maven2/com/lihaoyi/ammonite-compiler_2.12.11/2.3.8-36-1cce53f3/ammonite-compiler_2.12.11-2.3.8-36-1cce53f3-sources.jar at spark://192.168.0.71:63870/jars/ammonite-compiler_2.12.11-2.3.8-36-1cce53f3-sources.jar with timestamp 1631429472401\n",
      "21/09/11 23:51:13 INFO SparkContext: Added JAR file:/Users/mehdi/Library/Caches/Coursier/v1/https/repo1.maven.org/maven2/com/lihaoyi/ammonite-compiler_2.12.11/2.3.8-36-1cce53f3/ammonite-compiler_2.12.11-2.3.8-36-1cce53f3.jar at spark://192.168.0.71:63870/jars/ammonite-compiler_2.12.11-2.3.8-36-1cce53f3.jar with timestamp 1631429472401\n",
      "21/09/11 23:51:13 INFO SparkContext: Added JAR file:/Users/mehdi/Library/Caches/Coursier/v1/https/repo1.maven.org/maven2/com/lihaoyi/ammonite-interp-api_2.12.11/2.3.8-36-1cce53f3/ammonite-interp-api_2.12.11-2.3.8-36-1cce53f3-sources.jar at spark://192.168.0.71:63870/jars/ammonite-interp-api_2.12.11-2.3.8-36-1cce53f3-sources.jar with timestamp 1631429472401\n",
      "21/09/11 23:51:13 INFO SparkContext: Added JAR file:/Users/mehdi/Library/Caches/Coursier/v1/https/repo1.maven.org/maven2/com/lihaoyi/ammonite-interp-api_2.12.11/2.3.8-36-1cce53f3/ammonite-interp-api_2.12.11-2.3.8-36-1cce53f3.jar at spark://192.168.0.71:63870/jars/ammonite-interp-api_2.12.11-2.3.8-36-1cce53f3.jar with timestamp 1631429472401\n",
      "21/09/11 23:51:13 INFO SparkContext: Added JAR file:/Users/mehdi/Library/Caches/Coursier/v1/https/repo1.maven.org/maven2/com/lihaoyi/ammonite-ops_2.12/2.3.8-36-1cce53f3/ammonite-ops_2.12-2.3.8-36-1cce53f3-sources.jar at spark://192.168.0.71:63870/jars/ammonite-ops_2.12-2.3.8-36-1cce53f3-sources.jar with timestamp 1631429472401\n",
      "21/09/11 23:51:13 INFO SparkContext: Added JAR file:/Users/mehdi/Library/Caches/Coursier/v1/https/repo1.maven.org/maven2/com/lihaoyi/ammonite-ops_2.12/2.3.8-36-1cce53f3/ammonite-ops_2.12-2.3.8-36-1cce53f3.jar at spark://192.168.0.71:63870/jars/ammonite-ops_2.12-2.3.8-36-1cce53f3.jar with timestamp 1631429472401\n",
      "21/09/11 23:51:13 INFO SparkContext: Added JAR file:/Users/mehdi/Library/Caches/Coursier/v1/https/repo1.maven.org/maven2/com/lihaoyi/ammonite-repl-api_2.12.11/2.3.8-36-1cce53f3/ammonite-repl-api_2.12.11-2.3.8-36-1cce53f3-sources.jar at spark://192.168.0.71:63870/jars/ammonite-repl-api_2.12.11-2.3.8-36-1cce53f3-sources.jar with timestamp 1631429472401\n",
      "21/09/11 23:51:13 INFO SparkContext: Added JAR file:/Users/mehdi/Library/Caches/Coursier/v1/https/repo1.maven.org/maven2/com/lihaoyi/ammonite-repl-api_2.12.11/2.3.8-36-1cce53f3/ammonite-repl-api_2.12.11-2.3.8-36-1cce53f3.jar at spark://192.168.0.71:63870/jars/ammonite-repl-api_2.12.11-2.3.8-36-1cce53f3.jar with timestamp 1631429472401\n",
      "21/09/11 23:51:13 INFO SparkContext: Added JAR file:/Users/mehdi/Library/Caches/Coursier/v1/https/repo1.maven.org/maven2/com/lihaoyi/ammonite-util_2.12/2.3.8-36-1cce53f3/ammonite-util_2.12-2.3.8-36-1cce53f3-sources.jar at spark://192.168.0.71:63870/jars/ammonite-util_2.12-2.3.8-36-1cce53f3-sources.jar with timestamp 1631429472401\n",
      "21/09/11 23:51:13 INFO SparkContext: Added JAR file:/Users/mehdi/Library/Caches/Coursier/v1/https/repo1.maven.org/maven2/com/lihaoyi/ammonite-util_2.12/2.3.8-36-1cce53f3/ammonite-util_2.12-2.3.8-36-1cce53f3.jar at spark://192.168.0.71:63870/jars/ammonite-util_2.12-2.3.8-36-1cce53f3.jar with timestamp 1631429472401\n",
      "21/09/11 23:51:13 INFO SparkContext: Added JAR file:/Users/mehdi/Library/Caches/Coursier/v1/https/repo1.maven.org/maven2/com/lihaoyi/fansi_2.12/0.2.9/fansi_2.12-0.2.9-sources.jar at spark://192.168.0.71:63870/jars/fansi_2.12-0.2.9-sources.jar with timestamp 1631429472401\n",
      "21/09/11 23:51:13 INFO SparkContext: Added JAR file:/Users/mehdi/Library/Caches/Coursier/v1/https/repo1.maven.org/maven2/com/lihaoyi/fansi_2.12/0.2.9/fansi_2.12-0.2.9.jar at spark://192.168.0.71:63870/jars/fansi_2.12-0.2.9.jar with timestamp 1631429472401\n",
      "21/09/11 23:51:13 INFO SparkContext: Added JAR file:/Users/mehdi/Library/Caches/Coursier/v1/https/repo1.maven.org/maven2/com/lihaoyi/fastparse_2.12/2.3.0/fastparse_2.12-2.3.0-sources.jar at spark://192.168.0.71:63870/jars/fastparse_2.12-2.3.0-sources.jar with timestamp 1631429472401\n",
      "21/09/11 23:51:13 INFO SparkContext: Added JAR file:/Users/mehdi/Library/Caches/Coursier/v1/https/repo1.maven.org/maven2/com/lihaoyi/fastparse_2.12/2.3.0/fastparse_2.12-2.3.0.jar at spark://192.168.0.71:63870/jars/fastparse_2.12-2.3.0.jar with timestamp 1631429472401\n",
      "21/09/11 23:51:13 INFO SparkContext: Added JAR file:/Users/mehdi/Library/Caches/Coursier/v1/https/repo1.maven.org/maven2/com/lihaoyi/geny_2.12/0.6.5/geny_2.12-0.6.5-sources.jar at spark://192.168.0.71:63870/jars/geny_2.12-0.6.5-sources.jar with timestamp 1631429472401\n",
      "21/09/11 23:51:13 INFO SparkContext: Added JAR file:/Users/mehdi/Library/Caches/Coursier/v1/https/repo1.maven.org/maven2/com/lihaoyi/geny_2.12/0.6.5/geny_2.12-0.6.5.jar at spark://192.168.0.71:63870/jars/geny_2.12-0.6.5.jar with timestamp 1631429472401\n",
      "21/09/11 23:51:13 INFO SparkContext: Added JAR file:/Users/mehdi/Library/Caches/Coursier/v1/https/repo1.maven.org/maven2/com/lihaoyi/mainargs_2.12/0.1.4/mainargs_2.12-0.1.4-sources.jar at spark://192.168.0.71:63870/jars/mainargs_2.12-0.1.4-sources.jar with timestamp 1631429472401\n",
      "21/09/11 23:51:13 INFO SparkContext: Added JAR file:/Users/mehdi/Library/Caches/Coursier/v1/https/repo1.maven.org/maven2/com/lihaoyi/mainargs_2.12/0.1.4/mainargs_2.12-0.1.4.jar at spark://192.168.0.71:63870/jars/mainargs_2.12-0.1.4.jar with timestamp 1631429472401\n",
      "21/09/11 23:51:13 INFO SparkContext: Added JAR file:/Users/mehdi/Library/Caches/Coursier/v1/https/repo1.maven.org/maven2/com/lihaoyi/os-lib_2.12/0.7.1/os-lib_2.12-0.7.1-sources.jar at spark://192.168.0.71:63870/jars/os-lib_2.12-0.7.1-sources.jar with timestamp 1631429472401\n",
      "21/09/11 23:51:13 INFO SparkContext: Added JAR file:/Users/mehdi/Library/Caches/Coursier/v1/https/repo1.maven.org/maven2/com/lihaoyi/os-lib_2.12/0.7.1/os-lib_2.12-0.7.1.jar at spark://192.168.0.71:63870/jars/os-lib_2.12-0.7.1.jar with timestamp 1631429472401\n",
      "21/09/11 23:51:13 INFO SparkContext: Added JAR file:/Users/mehdi/Library/Caches/Coursier/v1/https/repo1.maven.org/maven2/com/lihaoyi/pprint_2.12/0.6.0/pprint_2.12-0.6.0-sources.jar at spark://192.168.0.71:63870/jars/pprint_2.12-0.6.0-sources.jar with timestamp 1631429472401\n",
      "21/09/11 23:51:13 INFO SparkContext: Added JAR file:/Users/mehdi/Library/Caches/Coursier/v1/https/repo1.maven.org/maven2/com/lihaoyi/pprint_2.12/0.6.0/pprint_2.12-0.6.0.jar at spark://192.168.0.71:63870/jars/pprint_2.12-0.6.0.jar with timestamp 1631429472401\n",
      "21/09/11 23:51:13 INFO SparkContext: Added JAR file:/Users/mehdi/Library/Caches/Coursier/v1/https/repo1.maven.org/maven2/com/lihaoyi/scalaparse_2.12/2.3.0/scalaparse_2.12-2.3.0-sources.jar at spark://192.168.0.71:63870/jars/scalaparse_2.12-2.3.0-sources.jar with timestamp 1631429472401\n",
      "21/09/11 23:51:13 INFO SparkContext: Added JAR file:/Users/mehdi/Library/Caches/Coursier/v1/https/repo1.maven.org/maven2/com/lihaoyi/scalaparse_2.12/2.3.0/scalaparse_2.12-2.3.0.jar at spark://192.168.0.71:63870/jars/scalaparse_2.12-2.3.0.jar with timestamp 1631429472401\n",
      "21/09/11 23:51:13 INFO SparkContext: Added JAR file:/Users/mehdi/Library/Caches/Coursier/v1/https/repo1.maven.org/maven2/com/lihaoyi/sourcecode_2.12/0.2.3/sourcecode_2.12-0.2.3-sources.jar at spark://192.168.0.71:63870/jars/sourcecode_2.12-0.2.3-sources.jar with timestamp 1631429472401\n",
      "21/09/11 23:51:13 INFO SparkContext: Added JAR file:/Users/mehdi/Library/Caches/Coursier/v1/https/repo1.maven.org/maven2/com/lihaoyi/sourcecode_2.12/0.2.3/sourcecode_2.12-0.2.3.jar at spark://192.168.0.71:63870/jars/sourcecode_2.12-0.2.3.jar with timestamp 1631429472401\n",
      "21/09/11 23:51:13 INFO SparkContext: Added JAR file:/Users/mehdi/Library/Caches/Coursier/v1/https/repo1.maven.org/maven2/io/get-coursier/interface/1.0.3/interface-1.0.3-sources.jar at spark://192.168.0.71:63870/jars/interface-1.0.3-sources.jar with timestamp 1631429472401\n",
      "21/09/11 23:51:13 INFO SparkContext: Added JAR file:/Users/mehdi/Library/Caches/Coursier/v1/https/repo1.maven.org/maven2/io/get-coursier/interface/1.0.3/interface-1.0.3.jar at spark://192.168.0.71:63870/jars/interface-1.0.3.jar with timestamp 1631429472401\n",
      "21/09/11 23:51:13 INFO SparkContext: Added JAR file:/Users/mehdi/Library/Caches/Coursier/v1/https/repo1.maven.org/maven2/org/javassist/javassist/3.21.0-GA/javassist-3.21.0-GA-sources.jar at spark://192.168.0.71:63870/jars/javassist-3.21.0-GA-sources.jar with timestamp 1631429472401\n",
      "21/09/11 23:51:13 INFO SparkContext: Added JAR file:/Users/mehdi/Library/Caches/Coursier/v1/https/repo1.maven.org/maven2/org/javassist/javassist/3.21.0-GA/javassist-3.21.0-GA.jar at spark://192.168.0.71:63870/jars/javassist-3.21.0-GA.jar with timestamp 1631429472401\n",
      "21/09/11 23:51:13 INFO SparkContext: Added JAR file:/Users/mehdi/Library/Caches/Coursier/v1/https/repo1.maven.org/maven2/org/scala-lang/modules/scala-collection-compat_2.12/2.4.2/scala-collection-compat_2.12-2.4.2-sources.jar at spark://192.168.0.71:63870/jars/scala-collection-compat_2.12-2.4.2-sources.jar with timestamp 1631429472401\n",
      "21/09/11 23:51:13 INFO SparkContext: Added JAR file:/Users/mehdi/Library/Caches/Coursier/v1/https/repo1.maven.org/maven2/org/scala-lang/modules/scala-collection-compat_2.12/2.4.2/scala-collection-compat_2.12-2.4.2.jar at spark://192.168.0.71:63870/jars/scala-collection-compat_2.12-2.4.2.jar with timestamp 1631429472401\n",
      "21/09/11 23:51:13 INFO SparkContext: Added JAR file:/Users/mehdi/Library/Caches/Coursier/v1/https/repo1.maven.org/maven2/org/scala-lang/modules/scala-xml_2.12/2.0.0-M3/scala-xml_2.12-2.0.0-M3-sources.jar at spark://192.168.0.71:63870/jars/scala-xml_2.12-2.0.0-M3-sources.jar with timestamp 1631429472401\n",
      "21/09/11 23:51:13 INFO SparkContext: Added JAR file:/Users/mehdi/Library/Caches/Coursier/v1/https/repo1.maven.org/maven2/org/scala-lang/modules/scala-xml_2.12/2.0.0-M3/scala-xml_2.12-2.0.0-M3.jar at spark://192.168.0.71:63870/jars/scala-xml_2.12-2.0.0-M3.jar with timestamp 1631429472401\n",
      "21/09/11 23:51:13 INFO SparkContext: Added JAR file:/Users/mehdi/Library/Caches/Coursier/v1/https/repo1.maven.org/maven2/sh/almond/interpreter-api_2.12/0.11.1/interpreter-api_2.12-0.11.1-sources.jar at spark://192.168.0.71:63870/jars/interpreter-api_2.12-0.11.1-sources.jar with timestamp 1631429472401\n",
      "21/09/11 23:51:13 INFO SparkContext: Added JAR file:/Users/mehdi/Library/Caches/Coursier/v1/https/repo1.maven.org/maven2/sh/almond/interpreter-api_2.12/0.11.1/interpreter-api_2.12-0.11.1.jar at spark://192.168.0.71:63870/jars/interpreter-api_2.12-0.11.1.jar with timestamp 1631429472401\n",
      "21/09/11 23:51:13 INFO SparkContext: Added JAR file:/Users/mehdi/Library/Caches/Coursier/v1/https/repo1.maven.org/maven2/sh/almond/jupyter-api_2.12/0.11.1/jupyter-api_2.12-0.11.1-sources.jar at spark://192.168.0.71:63870/jars/jupyter-api_2.12-0.11.1-sources.jar with timestamp 1631429472401\n",
      "21/09/11 23:51:13 INFO SparkContext: Added JAR file:/Users/mehdi/Library/Caches/Coursier/v1/https/repo1.maven.org/maven2/sh/almond/jupyter-api_2.12/0.11.1/jupyter-api_2.12-0.11.1.jar at spark://192.168.0.71:63870/jars/jupyter-api_2.12-0.11.1.jar with timestamp 1631429472401\n",
      "21/09/11 23:51:13 INFO SparkContext: Added JAR file:/Users/mehdi/Library/Caches/Coursier/v1/https/repo1.maven.org/maven2/sh/almond/scala-kernel-api_2.12.11/0.11.1/scala-kernel-api_2.12.11-0.11.1-sources.jar at spark://192.168.0.71:63870/jars/scala-kernel-api_2.12.11-0.11.1-sources.jar with timestamp 1631429472401\n",
      "21/09/11 23:51:13 INFO SparkContext: Added JAR file:/Users/mehdi/Library/Caches/Coursier/v1/https/repo1.maven.org/maven2/sh/almond/scala-kernel-api_2.12.11/0.11.1/scala-kernel-api_2.12.11-0.11.1.jar at spark://192.168.0.71:63870/jars/scala-kernel-api_2.12.11-0.11.1.jar with timestamp 1631429472401\n",
      "21/09/11 23:51:13 INFO SparkContext: Added JAR file:/Users/mehdi/Library/Jupyter/kernels/scala/launcher.jar at spark://192.168.0.71:63870/jars/launcher.jar with timestamp 1631429472401\n",
      "21/09/11 23:51:13 INFO SparkContext: Added JAR file:/Users/mehdi/Library/Caches/Coursier/v1/https/repo1.maven.org/maven2/org/apache/spark/spark-sql_2.12/3.1.1/spark-sql_2.12-3.1.1.jar at spark://192.168.0.71:63870/jars/spark-sql_2.12-3.1.1.jar with timestamp 1631429472401\n",
      "21/09/11 23:51:13 INFO SparkContext: Added JAR file:/Users/mehdi/Library/Caches/Coursier/v1/https/repo1.maven.org/maven2/sh/almond/almond-spark_2.12/0.11.1/almond-spark_2.12-0.11.1.jar at spark://192.168.0.71:63870/jars/almond-spark_2.12-0.11.1.jar with timestamp 1631429472401\n",
      "21/09/11 23:51:13 INFO SparkContext: Added JAR file:/Users/mehdi/Library/Caches/Coursier/v1/https/repo1.maven.org/maven2/com/univocity/univocity-parsers/2.9.1/univocity-parsers-2.9.1.jar at spark://192.168.0.71:63870/jars/univocity-parsers-2.9.1.jar with timestamp 1631429472401\n",
      "21/09/11 23:51:13 INFO SparkContext: Added JAR file:/Users/mehdi/Library/Caches/Coursier/v1/https/repo1.maven.org/maven2/org/apache/spark/spark-sketch_2.12/3.1.1/spark-sketch_2.12-3.1.1.jar at spark://192.168.0.71:63870/jars/spark-sketch_2.12-3.1.1.jar with timestamp 1631429472401\n",
      "21/09/11 23:51:13 INFO SparkContext: Added JAR file:/Users/mehdi/Library/Caches/Coursier/v1/https/repo1.maven.org/maven2/org/apache/spark/spark-core_2.12/3.1.1/spark-core_2.12-3.1.1.jar at spark://192.168.0.71:63870/jars/spark-core_2.12-3.1.1.jar with timestamp 1631429472401\n",
      "21/09/11 23:51:13 INFO SparkContext: Added JAR file:/Users/mehdi/Library/Caches/Coursier/v1/https/repo1.maven.org/maven2/org/apache/spark/spark-catalyst_2.12/3.1.1/spark-catalyst_2.12-3.1.1.jar at spark://192.168.0.71:63870/jars/spark-catalyst_2.12-3.1.1.jar with timestamp 1631429472401\n",
      "21/09/11 23:51:13 INFO SparkContext: Added JAR file:/Users/mehdi/Library/Caches/Coursier/v1/https/repo1.maven.org/maven2/org/apache/spark/spark-tags_2.12/3.1.1/spark-tags_2.12-3.1.1.jar at spark://192.168.0.71:63870/jars/spark-tags_2.12-3.1.1.jar with timestamp 1631429472401\n",
      "21/09/11 23:51:13 INFO SparkContext: Added JAR file:/Users/mehdi/Library/Caches/Coursier/v1/https/repo1.maven.org/maven2/org/apache/orc/orc-core/1.5.12/orc-core-1.5.12.jar at spark://192.168.0.71:63870/jars/orc-core-1.5.12.jar with timestamp 1631429472401\n",
      "21/09/11 23:51:13 INFO SparkContext: Added JAR file:/Users/mehdi/Library/Caches/Coursier/v1/https/repo1.maven.org/maven2/org/apache/orc/orc-mapreduce/1.5.12/orc-mapreduce-1.5.12.jar at spark://192.168.0.71:63870/jars/orc-mapreduce-1.5.12.jar with timestamp 1631429472401\n",
      "21/09/11 23:51:13 INFO SparkContext: Added JAR file:/Users/mehdi/Library/Caches/Coursier/v1/https/repo1.maven.org/maven2/org/apache/hive/hive-storage-api/2.7.2/hive-storage-api-2.7.2.jar at spark://192.168.0.71:63870/jars/hive-storage-api-2.7.2.jar with timestamp 1631429472401\n",
      "21/09/11 23:51:13 INFO SparkContext: Added JAR file:/Users/mehdi/Library/Caches/Coursier/v1/https/repo1.maven.org/maven2/org/apache/parquet/parquet-column/1.10.1/parquet-column-1.10.1.jar at spark://192.168.0.71:63870/jars/parquet-column-1.10.1.jar with timestamp 1631429472401\n",
      "21/09/11 23:51:13 INFO SparkContext: Added JAR file:/Users/mehdi/Library/Caches/Coursier/v1/https/repo1.maven.org/maven2/org/apache/parquet/parquet-hadoop/1.10.1/parquet-hadoop-1.10.1.jar at spark://192.168.0.71:63870/jars/parquet-hadoop-1.10.1.jar with timestamp 1631429472401\n",
      "21/09/11 23:51:13 INFO SparkContext: Added JAR file:/Users/mehdi/Library/Caches/Coursier/v1/https/repo1.maven.org/maven2/com/fasterxml/jackson/core/jackson-databind/2.10.0/jackson-databind-2.10.0.jar at spark://192.168.0.71:63870/jars/jackson-databind-2.10.0.jar with timestamp 1631429472401\n",
      "21/09/11 23:51:13 INFO SparkContext: Added JAR file:/Users/mehdi/Library/Caches/Coursier/v1/https/repo1.maven.org/maven2/org/apache/xbean/xbean-asm7-shaded/4.15/xbean-asm7-shaded-4.15.jar at spark://192.168.0.71:63870/jars/xbean-asm7-shaded-4.15.jar with timestamp 1631429472401\n",
      "21/09/11 23:51:13 INFO SparkContext: Added JAR file:/Users/mehdi/Library/Caches/Coursier/v1/https/repo1.maven.org/maven2/org/spark-project/spark/unused/1.0.0/unused-1.0.0.jar at spark://192.168.0.71:63870/jars/unused-1.0.0.jar with timestamp 1631429472401\n",
      "21/09/11 23:51:13 INFO SparkContext: Added JAR file:/Users/mehdi/Library/Caches/Coursier/v1/https/repo1.maven.org/maven2/sh/almond/ammonite-spark_2.12/0.11.0/ammonite-spark_2.12-0.11.0.jar at spark://192.168.0.71:63870/jars/ammonite-spark_2.12-0.11.0.jar with timestamp 1631429472401\n",
      "21/09/11 23:51:13 INFO SparkContext: Added JAR file:/Users/mehdi/Library/Caches/Coursier/v1/https/repo1.maven.org/maven2/com/github/plokhotnyuk/jsoniter-scala/jsoniter-scala-core_2.12/2.6.4/jsoniter-scala-core_2.12-2.6.4.jar at spark://192.168.0.71:63870/jars/jsoniter-scala-core_2.12-2.6.4.jar with timestamp 1631429472401\n",
      "21/09/11 23:51:13 INFO SparkContext: Added JAR file:/Users/mehdi/Library/Caches/Coursier/v1/https/repo1.maven.org/maven2/com/thoughtworks/paranamer/paranamer/2.8/paranamer-2.8.jar at spark://192.168.0.71:63870/jars/paranamer-2.8.jar with timestamp 1631429472401\n",
      "21/09/11 23:51:13 INFO SparkContext: Added JAR file:/Users/mehdi/Library/Caches/Coursier/v1/https/repo1.maven.org/maven2/org/apache/avro/avro/1.8.2/avro-1.8.2.jar at spark://192.168.0.71:63870/jars/avro-1.8.2.jar with timestamp 1631429472401\n",
      "21/09/11 23:51:13 INFO SparkContext: Added JAR file:/Users/mehdi/Library/Caches/Coursier/v1/https/repo1.maven.org/maven2/org/apache/avro/avro-mapred/1.8.2/avro-mapred-1.8.2-hadoop2.jar at spark://192.168.0.71:63870/jars/avro-mapred-1.8.2-hadoop2.jar with timestamp 1631429472401\n",
      "21/09/11 23:51:13 INFO SparkContext: Added JAR file:/Users/mehdi/Library/Caches/Coursier/v1/https/repo1.maven.org/maven2/com/twitter/chill_2.12/0.9.5/chill_2.12-0.9.5.jar at spark://192.168.0.71:63870/jars/chill_2.12-0.9.5.jar with timestamp 1631429472401\n",
      "21/09/11 23:51:13 INFO SparkContext: Added JAR file:/Users/mehdi/Library/Caches/Coursier/v1/https/repo1.maven.org/maven2/com/twitter/chill-java/0.9.5/chill-java-0.9.5.jar at spark://192.168.0.71:63870/jars/chill-java-0.9.5.jar with timestamp 1631429472401\n",
      "21/09/11 23:51:13 INFO SparkContext: Added JAR file:/Users/mehdi/Library/Caches/Coursier/v1/https/repo1.maven.org/maven2/org/apache/hadoop/hadoop-client/3.2.0/hadoop-client-3.2.0.jar at spark://192.168.0.71:63870/jars/hadoop-client-3.2.0.jar with timestamp 1631429472401\n",
      "21/09/11 23:51:13 INFO SparkContext: Added JAR file:/Users/mehdi/Library/Caches/Coursier/v1/https/repo1.maven.org/maven2/org/apache/spark/spark-launcher_2.12/3.1.1/spark-launcher_2.12-3.1.1.jar at spark://192.168.0.71:63870/jars/spark-launcher_2.12-3.1.1.jar with timestamp 1631429472401\n",
      "21/09/11 23:51:13 INFO SparkContext: Added JAR file:/Users/mehdi/Library/Caches/Coursier/v1/https/repo1.maven.org/maven2/org/apache/spark/spark-kvstore_2.12/3.1.1/spark-kvstore_2.12-3.1.1.jar at spark://192.168.0.71:63870/jars/spark-kvstore_2.12-3.1.1.jar with timestamp 1631429472401\n",
      "21/09/11 23:51:13 INFO SparkContext: Added JAR file:/Users/mehdi/Library/Caches/Coursier/v1/https/repo1.maven.org/maven2/org/apache/spark/spark-network-common_2.12/3.1.1/spark-network-common_2.12-3.1.1.jar at spark://192.168.0.71:63870/jars/spark-network-common_2.12-3.1.1.jar with timestamp 1631429472401\n",
      "21/09/11 23:51:13 INFO SparkContext: Added JAR file:/Users/mehdi/Library/Caches/Coursier/v1/https/repo1.maven.org/maven2/org/apache/spark/spark-network-shuffle_2.12/3.1.1/spark-network-shuffle_2.12-3.1.1.jar at spark://192.168.0.71:63870/jars/spark-network-shuffle_2.12-3.1.1.jar with timestamp 1631429472401\n",
      "21/09/11 23:51:13 INFO SparkContext: Added JAR file:/Users/mehdi/Library/Caches/Coursier/v1/https/repo1.maven.org/maven2/org/apache/spark/spark-unsafe_2.12/3.1.1/spark-unsafe_2.12-3.1.1.jar at spark://192.168.0.71:63870/jars/spark-unsafe_2.12-3.1.1.jar with timestamp 1631429472401\n",
      "21/09/11 23:51:13 INFO SparkContext: Added JAR file:/Users/mehdi/Library/Caches/Coursier/v1/https/repo1.maven.org/maven2/javax/activation/activation/1.1.1/activation-1.1.1.jar at spark://192.168.0.71:63870/jars/activation-1.1.1.jar with timestamp 1631429472401\n",
      "21/09/11 23:51:13 INFO SparkContext: Added JAR file:/Users/mehdi/Library/Caches/Coursier/v1/https/repo1.maven.org/maven2/org/apache/curator/curator-recipes/2.13.0/curator-recipes-2.13.0.jar at spark://192.168.0.71:63870/jars/curator-recipes-2.13.0.jar with timestamp 1631429472401\n",
      "21/09/11 23:51:13 INFO SparkContext: Added JAR file:/Users/mehdi/Library/Caches/Coursier/v1/https/repo1.maven.org/maven2/org/apache/zookeeper/zookeeper/3.4.14/zookeeper-3.4.14.jar at spark://192.168.0.71:63870/jars/zookeeper-3.4.14.jar with timestamp 1631429472401\n",
      "21/09/11 23:51:13 INFO SparkContext: Added JAR file:/Users/mehdi/Library/Caches/Coursier/v1/https/repo1.maven.org/maven2/jakarta/servlet/jakarta.servlet-api/4.0.3/jakarta.servlet-api-4.0.3.jar at spark://192.168.0.71:63870/jars/jakarta.servlet-api-4.0.3.jar with timestamp 1631429472401\n",
      "21/09/11 23:51:13 INFO SparkContext: Added JAR file:/Users/mehdi/Library/Caches/Coursier/v1/https/repo1.maven.org/maven2/org/apache/commons/commons-lang3/3.10/commons-lang3-3.10.jar at spark://192.168.0.71:63870/jars/commons-lang3-3.10.jar with timestamp 1631429472401\n",
      "21/09/11 23:51:13 INFO SparkContext: Added JAR file:/Users/mehdi/Library/Caches/Coursier/v1/https/repo1.maven.org/maven2/org/apache/commons/commons-math3/3.4.1/commons-math3-3.4.1.jar at spark://192.168.0.71:63870/jars/commons-math3-3.4.1.jar with timestamp 1631429472401\n",
      "21/09/11 23:51:13 INFO SparkContext: Added JAR file:/Users/mehdi/Library/Caches/Coursier/v1/https/repo1.maven.org/maven2/org/apache/commons/commons-text/1.6/commons-text-1.6.jar at spark://192.168.0.71:63870/jars/commons-text-1.6.jar with timestamp 1631429472401\n",
      "21/09/11 23:51:13 INFO SparkContext: Added JAR file:/Users/mehdi/Library/Caches/Coursier/v1/https/repo1.maven.org/maven2/com/google/code/findbugs/jsr305/3.0.2/jsr305-3.0.2.jar at spark://192.168.0.71:63870/jars/jsr305-3.0.2.jar with timestamp 1631429472401\n",
      "21/09/11 23:51:13 INFO SparkContext: Added JAR file:/Users/mehdi/Library/Caches/Coursier/v1/https/repo1.maven.org/maven2/org/slf4j/slf4j-api/1.7.30/slf4j-api-1.7.30.jar at spark://192.168.0.71:63870/jars/slf4j-api-1.7.30.jar with timestamp 1631429472401\n",
      "21/09/11 23:51:13 INFO SparkContext: Added JAR file:/Users/mehdi/Library/Caches/Coursier/v1/https/repo1.maven.org/maven2/org/slf4j/jul-to-slf4j/1.7.30/jul-to-slf4j-1.7.30.jar at spark://192.168.0.71:63870/jars/jul-to-slf4j-1.7.30.jar with timestamp 1631429472401\n",
      "21/09/11 23:51:13 INFO SparkContext: Added JAR file:/Users/mehdi/Library/Caches/Coursier/v1/https/repo1.maven.org/maven2/org/slf4j/jcl-over-slf4j/1.7.30/jcl-over-slf4j-1.7.30.jar at spark://192.168.0.71:63870/jars/jcl-over-slf4j-1.7.30.jar with timestamp 1631429472401\n",
      "21/09/11 23:51:13 INFO SparkContext: Added JAR file:/Users/mehdi/Library/Caches/Coursier/v1/https/repo1.maven.org/maven2/log4j/log4j/1.2.17/log4j-1.2.17.jar at spark://192.168.0.71:63870/jars/log4j-1.2.17.jar with timestamp 1631429472401\n",
      "21/09/11 23:51:13 INFO SparkContext: Added JAR file:/Users/mehdi/Library/Caches/Coursier/v1/https/repo1.maven.org/maven2/org/slf4j/slf4j-log4j12/1.7.30/slf4j-log4j12-1.7.30.jar at spark://192.168.0.71:63870/jars/slf4j-log4j12-1.7.30.jar with timestamp 1631429472401\n",
      "21/09/11 23:51:13 INFO SparkContext: Added JAR file:/Users/mehdi/Library/Caches/Coursier/v1/https/repo1.maven.org/maven2/com/ning/compress-lzf/1.0.3/compress-lzf-1.0.3.jar at spark://192.168.0.71:63870/jars/compress-lzf-1.0.3.jar with timestamp 1631429472401\n",
      "21/09/11 23:51:13 INFO SparkContext: Added JAR file:/Users/mehdi/Library/Caches/Coursier/v1/https/repo1.maven.org/maven2/org/xerial/snappy/snappy-java/1.1.8.2/snappy-java-1.1.8.2.jar at spark://192.168.0.71:63870/jars/snappy-java-1.1.8.2.jar with timestamp 1631429472401\n",
      "21/09/11 23:51:13 INFO SparkContext: Added JAR file:/Users/mehdi/Library/Caches/Coursier/v1/https/repo1.maven.org/maven2/org/lz4/lz4-java/1.7.1/lz4-java-1.7.1.jar at spark://192.168.0.71:63870/jars/lz4-java-1.7.1.jar with timestamp 1631429472401\n",
      "21/09/11 23:51:13 INFO SparkContext: Added JAR file:/Users/mehdi/Library/Caches/Coursier/v1/https/repo1.maven.org/maven2/com/github/luben/zstd-jni/1.4.8-1/zstd-jni-1.4.8-1.jar at spark://192.168.0.71:63870/jars/zstd-jni-1.4.8-1.jar with timestamp 1631429472401\n",
      "21/09/11 23:51:13 INFO SparkContext: Added JAR file:/Users/mehdi/Library/Caches/Coursier/v1/https/repo1.maven.org/maven2/org/roaringbitmap/RoaringBitmap/0.9.0/RoaringBitmap-0.9.0.jar at spark://192.168.0.71:63870/jars/RoaringBitmap-0.9.0.jar with timestamp 1631429472401\n",
      "21/09/11 23:51:13 INFO SparkContext: Added JAR file:/Users/mehdi/Library/Caches/Coursier/v1/https/repo1.maven.org/maven2/commons-net/commons-net/3.6/commons-net-3.6.jar at spark://192.168.0.71:63870/jars/commons-net-3.6.jar with timestamp 1631429472401\n",
      "21/09/11 23:51:13 INFO SparkContext: Added JAR file:/Users/mehdi/Library/Caches/Coursier/v1/https/repo1.maven.org/maven2/org/json4s/json4s-jackson_2.12/3.7.0-M5/json4s-jackson_2.12-3.7.0-M5.jar at spark://192.168.0.71:63870/jars/json4s-jackson_2.12-3.7.0-M5.jar with timestamp 1631429472401\n",
      "21/09/11 23:51:13 INFO SparkContext: Added JAR file:/Users/mehdi/Library/Caches/Coursier/v1/https/repo1.maven.org/maven2/org/glassfish/jersey/core/jersey-client/2.30/jersey-client-2.30.jar at spark://192.168.0.71:63870/jars/jersey-client-2.30.jar with timestamp 1631429472401\n",
      "21/09/11 23:51:13 INFO SparkContext: Added JAR file:/Users/mehdi/Library/Caches/Coursier/v1/https/repo1.maven.org/maven2/org/glassfish/jersey/core/jersey-common/2.30/jersey-common-2.30.jar at spark://192.168.0.71:63870/jars/jersey-common-2.30.jar with timestamp 1631429472401\n",
      "21/09/11 23:51:13 INFO SparkContext: Added JAR file:/Users/mehdi/Library/Caches/Coursier/v1/https/repo1.maven.org/maven2/org/glassfish/jersey/core/jersey-server/2.30/jersey-server-2.30.jar at spark://192.168.0.71:63870/jars/jersey-server-2.30.jar with timestamp 1631429472401\n",
      "21/09/11 23:51:13 INFO SparkContext: Added JAR file:/Users/mehdi/Library/Caches/Coursier/v1/https/repo1.maven.org/maven2/org/glassfish/jersey/containers/jersey-container-servlet/2.30/jersey-container-servlet-2.30.jar at spark://192.168.0.71:63870/jars/jersey-container-servlet-2.30.jar with timestamp 1631429472401\n",
      "21/09/11 23:51:13 INFO SparkContext: Added JAR file:/Users/mehdi/Library/Caches/Coursier/v1/https/repo1.maven.org/maven2/org/glassfish/jersey/containers/jersey-container-servlet-core/2.30/jersey-container-servlet-core-2.30.jar at spark://192.168.0.71:63870/jars/jersey-container-servlet-core-2.30.jar with timestamp 1631429472401\n",
      "21/09/11 23:51:13 INFO SparkContext: Added JAR file:/Users/mehdi/Library/Caches/Coursier/v1/https/repo1.maven.org/maven2/org/glassfish/jersey/inject/jersey-hk2/2.30/jersey-hk2-2.30.jar at spark://192.168.0.71:63870/jars/jersey-hk2-2.30.jar with timestamp 1631429472401\n",
      "21/09/11 23:51:13 INFO SparkContext: Added JAR file:/Users/mehdi/Library/Caches/Coursier/v1/https/repo1.maven.org/maven2/io/netty/netty-all/4.1.51.Final/netty-all-4.1.51.Final.jar at spark://192.168.0.71:63870/jars/netty-all-4.1.51.Final.jar with timestamp 1631429472401\n",
      "21/09/11 23:51:13 INFO SparkContext: Added JAR file:/Users/mehdi/Library/Caches/Coursier/v1/https/repo1.maven.org/maven2/com/clearspring/analytics/stream/2.9.6/stream-2.9.6.jar at spark://192.168.0.71:63870/jars/stream-2.9.6.jar with timestamp 1631429472401\n",
      "21/09/11 23:51:13 INFO SparkContext: Added JAR file:/Users/mehdi/Library/Caches/Coursier/v1/https/repo1.maven.org/maven2/io/dropwizard/metrics/metrics-core/4.1.1/metrics-core-4.1.1.jar at spark://192.168.0.71:63870/jars/metrics-core-4.1.1.jar with timestamp 1631429472401\n",
      "21/09/11 23:51:13 INFO SparkContext: Added JAR file:/Users/mehdi/Library/Caches/Coursier/v1/https/repo1.maven.org/maven2/io/dropwizard/metrics/metrics-jvm/4.1.1/metrics-jvm-4.1.1.jar at spark://192.168.0.71:63870/jars/metrics-jvm-4.1.1.jar with timestamp 1631429472401\n",
      "21/09/11 23:51:13 INFO SparkContext: Added JAR file:/Users/mehdi/Library/Caches/Coursier/v1/https/repo1.maven.org/maven2/io/dropwizard/metrics/metrics-json/4.1.1/metrics-json-4.1.1.jar at spark://192.168.0.71:63870/jars/metrics-json-4.1.1.jar with timestamp 1631429472401\n",
      "21/09/11 23:51:13 INFO SparkContext: Added JAR file:/Users/mehdi/Library/Caches/Coursier/v1/https/repo1.maven.org/maven2/io/dropwizard/metrics/metrics-graphite/4.1.1/metrics-graphite-4.1.1.jar at spark://192.168.0.71:63870/jars/metrics-graphite-4.1.1.jar with timestamp 1631429472401\n",
      "21/09/11 23:51:13 INFO SparkContext: Added JAR file:/Users/mehdi/Library/Caches/Coursier/v1/https/repo1.maven.org/maven2/io/dropwizard/metrics/metrics-jmx/4.1.1/metrics-jmx-4.1.1.jar at spark://192.168.0.71:63870/jars/metrics-jmx-4.1.1.jar with timestamp 1631429472401\n",
      "21/09/11 23:51:13 INFO SparkContext: Added JAR file:/Users/mehdi/Library/Caches/Coursier/v1/https/repo1.maven.org/maven2/com/fasterxml/jackson/module/jackson-module-scala_2.12/2.10.0/jackson-module-scala_2.12-2.10.0.jar at spark://192.168.0.71:63870/jars/jackson-module-scala_2.12-2.10.0.jar with timestamp 1631429472401\n",
      "21/09/11 23:51:13 INFO SparkContext: Added JAR file:/Users/mehdi/Library/Caches/Coursier/v1/https/repo1.maven.org/maven2/org/apache/ivy/ivy/2.4.0/ivy-2.4.0.jar at spark://192.168.0.71:63870/jars/ivy-2.4.0.jar with timestamp 1631429472401\n",
      "21/09/11 23:51:13 INFO SparkContext: Added JAR file:/Users/mehdi/Library/Caches/Coursier/v1/https/repo1.maven.org/maven2/oro/oro/2.0.8/oro-2.0.8.jar at spark://192.168.0.71:63870/jars/oro-2.0.8.jar with timestamp 1631429472401\n",
      "21/09/11 23:51:13 INFO SparkContext: Added JAR file:/Users/mehdi/Library/Caches/Coursier/v1/https/repo1.maven.org/maven2/net/razorvine/pyrolite/4.30/pyrolite-4.30.jar at spark://192.168.0.71:63870/jars/pyrolite-4.30.jar with timestamp 1631429472401\n",
      "21/09/11 23:51:13 INFO SparkContext: Added JAR file:/Users/mehdi/Library/Caches/Coursier/v1/https/repo1.maven.org/maven2/net/sf/py4j/py4j/0.10.9/py4j-0.10.9.jar at spark://192.168.0.71:63870/jars/py4j-0.10.9.jar with timestamp 1631429472401\n",
      "21/09/11 23:51:13 INFO SparkContext: Added JAR file:/Users/mehdi/Library/Caches/Coursier/v1/https/repo1.maven.org/maven2/org/apache/commons/commons-crypto/1.1.0/commons-crypto-1.1.0.jar at spark://192.168.0.71:63870/jars/commons-crypto-1.1.0.jar with timestamp 1631429472401\n",
      "21/09/11 23:51:13 INFO SparkContext: Added JAR file:/Users/mehdi/Library/Caches/Coursier/v1/https/repo1.maven.org/maven2/org/scala-lang/modules/scala-parser-combinators_2.12/1.1.2/scala-parser-combinators_2.12-1.1.2.jar at spark://192.168.0.71:63870/jars/scala-parser-combinators_2.12-1.1.2.jar with timestamp 1631429472401\n",
      "21/09/11 23:51:13 INFO SparkContext: Added JAR file:/Users/mehdi/Library/Caches/Coursier/v1/https/repo1.maven.org/maven2/org/codehaus/janino/janino/3.0.16/janino-3.0.16.jar at spark://192.168.0.71:63870/jars/janino-3.0.16.jar with timestamp 1631429472401\n",
      "21/09/11 23:51:13 INFO SparkContext: Added JAR file:/Users/mehdi/Library/Caches/Coursier/v1/https/repo1.maven.org/maven2/org/codehaus/janino/commons-compiler/3.0.16/commons-compiler-3.0.16.jar at spark://192.168.0.71:63870/jars/commons-compiler-3.0.16.jar with timestamp 1631429472401\n",
      "21/09/11 23:51:13 INFO SparkContext: Added JAR file:/Users/mehdi/Library/Caches/Coursier/v1/https/repo1.maven.org/maven2/org/antlr/antlr4-runtime/4.8-1/antlr4-runtime-4.8-1.jar at spark://192.168.0.71:63870/jars/antlr4-runtime-4.8-1.jar with timestamp 1631429472401\n",
      "21/09/11 23:51:13 INFO SparkContext: Added JAR file:/Users/mehdi/Library/Caches/Coursier/v1/https/repo1.maven.org/maven2/commons-codec/commons-codec/1.11/commons-codec-1.11.jar at spark://192.168.0.71:63870/jars/commons-codec-1.11.jar with timestamp 1631429472401\n",
      "21/09/11 23:51:13 INFO SparkContext: Added JAR file:/Users/mehdi/Library/Caches/Coursier/v1/https/repo1.maven.org/maven2/org/apache/arrow/arrow-vector/2.0.0/arrow-vector-2.0.0.jar at spark://192.168.0.71:63870/jars/arrow-vector-2.0.0.jar with timestamp 1631429472401\n",
      "21/09/11 23:51:13 INFO SparkContext: Added JAR file:/Users/mehdi/Library/Caches/Coursier/v1/https/repo1.maven.org/maven2/org/apache/arrow/arrow-memory-netty/2.0.0/arrow-memory-netty-2.0.0.jar at spark://192.168.0.71:63870/jars/arrow-memory-netty-2.0.0.jar with timestamp 1631429472401\n",
      "21/09/11 23:51:13 INFO SparkContext: Added JAR file:/Users/mehdi/Library/Caches/Coursier/v1/https/repo1.maven.org/maven2/org/apache/orc/orc-shims/1.5.12/orc-shims-1.5.12.jar at spark://192.168.0.71:63870/jars/orc-shims-1.5.12.jar with timestamp 1631429472401\n",
      "21/09/11 23:51:13 INFO SparkContext: Added JAR file:/Users/mehdi/Library/Caches/Coursier/v1/https/repo1.maven.org/maven2/com/google/protobuf/protobuf-java/2.5.0/protobuf-java-2.5.0.jar at spark://192.168.0.71:63870/jars/protobuf-java-2.5.0.jar with timestamp 1631429472401\n",
      "21/09/11 23:51:13 INFO SparkContext: Added JAR file:/Users/mehdi/Library/Caches/Coursier/v1/https/repo1.maven.org/maven2/commons-lang/commons-lang/2.6/commons-lang-2.6.jar at spark://192.168.0.71:63870/jars/commons-lang-2.6.jar with timestamp 1631429472401\n",
      "21/09/11 23:51:13 INFO SparkContext: Added JAR file:/Users/mehdi/Library/Caches/Coursier/v1/https/repo1.maven.org/maven2/io/airlift/aircompressor/0.10/aircompressor-0.10.jar at spark://192.168.0.71:63870/jars/aircompressor-0.10.jar with timestamp 1631429472401\n",
      "21/09/11 23:51:13 INFO SparkContext: Added JAR file:/Users/mehdi/Library/Caches/Coursier/v1/https/repo1.maven.org/maven2/org/threeten/threeten-extra/1.5.0/threeten-extra-1.5.0.jar at spark://192.168.0.71:63870/jars/threeten-extra-1.5.0.jar with timestamp 1631429472401\n",
      "21/09/11 23:51:13 INFO SparkContext: Added JAR file:/Users/mehdi/Library/Caches/Coursier/v1/https/repo1.maven.org/maven2/org/apache/parquet/parquet-common/1.10.1/parquet-common-1.10.1.jar at spark://192.168.0.71:63870/jars/parquet-common-1.10.1.jar with timestamp 1631429472401\n",
      "21/09/11 23:51:13 INFO SparkContext: Added JAR file:/Users/mehdi/Library/Caches/Coursier/v1/https/repo1.maven.org/maven2/org/apache/parquet/parquet-encoding/1.10.1/parquet-encoding-1.10.1.jar at spark://192.168.0.71:63870/jars/parquet-encoding-1.10.1.jar with timestamp 1631429472401\n",
      "21/09/11 23:51:13 INFO SparkContext: Added JAR file:/Users/mehdi/Library/Caches/Coursier/v1/https/repo1.maven.org/maven2/org/apache/parquet/parquet-format/2.4.0/parquet-format-2.4.0.jar at spark://192.168.0.71:63870/jars/parquet-format-2.4.0.jar with timestamp 1631429472401\n",
      "21/09/11 23:51:13 INFO SparkContext: Added JAR file:/Users/mehdi/Library/Caches/Coursier/v1/https/repo1.maven.org/maven2/org/apache/parquet/parquet-jackson/1.10.1/parquet-jackson-1.10.1.jar at spark://192.168.0.71:63870/jars/parquet-jackson-1.10.1.jar with timestamp 1631429472401\n",
      "21/09/11 23:51:13 INFO SparkContext: Added JAR file:/Users/mehdi/Library/Caches/Coursier/v1/https/repo1.maven.org/maven2/org/codehaus/jackson/jackson-mapper-asl/1.9.13/jackson-mapper-asl-1.9.13.jar at spark://192.168.0.71:63870/jars/jackson-mapper-asl-1.9.13.jar with timestamp 1631429472401\n",
      "21/09/11 23:51:13 INFO SparkContext: Added JAR file:/Users/mehdi/Library/Caches/Coursier/v1/https/repo1.maven.org/maven2/org/codehaus/jackson/jackson-core-asl/1.9.13/jackson-core-asl-1.9.13.jar at spark://192.168.0.71:63870/jars/jackson-core-asl-1.9.13.jar with timestamp 1631429472401\n",
      "21/09/11 23:51:13 INFO SparkContext: Added JAR file:/Users/mehdi/Library/Caches/Coursier/v1/https/repo1.maven.org/maven2/com/fasterxml/jackson/core/jackson-annotations/2.10.0/jackson-annotations-2.10.0.jar at spark://192.168.0.71:63870/jars/jackson-annotations-2.10.0.jar with timestamp 1631429472401\n",
      "21/09/11 23:51:13 INFO SparkContext: Added JAR file:/Users/mehdi/Library/Caches/Coursier/v1/https/repo1.maven.org/maven2/com/fasterxml/jackson/core/jackson-core/2.10.0/jackson-core-2.10.0.jar at spark://192.168.0.71:63870/jars/jackson-core-2.10.0.jar with timestamp 1631429472401\n",
      "21/09/11 23:51:13 INFO SparkContext: Added JAR file:/Users/mehdi/Library/Caches/Coursier/v1/https/repo1.maven.org/maven2/org/eclipse/jetty/jetty-server/9.4.36.v20210114/jetty-server-9.4.36.v20210114.jar at spark://192.168.0.71:63870/jars/jetty-server-9.4.36.v20210114.jar with timestamp 1631429472401\n",
      "21/09/11 23:51:13 INFO SparkContext: Added JAR file:/Users/mehdi/Library/Caches/Coursier/v1/https/repo1.maven.org/maven2/org/apache/commons/commons-compress/1.8.1/commons-compress-1.8.1.jar at spark://192.168.0.71:63870/jars/commons-compress-1.8.1.jar with timestamp 1631429472401\n",
      "21/09/11 23:51:13 INFO SparkContext: Added JAR file:/Users/mehdi/Library/Caches/Coursier/v1/https/repo1.maven.org/maven2/org/tukaani/xz/1.5/xz-1.5.jar at spark://192.168.0.71:63870/jars/xz-1.5.jar with timestamp 1631429472401\n",
      "21/09/11 23:51:13 INFO SparkContext: Added JAR file:/Users/mehdi/Library/Caches/Coursier/v1/https/repo1.maven.org/maven2/org/apache/avro/avro-ipc/1.8.2/avro-ipc-1.8.2.jar at spark://192.168.0.71:63870/jars/avro-ipc-1.8.2.jar with timestamp 1631429472401\n",
      "21/09/11 23:51:13 INFO SparkContext: Added JAR file:/Users/mehdi/Library/Caches/Coursier/v1/https/repo1.maven.org/maven2/com/esotericsoftware/kryo-shaded/4.0.2/kryo-shaded-4.0.2.jar at spark://192.168.0.71:63870/jars/kryo-shaded-4.0.2.jar with timestamp 1631429472401\n",
      "21/09/11 23:51:13 INFO SparkContext: Added JAR file:/Users/mehdi/Library/Caches/Coursier/v1/https/repo1.maven.org/maven2/org/apache/hadoop/hadoop-common/3.2.0/hadoop-common-3.2.0.jar at spark://192.168.0.71:63870/jars/hadoop-common-3.2.0.jar with timestamp 1631429472401\n",
      "21/09/11 23:51:13 INFO SparkContext: Added JAR file:/Users/mehdi/Library/Caches/Coursier/v1/https/repo1.maven.org/maven2/org/apache/hadoop/hadoop-hdfs-client/3.2.0/hadoop-hdfs-client-3.2.0.jar at spark://192.168.0.71:63870/jars/hadoop-hdfs-client-3.2.0.jar with timestamp 1631429472401\n",
      "21/09/11 23:51:13 INFO SparkContext: Added JAR file:/Users/mehdi/Library/Caches/Coursier/v1/https/repo1.maven.org/maven2/org/apache/hadoop/hadoop-yarn-api/3.2.0/hadoop-yarn-api-3.2.0.jar at spark://192.168.0.71:63870/jars/hadoop-yarn-api-3.2.0.jar with timestamp 1631429472401\n",
      "21/09/11 23:51:13 INFO SparkContext: Added JAR file:/Users/mehdi/Library/Caches/Coursier/v1/https/repo1.maven.org/maven2/org/apache/hadoop/hadoop-yarn-client/3.2.0/hadoop-yarn-client-3.2.0.jar at spark://192.168.0.71:63870/jars/hadoop-yarn-client-3.2.0.jar with timestamp 1631429472401\n",
      "21/09/11 23:51:13 INFO SparkContext: Added JAR file:/Users/mehdi/Library/Caches/Coursier/v1/https/repo1.maven.org/maven2/org/apache/hadoop/hadoop-mapreduce-client-core/3.2.0/hadoop-mapreduce-client-core-3.2.0.jar at spark://192.168.0.71:63870/jars/hadoop-mapreduce-client-core-3.2.0.jar with timestamp 1631429472401\n",
      "21/09/11 23:51:13 INFO SparkContext: Added JAR file:/Users/mehdi/Library/Caches/Coursier/v1/https/repo1.maven.org/maven2/org/apache/hadoop/hadoop-mapreduce-client-jobclient/3.2.0/hadoop-mapreduce-client-jobclient-3.2.0.jar at spark://192.168.0.71:63870/jars/hadoop-mapreduce-client-jobclient-3.2.0.jar with timestamp 1631429472401\n",
      "21/09/11 23:51:13 INFO SparkContext: Added JAR file:/Users/mehdi/Library/Caches/Coursier/v1/https/repo1.maven.org/maven2/org/apache/hadoop/hadoop-annotations/3.2.0/hadoop-annotations-3.2.0.jar at spark://192.168.0.71:63870/jars/hadoop-annotations-3.2.0.jar with timestamp 1631429472401\n",
      "21/09/11 23:51:13 INFO SparkContext: Added JAR file:/Users/mehdi/Library/Caches/Coursier/v1/https/repo1.maven.org/maven2/org/fusesource/leveldbjni/leveldbjni-all/1.8/leveldbjni-all-1.8.jar at spark://192.168.0.71:63870/jars/leveldbjni-all-1.8.jar with timestamp 1631429472401\n",
      "21/09/11 23:51:13 INFO SparkContext: Added JAR file:/Users/mehdi/Library/Caches/Coursier/v1/https/repo1.maven.org/maven2/org/apache/curator/curator-framework/2.13.0/curator-framework-2.13.0.jar at spark://192.168.0.71:63870/jars/curator-framework-2.13.0.jar with timestamp 1631429472401\n",
      "21/09/11 23:51:13 INFO SparkContext: Added JAR file:/Users/mehdi/Library/Caches/Coursier/v1/https/repo1.maven.org/maven2/org/apache/yetus/audience-annotations/0.5.0/audience-annotations-0.5.0.jar at spark://192.168.0.71:63870/jars/audience-annotations-0.5.0.jar with timestamp 1631429472401\n",
      "21/09/11 23:51:13 INFO SparkContext: Added JAR file:/Users/mehdi/Library/Caches/Coursier/v1/https/repo1.maven.org/maven2/org/roaringbitmap/shims/0.9.0/shims-0.9.0.jar at spark://192.168.0.71:63870/jars/shims-0.9.0.jar with timestamp 1631429472401\n",
      "21/09/11 23:51:13 INFO SparkContext: Added JAR file:/Users/mehdi/Library/Caches/Coursier/v1/https/repo1.maven.org/maven2/org/json4s/json4s-core_2.12/3.7.0-M5/json4s-core_2.12-3.7.0-M5.jar at spark://192.168.0.71:63870/jars/json4s-core_2.12-3.7.0-M5.jar with timestamp 1631429472401\n",
      "21/09/11 23:51:13 INFO SparkContext: Added JAR file:/Users/mehdi/Library/Caches/Coursier/v1/https/repo1.maven.org/maven2/jakarta/ws/rs/jakarta.ws.rs-api/2.1.6/jakarta.ws.rs-api-2.1.6.jar at spark://192.168.0.71:63870/jars/jakarta.ws.rs-api-2.1.6.jar with timestamp 1631429472401\n",
      "21/09/11 23:51:13 INFO SparkContext: Added JAR file:/Users/mehdi/Library/Caches/Coursier/v1/https/repo1.maven.org/maven2/org/glassfish/hk2/external/jakarta.inject/2.6.1/jakarta.inject-2.6.1.jar at spark://192.168.0.71:63870/jars/jakarta.inject-2.6.1.jar with timestamp 1631429472401\n",
      "21/09/11 23:51:13 INFO SparkContext: Added JAR file:/Users/mehdi/Library/Caches/Coursier/v1/https/repo1.maven.org/maven2/jakarta/annotation/jakarta.annotation-api/1.3.5/jakarta.annotation-api-1.3.5.jar at spark://192.168.0.71:63870/jars/jakarta.annotation-api-1.3.5.jar with timestamp 1631429472401\n",
      "21/09/11 23:51:13 INFO SparkContext: Added JAR file:/Users/mehdi/Library/Caches/Coursier/v1/https/repo1.maven.org/maven2/org/glassfish/hk2/osgi-resource-locator/1.0.3/osgi-resource-locator-1.0.3.jar at spark://192.168.0.71:63870/jars/osgi-resource-locator-1.0.3.jar with timestamp 1631429472401\n",
      "21/09/11 23:51:13 INFO SparkContext: Added JAR file:/Users/mehdi/Library/Caches/Coursier/v1/https/repo1.maven.org/maven2/org/glassfish/jersey/media/jersey-media-jaxb/2.30/jersey-media-jaxb-2.30.jar at spark://192.168.0.71:63870/jars/jersey-media-jaxb-2.30.jar with timestamp 1631429472401\n",
      "21/09/11 23:51:13 INFO SparkContext: Added JAR file:/Users/mehdi/Library/Caches/Coursier/v1/https/repo1.maven.org/maven2/jakarta/validation/jakarta.validation-api/2.0.2/jakarta.validation-api-2.0.2.jar at spark://192.168.0.71:63870/jars/jakarta.validation-api-2.0.2.jar with timestamp 1631429472401\n",
      "21/09/11 23:51:13 INFO SparkContext: Added JAR file:/Users/mehdi/Library/Caches/Coursier/v1/https/repo1.maven.org/maven2/org/glassfish/hk2/hk2-locator/2.6.1/hk2-locator-2.6.1.jar at spark://192.168.0.71:63870/jars/hk2-locator-2.6.1.jar with timestamp 1631429472401\n",
      "21/09/11 23:51:13 INFO SparkContext: Added JAR file:/Users/mehdi/Library/Caches/Coursier/v1/https/repo1.maven.org/maven2/com/fasterxml/jackson/module/jackson-module-paranamer/2.10.0/jackson-module-paranamer-2.10.0.jar at spark://192.168.0.71:63870/jars/jackson-module-paranamer-2.10.0.jar with timestamp 1631429472401\n",
      "21/09/11 23:51:13 INFO SparkContext: Added JAR file:/Users/mehdi/Library/Caches/Coursier/v1/https/repo1.maven.org/maven2/org/apache/arrow/arrow-format/2.0.0/arrow-format-2.0.0.jar at spark://192.168.0.71:63870/jars/arrow-format-2.0.0.jar with timestamp 1631429472401\n",
      "21/09/11 23:51:13 INFO SparkContext: Added JAR file:/Users/mehdi/Library/Caches/Coursier/v1/https/repo1.maven.org/maven2/org/apache/arrow/arrow-memory-core/2.0.0/arrow-memory-core-2.0.0.jar at spark://192.168.0.71:63870/jars/arrow-memory-core-2.0.0.jar with timestamp 1631429472401\n",
      "21/09/11 23:51:13 INFO SparkContext: Added JAR file:/Users/mehdi/Library/Caches/Coursier/v1/https/repo1.maven.org/maven2/com/google/flatbuffers/flatbuffers-java/1.9.0/flatbuffers-java-1.9.0.jar at spark://192.168.0.71:63870/jars/flatbuffers-java-1.9.0.jar with timestamp 1631429472401\n",
      "21/09/11 23:51:13 INFO SparkContext: Added JAR file:/Users/mehdi/Library/Caches/Coursier/v1/https/repo1.maven.org/maven2/javax/servlet/javax.servlet-api/3.1.0/javax.servlet-api-3.1.0.jar at spark://192.168.0.71:63870/jars/javax.servlet-api-3.1.0.jar with timestamp 1631429472401\n",
      "21/09/11 23:51:13 INFO SparkContext: Added JAR file:/Users/mehdi/Library/Caches/Coursier/v1/https/repo1.maven.org/maven2/org/eclipse/jetty/jetty-http/9.4.36.v20210114/jetty-http-9.4.36.v20210114.jar at spark://192.168.0.71:63870/jars/jetty-http-9.4.36.v20210114.jar with timestamp 1631429472401\n",
      "21/09/11 23:51:13 INFO SparkContext: Added JAR file:/Users/mehdi/Library/Caches/Coursier/v1/https/repo1.maven.org/maven2/org/eclipse/jetty/jetty-io/9.4.36.v20210114/jetty-io-9.4.36.v20210114.jar at spark://192.168.0.71:63870/jars/jetty-io-9.4.36.v20210114.jar with timestamp 1631429472401\n",
      "21/09/11 23:51:13 INFO SparkContext: Added JAR file:/Users/mehdi/Library/Caches/Coursier/v1/https/repo1.maven.org/maven2/com/esotericsoftware/minlog/1.3.0/minlog-1.3.0.jar at spark://192.168.0.71:63870/jars/minlog-1.3.0.jar with timestamp 1631429472401\n",
      "21/09/11 23:51:13 INFO SparkContext: Added JAR file:/Users/mehdi/Library/Caches/Coursier/v1/https/repo1.maven.org/maven2/org/objenesis/objenesis/2.5.1/objenesis-2.5.1.jar at spark://192.168.0.71:63870/jars/objenesis-2.5.1.jar with timestamp 1631429472401\n",
      "21/09/11 23:51:13 INFO SparkContext: Added JAR file:/Users/mehdi/Library/Caches/Coursier/v1/https/repo1.maven.org/maven2/com/google/guava/guava/16.0.1/guava-16.0.1.jar at spark://192.168.0.71:63870/jars/guava-16.0.1.jar with timestamp 1631429472401\n",
      "21/09/11 23:51:13 INFO SparkContext: Added JAR file:/Users/mehdi/Library/Caches/Coursier/v1/https/repo1.maven.org/maven2/commons-cli/commons-cli/1.2/commons-cli-1.2.jar at spark://192.168.0.71:63870/jars/commons-cli-1.2.jar with timestamp 1631429472401\n",
      "21/09/11 23:51:13 INFO SparkContext: Added JAR file:/Users/mehdi/Library/Caches/Coursier/v1/https/repo1.maven.org/maven2/org/apache/httpcomponents/httpclient/4.5.2/httpclient-4.5.2.jar at spark://192.168.0.71:63870/jars/httpclient-4.5.2.jar with timestamp 1631429472401\n",
      "21/09/11 23:51:13 INFO SparkContext: Added JAR file:/Users/mehdi/Library/Caches/Coursier/v1/https/repo1.maven.org/maven2/commons-io/commons-io/2.5/commons-io-2.5.jar at spark://192.168.0.71:63870/jars/commons-io-2.5.jar with timestamp 1631429472401\n",
      "21/09/11 23:51:13 INFO SparkContext: Added JAR file:/Users/mehdi/Library/Caches/Coursier/v1/https/repo1.maven.org/maven2/commons-collections/commons-collections/3.2.2/commons-collections-3.2.2.jar at spark://192.168.0.71:63870/jars/commons-collections-3.2.2.jar with timestamp 1631429472401\n",
      "21/09/11 23:51:13 INFO SparkContext: Added JAR file:/Users/mehdi/Library/Caches/Coursier/v1/https/repo1.maven.org/maven2/org/eclipse/jetty/jetty-servlet/9.3.24.v20180605/jetty-servlet-9.3.24.v20180605.jar at spark://192.168.0.71:63870/jars/jetty-servlet-9.3.24.v20180605.jar with timestamp 1631429472401\n",
      "21/09/11 23:51:13 INFO SparkContext: Added JAR file:/Users/mehdi/Library/Caches/Coursier/v1/https/repo1.maven.org/maven2/javax/servlet/jsp/jsp-api/2.1/jsp-api-2.1.jar at spark://192.168.0.71:63870/jars/jsp-api-2.1.jar with timestamp 1631429472401\n",
      "21/09/11 23:51:13 INFO SparkContext: Added JAR file:/Users/mehdi/Library/Caches/Coursier/v1/https/repo1.maven.org/maven2/commons-beanutils/commons-beanutils/1.9.3/commons-beanutils-1.9.3.jar at spark://192.168.0.71:63870/jars/commons-beanutils-1.9.3.jar with timestamp 1631429472401\n",
      "21/09/11 23:51:13 INFO SparkContext: Added JAR file:/Users/mehdi/Library/Caches/Coursier/v1/https/repo1.maven.org/maven2/org/apache/commons/commons-configuration2/2.1.1/commons-configuration2-2.1.1.jar at spark://192.168.0.71:63870/jars/commons-configuration2-2.1.1.jar with timestamp 1631429472401\n",
      "21/09/11 23:51:13 INFO SparkContext: Added JAR file:/Users/mehdi/Library/Caches/Coursier/v1/https/repo1.maven.org/maven2/com/google/re2j/re2j/1.1/re2j-1.1.jar at spark://192.168.0.71:63870/jars/re2j-1.1.jar with timestamp 1631429472401\n",
      "21/09/11 23:51:13 INFO SparkContext: Added JAR file:/Users/mehdi/Library/Caches/Coursier/v1/https/repo1.maven.org/maven2/com/google/code/gson/gson/2.2.4/gson-2.2.4.jar at spark://192.168.0.71:63870/jars/gson-2.2.4.jar with timestamp 1631429472401\n",
      "21/09/11 23:51:13 INFO SparkContext: Added JAR file:/Users/mehdi/Library/Caches/Coursier/v1/https/repo1.maven.org/maven2/org/apache/hadoop/hadoop-auth/3.2.0/hadoop-auth-3.2.0.jar at spark://192.168.0.71:63870/jars/hadoop-auth-3.2.0.jar with timestamp 1631429472401\n",
      "21/09/11 23:51:13 INFO SparkContext: Added JAR file:/Users/mehdi/Library/Caches/Coursier/v1/https/repo1.maven.org/maven2/org/apache/curator/curator-client/2.13.0/curator-client-2.13.0.jar at spark://192.168.0.71:63870/jars/curator-client-2.13.0.jar with timestamp 1631429472401\n",
      "21/09/11 23:51:13 INFO SparkContext: Added JAR file:/Users/mehdi/Library/Caches/Coursier/v1/https/repo1.maven.org/maven2/org/apache/htrace/htrace-core4/4.1.0-incubating/htrace-core4-4.1.0-incubating.jar at spark://192.168.0.71:63870/jars/htrace-core4-4.1.0-incubating.jar with timestamp 1631429472401\n",
      "21/09/11 23:51:13 INFO SparkContext: Added JAR file:/Users/mehdi/Library/Caches/Coursier/v1/https/repo1.maven.org/maven2/org/apache/kerby/kerb-simplekdc/1.0.1/kerb-simplekdc-1.0.1.jar at spark://192.168.0.71:63870/jars/kerb-simplekdc-1.0.1.jar with timestamp 1631429472401\n",
      "21/09/11 23:51:13 INFO SparkContext: Added JAR file:/Users/mehdi/Library/Caches/Coursier/v1/https/repo1.maven.org/maven2/org/codehaus/woodstox/stax2-api/3.1.4/stax2-api-3.1.4.jar at spark://192.168.0.71:63870/jars/stax2-api-3.1.4.jar with timestamp 1631429472401\n",
      "21/09/11 23:51:13 INFO SparkContext: Added JAR file:/Users/mehdi/Library/Caches/Coursier/v1/https/repo1.maven.org/maven2/com/fasterxml/woodstox/woodstox-core/5.0.3/woodstox-core-5.0.3.jar at spark://192.168.0.71:63870/jars/woodstox-core-5.0.3.jar with timestamp 1631429472401\n",
      "21/09/11 23:51:13 INFO SparkContext: Added JAR file:/Users/mehdi/Library/Caches/Coursier/v1/https/repo1.maven.org/maven2/dnsjava/dnsjava/2.1.7/dnsjava-2.1.7.jar at spark://192.168.0.71:63870/jars/dnsjava-2.1.7.jar with timestamp 1631429472401\n",
      "21/09/11 23:51:13 INFO SparkContext: Added JAR file:/Users/mehdi/Library/Caches/Coursier/v1/https/repo1.maven.org/maven2/com/squareup/okhttp/okhttp/2.7.5/okhttp-2.7.5.jar at spark://192.168.0.71:63870/jars/okhttp-2.7.5.jar with timestamp 1631429472401\n",
      "21/09/11 23:51:13 INFO SparkContext: Added JAR file:/Users/mehdi/Library/Caches/Coursier/v1/https/repo1.maven.org/maven2/javax/xml/bind/jaxb-api/2.2.11/jaxb-api-2.2.11.jar at spark://192.168.0.71:63870/jars/jaxb-api-2.2.11.jar with timestamp 1631429472401\n",
      "21/09/11 23:51:13 INFO SparkContext: Added JAR file:/Users/mehdi/Library/Caches/Coursier/v1/https/repo1.maven.org/maven2/org/apache/hadoop/hadoop-yarn-common/3.2.0/hadoop-yarn-common-3.2.0.jar at spark://192.168.0.71:63870/jars/hadoop-yarn-common-3.2.0.jar with timestamp 1631429472401\n",
      "21/09/11 23:51:13 INFO SparkContext: Added JAR file:/Users/mehdi/Library/Caches/Coursier/v1/https/repo1.maven.org/maven2/org/apache/hadoop/hadoop-mapreduce-client-common/3.2.0/hadoop-mapreduce-client-common-3.2.0.jar at spark://192.168.0.71:63870/jars/hadoop-mapreduce-client-common-3.2.0.jar with timestamp 1631429472401\n",
      "21/09/11 23:51:13 INFO SparkContext: Added JAR file:/Users/mehdi/Library/Caches/Coursier/v1/https/repo1.maven.org/maven2/org/json4s/json4s-ast_2.12/3.7.0-M5/json4s-ast_2.12-3.7.0-M5.jar at spark://192.168.0.71:63870/jars/json4s-ast_2.12-3.7.0-M5.jar with timestamp 1631429472401\n",
      "21/09/11 23:51:13 INFO SparkContext: Added JAR file:/Users/mehdi/Library/Caches/Coursier/v1/https/repo1.maven.org/maven2/org/json4s/json4s-scalap_2.12/3.7.0-M5/json4s-scalap_2.12-3.7.0-M5.jar at spark://192.168.0.71:63870/jars/json4s-scalap_2.12-3.7.0-M5.jar with timestamp 1631429472401\n",
      "21/09/11 23:51:13 INFO SparkContext: Added JAR file:/Users/mehdi/Library/Caches/Coursier/v1/https/repo1.maven.org/maven2/org/glassfish/hk2/external/aopalliance-repackaged/2.6.1/aopalliance-repackaged-2.6.1.jar at spark://192.168.0.71:63870/jars/aopalliance-repackaged-2.6.1.jar with timestamp 1631429472401\n",
      "21/09/11 23:51:13 INFO SparkContext: Added JAR file:/Users/mehdi/Library/Caches/Coursier/v1/https/repo1.maven.org/maven2/org/glassfish/hk2/hk2-api/2.6.1/hk2-api-2.6.1.jar at spark://192.168.0.71:63870/jars/hk2-api-2.6.1.jar with timestamp 1631429472401\n",
      "21/09/11 23:51:13 INFO SparkContext: Added JAR file:/Users/mehdi/Library/Caches/Coursier/v1/https/repo1.maven.org/maven2/org/glassfish/hk2/hk2-utils/2.6.1/hk2-utils-2.6.1.jar at spark://192.168.0.71:63870/jars/hk2-utils-2.6.1.jar with timestamp 1631429472401\n",
      "21/09/11 23:51:13 INFO SparkContext: Added JAR file:/Users/mehdi/Library/Caches/Coursier/v1/https/repo1.maven.org/maven2/org/eclipse/jetty/jetty-util/9.4.36.v20210114/jetty-util-9.4.36.v20210114.jar at spark://192.168.0.71:63870/jars/jetty-util-9.4.36.v20210114.jar with timestamp 1631429472401\n",
      "21/09/11 23:51:13 INFO SparkContext: Added JAR file:/Users/mehdi/Library/Caches/Coursier/v1/https/repo1.maven.org/maven2/org/apache/httpcomponents/httpcore/4.4.4/httpcore-4.4.4.jar at spark://192.168.0.71:63870/jars/httpcore-4.4.4.jar with timestamp 1631429472401\n",
      "21/09/11 23:51:13 INFO SparkContext: Added JAR file:/Users/mehdi/Library/Caches/Coursier/v1/https/repo1.maven.org/maven2/com/nimbusds/nimbus-jose-jwt/4.41.1/nimbus-jose-jwt-4.41.1.jar at spark://192.168.0.71:63870/jars/nimbus-jose-jwt-4.41.1.jar with timestamp 1631429472401\n",
      "21/09/11 23:51:13 INFO SparkContext: Added JAR file:/Users/mehdi/Library/Caches/Coursier/v1/https/repo1.maven.org/maven2/net/minidev/json-smart/2.3/json-smart-2.3.jar at spark://192.168.0.71:63870/jars/json-smart-2.3.jar with timestamp 1631429472401\n",
      "21/09/11 23:51:13 INFO SparkContext: Added JAR file:/Users/mehdi/Library/Caches/Coursier/v1/https/repo1.maven.org/maven2/org/apache/kerby/kerb-client/1.0.1/kerb-client-1.0.1.jar at spark://192.168.0.71:63870/jars/kerb-client-1.0.1.jar with timestamp 1631429472401\n",
      "21/09/11 23:51:13 INFO SparkContext: Added JAR file:/Users/mehdi/Library/Caches/Coursier/v1/https/repo1.maven.org/maven2/org/apache/kerby/kerb-admin/1.0.1/kerb-admin-1.0.1.jar at spark://192.168.0.71:63870/jars/kerb-admin-1.0.1.jar with timestamp 1631429472401\n",
      "21/09/11 23:51:13 INFO SparkContext: Added JAR file:/Users/mehdi/Library/Caches/Coursier/v1/https/repo1.maven.org/maven2/com/squareup/okio/okio/1.6.0/okio-1.6.0.jar at spark://192.168.0.71:63870/jars/okio-1.6.0.jar with timestamp 1631429472401\n",
      "21/09/11 23:51:13 INFO SparkContext: Added JAR file:/Users/mehdi/Library/Caches/Coursier/v1/https/repo1.maven.org/maven2/com/fasterxml/jackson/module/jackson-module-jaxb-annotations/2.9.5/jackson-module-jaxb-annotations-2.9.5.jar at spark://192.168.0.71:63870/jars/jackson-module-jaxb-annotations-2.9.5.jar with timestamp 1631429472401\n",
      "21/09/11 23:51:13 INFO SparkContext: Added JAR file:/Users/mehdi/Library/Caches/Coursier/v1/https/repo1.maven.org/maven2/com/fasterxml/jackson/jaxrs/jackson-jaxrs-json-provider/2.9.5/jackson-jaxrs-json-provider-2.9.5.jar at spark://192.168.0.71:63870/jars/jackson-jaxrs-json-provider-2.9.5.jar with timestamp 1631429472401\n",
      "21/09/11 23:51:13 INFO SparkContext: Added JAR file:/Users/mehdi/Library/Caches/Coursier/v1/https/repo1.maven.org/maven2/com/github/stephenc/jcip/jcip-annotations/1.0-1/jcip-annotations-1.0-1.jar at spark://192.168.0.71:63870/jars/jcip-annotations-1.0-1.jar with timestamp 1631429472401\n",
      "21/09/11 23:51:13 INFO SparkContext: Added JAR file:/Users/mehdi/Library/Caches/Coursier/v1/https/repo1.maven.org/maven2/net/minidev/accessors-smart/1.2/accessors-smart-1.2.jar at spark://192.168.0.71:63870/jars/accessors-smart-1.2.jar with timestamp 1631429472401\n",
      "21/09/11 23:51:13 INFO SparkContext: Added JAR file:/Users/mehdi/Library/Caches/Coursier/v1/https/repo1.maven.org/maven2/org/apache/kerby/kerby-config/1.0.1/kerby-config-1.0.1.jar at spark://192.168.0.71:63870/jars/kerby-config-1.0.1.jar with timestamp 1631429472401\n",
      "21/09/11 23:51:13 INFO SparkContext: Added JAR file:/Users/mehdi/Library/Caches/Coursier/v1/https/repo1.maven.org/maven2/org/apache/kerby/kerb-core/1.0.1/kerb-core-1.0.1.jar at spark://192.168.0.71:63870/jars/kerb-core-1.0.1.jar with timestamp 1631429472401\n",
      "21/09/11 23:51:13 INFO SparkContext: Added JAR file:/Users/mehdi/Library/Caches/Coursier/v1/https/repo1.maven.org/maven2/org/apache/kerby/kerb-common/1.0.1/kerb-common-1.0.1.jar at spark://192.168.0.71:63870/jars/kerb-common-1.0.1.jar with timestamp 1631429472401\n",
      "21/09/11 23:51:13 INFO SparkContext: Added JAR file:/Users/mehdi/Library/Caches/Coursier/v1/https/repo1.maven.org/maven2/org/apache/kerby/kerb-util/1.0.1/kerb-util-1.0.1.jar at spark://192.168.0.71:63870/jars/kerb-util-1.0.1.jar with timestamp 1631429472401\n",
      "21/09/11 23:51:13 INFO SparkContext: Added JAR file:/Users/mehdi/Library/Caches/Coursier/v1/https/repo1.maven.org/maven2/org/apache/kerby/token-provider/1.0.1/token-provider-1.0.1.jar at spark://192.168.0.71:63870/jars/token-provider-1.0.1.jar with timestamp 1631429472401\n",
      "21/09/11 23:51:13 INFO SparkContext: Added JAR file:/Users/mehdi/Library/Caches/Coursier/v1/https/repo1.maven.org/maven2/org/apache/kerby/kerb-server/1.0.1/kerb-server-1.0.1.jar at spark://192.168.0.71:63870/jars/kerb-server-1.0.1.jar with timestamp 1631429472401\n",
      "21/09/11 23:51:13 INFO SparkContext: Added JAR file:/Users/mehdi/Library/Caches/Coursier/v1/https/repo1.maven.org/maven2/org/apache/kerby/kerby-xdr/1.0.1/kerby-xdr-1.0.1.jar at spark://192.168.0.71:63870/jars/kerby-xdr-1.0.1.jar with timestamp 1631429472401\n",
      "21/09/11 23:51:13 INFO SparkContext: Added JAR file:/Users/mehdi/Library/Caches/Coursier/v1/https/repo1.maven.org/maven2/com/fasterxml/jackson/jaxrs/jackson-jaxrs-base/2.9.5/jackson-jaxrs-base-2.9.5.jar at spark://192.168.0.71:63870/jars/jackson-jaxrs-base-2.9.5.jar with timestamp 1631429472401\n",
      "21/09/11 23:51:13 INFO SparkContext: Added JAR file:/Users/mehdi/Library/Caches/Coursier/v1/https/repo1.maven.org/maven2/com/google/inject/guice/4.0/guice-4.0.jar at spark://192.168.0.71:63870/jars/guice-4.0.jar with timestamp 1631429472401\n",
      "21/09/11 23:51:13 INFO SparkContext: Added JAR file:/Users/mehdi/Library/Caches/Coursier/v1/https/repo1.maven.org/maven2/com/github/spotbugs/spotbugs-annotations/3.1.9/spotbugs-annotations-3.1.9.jar at spark://192.168.0.71:63870/jars/spotbugs-annotations-3.1.9.jar with timestamp 1631429472401\n",
      "21/09/11 23:51:13 INFO SparkContext: Added JAR file:/Users/mehdi/Library/Caches/Coursier/v1/https/repo1.maven.org/maven2/io/netty/netty/3.10.6.Final/netty-3.10.6.Final.jar at spark://192.168.0.71:63870/jars/netty-3.10.6.Final.jar with timestamp 1631429472401\n",
      "21/09/11 23:51:13 INFO SparkContext: Added JAR file:/Users/mehdi/Library/Caches/Coursier/v1/https/repo1.maven.org/maven2/org/apache/kerby/kerby-pkix/1.0.1/kerby-pkix-1.0.1.jar at spark://192.168.0.71:63870/jars/kerby-pkix-1.0.1.jar with timestamp 1631429472401\n",
      "21/09/11 23:51:13 INFO SparkContext: Added JAR file:/Users/mehdi/Library/Caches/Coursier/v1/https/repo1.maven.org/maven2/org/apache/kerby/kerb-crypto/1.0.1/kerb-crypto-1.0.1.jar at spark://192.168.0.71:63870/jars/kerb-crypto-1.0.1.jar with timestamp 1631429472401\n",
      "21/09/11 23:51:13 INFO SparkContext: Added JAR file:/Users/mehdi/Library/Caches/Coursier/v1/https/repo1.maven.org/maven2/org/apache/kerby/kerb-identity/1.0.1/kerb-identity-1.0.1.jar at spark://192.168.0.71:63870/jars/kerb-identity-1.0.1.jar with timestamp 1631429472401\n",
      "21/09/11 23:51:13 INFO SparkContext: Added JAR file:/Users/mehdi/Library/Caches/Coursier/v1/https/repo1.maven.org/maven2/javax/inject/javax.inject/1/javax.inject-1.jar at spark://192.168.0.71:63870/jars/javax.inject-1.jar with timestamp 1631429472401\n",
      "21/09/11 23:51:13 INFO SparkContext: Added JAR file:/Users/mehdi/Library/Caches/Coursier/v1/https/repo1.maven.org/maven2/aopalliance/aopalliance/1.0/aopalliance-1.0.jar at spark://192.168.0.71:63870/jars/aopalliance-1.0.jar with timestamp 1631429472401\n",
      "21/09/11 23:51:13 INFO SparkContext: Added JAR file:/Users/mehdi/Library/Caches/Coursier/v1/https/repo1.maven.org/maven2/org/apache/kerby/kerby-asn1/1.0.1/kerby-asn1-1.0.1.jar at spark://192.168.0.71:63870/jars/kerby-asn1-1.0.1.jar with timestamp 1631429472401\n",
      "21/09/11 23:51:13 INFO SparkContext: Added JAR file:/Users/mehdi/Library/Caches/Coursier/v1/https/repo1.maven.org/maven2/org/apache/kerby/kerby-util/1.0.1/kerby-util-1.0.1.jar at spark://192.168.0.71:63870/jars/kerby-util-1.0.1.jar with timestamp 1631429472401\n",
      "21/09/11 23:51:13 INFO SparkContext: Added JAR file:/Users/mehdi/Library/Caches/Coursier/v1/https/repo1.maven.org/maven2/jline/jline/0.9.94/jline-0.9.94.jar at spark://192.168.0.71:63870/jars/jline-0.9.94.jar with timestamp 1631429472401\n",
      "21/09/11 23:51:13 INFO SparkContext: Added JAR file:/Users/mehdi/Library/Caches/Coursier/v1/https/repo1.maven.org/maven2/sh/almond/spark-stubs_30_2.12/0.11.0/spark-stubs_30_2.12-0.11.0.jar at spark://192.168.0.71:63870/jars/spark-stubs_30_2.12-0.11.0.jar with timestamp 1631429472401\n",
      "21/09/11 23:51:14 INFO Executor: Starting executor ID driver on host 192.168.0.71\n",
      "21/09/11 23:51:14 INFO Executor: Using REPL class URI: http://192.168.0.71:63869\n",
      "21/09/11 23:51:14 INFO Executor: Fetching spark://192.168.0.71:63870/jars/xz-1.5.jar with timestamp 1631429472401\n",
      "21/09/11 23:51:14 INFO TransportClientFactory: Successfully created connection to /192.168.0.71:63870 after 41 ms (0 ms spent in bootstraps)\n",
      "21/09/11 23:51:14 INFO Utils: Fetching spark://192.168.0.71:63870/jars/xz-1.5.jar to /private/var/folders/pm/y4lv5tyd1rzfr9sx2jzdn2jw0000gn/T/spark-cfacd13f-24e8-44f3-9f53-60fe7394b8d7/userFiles-7c115a81-0f80-44b6-87b1-a06e3c8737ec/fetchFileTemp8015455081230529396.tmp\n",
      "21/09/11 23:51:14 INFO Executor: Adding file:/private/var/folders/pm/y4lv5tyd1rzfr9sx2jzdn2jw0000gn/T/spark-cfacd13f-24e8-44f3-9f53-60fe7394b8d7/userFiles-7c115a81-0f80-44b6-87b1-a06e3c8737ec/xz-1.5.jar to class loader\n",
      "21/09/11 23:51:14 INFO Executor: Fetching spark://192.168.0.71:63870/jars/shims-0.9.0.jar with timestamp 1631429472401\n",
      "21/09/11 23:51:14 INFO Utils: Fetching spark://192.168.0.71:63870/jars/shims-0.9.0.jar to /private/var/folders/pm/y4lv5tyd1rzfr9sx2jzdn2jw0000gn/T/spark-cfacd13f-24e8-44f3-9f53-60fe7394b8d7/userFiles-7c115a81-0f80-44b6-87b1-a06e3c8737ec/fetchFileTemp7428446320881992608.tmp\n",
      "21/09/11 23:51:14 INFO Executor: Adding file:/private/var/folders/pm/y4lv5tyd1rzfr9sx2jzdn2jw0000gn/T/spark-cfacd13f-24e8-44f3-9f53-60fe7394b8d7/userFiles-7c115a81-0f80-44b6-87b1-a06e3c8737ec/shims-0.9.0.jar to class loader\n",
      "21/09/11 23:51:14 INFO Executor: Fetching spark://192.168.0.71:63870/jars/scala-xml_2.12-2.0.0-M3.jar with timestamp 1631429472401\n",
      "21/09/11 23:51:14 INFO Utils: Fetching spark://192.168.0.71:63870/jars/scala-xml_2.12-2.0.0-M3.jar to /private/var/folders/pm/y4lv5tyd1rzfr9sx2jzdn2jw0000gn/T/spark-cfacd13f-24e8-44f3-9f53-60fe7394b8d7/userFiles-7c115a81-0f80-44b6-87b1-a06e3c8737ec/fetchFileTemp9134541448073009490.tmp\n",
      "21/09/11 23:51:14 INFO Executor: Adding file:/private/var/folders/pm/y4lv5tyd1rzfr9sx2jzdn2jw0000gn/T/spark-cfacd13f-24e8-44f3-9f53-60fe7394b8d7/userFiles-7c115a81-0f80-44b6-87b1-a06e3c8737ec/scala-xml_2.12-2.0.0-M3.jar to class loader\n",
      "21/09/11 23:51:14 INFO Executor: Fetching spark://192.168.0.71:63870/jars/curator-recipes-2.13.0.jar with timestamp 1631429472401\n",
      "21/09/11 23:51:14 INFO Utils: Fetching spark://192.168.0.71:63870/jars/curator-recipes-2.13.0.jar to /private/var/folders/pm/y4lv5tyd1rzfr9sx2jzdn2jw0000gn/T/spark-cfacd13f-24e8-44f3-9f53-60fe7394b8d7/userFiles-7c115a81-0f80-44b6-87b1-a06e3c8737ec/fetchFileTemp7924012794873196305.tmp\n",
      "21/09/11 23:51:14 INFO Executor: Adding file:/private/var/folders/pm/y4lv5tyd1rzfr9sx2jzdn2jw0000gn/T/spark-cfacd13f-24e8-44f3-9f53-60fe7394b8d7/userFiles-7c115a81-0f80-44b6-87b1-a06e3c8737ec/curator-recipes-2.13.0.jar to class loader\n",
      "21/09/11 23:51:14 INFO Executor: Fetching spark://192.168.0.71:63870/jars/jul-to-slf4j-1.7.30.jar with timestamp 1631429472401\n",
      "21/09/11 23:51:14 INFO Utils: Fetching spark://192.168.0.71:63870/jars/jul-to-slf4j-1.7.30.jar to /private/var/folders/pm/y4lv5tyd1rzfr9sx2jzdn2jw0000gn/T/spark-cfacd13f-24e8-44f3-9f53-60fe7394b8d7/userFiles-7c115a81-0f80-44b6-87b1-a06e3c8737ec/fetchFileTemp9218216977052190468.tmp\n",
      "21/09/11 23:51:14 INFO Executor: Adding file:/private/var/folders/pm/y4lv5tyd1rzfr9sx2jzdn2jw0000gn/T/spark-cfacd13f-24e8-44f3-9f53-60fe7394b8d7/userFiles-7c115a81-0f80-44b6-87b1-a06e3c8737ec/jul-to-slf4j-1.7.30.jar to class loader\n",
      "21/09/11 23:51:14 INFO Executor: Fetching spark://192.168.0.71:63870/jars/spark-stubs_30_2.12-0.11.0.jar with timestamp 1631429472401\n",
      "21/09/11 23:51:14 INFO Utils: Fetching spark://192.168.0.71:63870/jars/spark-stubs_30_2.12-0.11.0.jar to /private/var/folders/pm/y4lv5tyd1rzfr9sx2jzdn2jw0000gn/T/spark-cfacd13f-24e8-44f3-9f53-60fe7394b8d7/userFiles-7c115a81-0f80-44b6-87b1-a06e3c8737ec/fetchFileTemp3595556985399746122.tmp\n",
      "21/09/11 23:51:14 INFO Executor: Adding file:/private/var/folders/pm/y4lv5tyd1rzfr9sx2jzdn2jw0000gn/T/spark-cfacd13f-24e8-44f3-9f53-60fe7394b8d7/userFiles-7c115a81-0f80-44b6-87b1-a06e3c8737ec/spark-stubs_30_2.12-0.11.0.jar to class loader\n",
      "21/09/11 23:51:14 INFO Executor: Fetching spark://192.168.0.71:63870/jars/janino-3.0.16.jar with timestamp 1631429472401\n",
      "21/09/11 23:51:14 INFO Utils: Fetching spark://192.168.0.71:63870/jars/janino-3.0.16.jar to /private/var/folders/pm/y4lv5tyd1rzfr9sx2jzdn2jw0000gn/T/spark-cfacd13f-24e8-44f3-9f53-60fe7394b8d7/userFiles-7c115a81-0f80-44b6-87b1-a06e3c8737ec/fetchFileTemp157148378182202411.tmp\n",
      "21/09/11 23:51:14 INFO Executor: Adding file:/private/var/folders/pm/y4lv5tyd1rzfr9sx2jzdn2jw0000gn/T/spark-cfacd13f-24e8-44f3-9f53-60fe7394b8d7/userFiles-7c115a81-0f80-44b6-87b1-a06e3c8737ec/janino-3.0.16.jar to class loader\n",
      "21/09/11 23:51:14 INFO Executor: Fetching spark://192.168.0.71:63870/jars/jersey-common-2.30.jar with timestamp 1631429472401\n",
      "21/09/11 23:51:14 INFO Utils: Fetching spark://192.168.0.71:63870/jars/jersey-common-2.30.jar to /private/var/folders/pm/y4lv5tyd1rzfr9sx2jzdn2jw0000gn/T/spark-cfacd13f-24e8-44f3-9f53-60fe7394b8d7/userFiles-7c115a81-0f80-44b6-87b1-a06e3c8737ec/fetchFileTemp4165181887577461468.tmp\n",
      "21/09/11 23:51:14 INFO Executor: Adding file:/private/var/folders/pm/y4lv5tyd1rzfr9sx2jzdn2jw0000gn/T/spark-cfacd13f-24e8-44f3-9f53-60fe7394b8d7/userFiles-7c115a81-0f80-44b6-87b1-a06e3c8737ec/jersey-common-2.30.jar to class loader\n",
      "21/09/11 23:51:14 INFO Executor: Fetching spark://192.168.0.71:63870/jars/javaparser-core-3.2.5-sources.jar with timestamp 1631429472401\n",
      "21/09/11 23:51:14 INFO Utils: Fetching spark://192.168.0.71:63870/jars/javaparser-core-3.2.5-sources.jar to /private/var/folders/pm/y4lv5tyd1rzfr9sx2jzdn2jw0000gn/T/spark-cfacd13f-24e8-44f3-9f53-60fe7394b8d7/userFiles-7c115a81-0f80-44b6-87b1-a06e3c8737ec/fetchFileTemp2435969251361461718.tmp\n",
      "21/09/11 23:51:14 INFO Executor: Adding file:/private/var/folders/pm/y4lv5tyd1rzfr9sx2jzdn2jw0000gn/T/spark-cfacd13f-24e8-44f3-9f53-60fe7394b8d7/userFiles-7c115a81-0f80-44b6-87b1-a06e3c8737ec/javaparser-core-3.2.5-sources.jar to class loader\n",
      "21/09/11 23:51:14 INFO Executor: Fetching spark://192.168.0.71:63870/jars/jersey-server-2.30.jar with timestamp 1631429472401\n",
      "21/09/11 23:51:14 INFO Utils: Fetching spark://192.168.0.71:63870/jars/jersey-server-2.30.jar to /private/var/folders/pm/y4lv5tyd1rzfr9sx2jzdn2jw0000gn/T/spark-cfacd13f-24e8-44f3-9f53-60fe7394b8d7/userFiles-7c115a81-0f80-44b6-87b1-a06e3c8737ec/fetchFileTemp6702133363925582359.tmp\n",
      "21/09/11 23:51:14 INFO Executor: Adding file:/private/var/folders/pm/y4lv5tyd1rzfr9sx2jzdn2jw0000gn/T/spark-cfacd13f-24e8-44f3-9f53-60fe7394b8d7/userFiles-7c115a81-0f80-44b6-87b1-a06e3c8737ec/jersey-server-2.30.jar to class loader\n",
      "21/09/11 23:51:14 INFO Executor: Fetching spark://192.168.0.71:63870/jars/fastparse_2.12-2.3.0-sources.jar with timestamp 1631429472401\n",
      "21/09/11 23:51:14 INFO Utils: Fetching spark://192.168.0.71:63870/jars/fastparse_2.12-2.3.0-sources.jar to /private/var/folders/pm/y4lv5tyd1rzfr9sx2jzdn2jw0000gn/T/spark-cfacd13f-24e8-44f3-9f53-60fe7394b8d7/userFiles-7c115a81-0f80-44b6-87b1-a06e3c8737ec/fetchFileTemp106040211374031680.tmp\n",
      "21/09/11 23:51:14 INFO Executor: Adding file:/private/var/folders/pm/y4lv5tyd1rzfr9sx2jzdn2jw0000gn/T/spark-cfacd13f-24e8-44f3-9f53-60fe7394b8d7/userFiles-7c115a81-0f80-44b6-87b1-a06e3c8737ec/fastparse_2.12-2.3.0-sources.jar to class loader\n",
      "21/09/11 23:51:14 INFO Executor: Fetching spark://192.168.0.71:63870/jars/log4j-1.2.17.jar with timestamp 1631429472401\n",
      "21/09/11 23:51:14 INFO Utils: Fetching spark://192.168.0.71:63870/jars/log4j-1.2.17.jar to /private/var/folders/pm/y4lv5tyd1rzfr9sx2jzdn2jw0000gn/T/spark-cfacd13f-24e8-44f3-9f53-60fe7394b8d7/userFiles-7c115a81-0f80-44b6-87b1-a06e3c8737ec/fetchFileTemp563419244679685578.tmp\n",
      "21/09/11 23:51:14 INFO Executor: Adding file:/private/var/folders/pm/y4lv5tyd1rzfr9sx2jzdn2jw0000gn/T/spark-cfacd13f-24e8-44f3-9f53-60fe7394b8d7/userFiles-7c115a81-0f80-44b6-87b1-a06e3c8737ec/log4j-1.2.17.jar to class loader\n",
      "21/09/11 23:51:14 INFO Executor: Fetching spark://192.168.0.71:63870/jars/jackson-mapper-asl-1.9.13.jar with timestamp 1631429472401\n",
      "21/09/11 23:51:14 INFO Utils: Fetching spark://192.168.0.71:63870/jars/jackson-mapper-asl-1.9.13.jar to /private/var/folders/pm/y4lv5tyd1rzfr9sx2jzdn2jw0000gn/T/spark-cfacd13f-24e8-44f3-9f53-60fe7394b8d7/userFiles-7c115a81-0f80-44b6-87b1-a06e3c8737ec/fetchFileTemp3628710298584638736.tmp\n",
      "21/09/11 23:51:14 INFO Executor: Adding file:/private/var/folders/pm/y4lv5tyd1rzfr9sx2jzdn2jw0000gn/T/spark-cfacd13f-24e8-44f3-9f53-60fe7394b8d7/userFiles-7c115a81-0f80-44b6-87b1-a06e3c8737ec/jackson-mapper-asl-1.9.13.jar to class loader\n",
      "21/09/11 23:51:14 INFO Executor: Fetching spark://192.168.0.71:63870/jars/hadoop-mapreduce-client-core-3.2.0.jar with timestamp 1631429472401\n",
      "21/09/11 23:51:14 INFO Utils: Fetching spark://192.168.0.71:63870/jars/hadoop-mapreduce-client-core-3.2.0.jar to /private/var/folders/pm/y4lv5tyd1rzfr9sx2jzdn2jw0000gn/T/spark-cfacd13f-24e8-44f3-9f53-60fe7394b8d7/userFiles-7c115a81-0f80-44b6-87b1-a06e3c8737ec/fetchFileTemp4341583842978966499.tmp\n",
      "21/09/11 23:51:14 INFO Executor: Adding file:/private/var/folders/pm/y4lv5tyd1rzfr9sx2jzdn2jw0000gn/T/spark-cfacd13f-24e8-44f3-9f53-60fe7394b8d7/userFiles-7c115a81-0f80-44b6-87b1-a06e3c8737ec/hadoop-mapreduce-client-core-3.2.0.jar to class loader\n",
      "21/09/11 23:51:14 INFO Executor: Fetching spark://192.168.0.71:63870/jars/jackson-module-jaxb-annotations-2.9.5.jar with timestamp 1631429472401\n",
      "21/09/11 23:51:14 INFO Utils: Fetching spark://192.168.0.71:63870/jars/jackson-module-jaxb-annotations-2.9.5.jar to /private/var/folders/pm/y4lv5tyd1rzfr9sx2jzdn2jw0000gn/T/spark-cfacd13f-24e8-44f3-9f53-60fe7394b8d7/userFiles-7c115a81-0f80-44b6-87b1-a06e3c8737ec/fetchFileTemp4571849671450256141.tmp\n",
      "21/09/11 23:51:14 INFO Executor: Adding file:/private/var/folders/pm/y4lv5tyd1rzfr9sx2jzdn2jw0000gn/T/spark-cfacd13f-24e8-44f3-9f53-60fe7394b8d7/userFiles-7c115a81-0f80-44b6-87b1-a06e3c8737ec/jackson-module-jaxb-annotations-2.9.5.jar to class loader\n",
      "21/09/11 23:51:14 INFO Executor: Fetching spark://192.168.0.71:63870/jars/jaxb-api-2.2.11.jar with timestamp 1631429472401\n",
      "21/09/11 23:51:14 INFO Utils: Fetching spark://192.168.0.71:63870/jars/jaxb-api-2.2.11.jar to /private/var/folders/pm/y4lv5tyd1rzfr9sx2jzdn2jw0000gn/T/spark-cfacd13f-24e8-44f3-9f53-60fe7394b8d7/userFiles-7c115a81-0f80-44b6-87b1-a06e3c8737ec/fetchFileTemp1708422477871218923.tmp\n",
      "21/09/11 23:51:14 INFO Executor: Adding file:/private/var/folders/pm/y4lv5tyd1rzfr9sx2jzdn2jw0000gn/T/spark-cfacd13f-24e8-44f3-9f53-60fe7394b8d7/userFiles-7c115a81-0f80-44b6-87b1-a06e3c8737ec/jaxb-api-2.2.11.jar to class loader\n",
      "21/09/11 23:51:14 INFO Executor: Fetching spark://192.168.0.71:63870/jars/almond-spark_2.12-0.11.1.jar with timestamp 1631429472401\n",
      "21/09/11 23:51:14 INFO Utils: Fetching spark://192.168.0.71:63870/jars/almond-spark_2.12-0.11.1.jar to /private/var/folders/pm/y4lv5tyd1rzfr9sx2jzdn2jw0000gn/T/spark-cfacd13f-24e8-44f3-9f53-60fe7394b8d7/userFiles-7c115a81-0f80-44b6-87b1-a06e3c8737ec/fetchFileTemp4789274792444353088.tmp\n",
      "21/09/11 23:51:14 INFO Executor: Adding file:/private/var/folders/pm/y4lv5tyd1rzfr9sx2jzdn2jw0000gn/T/spark-cfacd13f-24e8-44f3-9f53-60fe7394b8d7/userFiles-7c115a81-0f80-44b6-87b1-a06e3c8737ec/almond-spark_2.12-0.11.1.jar to class loader\n",
      "21/09/11 23:51:14 INFO Executor: Fetching spark://192.168.0.71:63870/jars/jersey-client-2.30.jar with timestamp 1631429472401\n",
      "21/09/11 23:51:14 INFO Utils: Fetching spark://192.168.0.71:63870/jars/jersey-client-2.30.jar to /private/var/folders/pm/y4lv5tyd1rzfr9sx2jzdn2jw0000gn/T/spark-cfacd13f-24e8-44f3-9f53-60fe7394b8d7/userFiles-7c115a81-0f80-44b6-87b1-a06e3c8737ec/fetchFileTemp8634087996546054473.tmp\n",
      "21/09/11 23:51:14 INFO Executor: Adding file:/private/var/folders/pm/y4lv5tyd1rzfr9sx2jzdn2jw0000gn/T/spark-cfacd13f-24e8-44f3-9f53-60fe7394b8d7/userFiles-7c115a81-0f80-44b6-87b1-a06e3c8737ec/jersey-client-2.30.jar to class loader\n",
      "21/09/11 23:51:14 INFO Executor: Fetching spark://192.168.0.71:63870/jars/spark-unsafe_2.12-3.1.1.jar with timestamp 1631429472401\n",
      "21/09/11 23:51:14 INFO Utils: Fetching spark://192.168.0.71:63870/jars/spark-unsafe_2.12-3.1.1.jar to /private/var/folders/pm/y4lv5tyd1rzfr9sx2jzdn2jw0000gn/T/spark-cfacd13f-24e8-44f3-9f53-60fe7394b8d7/userFiles-7c115a81-0f80-44b6-87b1-a06e3c8737ec/fetchFileTemp8909847947244974784.tmp\n",
      "21/09/11 23:51:14 INFO Executor: Adding file:/private/var/folders/pm/y4lv5tyd1rzfr9sx2jzdn2jw0000gn/T/spark-cfacd13f-24e8-44f3-9f53-60fe7394b8d7/userFiles-7c115a81-0f80-44b6-87b1-a06e3c8737ec/spark-unsafe_2.12-3.1.1.jar to class loader\n",
      "21/09/11 23:51:14 INFO Executor: Fetching spark://192.168.0.71:63870/jars/chill_2.12-0.9.5.jar with timestamp 1631429472401\n",
      "21/09/11 23:51:14 INFO Utils: Fetching spark://192.168.0.71:63870/jars/chill_2.12-0.9.5.jar to /private/var/folders/pm/y4lv5tyd1rzfr9sx2jzdn2jw0000gn/T/spark-cfacd13f-24e8-44f3-9f53-60fe7394b8d7/userFiles-7c115a81-0f80-44b6-87b1-a06e3c8737ec/fetchFileTemp5230240012176351975.tmp\n",
      "21/09/11 23:51:14 INFO Executor: Adding file:/private/var/folders/pm/y4lv5tyd1rzfr9sx2jzdn2jw0000gn/T/spark-cfacd13f-24e8-44f3-9f53-60fe7394b8d7/userFiles-7c115a81-0f80-44b6-87b1-a06e3c8737ec/chill_2.12-0.9.5.jar to class loader\n",
      "21/09/11 23:51:14 INFO Executor: Fetching spark://192.168.0.71:63870/jars/jackson-databind-2.10.0.jar with timestamp 1631429472401\n",
      "21/09/11 23:51:14 INFO Utils: Fetching spark://192.168.0.71:63870/jars/jackson-databind-2.10.0.jar to /private/var/folders/pm/y4lv5tyd1rzfr9sx2jzdn2jw0000gn/T/spark-cfacd13f-24e8-44f3-9f53-60fe7394b8d7/userFiles-7c115a81-0f80-44b6-87b1-a06e3c8737ec/fetchFileTemp5482305474783682944.tmp\n",
      "21/09/11 23:51:14 INFO Executor: Adding file:/private/var/folders/pm/y4lv5tyd1rzfr9sx2jzdn2jw0000gn/T/spark-cfacd13f-24e8-44f3-9f53-60fe7394b8d7/userFiles-7c115a81-0f80-44b6-87b1-a06e3c8737ec/jackson-databind-2.10.0.jar to class loader\n",
      "21/09/11 23:51:14 INFO Executor: Fetching spark://192.168.0.71:63870/jars/curator-client-2.13.0.jar with timestamp 1631429472401\n",
      "21/09/11 23:51:14 INFO Utils: Fetching spark://192.168.0.71:63870/jars/curator-client-2.13.0.jar to /private/var/folders/pm/y4lv5tyd1rzfr9sx2jzdn2jw0000gn/T/spark-cfacd13f-24e8-44f3-9f53-60fe7394b8d7/userFiles-7c115a81-0f80-44b6-87b1-a06e3c8737ec/fetchFileTemp2796315849699128227.tmp\n",
      "21/09/11 23:51:14 INFO Executor: Adding file:/private/var/folders/pm/y4lv5tyd1rzfr9sx2jzdn2jw0000gn/T/spark-cfacd13f-24e8-44f3-9f53-60fe7394b8d7/userFiles-7c115a81-0f80-44b6-87b1-a06e3c8737ec/curator-client-2.13.0.jar to class loader\n",
      "21/09/11 23:51:14 INFO Executor: Fetching spark://192.168.0.71:63870/jars/json4s-core_2.12-3.7.0-M5.jar with timestamp 1631429472401\n",
      "21/09/11 23:51:14 INFO Utils: Fetching spark://192.168.0.71:63870/jars/json4s-core_2.12-3.7.0-M5.jar to /private/var/folders/pm/y4lv5tyd1rzfr9sx2jzdn2jw0000gn/T/spark-cfacd13f-24e8-44f3-9f53-60fe7394b8d7/userFiles-7c115a81-0f80-44b6-87b1-a06e3c8737ec/fetchFileTemp6666147674698692300.tmp\n",
      "21/09/11 23:51:14 INFO Executor: Adding file:/private/var/folders/pm/y4lv5tyd1rzfr9sx2jzdn2jw0000gn/T/spark-cfacd13f-24e8-44f3-9f53-60fe7394b8d7/userFiles-7c115a81-0f80-44b6-87b1-a06e3c8737ec/json4s-core_2.12-3.7.0-M5.jar to class loader\n",
      "21/09/11 23:51:14 INFO Executor: Fetching spark://192.168.0.71:63870/jars/metrics-json-4.1.1.jar with timestamp 1631429472401\n",
      "21/09/11 23:51:14 INFO Utils: Fetching spark://192.168.0.71:63870/jars/metrics-json-4.1.1.jar to /private/var/folders/pm/y4lv5tyd1rzfr9sx2jzdn2jw0000gn/T/spark-cfacd13f-24e8-44f3-9f53-60fe7394b8d7/userFiles-7c115a81-0f80-44b6-87b1-a06e3c8737ec/fetchFileTemp4566011923813258730.tmp\n",
      "21/09/11 23:51:14 INFO Executor: Adding file:/private/var/folders/pm/y4lv5tyd1rzfr9sx2jzdn2jw0000gn/T/spark-cfacd13f-24e8-44f3-9f53-60fe7394b8d7/userFiles-7c115a81-0f80-44b6-87b1-a06e3c8737ec/metrics-json-4.1.1.jar to class loader\n",
      "21/09/11 23:51:14 INFO Executor: Fetching spark://192.168.0.71:63870/jars/hive-storage-api-2.7.2.jar with timestamp 1631429472401\n",
      "21/09/11 23:51:14 INFO Utils: Fetching spark://192.168.0.71:63870/jars/hive-storage-api-2.7.2.jar to /private/var/folders/pm/y4lv5tyd1rzfr9sx2jzdn2jw0000gn/T/spark-cfacd13f-24e8-44f3-9f53-60fe7394b8d7/userFiles-7c115a81-0f80-44b6-87b1-a06e3c8737ec/fetchFileTemp7007106328212782128.tmp\n",
      "21/09/11 23:51:14 INFO Executor: Adding file:/private/var/folders/pm/y4lv5tyd1rzfr9sx2jzdn2jw0000gn/T/spark-cfacd13f-24e8-44f3-9f53-60fe7394b8d7/userFiles-7c115a81-0f80-44b6-87b1-a06e3c8737ec/hive-storage-api-2.7.2.jar to class loader\n",
      "21/09/11 23:51:14 INFO Executor: Fetching spark://192.168.0.71:63870/jars/zookeeper-3.4.14.jar with timestamp 1631429472401\n",
      "21/09/11 23:51:14 INFO Utils: Fetching spark://192.168.0.71:63870/jars/zookeeper-3.4.14.jar to /private/var/folders/pm/y4lv5tyd1rzfr9sx2jzdn2jw0000gn/T/spark-cfacd13f-24e8-44f3-9f53-60fe7394b8d7/userFiles-7c115a81-0f80-44b6-87b1-a06e3c8737ec/fetchFileTemp4227183800499515066.tmp\n",
      "21/09/11 23:51:14 INFO Executor: Adding file:/private/var/folders/pm/y4lv5tyd1rzfr9sx2jzdn2jw0000gn/T/spark-cfacd13f-24e8-44f3-9f53-60fe7394b8d7/userFiles-7c115a81-0f80-44b6-87b1-a06e3c8737ec/zookeeper-3.4.14.jar to class loader\n",
      "21/09/11 23:51:14 INFO Executor: Fetching spark://192.168.0.71:63870/jars/okhttp-2.7.5.jar with timestamp 1631429472401\n",
      "21/09/11 23:51:14 INFO Utils: Fetching spark://192.168.0.71:63870/jars/okhttp-2.7.5.jar to /private/var/folders/pm/y4lv5tyd1rzfr9sx2jzdn2jw0000gn/T/spark-cfacd13f-24e8-44f3-9f53-60fe7394b8d7/userFiles-7c115a81-0f80-44b6-87b1-a06e3c8737ec/fetchFileTemp4086567418076154590.tmp\n",
      "21/09/11 23:51:14 INFO Executor: Adding file:/private/var/folders/pm/y4lv5tyd1rzfr9sx2jzdn2jw0000gn/T/spark-cfacd13f-24e8-44f3-9f53-60fe7394b8d7/userFiles-7c115a81-0f80-44b6-87b1-a06e3c8737ec/okhttp-2.7.5.jar to class loader\n",
      "21/09/11 23:51:14 INFO Executor: Fetching spark://192.168.0.71:63870/jars/metrics-jmx-4.1.1.jar with timestamp 1631429472401\n",
      "21/09/11 23:51:14 INFO Utils: Fetching spark://192.168.0.71:63870/jars/metrics-jmx-4.1.1.jar to /private/var/folders/pm/y4lv5tyd1rzfr9sx2jzdn2jw0000gn/T/spark-cfacd13f-24e8-44f3-9f53-60fe7394b8d7/userFiles-7c115a81-0f80-44b6-87b1-a06e3c8737ec/fetchFileTemp6371616780335813572.tmp\n",
      "21/09/11 23:51:14 INFO Executor: Adding file:/private/var/folders/pm/y4lv5tyd1rzfr9sx2jzdn2jw0000gn/T/spark-cfacd13f-24e8-44f3-9f53-60fe7394b8d7/userFiles-7c115a81-0f80-44b6-87b1-a06e3c8737ec/metrics-jmx-4.1.1.jar to class loader\n",
      "21/09/11 23:51:14 INFO Executor: Fetching spark://192.168.0.71:63870/jars/spark-launcher_2.12-3.1.1.jar with timestamp 1631429472401\n",
      "21/09/11 23:51:14 INFO Utils: Fetching spark://192.168.0.71:63870/jars/spark-launcher_2.12-3.1.1.jar to /private/var/folders/pm/y4lv5tyd1rzfr9sx2jzdn2jw0000gn/T/spark-cfacd13f-24e8-44f3-9f53-60fe7394b8d7/userFiles-7c115a81-0f80-44b6-87b1-a06e3c8737ec/fetchFileTemp8015337596581559894.tmp\n",
      "21/09/11 23:51:14 INFO Executor: Adding file:/private/var/folders/pm/y4lv5tyd1rzfr9sx2jzdn2jw0000gn/T/spark-cfacd13f-24e8-44f3-9f53-60fe7394b8d7/userFiles-7c115a81-0f80-44b6-87b1-a06e3c8737ec/spark-launcher_2.12-3.1.1.jar to class loader\n",
      "21/09/11 23:51:14 INFO Executor: Fetching spark://192.168.0.71:63870/jars/javaparser-core-3.2.5.jar with timestamp 1631429472401\n",
      "21/09/11 23:51:14 INFO Utils: Fetching spark://192.168.0.71:63870/jars/javaparser-core-3.2.5.jar to /private/var/folders/pm/y4lv5tyd1rzfr9sx2jzdn2jw0000gn/T/spark-cfacd13f-24e8-44f3-9f53-60fe7394b8d7/userFiles-7c115a81-0f80-44b6-87b1-a06e3c8737ec/fetchFileTemp5757382478160079510.tmp\n",
      "21/09/11 23:51:14 INFO Executor: Adding file:/private/var/folders/pm/y4lv5tyd1rzfr9sx2jzdn2jw0000gn/T/spark-cfacd13f-24e8-44f3-9f53-60fe7394b8d7/userFiles-7c115a81-0f80-44b6-87b1-a06e3c8737ec/javaparser-core-3.2.5.jar to class loader\n",
      "21/09/11 23:51:14 INFO Executor: Fetching spark://192.168.0.71:63870/jars/commons-lang-2.6.jar with timestamp 1631429472401\n",
      "21/09/11 23:51:14 INFO Utils: Fetching spark://192.168.0.71:63870/jars/commons-lang-2.6.jar to /private/var/folders/pm/y4lv5tyd1rzfr9sx2jzdn2jw0000gn/T/spark-cfacd13f-24e8-44f3-9f53-60fe7394b8d7/userFiles-7c115a81-0f80-44b6-87b1-a06e3c8737ec/fetchFileTemp6197603448389881588.tmp\n",
      "21/09/11 23:51:14 INFO Executor: Adding file:/private/var/folders/pm/y4lv5tyd1rzfr9sx2jzdn2jw0000gn/T/spark-cfacd13f-24e8-44f3-9f53-60fe7394b8d7/userFiles-7c115a81-0f80-44b6-87b1-a06e3c8737ec/commons-lang-2.6.jar to class loader\n",
      "21/09/11 23:51:14 INFO Executor: Fetching spark://192.168.0.71:63870/jars/ivy-2.4.0.jar with timestamp 1631429472401\n",
      "21/09/11 23:51:14 INFO Utils: Fetching spark://192.168.0.71:63870/jars/ivy-2.4.0.jar to /private/var/folders/pm/y4lv5tyd1rzfr9sx2jzdn2jw0000gn/T/spark-cfacd13f-24e8-44f3-9f53-60fe7394b8d7/userFiles-7c115a81-0f80-44b6-87b1-a06e3c8737ec/fetchFileTemp1077928479516910239.tmp\n",
      "21/09/11 23:51:14 INFO Executor: Adding file:/private/var/folders/pm/y4lv5tyd1rzfr9sx2jzdn2jw0000gn/T/spark-cfacd13f-24e8-44f3-9f53-60fe7394b8d7/userFiles-7c115a81-0f80-44b6-87b1-a06e3c8737ec/ivy-2.4.0.jar to class loader\n",
      "21/09/11 23:51:14 INFO Executor: Fetching spark://192.168.0.71:63870/jars/orc-mapreduce-1.5.12.jar with timestamp 1631429472401\n",
      "21/09/11 23:51:14 INFO Utils: Fetching spark://192.168.0.71:63870/jars/orc-mapreduce-1.5.12.jar to /private/var/folders/pm/y4lv5tyd1rzfr9sx2jzdn2jw0000gn/T/spark-cfacd13f-24e8-44f3-9f53-60fe7394b8d7/userFiles-7c115a81-0f80-44b6-87b1-a06e3c8737ec/fetchFileTemp9143628023702697479.tmp\n",
      "21/09/11 23:51:14 INFO Executor: Adding file:/private/var/folders/pm/y4lv5tyd1rzfr9sx2jzdn2jw0000gn/T/spark-cfacd13f-24e8-44f3-9f53-60fe7394b8d7/userFiles-7c115a81-0f80-44b6-87b1-a06e3c8737ec/orc-mapreduce-1.5.12.jar to class loader\n",
      "21/09/11 23:51:14 INFO Executor: Fetching spark://192.168.0.71:63870/jars/json4s-scalap_2.12-3.7.0-M5.jar with timestamp 1631429472401\n",
      "21/09/11 23:51:14 INFO Utils: Fetching spark://192.168.0.71:63870/jars/json4s-scalap_2.12-3.7.0-M5.jar to /private/var/folders/pm/y4lv5tyd1rzfr9sx2jzdn2jw0000gn/T/spark-cfacd13f-24e8-44f3-9f53-60fe7394b8d7/userFiles-7c115a81-0f80-44b6-87b1-a06e3c8737ec/fetchFileTemp6397934507610675375.tmp\n",
      "21/09/11 23:51:14 INFO Executor: Adding file:/private/var/folders/pm/y4lv5tyd1rzfr9sx2jzdn2jw0000gn/T/spark-cfacd13f-24e8-44f3-9f53-60fe7394b8d7/userFiles-7c115a81-0f80-44b6-87b1-a06e3c8737ec/json4s-scalap_2.12-3.7.0-M5.jar to class loader\n",
      "21/09/11 23:51:14 INFO Executor: Fetching spark://192.168.0.71:63870/jars/jetty-http-9.4.36.v20210114.jar with timestamp 1631429472401\n",
      "21/09/11 23:51:14 INFO Utils: Fetching spark://192.168.0.71:63870/jars/jetty-http-9.4.36.v20210114.jar to /private/var/folders/pm/y4lv5tyd1rzfr9sx2jzdn2jw0000gn/T/spark-cfacd13f-24e8-44f3-9f53-60fe7394b8d7/userFiles-7c115a81-0f80-44b6-87b1-a06e3c8737ec/fetchFileTemp3992240928485785531.tmp\n",
      "21/09/11 23:51:14 INFO Executor: Adding file:/private/var/folders/pm/y4lv5tyd1rzfr9sx2jzdn2jw0000gn/T/spark-cfacd13f-24e8-44f3-9f53-60fe7394b8d7/userFiles-7c115a81-0f80-44b6-87b1-a06e3c8737ec/jetty-http-9.4.36.v20210114.jar to class loader\n",
      "21/09/11 23:51:14 INFO Executor: Fetching spark://192.168.0.71:63870/jars/scalaparse_2.12-2.3.0-sources.jar with timestamp 1631429472401\n",
      "21/09/11 23:51:14 INFO Utils: Fetching spark://192.168.0.71:63870/jars/scalaparse_2.12-2.3.0-sources.jar to /private/var/folders/pm/y4lv5tyd1rzfr9sx2jzdn2jw0000gn/T/spark-cfacd13f-24e8-44f3-9f53-60fe7394b8d7/userFiles-7c115a81-0f80-44b6-87b1-a06e3c8737ec/fetchFileTemp7709061695684127159.tmp\n",
      "21/09/11 23:51:14 INFO Executor: Adding file:/private/var/folders/pm/y4lv5tyd1rzfr9sx2jzdn2jw0000gn/T/spark-cfacd13f-24e8-44f3-9f53-60fe7394b8d7/userFiles-7c115a81-0f80-44b6-87b1-a06e3c8737ec/scalaparse_2.12-2.3.0-sources.jar to class loader\n",
      "21/09/11 23:51:14 INFO Executor: Fetching spark://192.168.0.71:63870/jars/ammonite-spark_2.12-0.11.0.jar with timestamp 1631429472401\n",
      "21/09/11 23:51:14 INFO Utils: Fetching spark://192.168.0.71:63870/jars/ammonite-spark_2.12-0.11.0.jar to /private/var/folders/pm/y4lv5tyd1rzfr9sx2jzdn2jw0000gn/T/spark-cfacd13f-24e8-44f3-9f53-60fe7394b8d7/userFiles-7c115a81-0f80-44b6-87b1-a06e3c8737ec/fetchFileTemp5447330436121037523.tmp\n",
      "21/09/11 23:51:14 INFO Executor: Adding file:/private/var/folders/pm/y4lv5tyd1rzfr9sx2jzdn2jw0000gn/T/spark-cfacd13f-24e8-44f3-9f53-60fe7394b8d7/userFiles-7c115a81-0f80-44b6-87b1-a06e3c8737ec/ammonite-spark_2.12-0.11.0.jar to class loader\n",
      "21/09/11 23:51:14 INFO Executor: Fetching spark://192.168.0.71:63870/jars/interpreter-api_2.12-0.11.1.jar with timestamp 1631429472401\n",
      "21/09/11 23:51:14 INFO Utils: Fetching spark://192.168.0.71:63870/jars/interpreter-api_2.12-0.11.1.jar to /private/var/folders/pm/y4lv5tyd1rzfr9sx2jzdn2jw0000gn/T/spark-cfacd13f-24e8-44f3-9f53-60fe7394b8d7/userFiles-7c115a81-0f80-44b6-87b1-a06e3c8737ec/fetchFileTemp8920974757704990761.tmp\n",
      "21/09/11 23:51:14 INFO Executor: Adding file:/private/var/folders/pm/y4lv5tyd1rzfr9sx2jzdn2jw0000gn/T/spark-cfacd13f-24e8-44f3-9f53-60fe7394b8d7/userFiles-7c115a81-0f80-44b6-87b1-a06e3c8737ec/interpreter-api_2.12-0.11.1.jar to class loader\n",
      "21/09/11 23:51:14 INFO Executor: Fetching spark://192.168.0.71:63870/jars/jupyter-api_2.12-0.11.1.jar with timestamp 1631429472401\n",
      "21/09/11 23:51:14 INFO Utils: Fetching spark://192.168.0.71:63870/jars/jupyter-api_2.12-0.11.1.jar to /private/var/folders/pm/y4lv5tyd1rzfr9sx2jzdn2jw0000gn/T/spark-cfacd13f-24e8-44f3-9f53-60fe7394b8d7/userFiles-7c115a81-0f80-44b6-87b1-a06e3c8737ec/fetchFileTemp2079104644926182084.tmp\n",
      "21/09/11 23:51:14 INFO Executor: Adding file:/private/var/folders/pm/y4lv5tyd1rzfr9sx2jzdn2jw0000gn/T/spark-cfacd13f-24e8-44f3-9f53-60fe7394b8d7/userFiles-7c115a81-0f80-44b6-87b1-a06e3c8737ec/jupyter-api_2.12-0.11.1.jar to class loader\n",
      "21/09/11 23:51:14 INFO Executor: Fetching spark://192.168.0.71:63870/jars/geny_2.12-0.6.5-sources.jar with timestamp 1631429472401\n",
      "21/09/11 23:51:14 INFO Utils: Fetching spark://192.168.0.71:63870/jars/geny_2.12-0.6.5-sources.jar to /private/var/folders/pm/y4lv5tyd1rzfr9sx2jzdn2jw0000gn/T/spark-cfacd13f-24e8-44f3-9f53-60fe7394b8d7/userFiles-7c115a81-0f80-44b6-87b1-a06e3c8737ec/fetchFileTemp2875289291571863250.tmp\n",
      "21/09/11 23:51:14 INFO Executor: Adding file:/private/var/folders/pm/y4lv5tyd1rzfr9sx2jzdn2jw0000gn/T/spark-cfacd13f-24e8-44f3-9f53-60fe7394b8d7/userFiles-7c115a81-0f80-44b6-87b1-a06e3c8737ec/geny_2.12-0.6.5-sources.jar to class loader\n",
      "21/09/11 23:51:14 INFO Executor: Fetching spark://192.168.0.71:63870/jars/hadoop-mapreduce-client-jobclient-3.2.0.jar with timestamp 1631429472401\n",
      "21/09/11 23:51:14 INFO Utils: Fetching spark://192.168.0.71:63870/jars/hadoop-mapreduce-client-jobclient-3.2.0.jar to /private/var/folders/pm/y4lv5tyd1rzfr9sx2jzdn2jw0000gn/T/spark-cfacd13f-24e8-44f3-9f53-60fe7394b8d7/userFiles-7c115a81-0f80-44b6-87b1-a06e3c8737ec/fetchFileTemp6666588125897812271.tmp\n",
      "21/09/11 23:51:14 INFO Executor: Adding file:/private/var/folders/pm/y4lv5tyd1rzfr9sx2jzdn2jw0000gn/T/spark-cfacd13f-24e8-44f3-9f53-60fe7394b8d7/userFiles-7c115a81-0f80-44b6-87b1-a06e3c8737ec/hadoop-mapreduce-client-jobclient-3.2.0.jar to class loader\n",
      "21/09/11 23:51:14 INFO Executor: Fetching spark://192.168.0.71:63870/jars/jsp-api-2.1.jar with timestamp 1631429472401\n",
      "21/09/11 23:51:14 INFO Utils: Fetching spark://192.168.0.71:63870/jars/jsp-api-2.1.jar to /private/var/folders/pm/y4lv5tyd1rzfr9sx2jzdn2jw0000gn/T/spark-cfacd13f-24e8-44f3-9f53-60fe7394b8d7/userFiles-7c115a81-0f80-44b6-87b1-a06e3c8737ec/fetchFileTemp4274466526070172514.tmp\n",
      "21/09/11 23:51:14 INFO Executor: Adding file:/private/var/folders/pm/y4lv5tyd1rzfr9sx2jzdn2jw0000gn/T/spark-cfacd13f-24e8-44f3-9f53-60fe7394b8d7/userFiles-7c115a81-0f80-44b6-87b1-a06e3c8737ec/jsp-api-2.1.jar to class loader\n",
      "21/09/11 23:51:14 INFO Executor: Fetching spark://192.168.0.71:63870/jars/lz4-java-1.7.1.jar with timestamp 1631429472401\n",
      "21/09/11 23:51:14 INFO Utils: Fetching spark://192.168.0.71:63870/jars/lz4-java-1.7.1.jar to /private/var/folders/pm/y4lv5tyd1rzfr9sx2jzdn2jw0000gn/T/spark-cfacd13f-24e8-44f3-9f53-60fe7394b8d7/userFiles-7c115a81-0f80-44b6-87b1-a06e3c8737ec/fetchFileTemp474667736269272460.tmp\n",
      "21/09/11 23:51:14 INFO Executor: Adding file:/private/var/folders/pm/y4lv5tyd1rzfr9sx2jzdn2jw0000gn/T/spark-cfacd13f-24e8-44f3-9f53-60fe7394b8d7/userFiles-7c115a81-0f80-44b6-87b1-a06e3c8737ec/lz4-java-1.7.1.jar to class loader\n",
      "21/09/11 23:51:14 INFO Executor: Fetching spark://192.168.0.71:63870/jars/htrace-core4-4.1.0-incubating.jar with timestamp 1631429472401\n",
      "21/09/11 23:51:14 INFO Utils: Fetching spark://192.168.0.71:63870/jars/htrace-core4-4.1.0-incubating.jar to /private/var/folders/pm/y4lv5tyd1rzfr9sx2jzdn2jw0000gn/T/spark-cfacd13f-24e8-44f3-9f53-60fe7394b8d7/userFiles-7c115a81-0f80-44b6-87b1-a06e3c8737ec/fetchFileTemp3435898673308266073.tmp\n",
      "21/09/11 23:51:14 INFO Executor: Adding file:/private/var/folders/pm/y4lv5tyd1rzfr9sx2jzdn2jw0000gn/T/spark-cfacd13f-24e8-44f3-9f53-60fe7394b8d7/userFiles-7c115a81-0f80-44b6-87b1-a06e3c8737ec/htrace-core4-4.1.0-incubating.jar to class loader\n",
      "21/09/11 23:51:14 INFO Executor: Fetching spark://192.168.0.71:63870/jars/javax.servlet-api-3.1.0.jar with timestamp 1631429472401\n",
      "21/09/11 23:51:14 INFO Utils: Fetching spark://192.168.0.71:63870/jars/javax.servlet-api-3.1.0.jar to /private/var/folders/pm/y4lv5tyd1rzfr9sx2jzdn2jw0000gn/T/spark-cfacd13f-24e8-44f3-9f53-60fe7394b8d7/userFiles-7c115a81-0f80-44b6-87b1-a06e3c8737ec/fetchFileTemp2836175577220991843.tmp\n",
      "21/09/11 23:51:14 INFO Executor: Adding file:/private/var/folders/pm/y4lv5tyd1rzfr9sx2jzdn2jw0000gn/T/spark-cfacd13f-24e8-44f3-9f53-60fe7394b8d7/userFiles-7c115a81-0f80-44b6-87b1-a06e3c8737ec/javax.servlet-api-3.1.0.jar to class loader\n",
      "21/09/11 23:51:14 INFO Executor: Fetching spark://192.168.0.71:63870/jars/interpreter-api_2.12-0.11.1-sources.jar with timestamp 1631429472401\n",
      "21/09/11 23:51:14 INFO Utils: Fetching spark://192.168.0.71:63870/jars/interpreter-api_2.12-0.11.1-sources.jar to /private/var/folders/pm/y4lv5tyd1rzfr9sx2jzdn2jw0000gn/T/spark-cfacd13f-24e8-44f3-9f53-60fe7394b8d7/userFiles-7c115a81-0f80-44b6-87b1-a06e3c8737ec/fetchFileTemp3762481720985084785.tmp\n",
      "21/09/11 23:51:14 INFO Executor: Adding file:/private/var/folders/pm/y4lv5tyd1rzfr9sx2jzdn2jw0000gn/T/spark-cfacd13f-24e8-44f3-9f53-60fe7394b8d7/userFiles-7c115a81-0f80-44b6-87b1-a06e3c8737ec/interpreter-api_2.12-0.11.1-sources.jar to class loader\n",
      "21/09/11 23:51:14 INFO Executor: Fetching spark://192.168.0.71:63870/jars/kerb-simplekdc-1.0.1.jar with timestamp 1631429472401\n",
      "21/09/11 23:51:14 INFO Utils: Fetching spark://192.168.0.71:63870/jars/kerb-simplekdc-1.0.1.jar to /private/var/folders/pm/y4lv5tyd1rzfr9sx2jzdn2jw0000gn/T/spark-cfacd13f-24e8-44f3-9f53-60fe7394b8d7/userFiles-7c115a81-0f80-44b6-87b1-a06e3c8737ec/fetchFileTemp834522298000581566.tmp\n",
      "21/09/11 23:51:14 INFO Executor: Adding file:/private/var/folders/pm/y4lv5tyd1rzfr9sx2jzdn2jw0000gn/T/spark-cfacd13f-24e8-44f3-9f53-60fe7394b8d7/userFiles-7c115a81-0f80-44b6-87b1-a06e3c8737ec/kerb-simplekdc-1.0.1.jar to class loader\n",
      "21/09/11 23:51:14 INFO Executor: Fetching spark://192.168.0.71:63870/jars/kerb-common-1.0.1.jar with timestamp 1631429472401\n",
      "21/09/11 23:51:14 INFO Utils: Fetching spark://192.168.0.71:63870/jars/kerb-common-1.0.1.jar to /private/var/folders/pm/y4lv5tyd1rzfr9sx2jzdn2jw0000gn/T/spark-cfacd13f-24e8-44f3-9f53-60fe7394b8d7/userFiles-7c115a81-0f80-44b6-87b1-a06e3c8737ec/fetchFileTemp7011810869504335616.tmp\n",
      "21/09/11 23:51:14 INFO Executor: Adding file:/private/var/folders/pm/y4lv5tyd1rzfr9sx2jzdn2jw0000gn/T/spark-cfacd13f-24e8-44f3-9f53-60fe7394b8d7/userFiles-7c115a81-0f80-44b6-87b1-a06e3c8737ec/kerb-common-1.0.1.jar to class loader\n",
      "21/09/11 23:51:14 INFO Executor: Fetching spark://192.168.0.71:63870/jars/hadoop-common-3.2.0.jar with timestamp 1631429472401\n",
      "21/09/11 23:51:14 INFO Utils: Fetching spark://192.168.0.71:63870/jars/hadoop-common-3.2.0.jar to /private/var/folders/pm/y4lv5tyd1rzfr9sx2jzdn2jw0000gn/T/spark-cfacd13f-24e8-44f3-9f53-60fe7394b8d7/userFiles-7c115a81-0f80-44b6-87b1-a06e3c8737ec/fetchFileTemp7026145401847120693.tmp\n",
      "21/09/11 23:51:14 INFO Executor: Adding file:/private/var/folders/pm/y4lv5tyd1rzfr9sx2jzdn2jw0000gn/T/spark-cfacd13f-24e8-44f3-9f53-60fe7394b8d7/userFiles-7c115a81-0f80-44b6-87b1-a06e3c8737ec/hadoop-common-3.2.0.jar to class loader\n",
      "21/09/11 23:51:14 INFO Executor: Fetching spark://192.168.0.71:63870/jars/kerby-util-1.0.1.jar with timestamp 1631429472401\n",
      "21/09/11 23:51:14 INFO Utils: Fetching spark://192.168.0.71:63870/jars/kerby-util-1.0.1.jar to /private/var/folders/pm/y4lv5tyd1rzfr9sx2jzdn2jw0000gn/T/spark-cfacd13f-24e8-44f3-9f53-60fe7394b8d7/userFiles-7c115a81-0f80-44b6-87b1-a06e3c8737ec/fetchFileTemp3207523876182951149.tmp\n",
      "21/09/11 23:51:14 INFO Executor: Adding file:/private/var/folders/pm/y4lv5tyd1rzfr9sx2jzdn2jw0000gn/T/spark-cfacd13f-24e8-44f3-9f53-60fe7394b8d7/userFiles-7c115a81-0f80-44b6-87b1-a06e3c8737ec/kerby-util-1.0.1.jar to class loader\n",
      "21/09/11 23:51:14 INFO Executor: Fetching spark://192.168.0.71:63870/jars/kerb-identity-1.0.1.jar with timestamp 1631429472401\n",
      "21/09/11 23:51:14 INFO Utils: Fetching spark://192.168.0.71:63870/jars/kerb-identity-1.0.1.jar to /private/var/folders/pm/y4lv5tyd1rzfr9sx2jzdn2jw0000gn/T/spark-cfacd13f-24e8-44f3-9f53-60fe7394b8d7/userFiles-7c115a81-0f80-44b6-87b1-a06e3c8737ec/fetchFileTemp7994843336853926881.tmp\n",
      "21/09/11 23:51:14 INFO Executor: Adding file:/private/var/folders/pm/y4lv5tyd1rzfr9sx2jzdn2jw0000gn/T/spark-cfacd13f-24e8-44f3-9f53-60fe7394b8d7/userFiles-7c115a81-0f80-44b6-87b1-a06e3c8737ec/kerb-identity-1.0.1.jar to class loader\n",
      "21/09/11 23:51:14 INFO Executor: Fetching spark://192.168.0.71:63870/jars/kerb-server-1.0.1.jar with timestamp 1631429472401\n",
      "21/09/11 23:51:14 INFO Utils: Fetching spark://192.168.0.71:63870/jars/kerb-server-1.0.1.jar to /private/var/folders/pm/y4lv5tyd1rzfr9sx2jzdn2jw0000gn/T/spark-cfacd13f-24e8-44f3-9f53-60fe7394b8d7/userFiles-7c115a81-0f80-44b6-87b1-a06e3c8737ec/fetchFileTemp600295571015734833.tmp\n",
      "21/09/11 23:51:14 INFO Executor: Adding file:/private/var/folders/pm/y4lv5tyd1rzfr9sx2jzdn2jw0000gn/T/spark-cfacd13f-24e8-44f3-9f53-60fe7394b8d7/userFiles-7c115a81-0f80-44b6-87b1-a06e3c8737ec/kerb-server-1.0.1.jar to class loader\n",
      "21/09/11 23:51:14 INFO Executor: Fetching spark://192.168.0.71:63870/jars/parquet-format-2.4.0.jar with timestamp 1631429472401\n",
      "21/09/11 23:51:14 INFO Utils: Fetching spark://192.168.0.71:63870/jars/parquet-format-2.4.0.jar to /private/var/folders/pm/y4lv5tyd1rzfr9sx2jzdn2jw0000gn/T/spark-cfacd13f-24e8-44f3-9f53-60fe7394b8d7/userFiles-7c115a81-0f80-44b6-87b1-a06e3c8737ec/fetchFileTemp2844640178974551880.tmp\n",
      "21/09/11 23:51:14 INFO Executor: Adding file:/private/var/folders/pm/y4lv5tyd1rzfr9sx2jzdn2jw0000gn/T/spark-cfacd13f-24e8-44f3-9f53-60fe7394b8d7/userFiles-7c115a81-0f80-44b6-87b1-a06e3c8737ec/parquet-format-2.4.0.jar to class loader\n",
      "21/09/11 23:51:14 INFO Executor: Fetching spark://192.168.0.71:63870/jars/antlr4-runtime-4.8-1.jar with timestamp 1631429472401\n",
      "21/09/11 23:51:14 INFO Utils: Fetching spark://192.168.0.71:63870/jars/antlr4-runtime-4.8-1.jar to /private/var/folders/pm/y4lv5tyd1rzfr9sx2jzdn2jw0000gn/T/spark-cfacd13f-24e8-44f3-9f53-60fe7394b8d7/userFiles-7c115a81-0f80-44b6-87b1-a06e3c8737ec/fetchFileTemp3719342388627056468.tmp\n",
      "21/09/11 23:51:14 INFO Executor: Adding file:/private/var/folders/pm/y4lv5tyd1rzfr9sx2jzdn2jw0000gn/T/spark-cfacd13f-24e8-44f3-9f53-60fe7394b8d7/userFiles-7c115a81-0f80-44b6-87b1-a06e3c8737ec/antlr4-runtime-4.8-1.jar to class loader\n",
      "21/09/11 23:51:14 INFO Executor: Fetching spark://192.168.0.71:63870/jars/fansi_2.12-0.2.9.jar with timestamp 1631429472401\n",
      "21/09/11 23:51:14 INFO Utils: Fetching spark://192.168.0.71:63870/jars/fansi_2.12-0.2.9.jar to /private/var/folders/pm/y4lv5tyd1rzfr9sx2jzdn2jw0000gn/T/spark-cfacd13f-24e8-44f3-9f53-60fe7394b8d7/userFiles-7c115a81-0f80-44b6-87b1-a06e3c8737ec/fetchFileTemp8843763225366188353.tmp\n",
      "21/09/11 23:51:14 INFO Executor: Adding file:/private/var/folders/pm/y4lv5tyd1rzfr9sx2jzdn2jw0000gn/T/spark-cfacd13f-24e8-44f3-9f53-60fe7394b8d7/userFiles-7c115a81-0f80-44b6-87b1-a06e3c8737ec/fansi_2.12-0.2.9.jar to class loader\n",
      "21/09/11 23:51:14 INFO Executor: Fetching spark://192.168.0.71:63870/jars/spark-core_2.12-3.1.1.jar with timestamp 1631429472401\n",
      "21/09/11 23:51:14 INFO Utils: Fetching spark://192.168.0.71:63870/jars/spark-core_2.12-3.1.1.jar to /private/var/folders/pm/y4lv5tyd1rzfr9sx2jzdn2jw0000gn/T/spark-cfacd13f-24e8-44f3-9f53-60fe7394b8d7/userFiles-7c115a81-0f80-44b6-87b1-a06e3c8737ec/fetchFileTemp3118897355209870949.tmp\n",
      "21/09/11 23:51:15 INFO Executor: Adding file:/private/var/folders/pm/y4lv5tyd1rzfr9sx2jzdn2jw0000gn/T/spark-cfacd13f-24e8-44f3-9f53-60fe7394b8d7/userFiles-7c115a81-0f80-44b6-87b1-a06e3c8737ec/spark-core_2.12-3.1.1.jar to class loader\n",
      "21/09/11 23:51:15 INFO Executor: Fetching spark://192.168.0.71:63870/jars/compress-lzf-1.0.3.jar with timestamp 1631429472401\n",
      "21/09/11 23:51:15 INFO Utils: Fetching spark://192.168.0.71:63870/jars/compress-lzf-1.0.3.jar to /private/var/folders/pm/y4lv5tyd1rzfr9sx2jzdn2jw0000gn/T/spark-cfacd13f-24e8-44f3-9f53-60fe7394b8d7/userFiles-7c115a81-0f80-44b6-87b1-a06e3c8737ec/fetchFileTemp1649146533265672725.tmp\n",
      "21/09/11 23:51:15 INFO Executor: Adding file:/private/var/folders/pm/y4lv5tyd1rzfr9sx2jzdn2jw0000gn/T/spark-cfacd13f-24e8-44f3-9f53-60fe7394b8d7/userFiles-7c115a81-0f80-44b6-87b1-a06e3c8737ec/compress-lzf-1.0.3.jar to class loader\n",
      "21/09/11 23:51:15 INFO Executor: Fetching spark://192.168.0.71:63870/jars/ammonite-util_2.12-2.3.8-36-1cce53f3.jar with timestamp 1631429472401\n",
      "21/09/11 23:51:15 INFO Utils: Fetching spark://192.168.0.71:63870/jars/ammonite-util_2.12-2.3.8-36-1cce53f3.jar to /private/var/folders/pm/y4lv5tyd1rzfr9sx2jzdn2jw0000gn/T/spark-cfacd13f-24e8-44f3-9f53-60fe7394b8d7/userFiles-7c115a81-0f80-44b6-87b1-a06e3c8737ec/fetchFileTemp6377679189032072175.tmp\n",
      "21/09/11 23:51:15 INFO Executor: Adding file:/private/var/folders/pm/y4lv5tyd1rzfr9sx2jzdn2jw0000gn/T/spark-cfacd13f-24e8-44f3-9f53-60fe7394b8d7/userFiles-7c115a81-0f80-44b6-87b1-a06e3c8737ec/ammonite-util_2.12-2.3.8-36-1cce53f3.jar to class loader\n",
      "21/09/11 23:51:15 INFO Executor: Fetching spark://192.168.0.71:63870/jars/hk2-api-2.6.1.jar with timestamp 1631429472401\n",
      "21/09/11 23:51:15 INFO Utils: Fetching spark://192.168.0.71:63870/jars/hk2-api-2.6.1.jar to /private/var/folders/pm/y4lv5tyd1rzfr9sx2jzdn2jw0000gn/T/spark-cfacd13f-24e8-44f3-9f53-60fe7394b8d7/userFiles-7c115a81-0f80-44b6-87b1-a06e3c8737ec/fetchFileTemp1850291991102184197.tmp\n",
      "21/09/11 23:51:15 INFO Executor: Adding file:/private/var/folders/pm/y4lv5tyd1rzfr9sx2jzdn2jw0000gn/T/spark-cfacd13f-24e8-44f3-9f53-60fe7394b8d7/userFiles-7c115a81-0f80-44b6-87b1-a06e3c8737ec/hk2-api-2.6.1.jar to class loader\n",
      "21/09/11 23:51:15 INFO Executor: Fetching spark://192.168.0.71:63870/jars/aircompressor-0.10.jar with timestamp 1631429472401\n",
      "21/09/11 23:51:15 INFO Utils: Fetching spark://192.168.0.71:63870/jars/aircompressor-0.10.jar to /private/var/folders/pm/y4lv5tyd1rzfr9sx2jzdn2jw0000gn/T/spark-cfacd13f-24e8-44f3-9f53-60fe7394b8d7/userFiles-7c115a81-0f80-44b6-87b1-a06e3c8737ec/fetchFileTemp2597736280468639715.tmp\n",
      "21/09/11 23:51:15 INFO Executor: Adding file:/private/var/folders/pm/y4lv5tyd1rzfr9sx2jzdn2jw0000gn/T/spark-cfacd13f-24e8-44f3-9f53-60fe7394b8d7/userFiles-7c115a81-0f80-44b6-87b1-a06e3c8737ec/aircompressor-0.10.jar to class loader\n",
      "21/09/11 23:51:15 INFO Executor: Fetching spark://192.168.0.71:63870/jars/hadoop-yarn-client-3.2.0.jar with timestamp 1631429472401\n",
      "21/09/11 23:51:15 INFO Utils: Fetching spark://192.168.0.71:63870/jars/hadoop-yarn-client-3.2.0.jar to /private/var/folders/pm/y4lv5tyd1rzfr9sx2jzdn2jw0000gn/T/spark-cfacd13f-24e8-44f3-9f53-60fe7394b8d7/userFiles-7c115a81-0f80-44b6-87b1-a06e3c8737ec/fetchFileTemp902558287594525720.tmp\n",
      "21/09/11 23:51:15 INFO Executor: Adding file:/private/var/folders/pm/y4lv5tyd1rzfr9sx2jzdn2jw0000gn/T/spark-cfacd13f-24e8-44f3-9f53-60fe7394b8d7/userFiles-7c115a81-0f80-44b6-87b1-a06e3c8737ec/hadoop-yarn-client-3.2.0.jar to class loader\n",
      "21/09/11 23:51:15 INFO Executor: Fetching spark://192.168.0.71:63870/jars/avro-1.8.2.jar with timestamp 1631429472401\n",
      "21/09/11 23:51:15 INFO Utils: Fetching spark://192.168.0.71:63870/jars/avro-1.8.2.jar to /private/var/folders/pm/y4lv5tyd1rzfr9sx2jzdn2jw0000gn/T/spark-cfacd13f-24e8-44f3-9f53-60fe7394b8d7/userFiles-7c115a81-0f80-44b6-87b1-a06e3c8737ec/fetchFileTemp5800213080719499339.tmp\n",
      "21/09/11 23:51:15 INFO Executor: Adding file:/private/var/folders/pm/y4lv5tyd1rzfr9sx2jzdn2jw0000gn/T/spark-cfacd13f-24e8-44f3-9f53-60fe7394b8d7/userFiles-7c115a81-0f80-44b6-87b1-a06e3c8737ec/avro-1.8.2.jar to class loader\n",
      "21/09/11 23:51:15 INFO Executor: Fetching spark://192.168.0.71:63870/jars/jetty-servlet-9.3.24.v20180605.jar with timestamp 1631429472401\n",
      "21/09/11 23:51:15 INFO Utils: Fetching spark://192.168.0.71:63870/jars/jetty-servlet-9.3.24.v20180605.jar to /private/var/folders/pm/y4lv5tyd1rzfr9sx2jzdn2jw0000gn/T/spark-cfacd13f-24e8-44f3-9f53-60fe7394b8d7/userFiles-7c115a81-0f80-44b6-87b1-a06e3c8737ec/fetchFileTemp2859541466244955054.tmp\n",
      "21/09/11 23:51:15 INFO Executor: Adding file:/private/var/folders/pm/y4lv5tyd1rzfr9sx2jzdn2jw0000gn/T/spark-cfacd13f-24e8-44f3-9f53-60fe7394b8d7/userFiles-7c115a81-0f80-44b6-87b1-a06e3c8737ec/jetty-servlet-9.3.24.v20180605.jar to class loader\n",
      "21/09/11 23:51:15 INFO Executor: Fetching spark://192.168.0.71:63870/jars/curator-framework-2.13.0.jar with timestamp 1631429472401\n",
      "21/09/11 23:51:15 INFO Utils: Fetching spark://192.168.0.71:63870/jars/curator-framework-2.13.0.jar to /private/var/folders/pm/y4lv5tyd1rzfr9sx2jzdn2jw0000gn/T/spark-cfacd13f-24e8-44f3-9f53-60fe7394b8d7/userFiles-7c115a81-0f80-44b6-87b1-a06e3c8737ec/fetchFileTemp3237432182654606071.tmp\n",
      "21/09/11 23:51:15 INFO Executor: Adding file:/private/var/folders/pm/y4lv5tyd1rzfr9sx2jzdn2jw0000gn/T/spark-cfacd13f-24e8-44f3-9f53-60fe7394b8d7/userFiles-7c115a81-0f80-44b6-87b1-a06e3c8737ec/curator-framework-2.13.0.jar to class loader\n",
      "21/09/11 23:51:15 INFO Executor: Fetching spark://192.168.0.71:63870/jars/metrics-core-4.1.1.jar with timestamp 1631429472401\n",
      "21/09/11 23:51:15 INFO Utils: Fetching spark://192.168.0.71:63870/jars/metrics-core-4.1.1.jar to /private/var/folders/pm/y4lv5tyd1rzfr9sx2jzdn2jw0000gn/T/spark-cfacd13f-24e8-44f3-9f53-60fe7394b8d7/userFiles-7c115a81-0f80-44b6-87b1-a06e3c8737ec/fetchFileTemp7002982963507800455.tmp\n",
      "21/09/11 23:51:15 INFO Executor: Adding file:/private/var/folders/pm/y4lv5tyd1rzfr9sx2jzdn2jw0000gn/T/spark-cfacd13f-24e8-44f3-9f53-60fe7394b8d7/userFiles-7c115a81-0f80-44b6-87b1-a06e3c8737ec/metrics-core-4.1.1.jar to class loader\n",
      "21/09/11 23:51:15 INFO Executor: Fetching spark://192.168.0.71:63870/jars/nimbus-jose-jwt-4.41.1.jar with timestamp 1631429472401\n",
      "21/09/11 23:51:15 INFO Utils: Fetching spark://192.168.0.71:63870/jars/nimbus-jose-jwt-4.41.1.jar to /private/var/folders/pm/y4lv5tyd1rzfr9sx2jzdn2jw0000gn/T/spark-cfacd13f-24e8-44f3-9f53-60fe7394b8d7/userFiles-7c115a81-0f80-44b6-87b1-a06e3c8737ec/fetchFileTemp6234865073291040882.tmp\n",
      "21/09/11 23:51:15 INFO Executor: Adding file:/private/var/folders/pm/y4lv5tyd1rzfr9sx2jzdn2jw0000gn/T/spark-cfacd13f-24e8-44f3-9f53-60fe7394b8d7/userFiles-7c115a81-0f80-44b6-87b1-a06e3c8737ec/nimbus-jose-jwt-4.41.1.jar to class loader\n",
      "21/09/11 23:51:15 INFO Executor: Fetching spark://192.168.0.71:63870/jars/jetty-server-9.4.36.v20210114.jar with timestamp 1631429472401\n",
      "21/09/11 23:51:15 INFO Utils: Fetching spark://192.168.0.71:63870/jars/jetty-server-9.4.36.v20210114.jar to /private/var/folders/pm/y4lv5tyd1rzfr9sx2jzdn2jw0000gn/T/spark-cfacd13f-24e8-44f3-9f53-60fe7394b8d7/userFiles-7c115a81-0f80-44b6-87b1-a06e3c8737ec/fetchFileTemp5236166689782738628.tmp\n",
      "21/09/11 23:51:15 INFO Executor: Adding file:/private/var/folders/pm/y4lv5tyd1rzfr9sx2jzdn2jw0000gn/T/spark-cfacd13f-24e8-44f3-9f53-60fe7394b8d7/userFiles-7c115a81-0f80-44b6-87b1-a06e3c8737ec/jetty-server-9.4.36.v20210114.jar to class loader\n",
      "21/09/11 23:51:15 INFO Executor: Fetching spark://192.168.0.71:63870/jars/parquet-jackson-1.10.1.jar with timestamp 1631429472401\n",
      "21/09/11 23:51:15 INFO Utils: Fetching spark://192.168.0.71:63870/jars/parquet-jackson-1.10.1.jar to /private/var/folders/pm/y4lv5tyd1rzfr9sx2jzdn2jw0000gn/T/spark-cfacd13f-24e8-44f3-9f53-60fe7394b8d7/userFiles-7c115a81-0f80-44b6-87b1-a06e3c8737ec/fetchFileTemp838500794908016140.tmp\n",
      "21/09/11 23:51:15 INFO Executor: Adding file:/private/var/folders/pm/y4lv5tyd1rzfr9sx2jzdn2jw0000gn/T/spark-cfacd13f-24e8-44f3-9f53-60fe7394b8d7/userFiles-7c115a81-0f80-44b6-87b1-a06e3c8737ec/parquet-jackson-1.10.1.jar to class loader\n",
      "21/09/11 23:51:15 INFO Executor: Fetching spark://192.168.0.71:63870/jars/hadoop-mapreduce-client-common-3.2.0.jar with timestamp 1631429472401\n",
      "21/09/11 23:51:15 INFO Utils: Fetching spark://192.168.0.71:63870/jars/hadoop-mapreduce-client-common-3.2.0.jar to /private/var/folders/pm/y4lv5tyd1rzfr9sx2jzdn2jw0000gn/T/spark-cfacd13f-24e8-44f3-9f53-60fe7394b8d7/userFiles-7c115a81-0f80-44b6-87b1-a06e3c8737ec/fetchFileTemp6142336470240850979.tmp\n",
      "21/09/11 23:51:15 INFO Executor: Adding file:/private/var/folders/pm/y4lv5tyd1rzfr9sx2jzdn2jw0000gn/T/spark-cfacd13f-24e8-44f3-9f53-60fe7394b8d7/userFiles-7c115a81-0f80-44b6-87b1-a06e3c8737ec/hadoop-mapreduce-client-common-3.2.0.jar to class loader\n",
      "21/09/11 23:51:15 INFO Executor: Fetching spark://192.168.0.71:63870/jars/jakarta.inject-2.6.1.jar with timestamp 1631429472401\n",
      "21/09/11 23:51:15 INFO Utils: Fetching spark://192.168.0.71:63870/jars/jakarta.inject-2.6.1.jar to /private/var/folders/pm/y4lv5tyd1rzfr9sx2jzdn2jw0000gn/T/spark-cfacd13f-24e8-44f3-9f53-60fe7394b8d7/userFiles-7c115a81-0f80-44b6-87b1-a06e3c8737ec/fetchFileTemp6404831202849717962.tmp\n",
      "21/09/11 23:51:15 INFO Executor: Adding file:/private/var/folders/pm/y4lv5tyd1rzfr9sx2jzdn2jw0000gn/T/spark-cfacd13f-24e8-44f3-9f53-60fe7394b8d7/userFiles-7c115a81-0f80-44b6-87b1-a06e3c8737ec/jakarta.inject-2.6.1.jar to class loader\n",
      "21/09/11 23:51:15 INFO Executor: Fetching spark://192.168.0.71:63870/jars/avro-mapred-1.8.2-hadoop2.jar with timestamp 1631429472401\n",
      "21/09/11 23:51:15 INFO Utils: Fetching spark://192.168.0.71:63870/jars/avro-mapred-1.8.2-hadoop2.jar to /private/var/folders/pm/y4lv5tyd1rzfr9sx2jzdn2jw0000gn/T/spark-cfacd13f-24e8-44f3-9f53-60fe7394b8d7/userFiles-7c115a81-0f80-44b6-87b1-a06e3c8737ec/fetchFileTemp6668533664638189635.tmp\n",
      "21/09/11 23:51:15 INFO Executor: Adding file:/private/var/folders/pm/y4lv5tyd1rzfr9sx2jzdn2jw0000gn/T/spark-cfacd13f-24e8-44f3-9f53-60fe7394b8d7/userFiles-7c115a81-0f80-44b6-87b1-a06e3c8737ec/avro-mapred-1.8.2-hadoop2.jar to class loader\n",
      "21/09/11 23:51:15 INFO Executor: Fetching spark://192.168.0.71:63870/jars/commons-crypto-1.1.0.jar with timestamp 1631429472401\n",
      "21/09/11 23:51:15 INFO Utils: Fetching spark://192.168.0.71:63870/jars/commons-crypto-1.1.0.jar to /private/var/folders/pm/y4lv5tyd1rzfr9sx2jzdn2jw0000gn/T/spark-cfacd13f-24e8-44f3-9f53-60fe7394b8d7/userFiles-7c115a81-0f80-44b6-87b1-a06e3c8737ec/fetchFileTemp2264097582021894804.tmp\n",
      "21/09/11 23:51:15 INFO Executor: Adding file:/private/var/folders/pm/y4lv5tyd1rzfr9sx2jzdn2jw0000gn/T/spark-cfacd13f-24e8-44f3-9f53-60fe7394b8d7/userFiles-7c115a81-0f80-44b6-87b1-a06e3c8737ec/commons-crypto-1.1.0.jar to class loader\n",
      "21/09/11 23:51:15 INFO Executor: Fetching spark://192.168.0.71:63870/jars/gson-2.2.4.jar with timestamp 1631429472401\n",
      "21/09/11 23:51:15 INFO Utils: Fetching spark://192.168.0.71:63870/jars/gson-2.2.4.jar to /private/var/folders/pm/y4lv5tyd1rzfr9sx2jzdn2jw0000gn/T/spark-cfacd13f-24e8-44f3-9f53-60fe7394b8d7/userFiles-7c115a81-0f80-44b6-87b1-a06e3c8737ec/fetchFileTemp2530386105379430235.tmp\n",
      "21/09/11 23:51:15 INFO Executor: Adding file:/private/var/folders/pm/y4lv5tyd1rzfr9sx2jzdn2jw0000gn/T/spark-cfacd13f-24e8-44f3-9f53-60fe7394b8d7/userFiles-7c115a81-0f80-44b6-87b1-a06e3c8737ec/gson-2.2.4.jar to class loader\n",
      "21/09/11 23:51:15 INFO Executor: Fetching spark://192.168.0.71:63870/jars/jetty-io-9.4.36.v20210114.jar with timestamp 1631429472401\n",
      "21/09/11 23:51:15 INFO Utils: Fetching spark://192.168.0.71:63870/jars/jetty-io-9.4.36.v20210114.jar to /private/var/folders/pm/y4lv5tyd1rzfr9sx2jzdn2jw0000gn/T/spark-cfacd13f-24e8-44f3-9f53-60fe7394b8d7/userFiles-7c115a81-0f80-44b6-87b1-a06e3c8737ec/fetchFileTemp6702932197516728328.tmp\n",
      "21/09/11 23:51:15 INFO Executor: Adding file:/private/var/folders/pm/y4lv5tyd1rzfr9sx2jzdn2jw0000gn/T/spark-cfacd13f-24e8-44f3-9f53-60fe7394b8d7/userFiles-7c115a81-0f80-44b6-87b1-a06e3c8737ec/jetty-io-9.4.36.v20210114.jar to class loader\n",
      "21/09/11 23:51:15 INFO Executor: Fetching spark://192.168.0.71:63870/jars/okio-1.6.0.jar with timestamp 1631429472401\n",
      "21/09/11 23:51:15 INFO Utils: Fetching spark://192.168.0.71:63870/jars/okio-1.6.0.jar to /private/var/folders/pm/y4lv5tyd1rzfr9sx2jzdn2jw0000gn/T/spark-cfacd13f-24e8-44f3-9f53-60fe7394b8d7/userFiles-7c115a81-0f80-44b6-87b1-a06e3c8737ec/fetchFileTemp1583079600900290970.tmp\n",
      "21/09/11 23:51:15 INFO Executor: Adding file:/private/var/folders/pm/y4lv5tyd1rzfr9sx2jzdn2jw0000gn/T/spark-cfacd13f-24e8-44f3-9f53-60fe7394b8d7/userFiles-7c115a81-0f80-44b6-87b1-a06e3c8737ec/okio-1.6.0.jar to class loader\n",
      "21/09/11 23:51:15 INFO Executor: Fetching spark://192.168.0.71:63870/jars/launcher.jar with timestamp 1631429472401\n",
      "21/09/11 23:51:15 INFO Utils: Fetching spark://192.168.0.71:63870/jars/launcher.jar to /private/var/folders/pm/y4lv5tyd1rzfr9sx2jzdn2jw0000gn/T/spark-cfacd13f-24e8-44f3-9f53-60fe7394b8d7/userFiles-7c115a81-0f80-44b6-87b1-a06e3c8737ec/fetchFileTemp5095432172075958656.tmp\n",
      "21/09/11 23:51:15 INFO Executor: Adding file:/private/var/folders/pm/y4lv5tyd1rzfr9sx2jzdn2jw0000gn/T/spark-cfacd13f-24e8-44f3-9f53-60fe7394b8d7/userFiles-7c115a81-0f80-44b6-87b1-a06e3c8737ec/launcher.jar to class loader\n",
      "21/09/11 23:51:15 INFO Executor: Fetching spark://192.168.0.71:63870/jars/scala-collection-compat_2.12-2.4.2.jar with timestamp 1631429472401\n",
      "21/09/11 23:51:15 INFO Utils: Fetching spark://192.168.0.71:63870/jars/scala-collection-compat_2.12-2.4.2.jar to /private/var/folders/pm/y4lv5tyd1rzfr9sx2jzdn2jw0000gn/T/spark-cfacd13f-24e8-44f3-9f53-60fe7394b8d7/userFiles-7c115a81-0f80-44b6-87b1-a06e3c8737ec/fetchFileTemp8683639300893637896.tmp\n",
      "21/09/11 23:51:15 INFO Executor: Adding file:/private/var/folders/pm/y4lv5tyd1rzfr9sx2jzdn2jw0000gn/T/spark-cfacd13f-24e8-44f3-9f53-60fe7394b8d7/userFiles-7c115a81-0f80-44b6-87b1-a06e3c8737ec/scala-collection-compat_2.12-2.4.2.jar to class loader\n",
      "21/09/11 23:51:15 INFO Executor: Fetching spark://192.168.0.71:63870/jars/ammonite-ops_2.12-2.3.8-36-1cce53f3.jar with timestamp 1631429472401\n",
      "21/09/11 23:51:15 INFO Utils: Fetching spark://192.168.0.71:63870/jars/ammonite-ops_2.12-2.3.8-36-1cce53f3.jar to /private/var/folders/pm/y4lv5tyd1rzfr9sx2jzdn2jw0000gn/T/spark-cfacd13f-24e8-44f3-9f53-60fe7394b8d7/userFiles-7c115a81-0f80-44b6-87b1-a06e3c8737ec/fetchFileTemp7825217363108606302.tmp\n",
      "21/09/11 23:51:15 INFO Executor: Adding file:/private/var/folders/pm/y4lv5tyd1rzfr9sx2jzdn2jw0000gn/T/spark-cfacd13f-24e8-44f3-9f53-60fe7394b8d7/userFiles-7c115a81-0f80-44b6-87b1-a06e3c8737ec/ammonite-ops_2.12-2.3.8-36-1cce53f3.jar to class loader\n",
      "21/09/11 23:51:15 INFO Executor: Fetching spark://192.168.0.71:63870/jars/guice-4.0.jar with timestamp 1631429472401\n",
      "21/09/11 23:51:15 INFO Utils: Fetching spark://192.168.0.71:63870/jars/guice-4.0.jar to /private/var/folders/pm/y4lv5tyd1rzfr9sx2jzdn2jw0000gn/T/spark-cfacd13f-24e8-44f3-9f53-60fe7394b8d7/userFiles-7c115a81-0f80-44b6-87b1-a06e3c8737ec/fetchFileTemp1767697493619101949.tmp\n",
      "21/09/11 23:51:15 INFO Executor: Adding file:/private/var/folders/pm/y4lv5tyd1rzfr9sx2jzdn2jw0000gn/T/spark-cfacd13f-24e8-44f3-9f53-60fe7394b8d7/userFiles-7c115a81-0f80-44b6-87b1-a06e3c8737ec/guice-4.0.jar to class loader\n",
      "21/09/11 23:51:15 INFO Executor: Fetching spark://192.168.0.71:63870/jars/ammonite-compiler_2.12.11-2.3.8-36-1cce53f3.jar with timestamp 1631429472401\n",
      "21/09/11 23:51:15 INFO Utils: Fetching spark://192.168.0.71:63870/jars/ammonite-compiler_2.12.11-2.3.8-36-1cce53f3.jar to /private/var/folders/pm/y4lv5tyd1rzfr9sx2jzdn2jw0000gn/T/spark-cfacd13f-24e8-44f3-9f53-60fe7394b8d7/userFiles-7c115a81-0f80-44b6-87b1-a06e3c8737ec/fetchFileTemp2465702144401249033.tmp\n",
      "21/09/11 23:51:15 INFO Executor: Adding file:/private/var/folders/pm/y4lv5tyd1rzfr9sx2jzdn2jw0000gn/T/spark-cfacd13f-24e8-44f3-9f53-60fe7394b8d7/userFiles-7c115a81-0f80-44b6-87b1-a06e3c8737ec/ammonite-compiler_2.12.11-2.3.8-36-1cce53f3.jar to class loader\n",
      "21/09/11 23:51:15 INFO Executor: Fetching spark://192.168.0.71:63870/jars/commons-net-3.6.jar with timestamp 1631429472401\n",
      "21/09/11 23:51:15 INFO Utils: Fetching spark://192.168.0.71:63870/jars/commons-net-3.6.jar to /private/var/folders/pm/y4lv5tyd1rzfr9sx2jzdn2jw0000gn/T/spark-cfacd13f-24e8-44f3-9f53-60fe7394b8d7/userFiles-7c115a81-0f80-44b6-87b1-a06e3c8737ec/fetchFileTemp265997598347527133.tmp\n",
      "21/09/11 23:51:15 INFO Executor: Adding file:/private/var/folders/pm/y4lv5tyd1rzfr9sx2jzdn2jw0000gn/T/spark-cfacd13f-24e8-44f3-9f53-60fe7394b8d7/userFiles-7c115a81-0f80-44b6-87b1-a06e3c8737ec/commons-net-3.6.jar to class loader\n",
      "21/09/11 23:51:15 INFO Executor: Fetching spark://192.168.0.71:63870/jars/jersey-media-jaxb-2.30.jar with timestamp 1631429472401\n",
      "21/09/11 23:51:15 INFO Utils: Fetching spark://192.168.0.71:63870/jars/jersey-media-jaxb-2.30.jar to /private/var/folders/pm/y4lv5tyd1rzfr9sx2jzdn2jw0000gn/T/spark-cfacd13f-24e8-44f3-9f53-60fe7394b8d7/userFiles-7c115a81-0f80-44b6-87b1-a06e3c8737ec/fetchFileTemp630944383112347531.tmp\n",
      "21/09/11 23:51:15 INFO Executor: Adding file:/private/var/folders/pm/y4lv5tyd1rzfr9sx2jzdn2jw0000gn/T/spark-cfacd13f-24e8-44f3-9f53-60fe7394b8d7/userFiles-7c115a81-0f80-44b6-87b1-a06e3c8737ec/jersey-media-jaxb-2.30.jar to class loader\n",
      "21/09/11 23:51:15 INFO Executor: Fetching spark://192.168.0.71:63870/jars/woodstox-core-5.0.3.jar with timestamp 1631429472401\n",
      "21/09/11 23:51:15 INFO Utils: Fetching spark://192.168.0.71:63870/jars/woodstox-core-5.0.3.jar to /private/var/folders/pm/y4lv5tyd1rzfr9sx2jzdn2jw0000gn/T/spark-cfacd13f-24e8-44f3-9f53-60fe7394b8d7/userFiles-7c115a81-0f80-44b6-87b1-a06e3c8737ec/fetchFileTemp1750801827484029374.tmp\n",
      "21/09/11 23:51:15 INFO Executor: Adding file:/private/var/folders/pm/y4lv5tyd1rzfr9sx2jzdn2jw0000gn/T/spark-cfacd13f-24e8-44f3-9f53-60fe7394b8d7/userFiles-7c115a81-0f80-44b6-87b1-a06e3c8737ec/woodstox-core-5.0.3.jar to class loader\n",
      "21/09/11 23:51:15 INFO Executor: Fetching spark://192.168.0.71:63870/jars/leveldbjni-all-1.8.jar with timestamp 1631429472401\n",
      "21/09/11 23:51:15 INFO Utils: Fetching spark://192.168.0.71:63870/jars/leveldbjni-all-1.8.jar to /private/var/folders/pm/y4lv5tyd1rzfr9sx2jzdn2jw0000gn/T/spark-cfacd13f-24e8-44f3-9f53-60fe7394b8d7/userFiles-7c115a81-0f80-44b6-87b1-a06e3c8737ec/fetchFileTemp6779850961026372709.tmp\n",
      "21/09/11 23:51:15 INFO Executor: Adding file:/private/var/folders/pm/y4lv5tyd1rzfr9sx2jzdn2jw0000gn/T/spark-cfacd13f-24e8-44f3-9f53-60fe7394b8d7/userFiles-7c115a81-0f80-44b6-87b1-a06e3c8737ec/leveldbjni-all-1.8.jar to class loader\n",
      "21/09/11 23:51:15 INFO Executor: Fetching spark://192.168.0.71:63870/jars/oro-2.0.8.jar with timestamp 1631429472401\n",
      "21/09/11 23:51:15 INFO Utils: Fetching spark://192.168.0.71:63870/jars/oro-2.0.8.jar to /private/var/folders/pm/y4lv5tyd1rzfr9sx2jzdn2jw0000gn/T/spark-cfacd13f-24e8-44f3-9f53-60fe7394b8d7/userFiles-7c115a81-0f80-44b6-87b1-a06e3c8737ec/fetchFileTemp2269914014532015823.tmp\n",
      "21/09/11 23:51:15 INFO Executor: Adding file:/private/var/folders/pm/y4lv5tyd1rzfr9sx2jzdn2jw0000gn/T/spark-cfacd13f-24e8-44f3-9f53-60fe7394b8d7/userFiles-7c115a81-0f80-44b6-87b1-a06e3c8737ec/oro-2.0.8.jar to class loader\n",
      "21/09/11 23:51:15 INFO Executor: Fetching spark://192.168.0.71:63870/jars/netty-3.10.6.Final.jar with timestamp 1631429472401\n",
      "21/09/11 23:51:15 INFO Utils: Fetching spark://192.168.0.71:63870/jars/netty-3.10.6.Final.jar to /private/var/folders/pm/y4lv5tyd1rzfr9sx2jzdn2jw0000gn/T/spark-cfacd13f-24e8-44f3-9f53-60fe7394b8d7/userFiles-7c115a81-0f80-44b6-87b1-a06e3c8737ec/fetchFileTemp1865403233084733261.tmp\n",
      "21/09/11 23:51:15 INFO Executor: Adding file:/private/var/folders/pm/y4lv5tyd1rzfr9sx2jzdn2jw0000gn/T/spark-cfacd13f-24e8-44f3-9f53-60fe7394b8d7/userFiles-7c115a81-0f80-44b6-87b1-a06e3c8737ec/netty-3.10.6.Final.jar to class loader\n",
      "21/09/11 23:51:15 INFO Executor: Fetching spark://192.168.0.71:63870/jars/commons-io-2.5.jar with timestamp 1631429472401\n",
      "21/09/11 23:51:15 INFO Utils: Fetching spark://192.168.0.71:63870/jars/commons-io-2.5.jar to /private/var/folders/pm/y4lv5tyd1rzfr9sx2jzdn2jw0000gn/T/spark-cfacd13f-24e8-44f3-9f53-60fe7394b8d7/userFiles-7c115a81-0f80-44b6-87b1-a06e3c8737ec/fetchFileTemp8097813333390125657.tmp\n",
      "21/09/11 23:51:15 INFO Executor: Adding file:/private/var/folders/pm/y4lv5tyd1rzfr9sx2jzdn2jw0000gn/T/spark-cfacd13f-24e8-44f3-9f53-60fe7394b8d7/userFiles-7c115a81-0f80-44b6-87b1-a06e3c8737ec/commons-io-2.5.jar to class loader\n",
      "21/09/11 23:51:15 INFO Executor: Fetching spark://192.168.0.71:63870/jars/accessors-smart-1.2.jar with timestamp 1631429472401\n",
      "21/09/11 23:51:15 INFO Utils: Fetching spark://192.168.0.71:63870/jars/accessors-smart-1.2.jar to /private/var/folders/pm/y4lv5tyd1rzfr9sx2jzdn2jw0000gn/T/spark-cfacd13f-24e8-44f3-9f53-60fe7394b8d7/userFiles-7c115a81-0f80-44b6-87b1-a06e3c8737ec/fetchFileTemp1076815010230346069.tmp\n",
      "21/09/11 23:51:15 INFO Executor: Adding file:/private/var/folders/pm/y4lv5tyd1rzfr9sx2jzdn2jw0000gn/T/spark-cfacd13f-24e8-44f3-9f53-60fe7394b8d7/userFiles-7c115a81-0f80-44b6-87b1-a06e3c8737ec/accessors-smart-1.2.jar to class loader\n",
      "21/09/11 23:51:15 INFO Executor: Fetching spark://192.168.0.71:63870/jars/arrow-memory-netty-2.0.0.jar with timestamp 1631429472401\n",
      "21/09/11 23:51:15 INFO Utils: Fetching spark://192.168.0.71:63870/jars/arrow-memory-netty-2.0.0.jar to /private/var/folders/pm/y4lv5tyd1rzfr9sx2jzdn2jw0000gn/T/spark-cfacd13f-24e8-44f3-9f53-60fe7394b8d7/userFiles-7c115a81-0f80-44b6-87b1-a06e3c8737ec/fetchFileTemp1949510091091755368.tmp\n",
      "21/09/11 23:51:15 INFO Executor: Adding file:/private/var/folders/pm/y4lv5tyd1rzfr9sx2jzdn2jw0000gn/T/spark-cfacd13f-24e8-44f3-9f53-60fe7394b8d7/userFiles-7c115a81-0f80-44b6-87b1-a06e3c8737ec/arrow-memory-netty-2.0.0.jar to class loader\n",
      "21/09/11 23:51:15 INFO Executor: Fetching spark://192.168.0.71:63870/jars/jvm-repr-0.4.0.jar with timestamp 1631429472401\n",
      "21/09/11 23:51:15 INFO Utils: Fetching spark://192.168.0.71:63870/jars/jvm-repr-0.4.0.jar to /private/var/folders/pm/y4lv5tyd1rzfr9sx2jzdn2jw0000gn/T/spark-cfacd13f-24e8-44f3-9f53-60fe7394b8d7/userFiles-7c115a81-0f80-44b6-87b1-a06e3c8737ec/fetchFileTemp8866620070195764374.tmp\n",
      "21/09/11 23:51:15 INFO Executor: Adding file:/private/var/folders/pm/y4lv5tyd1rzfr9sx2jzdn2jw0000gn/T/spark-cfacd13f-24e8-44f3-9f53-60fe7394b8d7/userFiles-7c115a81-0f80-44b6-87b1-a06e3c8737ec/jvm-repr-0.4.0.jar to class loader\n",
      "21/09/11 23:51:15 INFO Executor: Fetching spark://192.168.0.71:63870/jars/kerb-core-1.0.1.jar with timestamp 1631429472401\n",
      "21/09/11 23:51:15 INFO Utils: Fetching spark://192.168.0.71:63870/jars/kerb-core-1.0.1.jar to /private/var/folders/pm/y4lv5tyd1rzfr9sx2jzdn2jw0000gn/T/spark-cfacd13f-24e8-44f3-9f53-60fe7394b8d7/userFiles-7c115a81-0f80-44b6-87b1-a06e3c8737ec/fetchFileTemp4013727348697536767.tmp\n",
      "21/09/11 23:51:15 INFO Executor: Adding file:/private/var/folders/pm/y4lv5tyd1rzfr9sx2jzdn2jw0000gn/T/spark-cfacd13f-24e8-44f3-9f53-60fe7394b8d7/userFiles-7c115a81-0f80-44b6-87b1-a06e3c8737ec/kerb-core-1.0.1.jar to class loader\n",
      "21/09/11 23:51:15 INFO Executor: Fetching spark://192.168.0.71:63870/jars/jackson-jaxrs-base-2.9.5.jar with timestamp 1631429472401\n",
      "21/09/11 23:51:15 INFO Utils: Fetching spark://192.168.0.71:63870/jars/jackson-jaxrs-base-2.9.5.jar to /private/var/folders/pm/y4lv5tyd1rzfr9sx2jzdn2jw0000gn/T/spark-cfacd13f-24e8-44f3-9f53-60fe7394b8d7/userFiles-7c115a81-0f80-44b6-87b1-a06e3c8737ec/fetchFileTemp3555321378850273113.tmp\n",
      "21/09/11 23:51:15 INFO Executor: Adding file:/private/var/folders/pm/y4lv5tyd1rzfr9sx2jzdn2jw0000gn/T/spark-cfacd13f-24e8-44f3-9f53-60fe7394b8d7/userFiles-7c115a81-0f80-44b6-87b1-a06e3c8737ec/jackson-jaxrs-base-2.9.5.jar to class loader\n",
      "21/09/11 23:51:15 INFO Executor: Fetching spark://192.168.0.71:63870/jars/scala-xml_2.12-2.0.0-M3-sources.jar with timestamp 1631429472401\n",
      "21/09/11 23:51:15 INFO Utils: Fetching spark://192.168.0.71:63870/jars/scala-xml_2.12-2.0.0-M3-sources.jar to /private/var/folders/pm/y4lv5tyd1rzfr9sx2jzdn2jw0000gn/T/spark-cfacd13f-24e8-44f3-9f53-60fe7394b8d7/userFiles-7c115a81-0f80-44b6-87b1-a06e3c8737ec/fetchFileTemp1875568194150047649.tmp\n",
      "21/09/11 23:51:15 INFO Executor: Adding file:/private/var/folders/pm/y4lv5tyd1rzfr9sx2jzdn2jw0000gn/T/spark-cfacd13f-24e8-44f3-9f53-60fe7394b8d7/userFiles-7c115a81-0f80-44b6-87b1-a06e3c8737ec/scala-xml_2.12-2.0.0-M3-sources.jar to class loader\n",
      "21/09/11 23:51:15 INFO Executor: Fetching spark://192.168.0.71:63870/jars/jakarta.annotation-api-1.3.5.jar with timestamp 1631429472401\n",
      "21/09/11 23:51:15 INFO Utils: Fetching spark://192.168.0.71:63870/jars/jakarta.annotation-api-1.3.5.jar to /private/var/folders/pm/y4lv5tyd1rzfr9sx2jzdn2jw0000gn/T/spark-cfacd13f-24e8-44f3-9f53-60fe7394b8d7/userFiles-7c115a81-0f80-44b6-87b1-a06e3c8737ec/fetchFileTemp567652734098682190.tmp\n",
      "21/09/11 23:51:15 INFO Executor: Adding file:/private/var/folders/pm/y4lv5tyd1rzfr9sx2jzdn2jw0000gn/T/spark-cfacd13f-24e8-44f3-9f53-60fe7394b8d7/userFiles-7c115a81-0f80-44b6-87b1-a06e3c8737ec/jakarta.annotation-api-1.3.5.jar to class loader\n",
      "21/09/11 23:51:15 INFO Executor: Fetching spark://192.168.0.71:63870/jars/slf4j-log4j12-1.7.30.jar with timestamp 1631429472401\n",
      "21/09/11 23:51:15 INFO Utils: Fetching spark://192.168.0.71:63870/jars/slf4j-log4j12-1.7.30.jar to /private/var/folders/pm/y4lv5tyd1rzfr9sx2jzdn2jw0000gn/T/spark-cfacd13f-24e8-44f3-9f53-60fe7394b8d7/userFiles-7c115a81-0f80-44b6-87b1-a06e3c8737ec/fetchFileTemp6248212019986742445.tmp\n",
      "21/09/11 23:51:15 INFO Executor: Adding file:/private/var/folders/pm/y4lv5tyd1rzfr9sx2jzdn2jw0000gn/T/spark-cfacd13f-24e8-44f3-9f53-60fe7394b8d7/userFiles-7c115a81-0f80-44b6-87b1-a06e3c8737ec/slf4j-log4j12-1.7.30.jar to class loader\n",
      "21/09/11 23:51:15 INFO Executor: Fetching spark://192.168.0.71:63870/jars/spark-network-common_2.12-3.1.1.jar with timestamp 1631429472401\n",
      "21/09/11 23:51:15 INFO Utils: Fetching spark://192.168.0.71:63870/jars/spark-network-common_2.12-3.1.1.jar to /private/var/folders/pm/y4lv5tyd1rzfr9sx2jzdn2jw0000gn/T/spark-cfacd13f-24e8-44f3-9f53-60fe7394b8d7/userFiles-7c115a81-0f80-44b6-87b1-a06e3c8737ec/fetchFileTemp260289564160066525.tmp\n",
      "21/09/11 23:51:15 INFO Executor: Adding file:/private/var/folders/pm/y4lv5tyd1rzfr9sx2jzdn2jw0000gn/T/spark-cfacd13f-24e8-44f3-9f53-60fe7394b8d7/userFiles-7c115a81-0f80-44b6-87b1-a06e3c8737ec/spark-network-common_2.12-3.1.1.jar to class loader\n",
      "21/09/11 23:51:15 INFO Executor: Fetching spark://192.168.0.71:63870/jars/kryo-shaded-4.0.2.jar with timestamp 1631429472401\n",
      "21/09/11 23:51:15 INFO Utils: Fetching spark://192.168.0.71:63870/jars/kryo-shaded-4.0.2.jar to /private/var/folders/pm/y4lv5tyd1rzfr9sx2jzdn2jw0000gn/T/spark-cfacd13f-24e8-44f3-9f53-60fe7394b8d7/userFiles-7c115a81-0f80-44b6-87b1-a06e3c8737ec/fetchFileTemp2445507135545014457.tmp\n",
      "21/09/11 23:51:15 INFO Executor: Adding file:/private/var/folders/pm/y4lv5tyd1rzfr9sx2jzdn2jw0000gn/T/spark-cfacd13f-24e8-44f3-9f53-60fe7394b8d7/userFiles-7c115a81-0f80-44b6-87b1-a06e3c8737ec/kryo-shaded-4.0.2.jar to class loader\n",
      "21/09/11 23:51:15 INFO Executor: Fetching spark://192.168.0.71:63870/jars/jackson-jaxrs-json-provider-2.9.5.jar with timestamp 1631429472401\n",
      "21/09/11 23:51:15 INFO Utils: Fetching spark://192.168.0.71:63870/jars/jackson-jaxrs-json-provider-2.9.5.jar to /private/var/folders/pm/y4lv5tyd1rzfr9sx2jzdn2jw0000gn/T/spark-cfacd13f-24e8-44f3-9f53-60fe7394b8d7/userFiles-7c115a81-0f80-44b6-87b1-a06e3c8737ec/fetchFileTemp3018310508968224046.tmp\n",
      "21/09/11 23:51:15 INFO Executor: Adding file:/private/var/folders/pm/y4lv5tyd1rzfr9sx2jzdn2jw0000gn/T/spark-cfacd13f-24e8-44f3-9f53-60fe7394b8d7/userFiles-7c115a81-0f80-44b6-87b1-a06e3c8737ec/jackson-jaxrs-json-provider-2.9.5.jar to class loader\n",
      "21/09/11 23:51:15 INFO Executor: Fetching spark://192.168.0.71:63870/jars/mainargs_2.12-0.1.4.jar with timestamp 1631429472401\n",
      "21/09/11 23:51:15 INFO Utils: Fetching spark://192.168.0.71:63870/jars/mainargs_2.12-0.1.4.jar to /private/var/folders/pm/y4lv5tyd1rzfr9sx2jzdn2jw0000gn/T/spark-cfacd13f-24e8-44f3-9f53-60fe7394b8d7/userFiles-7c115a81-0f80-44b6-87b1-a06e3c8737ec/fetchFileTemp476574310693123942.tmp\n",
      "21/09/11 23:51:15 INFO Executor: Adding file:/private/var/folders/pm/y4lv5tyd1rzfr9sx2jzdn2jw0000gn/T/spark-cfacd13f-24e8-44f3-9f53-60fe7394b8d7/userFiles-7c115a81-0f80-44b6-87b1-a06e3c8737ec/mainargs_2.12-0.1.4.jar to class loader\n",
      "21/09/11 23:51:15 INFO Executor: Fetching spark://192.168.0.71:63870/jars/spark-network-shuffle_2.12-3.1.1.jar with timestamp 1631429472401\n",
      "21/09/11 23:51:15 INFO Utils: Fetching spark://192.168.0.71:63870/jars/spark-network-shuffle_2.12-3.1.1.jar to /private/var/folders/pm/y4lv5tyd1rzfr9sx2jzdn2jw0000gn/T/spark-cfacd13f-24e8-44f3-9f53-60fe7394b8d7/userFiles-7c115a81-0f80-44b6-87b1-a06e3c8737ec/fetchFileTemp1143332667620056371.tmp\n",
      "21/09/11 23:51:15 INFO Executor: Adding file:/private/var/folders/pm/y4lv5tyd1rzfr9sx2jzdn2jw0000gn/T/spark-cfacd13f-24e8-44f3-9f53-60fe7394b8d7/userFiles-7c115a81-0f80-44b6-87b1-a06e3c8737ec/spark-network-shuffle_2.12-3.1.1.jar to class loader\n",
      "21/09/11 23:51:15 INFO Executor: Fetching spark://192.168.0.71:63870/jars/spark-sql_2.12-3.1.1.jar with timestamp 1631429472401\n",
      "21/09/11 23:51:15 INFO Utils: Fetching spark://192.168.0.71:63870/jars/spark-sql_2.12-3.1.1.jar to /private/var/folders/pm/y4lv5tyd1rzfr9sx2jzdn2jw0000gn/T/spark-cfacd13f-24e8-44f3-9f53-60fe7394b8d7/userFiles-7c115a81-0f80-44b6-87b1-a06e3c8737ec/fetchFileTemp768179765959463047.tmp\n",
      "21/09/11 23:51:15 INFO Executor: Adding file:/private/var/folders/pm/y4lv5tyd1rzfr9sx2jzdn2jw0000gn/T/spark-cfacd13f-24e8-44f3-9f53-60fe7394b8d7/userFiles-7c115a81-0f80-44b6-87b1-a06e3c8737ec/spark-sql_2.12-3.1.1.jar to class loader\n",
      "21/09/11 23:51:15 INFO Executor: Fetching spark://192.168.0.71:63870/jars/kerb-client-1.0.1.jar with timestamp 1631429472401\n",
      "21/09/11 23:51:15 INFO Utils: Fetching spark://192.168.0.71:63870/jars/kerb-client-1.0.1.jar to /private/var/folders/pm/y4lv5tyd1rzfr9sx2jzdn2jw0000gn/T/spark-cfacd13f-24e8-44f3-9f53-60fe7394b8d7/userFiles-7c115a81-0f80-44b6-87b1-a06e3c8737ec/fetchFileTemp7443507485157243149.tmp\n",
      "21/09/11 23:51:15 INFO Executor: Adding file:/private/var/folders/pm/y4lv5tyd1rzfr9sx2jzdn2jw0000gn/T/spark-cfacd13f-24e8-44f3-9f53-60fe7394b8d7/userFiles-7c115a81-0f80-44b6-87b1-a06e3c8737ec/kerb-client-1.0.1.jar to class loader\n",
      "21/09/11 23:51:15 INFO Executor: Fetching spark://192.168.0.71:63870/jars/hadoop-client-3.2.0.jar with timestamp 1631429472401\n",
      "21/09/11 23:51:15 INFO Utils: Fetching spark://192.168.0.71:63870/jars/hadoop-client-3.2.0.jar to /private/var/folders/pm/y4lv5tyd1rzfr9sx2jzdn2jw0000gn/T/spark-cfacd13f-24e8-44f3-9f53-60fe7394b8d7/userFiles-7c115a81-0f80-44b6-87b1-a06e3c8737ec/fetchFileTemp2123637587161856299.tmp\n",
      "21/09/11 23:51:15 INFO Executor: Adding file:/private/var/folders/pm/y4lv5tyd1rzfr9sx2jzdn2jw0000gn/T/spark-cfacd13f-24e8-44f3-9f53-60fe7394b8d7/userFiles-7c115a81-0f80-44b6-87b1-a06e3c8737ec/hadoop-client-3.2.0.jar to class loader\n",
      "21/09/11 23:51:15 INFO Executor: Fetching spark://192.168.0.71:63870/jars/spark-tags_2.12-3.1.1.jar with timestamp 1631429472401\n",
      "21/09/11 23:51:15 INFO Utils: Fetching spark://192.168.0.71:63870/jars/spark-tags_2.12-3.1.1.jar to /private/var/folders/pm/y4lv5tyd1rzfr9sx2jzdn2jw0000gn/T/spark-cfacd13f-24e8-44f3-9f53-60fe7394b8d7/userFiles-7c115a81-0f80-44b6-87b1-a06e3c8737ec/fetchFileTemp6411619077644100768.tmp\n",
      "21/09/11 23:51:15 INFO Executor: Adding file:/private/var/folders/pm/y4lv5tyd1rzfr9sx2jzdn2jw0000gn/T/spark-cfacd13f-24e8-44f3-9f53-60fe7394b8d7/userFiles-7c115a81-0f80-44b6-87b1-a06e3c8737ec/spark-tags_2.12-3.1.1.jar to class loader\n",
      "21/09/11 23:51:15 INFO Executor: Fetching spark://192.168.0.71:63870/jars/arrow-memory-core-2.0.0.jar with timestamp 1631429472401\n",
      "21/09/11 23:51:15 INFO Utils: Fetching spark://192.168.0.71:63870/jars/arrow-memory-core-2.0.0.jar to /private/var/folders/pm/y4lv5tyd1rzfr9sx2jzdn2jw0000gn/T/spark-cfacd13f-24e8-44f3-9f53-60fe7394b8d7/userFiles-7c115a81-0f80-44b6-87b1-a06e3c8737ec/fetchFileTemp2028733810387579710.tmp\n",
      "21/09/11 23:51:15 INFO Executor: Adding file:/private/var/folders/pm/y4lv5tyd1rzfr9sx2jzdn2jw0000gn/T/spark-cfacd13f-24e8-44f3-9f53-60fe7394b8d7/userFiles-7c115a81-0f80-44b6-87b1-a06e3c8737ec/arrow-memory-core-2.0.0.jar to class loader\n",
      "21/09/11 23:51:15 INFO Executor: Fetching spark://192.168.0.71:63870/jars/metrics-graphite-4.1.1.jar with timestamp 1631429472401\n",
      "21/09/11 23:51:15 INFO Utils: Fetching spark://192.168.0.71:63870/jars/metrics-graphite-4.1.1.jar to /private/var/folders/pm/y4lv5tyd1rzfr9sx2jzdn2jw0000gn/T/spark-cfacd13f-24e8-44f3-9f53-60fe7394b8d7/userFiles-7c115a81-0f80-44b6-87b1-a06e3c8737ec/fetchFileTemp2953034767843765121.tmp\n",
      "21/09/11 23:51:15 INFO Executor: Adding file:/private/var/folders/pm/y4lv5tyd1rzfr9sx2jzdn2jw0000gn/T/spark-cfacd13f-24e8-44f3-9f53-60fe7394b8d7/userFiles-7c115a81-0f80-44b6-87b1-a06e3c8737ec/metrics-graphite-4.1.1.jar to class loader\n",
      "21/09/11 23:51:15 INFO Executor: Fetching spark://192.168.0.71:63870/jars/javax.inject-1.jar with timestamp 1631429472401\n",
      "21/09/11 23:51:15 INFO Utils: Fetching spark://192.168.0.71:63870/jars/javax.inject-1.jar to /private/var/folders/pm/y4lv5tyd1rzfr9sx2jzdn2jw0000gn/T/spark-cfacd13f-24e8-44f3-9f53-60fe7394b8d7/userFiles-7c115a81-0f80-44b6-87b1-a06e3c8737ec/fetchFileTemp6921086492825670792.tmp\n",
      "21/09/11 23:51:15 INFO Executor: Adding file:/private/var/folders/pm/y4lv5tyd1rzfr9sx2jzdn2jw0000gn/T/spark-cfacd13f-24e8-44f3-9f53-60fe7394b8d7/userFiles-7c115a81-0f80-44b6-87b1-a06e3c8737ec/javax.inject-1.jar to class loader\n",
      "21/09/11 23:51:15 INFO Executor: Fetching spark://192.168.0.71:63870/jars/spark-sketch_2.12-3.1.1.jar with timestamp 1631429472401\n",
      "21/09/11 23:51:15 INFO Utils: Fetching spark://192.168.0.71:63870/jars/spark-sketch_2.12-3.1.1.jar to /private/var/folders/pm/y4lv5tyd1rzfr9sx2jzdn2jw0000gn/T/spark-cfacd13f-24e8-44f3-9f53-60fe7394b8d7/userFiles-7c115a81-0f80-44b6-87b1-a06e3c8737ec/fetchFileTemp4489856298524963769.tmp\n",
      "21/09/11 23:51:15 INFO Executor: Adding file:/private/var/folders/pm/y4lv5tyd1rzfr9sx2jzdn2jw0000gn/T/spark-cfacd13f-24e8-44f3-9f53-60fe7394b8d7/userFiles-7c115a81-0f80-44b6-87b1-a06e3c8737ec/spark-sketch_2.12-3.1.1.jar to class loader\n",
      "21/09/11 23:51:15 INFO Executor: Fetching spark://192.168.0.71:63870/jars/pyrolite-4.30.jar with timestamp 1631429472401\n",
      "21/09/11 23:51:15 INFO Utils: Fetching spark://192.168.0.71:63870/jars/pyrolite-4.30.jar to /private/var/folders/pm/y4lv5tyd1rzfr9sx2jzdn2jw0000gn/T/spark-cfacd13f-24e8-44f3-9f53-60fe7394b8d7/userFiles-7c115a81-0f80-44b6-87b1-a06e3c8737ec/fetchFileTemp2882854404903629037.tmp\n",
      "21/09/11 23:51:15 INFO Executor: Adding file:/private/var/folders/pm/y4lv5tyd1rzfr9sx2jzdn2jw0000gn/T/spark-cfacd13f-24e8-44f3-9f53-60fe7394b8d7/userFiles-7c115a81-0f80-44b6-87b1-a06e3c8737ec/pyrolite-4.30.jar to class loader\n",
      "21/09/11 23:51:15 INFO Executor: Fetching spark://192.168.0.71:63870/jars/ammonite-util_2.12-2.3.8-36-1cce53f3-sources.jar with timestamp 1631429472401\n",
      "21/09/11 23:51:15 INFO Utils: Fetching spark://192.168.0.71:63870/jars/ammonite-util_2.12-2.3.8-36-1cce53f3-sources.jar to /private/var/folders/pm/y4lv5tyd1rzfr9sx2jzdn2jw0000gn/T/spark-cfacd13f-24e8-44f3-9f53-60fe7394b8d7/userFiles-7c115a81-0f80-44b6-87b1-a06e3c8737ec/fetchFileTemp836659750276864319.tmp\n",
      "21/09/11 23:51:15 INFO Executor: Adding file:/private/var/folders/pm/y4lv5tyd1rzfr9sx2jzdn2jw0000gn/T/spark-cfacd13f-24e8-44f3-9f53-60fe7394b8d7/userFiles-7c115a81-0f80-44b6-87b1-a06e3c8737ec/ammonite-util_2.12-2.3.8-36-1cce53f3-sources.jar to class loader\n",
      "21/09/11 23:51:15 INFO Executor: Fetching spark://192.168.0.71:63870/jars/kerb-crypto-1.0.1.jar with timestamp 1631429472401\n",
      "21/09/11 23:51:15 INFO Utils: Fetching spark://192.168.0.71:63870/jars/kerb-crypto-1.0.1.jar to /private/var/folders/pm/y4lv5tyd1rzfr9sx2jzdn2jw0000gn/T/spark-cfacd13f-24e8-44f3-9f53-60fe7394b8d7/userFiles-7c115a81-0f80-44b6-87b1-a06e3c8737ec/fetchFileTemp7779133212307694378.tmp\n",
      "21/09/11 23:51:15 INFO Executor: Adding file:/private/var/folders/pm/y4lv5tyd1rzfr9sx2jzdn2jw0000gn/T/spark-cfacd13f-24e8-44f3-9f53-60fe7394b8d7/userFiles-7c115a81-0f80-44b6-87b1-a06e3c8737ec/kerb-crypto-1.0.1.jar to class loader\n",
      "21/09/11 23:51:15 INFO Executor: Fetching spark://192.168.0.71:63870/jars/fansi_2.12-0.2.9-sources.jar with timestamp 1631429472401\n",
      "21/09/11 23:51:15 INFO Utils: Fetching spark://192.168.0.71:63870/jars/fansi_2.12-0.2.9-sources.jar to /private/var/folders/pm/y4lv5tyd1rzfr9sx2jzdn2jw0000gn/T/spark-cfacd13f-24e8-44f3-9f53-60fe7394b8d7/userFiles-7c115a81-0f80-44b6-87b1-a06e3c8737ec/fetchFileTemp2943843125760615748.tmp\n",
      "21/09/11 23:51:15 INFO Executor: Adding file:/private/var/folders/pm/y4lv5tyd1rzfr9sx2jzdn2jw0000gn/T/spark-cfacd13f-24e8-44f3-9f53-60fe7394b8d7/userFiles-7c115a81-0f80-44b6-87b1-a06e3c8737ec/fansi_2.12-0.2.9-sources.jar to class loader\n",
      "21/09/11 23:51:15 INFO Executor: Fetching spark://192.168.0.71:63870/jars/hadoop-hdfs-client-3.2.0.jar with timestamp 1631429472401\n",
      "21/09/11 23:51:15 INFO Utils: Fetching spark://192.168.0.71:63870/jars/hadoop-hdfs-client-3.2.0.jar to /private/var/folders/pm/y4lv5tyd1rzfr9sx2jzdn2jw0000gn/T/spark-cfacd13f-24e8-44f3-9f53-60fe7394b8d7/userFiles-7c115a81-0f80-44b6-87b1-a06e3c8737ec/fetchFileTemp2753760527887076721.tmp\n",
      "21/09/11 23:51:15 INFO Executor: Adding file:/private/var/folders/pm/y4lv5tyd1rzfr9sx2jzdn2jw0000gn/T/spark-cfacd13f-24e8-44f3-9f53-60fe7394b8d7/userFiles-7c115a81-0f80-44b6-87b1-a06e3c8737ec/hadoop-hdfs-client-3.2.0.jar to class loader\n",
      "21/09/11 23:51:15 INFO Executor: Fetching spark://192.168.0.71:63870/jars/re2j-1.1.jar with timestamp 1631429472401\n",
      "21/09/11 23:51:15 INFO Utils: Fetching spark://192.168.0.71:63870/jars/re2j-1.1.jar to /private/var/folders/pm/y4lv5tyd1rzfr9sx2jzdn2jw0000gn/T/spark-cfacd13f-24e8-44f3-9f53-60fe7394b8d7/userFiles-7c115a81-0f80-44b6-87b1-a06e3c8737ec/fetchFileTemp1254107335629935591.tmp\n",
      "21/09/11 23:51:15 INFO Executor: Adding file:/private/var/folders/pm/y4lv5tyd1rzfr9sx2jzdn2jw0000gn/T/spark-cfacd13f-24e8-44f3-9f53-60fe7394b8d7/userFiles-7c115a81-0f80-44b6-87b1-a06e3c8737ec/re2j-1.1.jar to class loader\n",
      "21/09/11 23:51:15 INFO Executor: Fetching spark://192.168.0.71:63870/jars/flatbuffers-java-1.9.0.jar with timestamp 1631429472401\n",
      "21/09/11 23:51:15 INFO Utils: Fetching spark://192.168.0.71:63870/jars/flatbuffers-java-1.9.0.jar to /private/var/folders/pm/y4lv5tyd1rzfr9sx2jzdn2jw0000gn/T/spark-cfacd13f-24e8-44f3-9f53-60fe7394b8d7/userFiles-7c115a81-0f80-44b6-87b1-a06e3c8737ec/fetchFileTemp6951390453845994342.tmp\n",
      "21/09/11 23:51:15 INFO Executor: Adding file:/private/var/folders/pm/y4lv5tyd1rzfr9sx2jzdn2jw0000gn/T/spark-cfacd13f-24e8-44f3-9f53-60fe7394b8d7/userFiles-7c115a81-0f80-44b6-87b1-a06e3c8737ec/flatbuffers-java-1.9.0.jar to class loader\n",
      "21/09/11 23:51:15 INFO Executor: Fetching spark://192.168.0.71:63870/jars/jline-0.9.94.jar with timestamp 1631429472401\n",
      "21/09/11 23:51:15 INFO Utils: Fetching spark://192.168.0.71:63870/jars/jline-0.9.94.jar to /private/var/folders/pm/y4lv5tyd1rzfr9sx2jzdn2jw0000gn/T/spark-cfacd13f-24e8-44f3-9f53-60fe7394b8d7/userFiles-7c115a81-0f80-44b6-87b1-a06e3c8737ec/fetchFileTemp7919794172365157649.tmp\n",
      "21/09/11 23:51:15 INFO Executor: Adding file:/private/var/folders/pm/y4lv5tyd1rzfr9sx2jzdn2jw0000gn/T/spark-cfacd13f-24e8-44f3-9f53-60fe7394b8d7/userFiles-7c115a81-0f80-44b6-87b1-a06e3c8737ec/jline-0.9.94.jar to class loader\n",
      "21/09/11 23:51:15 INFO Executor: Fetching spark://192.168.0.71:63870/jars/RoaringBitmap-0.9.0.jar with timestamp 1631429472401\n",
      "21/09/11 23:51:15 INFO Utils: Fetching spark://192.168.0.71:63870/jars/RoaringBitmap-0.9.0.jar to /private/var/folders/pm/y4lv5tyd1rzfr9sx2jzdn2jw0000gn/T/spark-cfacd13f-24e8-44f3-9f53-60fe7394b8d7/userFiles-7c115a81-0f80-44b6-87b1-a06e3c8737ec/fetchFileTemp3486700200575883739.tmp\n",
      "21/09/11 23:51:15 INFO Executor: Adding file:/private/var/folders/pm/y4lv5tyd1rzfr9sx2jzdn2jw0000gn/T/spark-cfacd13f-24e8-44f3-9f53-60fe7394b8d7/userFiles-7c115a81-0f80-44b6-87b1-a06e3c8737ec/RoaringBitmap-0.9.0.jar to class loader\n",
      "21/09/11 23:51:15 INFO Executor: Fetching spark://192.168.0.71:63870/jars/spark-kvstore_2.12-3.1.1.jar with timestamp 1631429472401\n",
      "21/09/11 23:51:15 INFO Utils: Fetching spark://192.168.0.71:63870/jars/spark-kvstore_2.12-3.1.1.jar to /private/var/folders/pm/y4lv5tyd1rzfr9sx2jzdn2jw0000gn/T/spark-cfacd13f-24e8-44f3-9f53-60fe7394b8d7/userFiles-7c115a81-0f80-44b6-87b1-a06e3c8737ec/fetchFileTemp4237894571428802613.tmp\n",
      "21/09/11 23:51:15 INFO Executor: Adding file:/private/var/folders/pm/y4lv5tyd1rzfr9sx2jzdn2jw0000gn/T/spark-cfacd13f-24e8-44f3-9f53-60fe7394b8d7/userFiles-7c115a81-0f80-44b6-87b1-a06e3c8737ec/spark-kvstore_2.12-3.1.1.jar to class loader\n",
      "21/09/11 23:51:15 INFO Executor: Fetching spark://192.168.0.71:63870/jars/jersey-container-servlet-2.30.jar with timestamp 1631429472401\n",
      "21/09/11 23:51:15 INFO Utils: Fetching spark://192.168.0.71:63870/jars/jersey-container-servlet-2.30.jar to /private/var/folders/pm/y4lv5tyd1rzfr9sx2jzdn2jw0000gn/T/spark-cfacd13f-24e8-44f3-9f53-60fe7394b8d7/userFiles-7c115a81-0f80-44b6-87b1-a06e3c8737ec/fetchFileTemp5385149698724579336.tmp\n",
      "21/09/11 23:51:15 INFO Executor: Adding file:/private/var/folders/pm/y4lv5tyd1rzfr9sx2jzdn2jw0000gn/T/spark-cfacd13f-24e8-44f3-9f53-60fe7394b8d7/userFiles-7c115a81-0f80-44b6-87b1-a06e3c8737ec/jersey-container-servlet-2.30.jar to class loader\n",
      "21/09/11 23:51:15 INFO Executor: Fetching spark://192.168.0.71:63870/jars/aopalliance-1.0.jar with timestamp 1631429472401\n",
      "21/09/11 23:51:15 INFO Utils: Fetching spark://192.168.0.71:63870/jars/aopalliance-1.0.jar to /private/var/folders/pm/y4lv5tyd1rzfr9sx2jzdn2jw0000gn/T/spark-cfacd13f-24e8-44f3-9f53-60fe7394b8d7/userFiles-7c115a81-0f80-44b6-87b1-a06e3c8737ec/fetchFileTemp3295408300613583533.tmp\n",
      "21/09/11 23:51:15 INFO Executor: Adding file:/private/var/folders/pm/y4lv5tyd1rzfr9sx2jzdn2jw0000gn/T/spark-cfacd13f-24e8-44f3-9f53-60fe7394b8d7/userFiles-7c115a81-0f80-44b6-87b1-a06e3c8737ec/aopalliance-1.0.jar to class loader\n",
      "21/09/11 23:51:15 INFO Executor: Fetching spark://192.168.0.71:63870/jars/univocity-parsers-2.9.1.jar with timestamp 1631429472401\n",
      "21/09/11 23:51:15 INFO Utils: Fetching spark://192.168.0.71:63870/jars/univocity-parsers-2.9.1.jar to /private/var/folders/pm/y4lv5tyd1rzfr9sx2jzdn2jw0000gn/T/spark-cfacd13f-24e8-44f3-9f53-60fe7394b8d7/userFiles-7c115a81-0f80-44b6-87b1-a06e3c8737ec/fetchFileTemp3543618496579517758.tmp\n",
      "21/09/11 23:51:15 INFO Executor: Adding file:/private/var/folders/pm/y4lv5tyd1rzfr9sx2jzdn2jw0000gn/T/spark-cfacd13f-24e8-44f3-9f53-60fe7394b8d7/userFiles-7c115a81-0f80-44b6-87b1-a06e3c8737ec/univocity-parsers-2.9.1.jar to class loader\n",
      "21/09/11 23:51:15 INFO Executor: Fetching spark://192.168.0.71:63870/jars/objenesis-2.5.1.jar with timestamp 1631429472401\n",
      "21/09/11 23:51:15 INFO Utils: Fetching spark://192.168.0.71:63870/jars/objenesis-2.5.1.jar to /private/var/folders/pm/y4lv5tyd1rzfr9sx2jzdn2jw0000gn/T/spark-cfacd13f-24e8-44f3-9f53-60fe7394b8d7/userFiles-7c115a81-0f80-44b6-87b1-a06e3c8737ec/fetchFileTemp4320810598566973638.tmp\n",
      "21/09/11 23:51:15 INFO Executor: Adding file:/private/var/folders/pm/y4lv5tyd1rzfr9sx2jzdn2jw0000gn/T/spark-cfacd13f-24e8-44f3-9f53-60fe7394b8d7/userFiles-7c115a81-0f80-44b6-87b1-a06e3c8737ec/objenesis-2.5.1.jar to class loader\n",
      "21/09/11 23:51:15 INFO Executor: Fetching spark://192.168.0.71:63870/jars/slf4j-api-1.7.30.jar with timestamp 1631429472401\n",
      "21/09/11 23:51:15 INFO Utils: Fetching spark://192.168.0.71:63870/jars/slf4j-api-1.7.30.jar to /private/var/folders/pm/y4lv5tyd1rzfr9sx2jzdn2jw0000gn/T/spark-cfacd13f-24e8-44f3-9f53-60fe7394b8d7/userFiles-7c115a81-0f80-44b6-87b1-a06e3c8737ec/fetchFileTemp7534901739567235211.tmp\n",
      "21/09/11 23:51:15 INFO Executor: Adding file:/private/var/folders/pm/y4lv5tyd1rzfr9sx2jzdn2jw0000gn/T/spark-cfacd13f-24e8-44f3-9f53-60fe7394b8d7/userFiles-7c115a81-0f80-44b6-87b1-a06e3c8737ec/slf4j-api-1.7.30.jar to class loader\n",
      "21/09/11 23:51:15 INFO Executor: Fetching spark://192.168.0.71:63870/jars/jackson-core-2.10.0.jar with timestamp 1631429472401\n",
      "21/09/11 23:51:15 INFO Utils: Fetching spark://192.168.0.71:63870/jars/jackson-core-2.10.0.jar to /private/var/folders/pm/y4lv5tyd1rzfr9sx2jzdn2jw0000gn/T/spark-cfacd13f-24e8-44f3-9f53-60fe7394b8d7/userFiles-7c115a81-0f80-44b6-87b1-a06e3c8737ec/fetchFileTemp9016437097945964666.tmp\n",
      "21/09/11 23:51:15 INFO Executor: Adding file:/private/var/folders/pm/y4lv5tyd1rzfr9sx2jzdn2jw0000gn/T/spark-cfacd13f-24e8-44f3-9f53-60fe7394b8d7/userFiles-7c115a81-0f80-44b6-87b1-a06e3c8737ec/jackson-core-2.10.0.jar to class loader\n",
      "21/09/11 23:51:15 INFO Executor: Fetching spark://192.168.0.71:63870/jars/hadoop-auth-3.2.0.jar with timestamp 1631429472401\n",
      "21/09/11 23:51:15 INFO Utils: Fetching spark://192.168.0.71:63870/jars/hadoop-auth-3.2.0.jar to /private/var/folders/pm/y4lv5tyd1rzfr9sx2jzdn2jw0000gn/T/spark-cfacd13f-24e8-44f3-9f53-60fe7394b8d7/userFiles-7c115a81-0f80-44b6-87b1-a06e3c8737ec/fetchFileTemp7908705817569548795.tmp\n",
      "21/09/11 23:51:15 INFO Executor: Adding file:/private/var/folders/pm/y4lv5tyd1rzfr9sx2jzdn2jw0000gn/T/spark-cfacd13f-24e8-44f3-9f53-60fe7394b8d7/userFiles-7c115a81-0f80-44b6-87b1-a06e3c8737ec/hadoop-auth-3.2.0.jar to class loader\n",
      "21/09/11 23:51:15 INFO Executor: Fetching spark://192.168.0.71:63870/jars/commons-compress-1.8.1.jar with timestamp 1631429472401\n",
      "21/09/11 23:51:15 INFO Utils: Fetching spark://192.168.0.71:63870/jars/commons-compress-1.8.1.jar to /private/var/folders/pm/y4lv5tyd1rzfr9sx2jzdn2jw0000gn/T/spark-cfacd13f-24e8-44f3-9f53-60fe7394b8d7/userFiles-7c115a81-0f80-44b6-87b1-a06e3c8737ec/fetchFileTemp3744097455538324690.tmp\n",
      "21/09/11 23:51:15 INFO Executor: Adding file:/private/var/folders/pm/y4lv5tyd1rzfr9sx2jzdn2jw0000gn/T/spark-cfacd13f-24e8-44f3-9f53-60fe7394b8d7/userFiles-7c115a81-0f80-44b6-87b1-a06e3c8737ec/commons-compress-1.8.1.jar to class loader\n",
      "21/09/11 23:51:15 INFO Executor: Fetching spark://192.168.0.71:63870/jars/audience-annotations-0.5.0.jar with timestamp 1631429472401\n",
      "21/09/11 23:51:15 INFO Utils: Fetching spark://192.168.0.71:63870/jars/audience-annotations-0.5.0.jar to /private/var/folders/pm/y4lv5tyd1rzfr9sx2jzdn2jw0000gn/T/spark-cfacd13f-24e8-44f3-9f53-60fe7394b8d7/userFiles-7c115a81-0f80-44b6-87b1-a06e3c8737ec/fetchFileTemp340018648839954368.tmp\n",
      "21/09/11 23:51:15 INFO Executor: Adding file:/private/var/folders/pm/y4lv5tyd1rzfr9sx2jzdn2jw0000gn/T/spark-cfacd13f-24e8-44f3-9f53-60fe7394b8d7/userFiles-7c115a81-0f80-44b6-87b1-a06e3c8737ec/audience-annotations-0.5.0.jar to class loader\n",
      "21/09/11 23:51:15 INFO Executor: Fetching spark://192.168.0.71:63870/jars/interface-1.0.3-sources.jar with timestamp 1631429472401\n",
      "21/09/11 23:51:15 INFO Utils: Fetching spark://192.168.0.71:63870/jars/interface-1.0.3-sources.jar to /private/var/folders/pm/y4lv5tyd1rzfr9sx2jzdn2jw0000gn/T/spark-cfacd13f-24e8-44f3-9f53-60fe7394b8d7/userFiles-7c115a81-0f80-44b6-87b1-a06e3c8737ec/fetchFileTemp8961502858921811011.tmp\n",
      "21/09/11 23:51:15 INFO Executor: Adding file:/private/var/folders/pm/y4lv5tyd1rzfr9sx2jzdn2jw0000gn/T/spark-cfacd13f-24e8-44f3-9f53-60fe7394b8d7/userFiles-7c115a81-0f80-44b6-87b1-a06e3c8737ec/interface-1.0.3-sources.jar to class loader\n",
      "21/09/11 23:51:15 INFO Executor: Fetching spark://192.168.0.71:63870/jars/metrics-jvm-4.1.1.jar with timestamp 1631429472401\n",
      "21/09/11 23:51:15 INFO Utils: Fetching spark://192.168.0.71:63870/jars/metrics-jvm-4.1.1.jar to /private/var/folders/pm/y4lv5tyd1rzfr9sx2jzdn2jw0000gn/T/spark-cfacd13f-24e8-44f3-9f53-60fe7394b8d7/userFiles-7c115a81-0f80-44b6-87b1-a06e3c8737ec/fetchFileTemp5686441482856777620.tmp\n",
      "21/09/11 23:51:15 INFO Executor: Adding file:/private/var/folders/pm/y4lv5tyd1rzfr9sx2jzdn2jw0000gn/T/spark-cfacd13f-24e8-44f3-9f53-60fe7394b8d7/userFiles-7c115a81-0f80-44b6-87b1-a06e3c8737ec/metrics-jvm-4.1.1.jar to class loader\n",
      "21/09/11 23:51:15 INFO Executor: Fetching spark://192.168.0.71:63870/jars/netty-all-4.1.51.Final.jar with timestamp 1631429472401\n",
      "21/09/11 23:51:15 INFO Utils: Fetching spark://192.168.0.71:63870/jars/netty-all-4.1.51.Final.jar to /private/var/folders/pm/y4lv5tyd1rzfr9sx2jzdn2jw0000gn/T/spark-cfacd13f-24e8-44f3-9f53-60fe7394b8d7/userFiles-7c115a81-0f80-44b6-87b1-a06e3c8737ec/fetchFileTemp7614538493731612980.tmp\n",
      "21/09/11 23:51:15 INFO Executor: Adding file:/private/var/folders/pm/y4lv5tyd1rzfr9sx2jzdn2jw0000gn/T/spark-cfacd13f-24e8-44f3-9f53-60fe7394b8d7/userFiles-7c115a81-0f80-44b6-87b1-a06e3c8737ec/netty-all-4.1.51.Final.jar to class loader\n",
      "21/09/11 23:51:15 INFO Executor: Fetching spark://192.168.0.71:63870/jars/spark-catalyst_2.12-3.1.1.jar with timestamp 1631429472401\n",
      "21/09/11 23:51:15 INFO Utils: Fetching spark://192.168.0.71:63870/jars/spark-catalyst_2.12-3.1.1.jar to /private/var/folders/pm/y4lv5tyd1rzfr9sx2jzdn2jw0000gn/T/spark-cfacd13f-24e8-44f3-9f53-60fe7394b8d7/userFiles-7c115a81-0f80-44b6-87b1-a06e3c8737ec/fetchFileTemp4978227162171185139.tmp\n",
      "21/09/11 23:51:15 INFO Executor: Adding file:/private/var/folders/pm/y4lv5tyd1rzfr9sx2jzdn2jw0000gn/T/spark-cfacd13f-24e8-44f3-9f53-60fe7394b8d7/userFiles-7c115a81-0f80-44b6-87b1-a06e3c8737ec/spark-catalyst_2.12-3.1.1.jar to class loader\n",
      "21/09/11 23:51:15 INFO Executor: Fetching spark://192.168.0.71:63870/jars/sourcecode_2.12-0.2.3.jar with timestamp 1631429472401\n",
      "21/09/11 23:51:15 INFO Utils: Fetching spark://192.168.0.71:63870/jars/sourcecode_2.12-0.2.3.jar to /private/var/folders/pm/y4lv5tyd1rzfr9sx2jzdn2jw0000gn/T/spark-cfacd13f-24e8-44f3-9f53-60fe7394b8d7/userFiles-7c115a81-0f80-44b6-87b1-a06e3c8737ec/fetchFileTemp661706690136894402.tmp\n",
      "21/09/11 23:51:15 INFO Executor: Adding file:/private/var/folders/pm/y4lv5tyd1rzfr9sx2jzdn2jw0000gn/T/spark-cfacd13f-24e8-44f3-9f53-60fe7394b8d7/userFiles-7c115a81-0f80-44b6-87b1-a06e3c8737ec/sourcecode_2.12-0.2.3.jar to class loader\n",
      "21/09/11 23:51:15 INFO Executor: Fetching spark://192.168.0.71:63870/jars/jakarta.ws.rs-api-2.1.6.jar with timestamp 1631429472401\n",
      "21/09/11 23:51:15 INFO Utils: Fetching spark://192.168.0.71:63870/jars/jakarta.ws.rs-api-2.1.6.jar to /private/var/folders/pm/y4lv5tyd1rzfr9sx2jzdn2jw0000gn/T/spark-cfacd13f-24e8-44f3-9f53-60fe7394b8d7/userFiles-7c115a81-0f80-44b6-87b1-a06e3c8737ec/fetchFileTemp6070374821099761486.tmp\n",
      "21/09/11 23:51:15 INFO Executor: Adding file:/private/var/folders/pm/y4lv5tyd1rzfr9sx2jzdn2jw0000gn/T/spark-cfacd13f-24e8-44f3-9f53-60fe7394b8d7/userFiles-7c115a81-0f80-44b6-87b1-a06e3c8737ec/jakarta.ws.rs-api-2.1.6.jar to class loader\n",
      "21/09/11 23:51:15 INFO Executor: Fetching spark://192.168.0.71:63870/jars/parquet-encoding-1.10.1.jar with timestamp 1631429472401\n",
      "21/09/11 23:51:15 INFO Utils: Fetching spark://192.168.0.71:63870/jars/parquet-encoding-1.10.1.jar to /private/var/folders/pm/y4lv5tyd1rzfr9sx2jzdn2jw0000gn/T/spark-cfacd13f-24e8-44f3-9f53-60fe7394b8d7/userFiles-7c115a81-0f80-44b6-87b1-a06e3c8737ec/fetchFileTemp7389054094757551713.tmp\n",
      "21/09/11 23:51:15 INFO Executor: Adding file:/private/var/folders/pm/y4lv5tyd1rzfr9sx2jzdn2jw0000gn/T/spark-cfacd13f-24e8-44f3-9f53-60fe7394b8d7/userFiles-7c115a81-0f80-44b6-87b1-a06e3c8737ec/parquet-encoding-1.10.1.jar to class loader\n",
      "21/09/11 23:51:15 INFO Executor: Fetching spark://192.168.0.71:63870/jars/stream-2.9.6.jar with timestamp 1631429472401\n",
      "21/09/11 23:51:15 INFO Utils: Fetching spark://192.168.0.71:63870/jars/stream-2.9.6.jar to /private/var/folders/pm/y4lv5tyd1rzfr9sx2jzdn2jw0000gn/T/spark-cfacd13f-24e8-44f3-9f53-60fe7394b8d7/userFiles-7c115a81-0f80-44b6-87b1-a06e3c8737ec/fetchFileTemp1541326264650620304.tmp\n",
      "21/09/11 23:51:15 INFO Executor: Adding file:/private/var/folders/pm/y4lv5tyd1rzfr9sx2jzdn2jw0000gn/T/spark-cfacd13f-24e8-44f3-9f53-60fe7394b8d7/userFiles-7c115a81-0f80-44b6-87b1-a06e3c8737ec/stream-2.9.6.jar to class loader\n",
      "21/09/11 23:51:15 INFO Executor: Fetching spark://192.168.0.71:63870/jars/stax2-api-3.1.4.jar with timestamp 1631429472401\n",
      "21/09/11 23:51:15 INFO Utils: Fetching spark://192.168.0.71:63870/jars/stax2-api-3.1.4.jar to /private/var/folders/pm/y4lv5tyd1rzfr9sx2jzdn2jw0000gn/T/spark-cfacd13f-24e8-44f3-9f53-60fe7394b8d7/userFiles-7c115a81-0f80-44b6-87b1-a06e3c8737ec/fetchFileTemp6620570282423854180.tmp\n",
      "21/09/11 23:51:15 INFO Executor: Adding file:/private/var/folders/pm/y4lv5tyd1rzfr9sx2jzdn2jw0000gn/T/spark-cfacd13f-24e8-44f3-9f53-60fe7394b8d7/userFiles-7c115a81-0f80-44b6-87b1-a06e3c8737ec/stax2-api-3.1.4.jar to class loader\n",
      "21/09/11 23:51:15 INFO Executor: Fetching spark://192.168.0.71:63870/jars/kerby-config-1.0.1.jar with timestamp 1631429472401\n",
      "21/09/11 23:51:15 INFO Utils: Fetching spark://192.168.0.71:63870/jars/kerby-config-1.0.1.jar to /private/var/folders/pm/y4lv5tyd1rzfr9sx2jzdn2jw0000gn/T/spark-cfacd13f-24e8-44f3-9f53-60fe7394b8d7/userFiles-7c115a81-0f80-44b6-87b1-a06e3c8737ec/fetchFileTemp1465779952315901604.tmp\n",
      "21/09/11 23:51:15 INFO Executor: Adding file:/private/var/folders/pm/y4lv5tyd1rzfr9sx2jzdn2jw0000gn/T/spark-cfacd13f-24e8-44f3-9f53-60fe7394b8d7/userFiles-7c115a81-0f80-44b6-87b1-a06e3c8737ec/kerby-config-1.0.1.jar to class loader\n",
      "21/09/11 23:51:15 INFO Executor: Fetching spark://192.168.0.71:63870/jars/orc-shims-1.5.12.jar with timestamp 1631429472401\n",
      "21/09/11 23:51:15 INFO Utils: Fetching spark://192.168.0.71:63870/jars/orc-shims-1.5.12.jar to /private/var/folders/pm/y4lv5tyd1rzfr9sx2jzdn2jw0000gn/T/spark-cfacd13f-24e8-44f3-9f53-60fe7394b8d7/userFiles-7c115a81-0f80-44b6-87b1-a06e3c8737ec/fetchFileTemp3797260826473745149.tmp\n",
      "21/09/11 23:51:15 INFO Executor: Adding file:/private/var/folders/pm/y4lv5tyd1rzfr9sx2jzdn2jw0000gn/T/spark-cfacd13f-24e8-44f3-9f53-60fe7394b8d7/userFiles-7c115a81-0f80-44b6-87b1-a06e3c8737ec/orc-shims-1.5.12.jar to class loader\n",
      "21/09/11 23:51:15 INFO Executor: Fetching spark://192.168.0.71:63870/jars/javassist-3.21.0-GA.jar with timestamp 1631429472401\n",
      "21/09/11 23:51:15 INFO Utils: Fetching spark://192.168.0.71:63870/jars/javassist-3.21.0-GA.jar to /private/var/folders/pm/y4lv5tyd1rzfr9sx2jzdn2jw0000gn/T/spark-cfacd13f-24e8-44f3-9f53-60fe7394b8d7/userFiles-7c115a81-0f80-44b6-87b1-a06e3c8737ec/fetchFileTemp3745874222274765304.tmp\n",
      "21/09/11 23:51:15 INFO Executor: Adding file:/private/var/folders/pm/y4lv5tyd1rzfr9sx2jzdn2jw0000gn/T/spark-cfacd13f-24e8-44f3-9f53-60fe7394b8d7/userFiles-7c115a81-0f80-44b6-87b1-a06e3c8737ec/javassist-3.21.0-GA.jar to class loader\n",
      "21/09/11 23:51:15 INFO Executor: Fetching spark://192.168.0.71:63870/jars/hk2-utils-2.6.1.jar with timestamp 1631429472401\n",
      "21/09/11 23:51:15 INFO Utils: Fetching spark://192.168.0.71:63870/jars/hk2-utils-2.6.1.jar to /private/var/folders/pm/y4lv5tyd1rzfr9sx2jzdn2jw0000gn/T/spark-cfacd13f-24e8-44f3-9f53-60fe7394b8d7/userFiles-7c115a81-0f80-44b6-87b1-a06e3c8737ec/fetchFileTemp5134412804785799553.tmp\n",
      "21/09/11 23:51:15 INFO Executor: Adding file:/private/var/folders/pm/y4lv5tyd1rzfr9sx2jzdn2jw0000gn/T/spark-cfacd13f-24e8-44f3-9f53-60fe7394b8d7/userFiles-7c115a81-0f80-44b6-87b1-a06e3c8737ec/hk2-utils-2.6.1.jar to class loader\n",
      "21/09/11 23:51:15 INFO Executor: Fetching spark://192.168.0.71:63870/jars/scala-kernel-api_2.12.11-0.11.1-sources.jar with timestamp 1631429472401\n",
      "21/09/11 23:51:15 INFO Utils: Fetching spark://192.168.0.71:63870/jars/scala-kernel-api_2.12.11-0.11.1-sources.jar to /private/var/folders/pm/y4lv5tyd1rzfr9sx2jzdn2jw0000gn/T/spark-cfacd13f-24e8-44f3-9f53-60fe7394b8d7/userFiles-7c115a81-0f80-44b6-87b1-a06e3c8737ec/fetchFileTemp6827752804680206742.tmp\n",
      "21/09/11 23:51:15 INFO Executor: Adding file:/private/var/folders/pm/y4lv5tyd1rzfr9sx2jzdn2jw0000gn/T/spark-cfacd13f-24e8-44f3-9f53-60fe7394b8d7/userFiles-7c115a81-0f80-44b6-87b1-a06e3c8737ec/scala-kernel-api_2.12.11-0.11.1-sources.jar to class loader\n",
      "21/09/11 23:51:15 INFO Executor: Fetching spark://192.168.0.71:63870/jars/hadoop-yarn-api-3.2.0.jar with timestamp 1631429472401\n",
      "21/09/11 23:51:15 INFO Utils: Fetching spark://192.168.0.71:63870/jars/hadoop-yarn-api-3.2.0.jar to /private/var/folders/pm/y4lv5tyd1rzfr9sx2jzdn2jw0000gn/T/spark-cfacd13f-24e8-44f3-9f53-60fe7394b8d7/userFiles-7c115a81-0f80-44b6-87b1-a06e3c8737ec/fetchFileTemp144219136597286246.tmp\n",
      "21/09/11 23:51:15 INFO Executor: Adding file:/private/var/folders/pm/y4lv5tyd1rzfr9sx2jzdn2jw0000gn/T/spark-cfacd13f-24e8-44f3-9f53-60fe7394b8d7/userFiles-7c115a81-0f80-44b6-87b1-a06e3c8737ec/hadoop-yarn-api-3.2.0.jar to class loader\n",
      "21/09/11 23:51:15 INFO Executor: Fetching spark://192.168.0.71:63870/jars/commons-math3-3.4.1.jar with timestamp 1631429472401\n",
      "21/09/11 23:51:15 INFO Utils: Fetching spark://192.168.0.71:63870/jars/commons-math3-3.4.1.jar to /private/var/folders/pm/y4lv5tyd1rzfr9sx2jzdn2jw0000gn/T/spark-cfacd13f-24e8-44f3-9f53-60fe7394b8d7/userFiles-7c115a81-0f80-44b6-87b1-a06e3c8737ec/fetchFileTemp7097892175349275395.tmp\n",
      "21/09/11 23:51:15 INFO Executor: Adding file:/private/var/folders/pm/y4lv5tyd1rzfr9sx2jzdn2jw0000gn/T/spark-cfacd13f-24e8-44f3-9f53-60fe7394b8d7/userFiles-7c115a81-0f80-44b6-87b1-a06e3c8737ec/commons-math3-3.4.1.jar to class loader\n",
      "21/09/11 23:51:15 INFO Executor: Fetching spark://192.168.0.71:63870/jars/ammonite-compiler-interface_2.12-2.3.8-36-1cce53f3.jar with timestamp 1631429472401\n",
      "21/09/11 23:51:15 INFO Utils: Fetching spark://192.168.0.71:63870/jars/ammonite-compiler-interface_2.12-2.3.8-36-1cce53f3.jar to /private/var/folders/pm/y4lv5tyd1rzfr9sx2jzdn2jw0000gn/T/spark-cfacd13f-24e8-44f3-9f53-60fe7394b8d7/userFiles-7c115a81-0f80-44b6-87b1-a06e3c8737ec/fetchFileTemp7352281477531010983.tmp\n",
      "21/09/11 23:51:15 INFO Executor: Adding file:/private/var/folders/pm/y4lv5tyd1rzfr9sx2jzdn2jw0000gn/T/spark-cfacd13f-24e8-44f3-9f53-60fe7394b8d7/userFiles-7c115a81-0f80-44b6-87b1-a06e3c8737ec/ammonite-compiler-interface_2.12-2.3.8-36-1cce53f3.jar to class loader\n",
      "21/09/11 23:51:15 INFO Executor: Fetching spark://192.168.0.71:63870/jars/token-provider-1.0.1.jar with timestamp 1631429472401\n",
      "21/09/11 23:51:15 INFO Utils: Fetching spark://192.168.0.71:63870/jars/token-provider-1.0.1.jar to /private/var/folders/pm/y4lv5tyd1rzfr9sx2jzdn2jw0000gn/T/spark-cfacd13f-24e8-44f3-9f53-60fe7394b8d7/userFiles-7c115a81-0f80-44b6-87b1-a06e3c8737ec/fetchFileTemp6775349767175138318.tmp\n",
      "21/09/11 23:51:15 INFO Executor: Adding file:/private/var/folders/pm/y4lv5tyd1rzfr9sx2jzdn2jw0000gn/T/spark-cfacd13f-24e8-44f3-9f53-60fe7394b8d7/userFiles-7c115a81-0f80-44b6-87b1-a06e3c8737ec/token-provider-1.0.1.jar to class loader\n",
      "21/09/11 23:51:15 INFO Executor: Fetching spark://192.168.0.71:63870/jars/pprint_2.12-0.6.0.jar with timestamp 1631429472401\n",
      "21/09/11 23:51:15 INFO Utils: Fetching spark://192.168.0.71:63870/jars/pprint_2.12-0.6.0.jar to /private/var/folders/pm/y4lv5tyd1rzfr9sx2jzdn2jw0000gn/T/spark-cfacd13f-24e8-44f3-9f53-60fe7394b8d7/userFiles-7c115a81-0f80-44b6-87b1-a06e3c8737ec/fetchFileTemp1653635885618547466.tmp\n",
      "21/09/11 23:51:15 INFO Executor: Adding file:/private/var/folders/pm/y4lv5tyd1rzfr9sx2jzdn2jw0000gn/T/spark-cfacd13f-24e8-44f3-9f53-60fe7394b8d7/userFiles-7c115a81-0f80-44b6-87b1-a06e3c8737ec/pprint_2.12-0.6.0.jar to class loader\n",
      "21/09/11 23:51:15 INFO Executor: Fetching spark://192.168.0.71:63870/jars/guava-16.0.1.jar with timestamp 1631429472401\n",
      "21/09/11 23:51:15 INFO Utils: Fetching spark://192.168.0.71:63870/jars/guava-16.0.1.jar to /private/var/folders/pm/y4lv5tyd1rzfr9sx2jzdn2jw0000gn/T/spark-cfacd13f-24e8-44f3-9f53-60fe7394b8d7/userFiles-7c115a81-0f80-44b6-87b1-a06e3c8737ec/fetchFileTemp382704825213628379.tmp\n",
      "21/09/11 23:51:15 INFO Executor: Adding file:/private/var/folders/pm/y4lv5tyd1rzfr9sx2jzdn2jw0000gn/T/spark-cfacd13f-24e8-44f3-9f53-60fe7394b8d7/userFiles-7c115a81-0f80-44b6-87b1-a06e3c8737ec/guava-16.0.1.jar to class loader\n",
      "21/09/11 23:51:15 INFO Executor: Fetching spark://192.168.0.71:63870/jars/osgi-resource-locator-1.0.3.jar with timestamp 1631429472401\n",
      "21/09/11 23:51:15 INFO Utils: Fetching spark://192.168.0.71:63870/jars/osgi-resource-locator-1.0.3.jar to /private/var/folders/pm/y4lv5tyd1rzfr9sx2jzdn2jw0000gn/T/spark-cfacd13f-24e8-44f3-9f53-60fe7394b8d7/userFiles-7c115a81-0f80-44b6-87b1-a06e3c8737ec/fetchFileTemp6613367297772281555.tmp\n",
      "21/09/11 23:51:15 INFO Executor: Adding file:/private/var/folders/pm/y4lv5tyd1rzfr9sx2jzdn2jw0000gn/T/spark-cfacd13f-24e8-44f3-9f53-60fe7394b8d7/userFiles-7c115a81-0f80-44b6-87b1-a06e3c8737ec/osgi-resource-locator-1.0.3.jar to class loader\n",
      "21/09/11 23:51:15 INFO Executor: Fetching spark://192.168.0.71:63870/jars/commons-collections-3.2.2.jar with timestamp 1631429472401\n",
      "21/09/11 23:51:15 INFO Utils: Fetching spark://192.168.0.71:63870/jars/commons-collections-3.2.2.jar to /private/var/folders/pm/y4lv5tyd1rzfr9sx2jzdn2jw0000gn/T/spark-cfacd13f-24e8-44f3-9f53-60fe7394b8d7/userFiles-7c115a81-0f80-44b6-87b1-a06e3c8737ec/fetchFileTemp5505372418218238336.tmp\n",
      "21/09/11 23:51:15 INFO Executor: Adding file:/private/var/folders/pm/y4lv5tyd1rzfr9sx2jzdn2jw0000gn/T/spark-cfacd13f-24e8-44f3-9f53-60fe7394b8d7/userFiles-7c115a81-0f80-44b6-87b1-a06e3c8737ec/commons-collections-3.2.2.jar to class loader\n",
      "21/09/11 23:51:15 INFO Executor: Fetching spark://192.168.0.71:63870/jars/httpclient-4.5.2.jar with timestamp 1631429472401\n",
      "21/09/11 23:51:15 INFO Utils: Fetching spark://192.168.0.71:63870/jars/httpclient-4.5.2.jar to /private/var/folders/pm/y4lv5tyd1rzfr9sx2jzdn2jw0000gn/T/spark-cfacd13f-24e8-44f3-9f53-60fe7394b8d7/userFiles-7c115a81-0f80-44b6-87b1-a06e3c8737ec/fetchFileTemp866882404037445095.tmp\n",
      "21/09/11 23:51:15 INFO Executor: Adding file:/private/var/folders/pm/y4lv5tyd1rzfr9sx2jzdn2jw0000gn/T/spark-cfacd13f-24e8-44f3-9f53-60fe7394b8d7/userFiles-7c115a81-0f80-44b6-87b1-a06e3c8737ec/httpclient-4.5.2.jar to class loader\n",
      "21/09/11 23:51:15 INFO Executor: Fetching spark://192.168.0.71:63870/jars/scalaparse_2.12-2.3.0.jar with timestamp 1631429472401\n",
      "21/09/11 23:51:15 INFO Utils: Fetching spark://192.168.0.71:63870/jars/scalaparse_2.12-2.3.0.jar to /private/var/folders/pm/y4lv5tyd1rzfr9sx2jzdn2jw0000gn/T/spark-cfacd13f-24e8-44f3-9f53-60fe7394b8d7/userFiles-7c115a81-0f80-44b6-87b1-a06e3c8737ec/fetchFileTemp2513681221769830389.tmp\n",
      "21/09/11 23:51:16 INFO Executor: Adding file:/private/var/folders/pm/y4lv5tyd1rzfr9sx2jzdn2jw0000gn/T/spark-cfacd13f-24e8-44f3-9f53-60fe7394b8d7/userFiles-7c115a81-0f80-44b6-87b1-a06e3c8737ec/scalaparse_2.12-2.3.0.jar to class loader\n",
      "21/09/11 23:51:16 INFO Executor: Fetching spark://192.168.0.71:63870/jars/parquet-hadoop-1.10.1.jar with timestamp 1631429472401\n",
      "21/09/11 23:51:16 INFO Utils: Fetching spark://192.168.0.71:63870/jars/parquet-hadoop-1.10.1.jar to /private/var/folders/pm/y4lv5tyd1rzfr9sx2jzdn2jw0000gn/T/spark-cfacd13f-24e8-44f3-9f53-60fe7394b8d7/userFiles-7c115a81-0f80-44b6-87b1-a06e3c8737ec/fetchFileTemp2819931226250122584.tmp\n",
      "21/09/11 23:51:16 INFO Executor: Adding file:/private/var/folders/pm/y4lv5tyd1rzfr9sx2jzdn2jw0000gn/T/spark-cfacd13f-24e8-44f3-9f53-60fe7394b8d7/userFiles-7c115a81-0f80-44b6-87b1-a06e3c8737ec/parquet-hadoop-1.10.1.jar to class loader\n",
      "21/09/11 23:51:16 INFO Executor: Fetching spark://192.168.0.71:63870/jars/dnsjava-2.1.7.jar with timestamp 1631429472401\n",
      "21/09/11 23:51:16 INFO Utils: Fetching spark://192.168.0.71:63870/jars/dnsjava-2.1.7.jar to /private/var/folders/pm/y4lv5tyd1rzfr9sx2jzdn2jw0000gn/T/spark-cfacd13f-24e8-44f3-9f53-60fe7394b8d7/userFiles-7c115a81-0f80-44b6-87b1-a06e3c8737ec/fetchFileTemp8421901958688513368.tmp\n",
      "21/09/11 23:51:16 INFO Executor: Adding file:/private/var/folders/pm/y4lv5tyd1rzfr9sx2jzdn2jw0000gn/T/spark-cfacd13f-24e8-44f3-9f53-60fe7394b8d7/userFiles-7c115a81-0f80-44b6-87b1-a06e3c8737ec/dnsjava-2.1.7.jar to class loader\n",
      "21/09/11 23:51:16 INFO Executor: Fetching spark://192.168.0.71:63870/jars/hk2-locator-2.6.1.jar with timestamp 1631429472401\n",
      "21/09/11 23:51:16 INFO Utils: Fetching spark://192.168.0.71:63870/jars/hk2-locator-2.6.1.jar to /private/var/folders/pm/y4lv5tyd1rzfr9sx2jzdn2jw0000gn/T/spark-cfacd13f-24e8-44f3-9f53-60fe7394b8d7/userFiles-7c115a81-0f80-44b6-87b1-a06e3c8737ec/fetchFileTemp6174092295804152239.tmp\n",
      "21/09/11 23:51:16 INFO Executor: Adding file:/private/var/folders/pm/y4lv5tyd1rzfr9sx2jzdn2jw0000gn/T/spark-cfacd13f-24e8-44f3-9f53-60fe7394b8d7/userFiles-7c115a81-0f80-44b6-87b1-a06e3c8737ec/hk2-locator-2.6.1.jar to class loader\n",
      "21/09/11 23:51:16 INFO Executor: Fetching spark://192.168.0.71:63870/jars/jersey-hk2-2.30.jar with timestamp 1631429472401\n",
      "21/09/11 23:51:16 INFO Utils: Fetching spark://192.168.0.71:63870/jars/jersey-hk2-2.30.jar to /private/var/folders/pm/y4lv5tyd1rzfr9sx2jzdn2jw0000gn/T/spark-cfacd13f-24e8-44f3-9f53-60fe7394b8d7/userFiles-7c115a81-0f80-44b6-87b1-a06e3c8737ec/fetchFileTemp7661268412223335755.tmp\n",
      "21/09/11 23:51:16 INFO Executor: Adding file:/private/var/folders/pm/y4lv5tyd1rzfr9sx2jzdn2jw0000gn/T/spark-cfacd13f-24e8-44f3-9f53-60fe7394b8d7/userFiles-7c115a81-0f80-44b6-87b1-a06e3c8737ec/jersey-hk2-2.30.jar to class loader\n",
      "21/09/11 23:51:16 INFO Executor: Fetching spark://192.168.0.71:63870/jars/ammonite-compiler-interface_2.12-2.3.8-36-1cce53f3-sources.jar with timestamp 1631429472401\n",
      "21/09/11 23:51:16 INFO Utils: Fetching spark://192.168.0.71:63870/jars/ammonite-compiler-interface_2.12-2.3.8-36-1cce53f3-sources.jar to /private/var/folders/pm/y4lv5tyd1rzfr9sx2jzdn2jw0000gn/T/spark-cfacd13f-24e8-44f3-9f53-60fe7394b8d7/userFiles-7c115a81-0f80-44b6-87b1-a06e3c8737ec/fetchFileTemp6370417583435741681.tmp\n",
      "21/09/11 23:51:16 INFO Executor: Adding file:/private/var/folders/pm/y4lv5tyd1rzfr9sx2jzdn2jw0000gn/T/spark-cfacd13f-24e8-44f3-9f53-60fe7394b8d7/userFiles-7c115a81-0f80-44b6-87b1-a06e3c8737ec/ammonite-compiler-interface_2.12-2.3.8-36-1cce53f3-sources.jar to class loader\n",
      "21/09/11 23:51:16 INFO Executor: Fetching spark://192.168.0.71:63870/jars/kerby-pkix-1.0.1.jar with timestamp 1631429472401\n",
      "21/09/11 23:51:16 INFO Utils: Fetching spark://192.168.0.71:63870/jars/kerby-pkix-1.0.1.jar to /private/var/folders/pm/y4lv5tyd1rzfr9sx2jzdn2jw0000gn/T/spark-cfacd13f-24e8-44f3-9f53-60fe7394b8d7/userFiles-7c115a81-0f80-44b6-87b1-a06e3c8737ec/fetchFileTemp1614178989980895485.tmp\n",
      "21/09/11 23:51:16 INFO Executor: Adding file:/private/var/folders/pm/y4lv5tyd1rzfr9sx2jzdn2jw0000gn/T/spark-cfacd13f-24e8-44f3-9f53-60fe7394b8d7/userFiles-7c115a81-0f80-44b6-87b1-a06e3c8737ec/kerby-pkix-1.0.1.jar to class loader\n",
      "21/09/11 23:51:16 INFO Executor: Fetching spark://192.168.0.71:63870/jars/jackson-module-scala_2.12-2.10.0.jar with timestamp 1631429472401\n",
      "21/09/11 23:51:16 INFO Utils: Fetching spark://192.168.0.71:63870/jars/jackson-module-scala_2.12-2.10.0.jar to /private/var/folders/pm/y4lv5tyd1rzfr9sx2jzdn2jw0000gn/T/spark-cfacd13f-24e8-44f3-9f53-60fe7394b8d7/userFiles-7c115a81-0f80-44b6-87b1-a06e3c8737ec/fetchFileTemp3522145061194519691.tmp\n",
      "21/09/11 23:51:16 INFO Executor: Adding file:/private/var/folders/pm/y4lv5tyd1rzfr9sx2jzdn2jw0000gn/T/spark-cfacd13f-24e8-44f3-9f53-60fe7394b8d7/userFiles-7c115a81-0f80-44b6-87b1-a06e3c8737ec/jackson-module-scala_2.12-2.10.0.jar to class loader\n",
      "21/09/11 23:51:16 INFO Executor: Fetching spark://192.168.0.71:63870/jars/paranamer-2.8.jar with timestamp 1631429472401\n",
      "21/09/11 23:51:16 INFO Utils: Fetching spark://192.168.0.71:63870/jars/paranamer-2.8.jar to /private/var/folders/pm/y4lv5tyd1rzfr9sx2jzdn2jw0000gn/T/spark-cfacd13f-24e8-44f3-9f53-60fe7394b8d7/userFiles-7c115a81-0f80-44b6-87b1-a06e3c8737ec/fetchFileTemp4199337151615806585.tmp\n",
      "21/09/11 23:51:16 INFO Executor: Adding file:/private/var/folders/pm/y4lv5tyd1rzfr9sx2jzdn2jw0000gn/T/spark-cfacd13f-24e8-44f3-9f53-60fe7394b8d7/userFiles-7c115a81-0f80-44b6-87b1-a06e3c8737ec/paranamer-2.8.jar to class loader\n",
      "21/09/11 23:51:16 INFO Executor: Fetching spark://192.168.0.71:63870/jars/commons-configuration2-2.1.1.jar with timestamp 1631429472401\n",
      "21/09/11 23:51:16 INFO Utils: Fetching spark://192.168.0.71:63870/jars/commons-configuration2-2.1.1.jar to /private/var/folders/pm/y4lv5tyd1rzfr9sx2jzdn2jw0000gn/T/spark-cfacd13f-24e8-44f3-9f53-60fe7394b8d7/userFiles-7c115a81-0f80-44b6-87b1-a06e3c8737ec/fetchFileTemp7082749392598045256.tmp\n",
      "21/09/11 23:51:16 INFO Executor: Adding file:/private/var/folders/pm/y4lv5tyd1rzfr9sx2jzdn2jw0000gn/T/spark-cfacd13f-24e8-44f3-9f53-60fe7394b8d7/userFiles-7c115a81-0f80-44b6-87b1-a06e3c8737ec/commons-configuration2-2.1.1.jar to class loader\n",
      "21/09/11 23:51:16 INFO Executor: Fetching spark://192.168.0.71:63870/jars/mainargs_2.12-0.1.4-sources.jar with timestamp 1631429472401\n",
      "21/09/11 23:51:16 INFO Utils: Fetching spark://192.168.0.71:63870/jars/mainargs_2.12-0.1.4-sources.jar to /private/var/folders/pm/y4lv5tyd1rzfr9sx2jzdn2jw0000gn/T/spark-cfacd13f-24e8-44f3-9f53-60fe7394b8d7/userFiles-7c115a81-0f80-44b6-87b1-a06e3c8737ec/fetchFileTemp8587644286996801318.tmp\n",
      "21/09/11 23:51:16 INFO Executor: Adding file:/private/var/folders/pm/y4lv5tyd1rzfr9sx2jzdn2jw0000gn/T/spark-cfacd13f-24e8-44f3-9f53-60fe7394b8d7/userFiles-7c115a81-0f80-44b6-87b1-a06e3c8737ec/mainargs_2.12-0.1.4-sources.jar to class loader\n",
      "21/09/11 23:51:16 INFO Executor: Fetching spark://192.168.0.71:63870/jars/chill-java-0.9.5.jar with timestamp 1631429472401\n",
      "21/09/11 23:51:16 INFO Utils: Fetching spark://192.168.0.71:63870/jars/chill-java-0.9.5.jar to /private/var/folders/pm/y4lv5tyd1rzfr9sx2jzdn2jw0000gn/T/spark-cfacd13f-24e8-44f3-9f53-60fe7394b8d7/userFiles-7c115a81-0f80-44b6-87b1-a06e3c8737ec/fetchFileTemp2193429688082539095.tmp\n",
      "21/09/11 23:51:16 INFO Executor: Adding file:/private/var/folders/pm/y4lv5tyd1rzfr9sx2jzdn2jw0000gn/T/spark-cfacd13f-24e8-44f3-9f53-60fe7394b8d7/userFiles-7c115a81-0f80-44b6-87b1-a06e3c8737ec/chill-java-0.9.5.jar to class loader\n",
      "21/09/11 23:51:16 INFO Executor: Fetching spark://192.168.0.71:63870/jars/os-lib_2.12-0.7.1-sources.jar with timestamp 1631429472401\n",
      "21/09/11 23:51:16 INFO Utils: Fetching spark://192.168.0.71:63870/jars/os-lib_2.12-0.7.1-sources.jar to /private/var/folders/pm/y4lv5tyd1rzfr9sx2jzdn2jw0000gn/T/spark-cfacd13f-24e8-44f3-9f53-60fe7394b8d7/userFiles-7c115a81-0f80-44b6-87b1-a06e3c8737ec/fetchFileTemp3174357174374971494.tmp\n",
      "21/09/11 23:51:16 INFO Executor: Adding file:/private/var/folders/pm/y4lv5tyd1rzfr9sx2jzdn2jw0000gn/T/spark-cfacd13f-24e8-44f3-9f53-60fe7394b8d7/userFiles-7c115a81-0f80-44b6-87b1-a06e3c8737ec/os-lib_2.12-0.7.1-sources.jar to class loader\n",
      "21/09/11 23:51:16 INFO Executor: Fetching spark://192.168.0.71:63870/jars/jsr305-3.0.2.jar with timestamp 1631429472401\n",
      "21/09/11 23:51:16 INFO Utils: Fetching spark://192.168.0.71:63870/jars/jsr305-3.0.2.jar to /private/var/folders/pm/y4lv5tyd1rzfr9sx2jzdn2jw0000gn/T/spark-cfacd13f-24e8-44f3-9f53-60fe7394b8d7/userFiles-7c115a81-0f80-44b6-87b1-a06e3c8737ec/fetchFileTemp8323438370259793858.tmp\n",
      "21/09/11 23:51:16 INFO Executor: Adding file:/private/var/folders/pm/y4lv5tyd1rzfr9sx2jzdn2jw0000gn/T/spark-cfacd13f-24e8-44f3-9f53-60fe7394b8d7/userFiles-7c115a81-0f80-44b6-87b1-a06e3c8737ec/jsr305-3.0.2.jar to class loader\n",
      "21/09/11 23:51:16 INFO Executor: Fetching spark://192.168.0.71:63870/jars/xbean-asm7-shaded-4.15.jar with timestamp 1631429472401\n",
      "21/09/11 23:51:16 INFO Utils: Fetching spark://192.168.0.71:63870/jars/xbean-asm7-shaded-4.15.jar to /private/var/folders/pm/y4lv5tyd1rzfr9sx2jzdn2jw0000gn/T/spark-cfacd13f-24e8-44f3-9f53-60fe7394b8d7/userFiles-7c115a81-0f80-44b6-87b1-a06e3c8737ec/fetchFileTemp4240773461435738084.tmp\n",
      "21/09/11 23:51:16 INFO Executor: Adding file:/private/var/folders/pm/y4lv5tyd1rzfr9sx2jzdn2jw0000gn/T/spark-cfacd13f-24e8-44f3-9f53-60fe7394b8d7/userFiles-7c115a81-0f80-44b6-87b1-a06e3c8737ec/xbean-asm7-shaded-4.15.jar to class loader\n",
      "21/09/11 23:51:16 INFO Executor: Fetching spark://192.168.0.71:63870/jars/ammonite-repl-api_2.12.11-2.3.8-36-1cce53f3.jar with timestamp 1631429472401\n",
      "21/09/11 23:51:16 INFO Utils: Fetching spark://192.168.0.71:63870/jars/ammonite-repl-api_2.12.11-2.3.8-36-1cce53f3.jar to /private/var/folders/pm/y4lv5tyd1rzfr9sx2jzdn2jw0000gn/T/spark-cfacd13f-24e8-44f3-9f53-60fe7394b8d7/userFiles-7c115a81-0f80-44b6-87b1-a06e3c8737ec/fetchFileTemp3073771601566195170.tmp\n",
      "21/09/11 23:51:16 INFO Executor: Adding file:/private/var/folders/pm/y4lv5tyd1rzfr9sx2jzdn2jw0000gn/T/spark-cfacd13f-24e8-44f3-9f53-60fe7394b8d7/userFiles-7c115a81-0f80-44b6-87b1-a06e3c8737ec/ammonite-repl-api_2.12.11-2.3.8-36-1cce53f3.jar to class loader\n",
      "21/09/11 23:51:16 INFO Executor: Fetching spark://192.168.0.71:63870/jars/jupyter-api_2.12-0.11.1-sources.jar with timestamp 1631429472401\n",
      "21/09/11 23:51:16 INFO Utils: Fetching spark://192.168.0.71:63870/jars/jupyter-api_2.12-0.11.1-sources.jar to /private/var/folders/pm/y4lv5tyd1rzfr9sx2jzdn2jw0000gn/T/spark-cfacd13f-24e8-44f3-9f53-60fe7394b8d7/userFiles-7c115a81-0f80-44b6-87b1-a06e3c8737ec/fetchFileTemp4443187116603560544.tmp\n",
      "21/09/11 23:51:16 INFO Executor: Adding file:/private/var/folders/pm/y4lv5tyd1rzfr9sx2jzdn2jw0000gn/T/spark-cfacd13f-24e8-44f3-9f53-60fe7394b8d7/userFiles-7c115a81-0f80-44b6-87b1-a06e3c8737ec/jupyter-api_2.12-0.11.1-sources.jar to class loader\n",
      "21/09/11 23:51:16 INFO Executor: Fetching spark://192.168.0.71:63870/jars/spotbugs-annotations-3.1.9.jar with timestamp 1631429472401\n",
      "21/09/11 23:51:16 INFO Utils: Fetching spark://192.168.0.71:63870/jars/spotbugs-annotations-3.1.9.jar to /private/var/folders/pm/y4lv5tyd1rzfr9sx2jzdn2jw0000gn/T/spark-cfacd13f-24e8-44f3-9f53-60fe7394b8d7/userFiles-7c115a81-0f80-44b6-87b1-a06e3c8737ec/fetchFileTemp780728104571833702.tmp\n",
      "21/09/11 23:51:16 INFO Executor: Adding file:/private/var/folders/pm/y4lv5tyd1rzfr9sx2jzdn2jw0000gn/T/spark-cfacd13f-24e8-44f3-9f53-60fe7394b8d7/userFiles-7c115a81-0f80-44b6-87b1-a06e3c8737ec/spotbugs-annotations-3.1.9.jar to class loader\n",
      "21/09/11 23:51:16 INFO Executor: Fetching spark://192.168.0.71:63870/jars/activation-1.1.1.jar with timestamp 1631429472401\n",
      "21/09/11 23:51:16 INFO Utils: Fetching spark://192.168.0.71:63870/jars/activation-1.1.1.jar to /private/var/folders/pm/y4lv5tyd1rzfr9sx2jzdn2jw0000gn/T/spark-cfacd13f-24e8-44f3-9f53-60fe7394b8d7/userFiles-7c115a81-0f80-44b6-87b1-a06e3c8737ec/fetchFileTemp6693386344600795594.tmp\n",
      "21/09/11 23:51:16 INFO Executor: Adding file:/private/var/folders/pm/y4lv5tyd1rzfr9sx2jzdn2jw0000gn/T/spark-cfacd13f-24e8-44f3-9f53-60fe7394b8d7/userFiles-7c115a81-0f80-44b6-87b1-a06e3c8737ec/activation-1.1.1.jar to class loader\n",
      "21/09/11 23:51:16 INFO Executor: Fetching spark://192.168.0.71:63870/jars/commons-codec-1.11.jar with timestamp 1631429472401\n",
      "21/09/11 23:51:16 INFO Utils: Fetching spark://192.168.0.71:63870/jars/commons-codec-1.11.jar to /private/var/folders/pm/y4lv5tyd1rzfr9sx2jzdn2jw0000gn/T/spark-cfacd13f-24e8-44f3-9f53-60fe7394b8d7/userFiles-7c115a81-0f80-44b6-87b1-a06e3c8737ec/fetchFileTemp5478170076601055895.tmp\n",
      "21/09/11 23:51:16 INFO Executor: Adding file:/private/var/folders/pm/y4lv5tyd1rzfr9sx2jzdn2jw0000gn/T/spark-cfacd13f-24e8-44f3-9f53-60fe7394b8d7/userFiles-7c115a81-0f80-44b6-87b1-a06e3c8737ec/commons-codec-1.11.jar to class loader\n",
      "21/09/11 23:51:16 INFO Executor: Fetching spark://192.168.0.71:63870/jars/jackson-module-paranamer-2.10.0.jar with timestamp 1631429472401\n",
      "21/09/11 23:51:16 INFO Utils: Fetching spark://192.168.0.71:63870/jars/jackson-module-paranamer-2.10.0.jar to /private/var/folders/pm/y4lv5tyd1rzfr9sx2jzdn2jw0000gn/T/spark-cfacd13f-24e8-44f3-9f53-60fe7394b8d7/userFiles-7c115a81-0f80-44b6-87b1-a06e3c8737ec/fetchFileTemp4917369460487346386.tmp\n",
      "21/09/11 23:51:16 INFO Executor: Adding file:/private/var/folders/pm/y4lv5tyd1rzfr9sx2jzdn2jw0000gn/T/spark-cfacd13f-24e8-44f3-9f53-60fe7394b8d7/userFiles-7c115a81-0f80-44b6-87b1-a06e3c8737ec/jackson-module-paranamer-2.10.0.jar to class loader\n",
      "21/09/11 23:51:16 INFO Executor: Fetching spark://192.168.0.71:63870/jars/jcip-annotations-1.0-1.jar with timestamp 1631429472401\n",
      "21/09/11 23:51:16 INFO Utils: Fetching spark://192.168.0.71:63870/jars/jcip-annotations-1.0-1.jar to /private/var/folders/pm/y4lv5tyd1rzfr9sx2jzdn2jw0000gn/T/spark-cfacd13f-24e8-44f3-9f53-60fe7394b8d7/userFiles-7c115a81-0f80-44b6-87b1-a06e3c8737ec/fetchFileTemp7863021695444521183.tmp\n",
      "21/09/11 23:51:16 INFO Executor: Adding file:/private/var/folders/pm/y4lv5tyd1rzfr9sx2jzdn2jw0000gn/T/spark-cfacd13f-24e8-44f3-9f53-60fe7394b8d7/userFiles-7c115a81-0f80-44b6-87b1-a06e3c8737ec/jcip-annotations-1.0-1.jar to class loader\n",
      "21/09/11 23:51:16 INFO Executor: Fetching spark://192.168.0.71:63870/jars/fastparse_2.12-2.3.0.jar with timestamp 1631429472401\n",
      "21/09/11 23:51:16 INFO Utils: Fetching spark://192.168.0.71:63870/jars/fastparse_2.12-2.3.0.jar to /private/var/folders/pm/y4lv5tyd1rzfr9sx2jzdn2jw0000gn/T/spark-cfacd13f-24e8-44f3-9f53-60fe7394b8d7/userFiles-7c115a81-0f80-44b6-87b1-a06e3c8737ec/fetchFileTemp2683611706066074515.tmp\n",
      "21/09/11 23:51:16 INFO Executor: Adding file:/private/var/folders/pm/y4lv5tyd1rzfr9sx2jzdn2jw0000gn/T/spark-cfacd13f-24e8-44f3-9f53-60fe7394b8d7/userFiles-7c115a81-0f80-44b6-87b1-a06e3c8737ec/fastparse_2.12-2.3.0.jar to class loader\n",
      "21/09/11 23:51:16 INFO Executor: Fetching spark://192.168.0.71:63870/jars/minlog-1.3.0.jar with timestamp 1631429472401\n",
      "21/09/11 23:51:16 INFO Utils: Fetching spark://192.168.0.71:63870/jars/minlog-1.3.0.jar to /private/var/folders/pm/y4lv5tyd1rzfr9sx2jzdn2jw0000gn/T/spark-cfacd13f-24e8-44f3-9f53-60fe7394b8d7/userFiles-7c115a81-0f80-44b6-87b1-a06e3c8737ec/fetchFileTemp1197503001531475722.tmp\n",
      "21/09/11 23:51:16 INFO Executor: Adding file:/private/var/folders/pm/y4lv5tyd1rzfr9sx2jzdn2jw0000gn/T/spark-cfacd13f-24e8-44f3-9f53-60fe7394b8d7/userFiles-7c115a81-0f80-44b6-87b1-a06e3c8737ec/minlog-1.3.0.jar to class loader\n",
      "21/09/11 23:51:16 INFO Executor: Fetching spark://192.168.0.71:63870/jars/commons-text-1.6.jar with timestamp 1631429472401\n",
      "21/09/11 23:51:16 INFO Utils: Fetching spark://192.168.0.71:63870/jars/commons-text-1.6.jar to /private/var/folders/pm/y4lv5tyd1rzfr9sx2jzdn2jw0000gn/T/spark-cfacd13f-24e8-44f3-9f53-60fe7394b8d7/userFiles-7c115a81-0f80-44b6-87b1-a06e3c8737ec/fetchFileTemp3913258831392698795.tmp\n",
      "21/09/11 23:51:16 INFO Executor: Adding file:/private/var/folders/pm/y4lv5tyd1rzfr9sx2jzdn2jw0000gn/T/spark-cfacd13f-24e8-44f3-9f53-60fe7394b8d7/userFiles-7c115a81-0f80-44b6-87b1-a06e3c8737ec/commons-text-1.6.jar to class loader\n",
      "21/09/11 23:51:16 INFO Executor: Fetching spark://192.168.0.71:63870/jars/parquet-common-1.10.1.jar with timestamp 1631429472401\n",
      "21/09/11 23:51:16 INFO Utils: Fetching spark://192.168.0.71:63870/jars/parquet-common-1.10.1.jar to /private/var/folders/pm/y4lv5tyd1rzfr9sx2jzdn2jw0000gn/T/spark-cfacd13f-24e8-44f3-9f53-60fe7394b8d7/userFiles-7c115a81-0f80-44b6-87b1-a06e3c8737ec/fetchFileTemp94799287128086253.tmp\n",
      "21/09/11 23:51:16 INFO Executor: Adding file:/private/var/folders/pm/y4lv5tyd1rzfr9sx2jzdn2jw0000gn/T/spark-cfacd13f-24e8-44f3-9f53-60fe7394b8d7/userFiles-7c115a81-0f80-44b6-87b1-a06e3c8737ec/parquet-common-1.10.1.jar to class loader\n",
      "21/09/11 23:51:16 INFO Executor: Fetching spark://192.168.0.71:63870/jars/kerby-xdr-1.0.1.jar with timestamp 1631429472401\n",
      "21/09/11 23:51:16 INFO Utils: Fetching spark://192.168.0.71:63870/jars/kerby-xdr-1.0.1.jar to /private/var/folders/pm/y4lv5tyd1rzfr9sx2jzdn2jw0000gn/T/spark-cfacd13f-24e8-44f3-9f53-60fe7394b8d7/userFiles-7c115a81-0f80-44b6-87b1-a06e3c8737ec/fetchFileTemp4080884610743403013.tmp\n",
      "21/09/11 23:51:16 INFO Executor: Adding file:/private/var/folders/pm/y4lv5tyd1rzfr9sx2jzdn2jw0000gn/T/spark-cfacd13f-24e8-44f3-9f53-60fe7394b8d7/userFiles-7c115a81-0f80-44b6-87b1-a06e3c8737ec/kerby-xdr-1.0.1.jar to class loader\n",
      "21/09/11 23:51:16 INFO Executor: Fetching spark://192.168.0.71:63870/jars/kerb-util-1.0.1.jar with timestamp 1631429472401\n",
      "21/09/11 23:51:16 INFO Utils: Fetching spark://192.168.0.71:63870/jars/kerb-util-1.0.1.jar to /private/var/folders/pm/y4lv5tyd1rzfr9sx2jzdn2jw0000gn/T/spark-cfacd13f-24e8-44f3-9f53-60fe7394b8d7/userFiles-7c115a81-0f80-44b6-87b1-a06e3c8737ec/fetchFileTemp8119701695286999964.tmp\n",
      "21/09/11 23:51:16 INFO Executor: Adding file:/private/var/folders/pm/y4lv5tyd1rzfr9sx2jzdn2jw0000gn/T/spark-cfacd13f-24e8-44f3-9f53-60fe7394b8d7/userFiles-7c115a81-0f80-44b6-87b1-a06e3c8737ec/kerb-util-1.0.1.jar to class loader\n",
      "21/09/11 23:51:16 INFO Executor: Fetching spark://192.168.0.71:63870/jars/kerb-admin-1.0.1.jar with timestamp 1631429472401\n",
      "21/09/11 23:51:16 INFO Utils: Fetching spark://192.168.0.71:63870/jars/kerb-admin-1.0.1.jar to /private/var/folders/pm/y4lv5tyd1rzfr9sx2jzdn2jw0000gn/T/spark-cfacd13f-24e8-44f3-9f53-60fe7394b8d7/userFiles-7c115a81-0f80-44b6-87b1-a06e3c8737ec/fetchFileTemp8853332258877991734.tmp\n",
      "21/09/11 23:51:16 INFO Executor: Adding file:/private/var/folders/pm/y4lv5tyd1rzfr9sx2jzdn2jw0000gn/T/spark-cfacd13f-24e8-44f3-9f53-60fe7394b8d7/userFiles-7c115a81-0f80-44b6-87b1-a06e3c8737ec/kerb-admin-1.0.1.jar to class loader\n",
      "21/09/11 23:51:16 INFO Executor: Fetching spark://192.168.0.71:63870/jars/geny_2.12-0.6.5.jar with timestamp 1631429472401\n",
      "21/09/11 23:51:16 INFO Utils: Fetching spark://192.168.0.71:63870/jars/geny_2.12-0.6.5.jar to /private/var/folders/pm/y4lv5tyd1rzfr9sx2jzdn2jw0000gn/T/spark-cfacd13f-24e8-44f3-9f53-60fe7394b8d7/userFiles-7c115a81-0f80-44b6-87b1-a06e3c8737ec/fetchFileTemp8617924808931354820.tmp\n",
      "21/09/11 23:51:16 INFO Executor: Adding file:/private/var/folders/pm/y4lv5tyd1rzfr9sx2jzdn2jw0000gn/T/spark-cfacd13f-24e8-44f3-9f53-60fe7394b8d7/userFiles-7c115a81-0f80-44b6-87b1-a06e3c8737ec/geny_2.12-0.6.5.jar to class loader\n",
      "21/09/11 23:51:16 INFO Executor: Fetching spark://192.168.0.71:63870/jars/commons-cli-1.2.jar with timestamp 1631429472401\n",
      "21/09/11 23:51:16 INFO Utils: Fetching spark://192.168.0.71:63870/jars/commons-cli-1.2.jar to /private/var/folders/pm/y4lv5tyd1rzfr9sx2jzdn2jw0000gn/T/spark-cfacd13f-24e8-44f3-9f53-60fe7394b8d7/userFiles-7c115a81-0f80-44b6-87b1-a06e3c8737ec/fetchFileTemp4386572173087390334.tmp\n",
      "21/09/11 23:51:16 INFO Executor: Adding file:/private/var/folders/pm/y4lv5tyd1rzfr9sx2jzdn2jw0000gn/T/spark-cfacd13f-24e8-44f3-9f53-60fe7394b8d7/userFiles-7c115a81-0f80-44b6-87b1-a06e3c8737ec/commons-cli-1.2.jar to class loader\n",
      "21/09/11 23:51:16 INFO Executor: Fetching spark://192.168.0.71:63870/jars/json4s-ast_2.12-3.7.0-M5.jar with timestamp 1631429472401\n",
      "21/09/11 23:51:16 INFO Utils: Fetching spark://192.168.0.71:63870/jars/json4s-ast_2.12-3.7.0-M5.jar to /private/var/folders/pm/y4lv5tyd1rzfr9sx2jzdn2jw0000gn/T/spark-cfacd13f-24e8-44f3-9f53-60fe7394b8d7/userFiles-7c115a81-0f80-44b6-87b1-a06e3c8737ec/fetchFileTemp3970585238911149279.tmp\n",
      "21/09/11 23:51:16 INFO Executor: Adding file:/private/var/folders/pm/y4lv5tyd1rzfr9sx2jzdn2jw0000gn/T/spark-cfacd13f-24e8-44f3-9f53-60fe7394b8d7/userFiles-7c115a81-0f80-44b6-87b1-a06e3c8737ec/json4s-ast_2.12-3.7.0-M5.jar to class loader\n",
      "21/09/11 23:51:16 INFO Executor: Fetching spark://192.168.0.71:63870/jars/arrow-vector-2.0.0.jar with timestamp 1631429472401\n",
      "21/09/11 23:51:16 INFO Utils: Fetching spark://192.168.0.71:63870/jars/arrow-vector-2.0.0.jar to /private/var/folders/pm/y4lv5tyd1rzfr9sx2jzdn2jw0000gn/T/spark-cfacd13f-24e8-44f3-9f53-60fe7394b8d7/userFiles-7c115a81-0f80-44b6-87b1-a06e3c8737ec/fetchFileTemp4567463134063988189.tmp\n",
      "21/09/11 23:51:16 INFO Executor: Adding file:/private/var/folders/pm/y4lv5tyd1rzfr9sx2jzdn2jw0000gn/T/spark-cfacd13f-24e8-44f3-9f53-60fe7394b8d7/userFiles-7c115a81-0f80-44b6-87b1-a06e3c8737ec/arrow-vector-2.0.0.jar to class loader\n",
      "21/09/11 23:51:16 INFO Executor: Fetching spark://192.168.0.71:63870/jars/javassist-3.21.0-GA-sources.jar with timestamp 1631429472401\n",
      "21/09/11 23:51:16 INFO Utils: Fetching spark://192.168.0.71:63870/jars/javassist-3.21.0-GA-sources.jar to /private/var/folders/pm/y4lv5tyd1rzfr9sx2jzdn2jw0000gn/T/spark-cfacd13f-24e8-44f3-9f53-60fe7394b8d7/userFiles-7c115a81-0f80-44b6-87b1-a06e3c8737ec/fetchFileTemp9193950311180539960.tmp\n",
      "21/09/11 23:51:16 INFO Executor: Adding file:/private/var/folders/pm/y4lv5tyd1rzfr9sx2jzdn2jw0000gn/T/spark-cfacd13f-24e8-44f3-9f53-60fe7394b8d7/userFiles-7c115a81-0f80-44b6-87b1-a06e3c8737ec/javassist-3.21.0-GA-sources.jar to class loader\n",
      "21/09/11 23:51:16 INFO Executor: Fetching spark://192.168.0.71:63870/jars/jsoniter-scala-core_2.12-2.6.4.jar with timestamp 1631429472401\n",
      "21/09/11 23:51:16 INFO Utils: Fetching spark://192.168.0.71:63870/jars/jsoniter-scala-core_2.12-2.6.4.jar to /private/var/folders/pm/y4lv5tyd1rzfr9sx2jzdn2jw0000gn/T/spark-cfacd13f-24e8-44f3-9f53-60fe7394b8d7/userFiles-7c115a81-0f80-44b6-87b1-a06e3c8737ec/fetchFileTemp7505817429399727710.tmp\n",
      "21/09/11 23:51:16 INFO Executor: Adding file:/private/var/folders/pm/y4lv5tyd1rzfr9sx2jzdn2jw0000gn/T/spark-cfacd13f-24e8-44f3-9f53-60fe7394b8d7/userFiles-7c115a81-0f80-44b6-87b1-a06e3c8737ec/jsoniter-scala-core_2.12-2.6.4.jar to class loader\n",
      "21/09/11 23:51:16 INFO Executor: Fetching spark://192.168.0.71:63870/jars/kerby-asn1-1.0.1.jar with timestamp 1631429472401\n",
      "21/09/11 23:51:16 INFO Utils: Fetching spark://192.168.0.71:63870/jars/kerby-asn1-1.0.1.jar to /private/var/folders/pm/y4lv5tyd1rzfr9sx2jzdn2jw0000gn/T/spark-cfacd13f-24e8-44f3-9f53-60fe7394b8d7/userFiles-7c115a81-0f80-44b6-87b1-a06e3c8737ec/fetchFileTemp8143851044775633246.tmp\n",
      "21/09/11 23:51:16 INFO Executor: Adding file:/private/var/folders/pm/y4lv5tyd1rzfr9sx2jzdn2jw0000gn/T/spark-cfacd13f-24e8-44f3-9f53-60fe7394b8d7/userFiles-7c115a81-0f80-44b6-87b1-a06e3c8737ec/kerby-asn1-1.0.1.jar to class loader\n",
      "21/09/11 23:51:16 INFO Executor: Fetching spark://192.168.0.71:63870/jars/parquet-column-1.10.1.jar with timestamp 1631429472401\n",
      "21/09/11 23:51:16 INFO Utils: Fetching spark://192.168.0.71:63870/jars/parquet-column-1.10.1.jar to /private/var/folders/pm/y4lv5tyd1rzfr9sx2jzdn2jw0000gn/T/spark-cfacd13f-24e8-44f3-9f53-60fe7394b8d7/userFiles-7c115a81-0f80-44b6-87b1-a06e3c8737ec/fetchFileTemp7978546841822960820.tmp\n",
      "21/09/11 23:51:16 INFO Executor: Adding file:/private/var/folders/pm/y4lv5tyd1rzfr9sx2jzdn2jw0000gn/T/spark-cfacd13f-24e8-44f3-9f53-60fe7394b8d7/userFiles-7c115a81-0f80-44b6-87b1-a06e3c8737ec/parquet-column-1.10.1.jar to class loader\n",
      "21/09/11 23:51:16 INFO Executor: Fetching spark://192.168.0.71:63870/jars/snappy-java-1.1.8.2.jar with timestamp 1631429472401\n",
      "21/09/11 23:51:16 INFO Utils: Fetching spark://192.168.0.71:63870/jars/snappy-java-1.1.8.2.jar to /private/var/folders/pm/y4lv5tyd1rzfr9sx2jzdn2jw0000gn/T/spark-cfacd13f-24e8-44f3-9f53-60fe7394b8d7/userFiles-7c115a81-0f80-44b6-87b1-a06e3c8737ec/fetchFileTemp4780619132807836986.tmp\n",
      "21/09/11 23:51:16 INFO Executor: Adding file:/private/var/folders/pm/y4lv5tyd1rzfr9sx2jzdn2jw0000gn/T/spark-cfacd13f-24e8-44f3-9f53-60fe7394b8d7/userFiles-7c115a81-0f80-44b6-87b1-a06e3c8737ec/snappy-java-1.1.8.2.jar to class loader\n",
      "21/09/11 23:51:16 INFO Executor: Fetching spark://192.168.0.71:63870/jars/jakarta.validation-api-2.0.2.jar with timestamp 1631429472401\n",
      "21/09/11 23:51:16 INFO Utils: Fetching spark://192.168.0.71:63870/jars/jakarta.validation-api-2.0.2.jar to /private/var/folders/pm/y4lv5tyd1rzfr9sx2jzdn2jw0000gn/T/spark-cfacd13f-24e8-44f3-9f53-60fe7394b8d7/userFiles-7c115a81-0f80-44b6-87b1-a06e3c8737ec/fetchFileTemp5792317199818416123.tmp\n",
      "21/09/11 23:51:16 INFO Executor: Adding file:/private/var/folders/pm/y4lv5tyd1rzfr9sx2jzdn2jw0000gn/T/spark-cfacd13f-24e8-44f3-9f53-60fe7394b8d7/userFiles-7c115a81-0f80-44b6-87b1-a06e3c8737ec/jakarta.validation-api-2.0.2.jar to class loader\n",
      "21/09/11 23:51:16 INFO Executor: Fetching spark://192.168.0.71:63870/jars/ammonite-compiler_2.12.11-2.3.8-36-1cce53f3-sources.jar with timestamp 1631429472401\n",
      "21/09/11 23:51:16 INFO Utils: Fetching spark://192.168.0.71:63870/jars/ammonite-compiler_2.12.11-2.3.8-36-1cce53f3-sources.jar to /private/var/folders/pm/y4lv5tyd1rzfr9sx2jzdn2jw0000gn/T/spark-cfacd13f-24e8-44f3-9f53-60fe7394b8d7/userFiles-7c115a81-0f80-44b6-87b1-a06e3c8737ec/fetchFileTemp1396535364464802889.tmp\n",
      "21/09/11 23:51:16 INFO Executor: Adding file:/private/var/folders/pm/y4lv5tyd1rzfr9sx2jzdn2jw0000gn/T/spark-cfacd13f-24e8-44f3-9f53-60fe7394b8d7/userFiles-7c115a81-0f80-44b6-87b1-a06e3c8737ec/ammonite-compiler_2.12.11-2.3.8-36-1cce53f3-sources.jar to class loader\n",
      "21/09/11 23:51:16 INFO Executor: Fetching spark://192.168.0.71:63870/jars/py4j-0.10.9.jar with timestamp 1631429472401\n",
      "21/09/11 23:51:16 INFO Utils: Fetching spark://192.168.0.71:63870/jars/py4j-0.10.9.jar to /private/var/folders/pm/y4lv5tyd1rzfr9sx2jzdn2jw0000gn/T/spark-cfacd13f-24e8-44f3-9f53-60fe7394b8d7/userFiles-7c115a81-0f80-44b6-87b1-a06e3c8737ec/fetchFileTemp2927184009085785836.tmp\n",
      "21/09/11 23:51:16 INFO Executor: Adding file:/private/var/folders/pm/y4lv5tyd1rzfr9sx2jzdn2jw0000gn/T/spark-cfacd13f-24e8-44f3-9f53-60fe7394b8d7/userFiles-7c115a81-0f80-44b6-87b1-a06e3c8737ec/py4j-0.10.9.jar to class loader\n",
      "21/09/11 23:51:16 INFO Executor: Fetching spark://192.168.0.71:63870/jars/aopalliance-repackaged-2.6.1.jar with timestamp 1631429472401\n",
      "21/09/11 23:51:16 INFO Utils: Fetching spark://192.168.0.71:63870/jars/aopalliance-repackaged-2.6.1.jar to /private/var/folders/pm/y4lv5tyd1rzfr9sx2jzdn2jw0000gn/T/spark-cfacd13f-24e8-44f3-9f53-60fe7394b8d7/userFiles-7c115a81-0f80-44b6-87b1-a06e3c8737ec/fetchFileTemp4885313360846938917.tmp\n",
      "21/09/11 23:51:16 INFO Executor: Adding file:/private/var/folders/pm/y4lv5tyd1rzfr9sx2jzdn2jw0000gn/T/spark-cfacd13f-24e8-44f3-9f53-60fe7394b8d7/userFiles-7c115a81-0f80-44b6-87b1-a06e3c8737ec/aopalliance-repackaged-2.6.1.jar to class loader\n",
      "21/09/11 23:51:16 INFO Executor: Fetching spark://192.168.0.71:63870/jars/threeten-extra-1.5.0.jar with timestamp 1631429472401\n",
      "21/09/11 23:51:16 INFO Utils: Fetching spark://192.168.0.71:63870/jars/threeten-extra-1.5.0.jar to /private/var/folders/pm/y4lv5tyd1rzfr9sx2jzdn2jw0000gn/T/spark-cfacd13f-24e8-44f3-9f53-60fe7394b8d7/userFiles-7c115a81-0f80-44b6-87b1-a06e3c8737ec/fetchFileTemp2422636729450164767.tmp\n",
      "21/09/11 23:51:16 INFO Executor: Adding file:/private/var/folders/pm/y4lv5tyd1rzfr9sx2jzdn2jw0000gn/T/spark-cfacd13f-24e8-44f3-9f53-60fe7394b8d7/userFiles-7c115a81-0f80-44b6-87b1-a06e3c8737ec/threeten-extra-1.5.0.jar to class loader\n",
      "21/09/11 23:51:16 INFO Executor: Fetching spark://192.168.0.71:63870/jars/jackson-annotations-2.10.0.jar with timestamp 1631429472401\n",
      "21/09/11 23:51:16 INFO Utils: Fetching spark://192.168.0.71:63870/jars/jackson-annotations-2.10.0.jar to /private/var/folders/pm/y4lv5tyd1rzfr9sx2jzdn2jw0000gn/T/spark-cfacd13f-24e8-44f3-9f53-60fe7394b8d7/userFiles-7c115a81-0f80-44b6-87b1-a06e3c8737ec/fetchFileTemp4181404831433979338.tmp\n",
      "21/09/11 23:51:16 INFO Executor: Adding file:/private/var/folders/pm/y4lv5tyd1rzfr9sx2jzdn2jw0000gn/T/spark-cfacd13f-24e8-44f3-9f53-60fe7394b8d7/userFiles-7c115a81-0f80-44b6-87b1-a06e3c8737ec/jackson-annotations-2.10.0.jar to class loader\n",
      "21/09/11 23:51:16 INFO Executor: Fetching spark://192.168.0.71:63870/jars/zstd-jni-1.4.8-1.jar with timestamp 1631429472401\n",
      "21/09/11 23:51:16 INFO Utils: Fetching spark://192.168.0.71:63870/jars/zstd-jni-1.4.8-1.jar to /private/var/folders/pm/y4lv5tyd1rzfr9sx2jzdn2jw0000gn/T/spark-cfacd13f-24e8-44f3-9f53-60fe7394b8d7/userFiles-7c115a81-0f80-44b6-87b1-a06e3c8737ec/fetchFileTemp1546454940974801424.tmp\n",
      "21/09/11 23:51:16 INFO Executor: Adding file:/private/var/folders/pm/y4lv5tyd1rzfr9sx2jzdn2jw0000gn/T/spark-cfacd13f-24e8-44f3-9f53-60fe7394b8d7/userFiles-7c115a81-0f80-44b6-87b1-a06e3c8737ec/zstd-jni-1.4.8-1.jar to class loader\n",
      "21/09/11 23:51:16 INFO Executor: Fetching spark://192.168.0.71:63870/jars/hadoop-annotations-3.2.0.jar with timestamp 1631429472401\n",
      "21/09/11 23:51:16 INFO Utils: Fetching spark://192.168.0.71:63870/jars/hadoop-annotations-3.2.0.jar to /private/var/folders/pm/y4lv5tyd1rzfr9sx2jzdn2jw0000gn/T/spark-cfacd13f-24e8-44f3-9f53-60fe7394b8d7/userFiles-7c115a81-0f80-44b6-87b1-a06e3c8737ec/fetchFileTemp7572175001235981534.tmp\n",
      "21/09/11 23:51:16 INFO Executor: Adding file:/private/var/folders/pm/y4lv5tyd1rzfr9sx2jzdn2jw0000gn/T/spark-cfacd13f-24e8-44f3-9f53-60fe7394b8d7/userFiles-7c115a81-0f80-44b6-87b1-a06e3c8737ec/hadoop-annotations-3.2.0.jar to class loader\n",
      "21/09/11 23:51:16 INFO Executor: Fetching spark://192.168.0.71:63870/jars/arrow-format-2.0.0.jar with timestamp 1631429472401\n",
      "21/09/11 23:51:16 INFO Utils: Fetching spark://192.168.0.71:63870/jars/arrow-format-2.0.0.jar to /private/var/folders/pm/y4lv5tyd1rzfr9sx2jzdn2jw0000gn/T/spark-cfacd13f-24e8-44f3-9f53-60fe7394b8d7/userFiles-7c115a81-0f80-44b6-87b1-a06e3c8737ec/fetchFileTemp8077877109831042073.tmp\n",
      "21/09/11 23:51:16 INFO Executor: Adding file:/private/var/folders/pm/y4lv5tyd1rzfr9sx2jzdn2jw0000gn/T/spark-cfacd13f-24e8-44f3-9f53-60fe7394b8d7/userFiles-7c115a81-0f80-44b6-87b1-a06e3c8737ec/arrow-format-2.0.0.jar to class loader\n",
      "21/09/11 23:51:16 INFO Executor: Fetching spark://192.168.0.71:63870/jars/os-lib_2.12-0.7.1.jar with timestamp 1631429472401\n",
      "21/09/11 23:51:16 INFO Utils: Fetching spark://192.168.0.71:63870/jars/os-lib_2.12-0.7.1.jar to /private/var/folders/pm/y4lv5tyd1rzfr9sx2jzdn2jw0000gn/T/spark-cfacd13f-24e8-44f3-9f53-60fe7394b8d7/userFiles-7c115a81-0f80-44b6-87b1-a06e3c8737ec/fetchFileTemp7773180112398618372.tmp\n",
      "21/09/11 23:51:16 INFO Executor: Adding file:/private/var/folders/pm/y4lv5tyd1rzfr9sx2jzdn2jw0000gn/T/spark-cfacd13f-24e8-44f3-9f53-60fe7394b8d7/userFiles-7c115a81-0f80-44b6-87b1-a06e3c8737ec/os-lib_2.12-0.7.1.jar to class loader\n",
      "21/09/11 23:51:16 INFO Executor: Fetching spark://192.168.0.71:63870/jars/jetty-util-9.4.36.v20210114.jar with timestamp 1631429472401\n",
      "21/09/11 23:51:16 INFO Utils: Fetching spark://192.168.0.71:63870/jars/jetty-util-9.4.36.v20210114.jar to /private/var/folders/pm/y4lv5tyd1rzfr9sx2jzdn2jw0000gn/T/spark-cfacd13f-24e8-44f3-9f53-60fe7394b8d7/userFiles-7c115a81-0f80-44b6-87b1-a06e3c8737ec/fetchFileTemp1237853663522185731.tmp\n",
      "21/09/11 23:51:16 INFO Executor: Adding file:/private/var/folders/pm/y4lv5tyd1rzfr9sx2jzdn2jw0000gn/T/spark-cfacd13f-24e8-44f3-9f53-60fe7394b8d7/userFiles-7c115a81-0f80-44b6-87b1-a06e3c8737ec/jetty-util-9.4.36.v20210114.jar to class loader\n",
      "21/09/11 23:51:16 INFO Executor: Fetching spark://192.168.0.71:63870/jars/unused-1.0.0.jar with timestamp 1631429472401\n",
      "21/09/11 23:51:16 INFO Utils: Fetching spark://192.168.0.71:63870/jars/unused-1.0.0.jar to /private/var/folders/pm/y4lv5tyd1rzfr9sx2jzdn2jw0000gn/T/spark-cfacd13f-24e8-44f3-9f53-60fe7394b8d7/userFiles-7c115a81-0f80-44b6-87b1-a06e3c8737ec/fetchFileTemp3539634599006168003.tmp\n",
      "21/09/11 23:51:16 INFO Executor: Adding file:/private/var/folders/pm/y4lv5tyd1rzfr9sx2jzdn2jw0000gn/T/spark-cfacd13f-24e8-44f3-9f53-60fe7394b8d7/userFiles-7c115a81-0f80-44b6-87b1-a06e3c8737ec/unused-1.0.0.jar to class loader\n",
      "21/09/11 23:51:16 INFO Executor: Fetching spark://192.168.0.71:63870/jars/json4s-jackson_2.12-3.7.0-M5.jar with timestamp 1631429472401\n",
      "21/09/11 23:51:16 INFO Utils: Fetching spark://192.168.0.71:63870/jars/json4s-jackson_2.12-3.7.0-M5.jar to /private/var/folders/pm/y4lv5tyd1rzfr9sx2jzdn2jw0000gn/T/spark-cfacd13f-24e8-44f3-9f53-60fe7394b8d7/userFiles-7c115a81-0f80-44b6-87b1-a06e3c8737ec/fetchFileTemp5954151578609467363.tmp\n",
      "21/09/11 23:51:16 INFO Executor: Adding file:/private/var/folders/pm/y4lv5tyd1rzfr9sx2jzdn2jw0000gn/T/spark-cfacd13f-24e8-44f3-9f53-60fe7394b8d7/userFiles-7c115a81-0f80-44b6-87b1-a06e3c8737ec/json4s-jackson_2.12-3.7.0-M5.jar to class loader\n",
      "21/09/11 23:51:16 INFO Executor: Fetching spark://192.168.0.71:63870/jars/sourcecode_2.12-0.2.3-sources.jar with timestamp 1631429472401\n",
      "21/09/11 23:51:16 INFO Utils: Fetching spark://192.168.0.71:63870/jars/sourcecode_2.12-0.2.3-sources.jar to /private/var/folders/pm/y4lv5tyd1rzfr9sx2jzdn2jw0000gn/T/spark-cfacd13f-24e8-44f3-9f53-60fe7394b8d7/userFiles-7c115a81-0f80-44b6-87b1-a06e3c8737ec/fetchFileTemp9203687220804569352.tmp\n",
      "21/09/11 23:51:16 INFO Executor: Adding file:/private/var/folders/pm/y4lv5tyd1rzfr9sx2jzdn2jw0000gn/T/spark-cfacd13f-24e8-44f3-9f53-60fe7394b8d7/userFiles-7c115a81-0f80-44b6-87b1-a06e3c8737ec/sourcecode_2.12-0.2.3-sources.jar to class loader\n",
      "21/09/11 23:51:16 INFO Executor: Fetching spark://192.168.0.71:63870/jars/interface-1.0.3.jar with timestamp 1631429472401\n",
      "21/09/11 23:51:16 INFO Utils: Fetching spark://192.168.0.71:63870/jars/interface-1.0.3.jar to /private/var/folders/pm/y4lv5tyd1rzfr9sx2jzdn2jw0000gn/T/spark-cfacd13f-24e8-44f3-9f53-60fe7394b8d7/userFiles-7c115a81-0f80-44b6-87b1-a06e3c8737ec/fetchFileTemp1485974955610801392.tmp\n",
      "21/09/11 23:51:16 INFO Executor: Adding file:/private/var/folders/pm/y4lv5tyd1rzfr9sx2jzdn2jw0000gn/T/spark-cfacd13f-24e8-44f3-9f53-60fe7394b8d7/userFiles-7c115a81-0f80-44b6-87b1-a06e3c8737ec/interface-1.0.3.jar to class loader\n",
      "21/09/11 23:51:16 INFO Executor: Fetching spark://192.168.0.71:63870/jars/avro-ipc-1.8.2.jar with timestamp 1631429472401\n",
      "21/09/11 23:51:16 INFO Utils: Fetching spark://192.168.0.71:63870/jars/avro-ipc-1.8.2.jar to /private/var/folders/pm/y4lv5tyd1rzfr9sx2jzdn2jw0000gn/T/spark-cfacd13f-24e8-44f3-9f53-60fe7394b8d7/userFiles-7c115a81-0f80-44b6-87b1-a06e3c8737ec/fetchFileTemp1685830085401982379.tmp\n",
      "21/09/11 23:51:16 INFO Executor: Adding file:/private/var/folders/pm/y4lv5tyd1rzfr9sx2jzdn2jw0000gn/T/spark-cfacd13f-24e8-44f3-9f53-60fe7394b8d7/userFiles-7c115a81-0f80-44b6-87b1-a06e3c8737ec/avro-ipc-1.8.2.jar to class loader\n",
      "21/09/11 23:51:16 INFO Executor: Fetching spark://192.168.0.71:63870/jars/jcl-over-slf4j-1.7.30.jar with timestamp 1631429472401\n",
      "21/09/11 23:51:16 INFO Utils: Fetching spark://192.168.0.71:63870/jars/jcl-over-slf4j-1.7.30.jar to /private/var/folders/pm/y4lv5tyd1rzfr9sx2jzdn2jw0000gn/T/spark-cfacd13f-24e8-44f3-9f53-60fe7394b8d7/userFiles-7c115a81-0f80-44b6-87b1-a06e3c8737ec/fetchFileTemp6113908363112618052.tmp\n",
      "21/09/11 23:51:16 INFO Executor: Adding file:/private/var/folders/pm/y4lv5tyd1rzfr9sx2jzdn2jw0000gn/T/spark-cfacd13f-24e8-44f3-9f53-60fe7394b8d7/userFiles-7c115a81-0f80-44b6-87b1-a06e3c8737ec/jcl-over-slf4j-1.7.30.jar to class loader\n",
      "21/09/11 23:51:16 INFO Executor: Fetching spark://192.168.0.71:63870/jars/protobuf-java-2.5.0.jar with timestamp 1631429472401\n",
      "21/09/11 23:51:16 INFO Utils: Fetching spark://192.168.0.71:63870/jars/protobuf-java-2.5.0.jar to /private/var/folders/pm/y4lv5tyd1rzfr9sx2jzdn2jw0000gn/T/spark-cfacd13f-24e8-44f3-9f53-60fe7394b8d7/userFiles-7c115a81-0f80-44b6-87b1-a06e3c8737ec/fetchFileTemp1997922780874988757.tmp\n",
      "21/09/11 23:51:16 INFO Executor: Adding file:/private/var/folders/pm/y4lv5tyd1rzfr9sx2jzdn2jw0000gn/T/spark-cfacd13f-24e8-44f3-9f53-60fe7394b8d7/userFiles-7c115a81-0f80-44b6-87b1-a06e3c8737ec/protobuf-java-2.5.0.jar to class loader\n",
      "21/09/11 23:51:16 INFO Executor: Fetching spark://192.168.0.71:63870/jars/orc-core-1.5.12.jar with timestamp 1631429472401\n",
      "21/09/11 23:51:16 INFO Utils: Fetching spark://192.168.0.71:63870/jars/orc-core-1.5.12.jar to /private/var/folders/pm/y4lv5tyd1rzfr9sx2jzdn2jw0000gn/T/spark-cfacd13f-24e8-44f3-9f53-60fe7394b8d7/userFiles-7c115a81-0f80-44b6-87b1-a06e3c8737ec/fetchFileTemp4413170555927894835.tmp\n",
      "21/09/11 23:51:16 INFO Executor: Adding file:/private/var/folders/pm/y4lv5tyd1rzfr9sx2jzdn2jw0000gn/T/spark-cfacd13f-24e8-44f3-9f53-60fe7394b8d7/userFiles-7c115a81-0f80-44b6-87b1-a06e3c8737ec/orc-core-1.5.12.jar to class loader\n",
      "21/09/11 23:51:16 INFO Executor: Fetching spark://192.168.0.71:63870/jars/scala-collection-compat_2.12-2.4.2-sources.jar with timestamp 1631429472401\n",
      "21/09/11 23:51:16 INFO Utils: Fetching spark://192.168.0.71:63870/jars/scala-collection-compat_2.12-2.4.2-sources.jar to /private/var/folders/pm/y4lv5tyd1rzfr9sx2jzdn2jw0000gn/T/spark-cfacd13f-24e8-44f3-9f53-60fe7394b8d7/userFiles-7c115a81-0f80-44b6-87b1-a06e3c8737ec/fetchFileTemp9050068212309597739.tmp\n",
      "21/09/11 23:51:16 INFO Executor: Adding file:/private/var/folders/pm/y4lv5tyd1rzfr9sx2jzdn2jw0000gn/T/spark-cfacd13f-24e8-44f3-9f53-60fe7394b8d7/userFiles-7c115a81-0f80-44b6-87b1-a06e3c8737ec/scala-collection-compat_2.12-2.4.2-sources.jar to class loader\n",
      "21/09/11 23:51:16 INFO Executor: Fetching spark://192.168.0.71:63870/jars/httpcore-4.4.4.jar with timestamp 1631429472401\n",
      "21/09/11 23:51:16 INFO Utils: Fetching spark://192.168.0.71:63870/jars/httpcore-4.4.4.jar to /private/var/folders/pm/y4lv5tyd1rzfr9sx2jzdn2jw0000gn/T/spark-cfacd13f-24e8-44f3-9f53-60fe7394b8d7/userFiles-7c115a81-0f80-44b6-87b1-a06e3c8737ec/fetchFileTemp127713960648745257.tmp\n",
      "21/09/11 23:51:16 INFO Executor: Adding file:/private/var/folders/pm/y4lv5tyd1rzfr9sx2jzdn2jw0000gn/T/spark-cfacd13f-24e8-44f3-9f53-60fe7394b8d7/userFiles-7c115a81-0f80-44b6-87b1-a06e3c8737ec/httpcore-4.4.4.jar to class loader\n",
      "21/09/11 23:51:16 INFO Executor: Fetching spark://192.168.0.71:63870/jars/ammonite-interp-api_2.12.11-2.3.8-36-1cce53f3.jar with timestamp 1631429472401\n",
      "21/09/11 23:51:16 INFO Utils: Fetching spark://192.168.0.71:63870/jars/ammonite-interp-api_2.12.11-2.3.8-36-1cce53f3.jar to /private/var/folders/pm/y4lv5tyd1rzfr9sx2jzdn2jw0000gn/T/spark-cfacd13f-24e8-44f3-9f53-60fe7394b8d7/userFiles-7c115a81-0f80-44b6-87b1-a06e3c8737ec/fetchFileTemp868686723753987397.tmp\n",
      "21/09/11 23:51:16 INFO Executor: Adding file:/private/var/folders/pm/y4lv5tyd1rzfr9sx2jzdn2jw0000gn/T/spark-cfacd13f-24e8-44f3-9f53-60fe7394b8d7/userFiles-7c115a81-0f80-44b6-87b1-a06e3c8737ec/ammonite-interp-api_2.12.11-2.3.8-36-1cce53f3.jar to class loader\n",
      "21/09/11 23:51:16 INFO Executor: Fetching spark://192.168.0.71:63870/jars/commons-compiler-3.0.16.jar with timestamp 1631429472401\n",
      "21/09/11 23:51:16 INFO Utils: Fetching spark://192.168.0.71:63870/jars/commons-compiler-3.0.16.jar to /private/var/folders/pm/y4lv5tyd1rzfr9sx2jzdn2jw0000gn/T/spark-cfacd13f-24e8-44f3-9f53-60fe7394b8d7/userFiles-7c115a81-0f80-44b6-87b1-a06e3c8737ec/fetchFileTemp6386822501313194199.tmp\n",
      "21/09/11 23:51:16 INFO Executor: Adding file:/private/var/folders/pm/y4lv5tyd1rzfr9sx2jzdn2jw0000gn/T/spark-cfacd13f-24e8-44f3-9f53-60fe7394b8d7/userFiles-7c115a81-0f80-44b6-87b1-a06e3c8737ec/commons-compiler-3.0.16.jar to class loader\n",
      "21/09/11 23:51:16 INFO Executor: Fetching spark://192.168.0.71:63870/jars/scala-parser-combinators_2.12-1.1.2.jar with timestamp 1631429472401\n",
      "21/09/11 23:51:16 INFO Utils: Fetching spark://192.168.0.71:63870/jars/scala-parser-combinators_2.12-1.1.2.jar to /private/var/folders/pm/y4lv5tyd1rzfr9sx2jzdn2jw0000gn/T/spark-cfacd13f-24e8-44f3-9f53-60fe7394b8d7/userFiles-7c115a81-0f80-44b6-87b1-a06e3c8737ec/fetchFileTemp4418060353021719511.tmp\n",
      "21/09/11 23:51:16 INFO Executor: Adding file:/private/var/folders/pm/y4lv5tyd1rzfr9sx2jzdn2jw0000gn/T/spark-cfacd13f-24e8-44f3-9f53-60fe7394b8d7/userFiles-7c115a81-0f80-44b6-87b1-a06e3c8737ec/scala-parser-combinators_2.12-1.1.2.jar to class loader\n",
      "21/09/11 23:51:16 INFO Executor: Fetching spark://192.168.0.71:63870/jars/commons-lang3-3.10.jar with timestamp 1631429472401\n",
      "21/09/11 23:51:16 INFO Utils: Fetching spark://192.168.0.71:63870/jars/commons-lang3-3.10.jar to /private/var/folders/pm/y4lv5tyd1rzfr9sx2jzdn2jw0000gn/T/spark-cfacd13f-24e8-44f3-9f53-60fe7394b8d7/userFiles-7c115a81-0f80-44b6-87b1-a06e3c8737ec/fetchFileTemp2519511895183800682.tmp\n",
      "21/09/11 23:51:16 INFO Executor: Adding file:/private/var/folders/pm/y4lv5tyd1rzfr9sx2jzdn2jw0000gn/T/spark-cfacd13f-24e8-44f3-9f53-60fe7394b8d7/userFiles-7c115a81-0f80-44b6-87b1-a06e3c8737ec/commons-lang3-3.10.jar to class loader\n",
      "21/09/11 23:51:16 INFO Executor: Fetching spark://192.168.0.71:63870/jars/ammonite-ops_2.12-2.3.8-36-1cce53f3-sources.jar with timestamp 1631429472401\n",
      "21/09/11 23:51:16 INFO Utils: Fetching spark://192.168.0.71:63870/jars/ammonite-ops_2.12-2.3.8-36-1cce53f3-sources.jar to /private/var/folders/pm/y4lv5tyd1rzfr9sx2jzdn2jw0000gn/T/spark-cfacd13f-24e8-44f3-9f53-60fe7394b8d7/userFiles-7c115a81-0f80-44b6-87b1-a06e3c8737ec/fetchFileTemp1774470761994892027.tmp\n",
      "21/09/11 23:51:16 INFO Executor: Adding file:/private/var/folders/pm/y4lv5tyd1rzfr9sx2jzdn2jw0000gn/T/spark-cfacd13f-24e8-44f3-9f53-60fe7394b8d7/userFiles-7c115a81-0f80-44b6-87b1-a06e3c8737ec/ammonite-ops_2.12-2.3.8-36-1cce53f3-sources.jar to class loader\n",
      "21/09/11 23:51:16 INFO Executor: Fetching spark://192.168.0.71:63870/jars/ammonite-interp-api_2.12.11-2.3.8-36-1cce53f3-sources.jar with timestamp 1631429472401\n",
      "21/09/11 23:51:16 INFO Utils: Fetching spark://192.168.0.71:63870/jars/ammonite-interp-api_2.12.11-2.3.8-36-1cce53f3-sources.jar to /private/var/folders/pm/y4lv5tyd1rzfr9sx2jzdn2jw0000gn/T/spark-cfacd13f-24e8-44f3-9f53-60fe7394b8d7/userFiles-7c115a81-0f80-44b6-87b1-a06e3c8737ec/fetchFileTemp1993744204969117536.tmp\n",
      "21/09/11 23:51:16 INFO Executor: Adding file:/private/var/folders/pm/y4lv5tyd1rzfr9sx2jzdn2jw0000gn/T/spark-cfacd13f-24e8-44f3-9f53-60fe7394b8d7/userFiles-7c115a81-0f80-44b6-87b1-a06e3c8737ec/ammonite-interp-api_2.12.11-2.3.8-36-1cce53f3-sources.jar to class loader\n",
      "21/09/11 23:51:16 INFO Executor: Fetching spark://192.168.0.71:63870/jars/hadoop-yarn-common-3.2.0.jar with timestamp 1631429472401\n",
      "21/09/11 23:51:16 INFO Utils: Fetching spark://192.168.0.71:63870/jars/hadoop-yarn-common-3.2.0.jar to /private/var/folders/pm/y4lv5tyd1rzfr9sx2jzdn2jw0000gn/T/spark-cfacd13f-24e8-44f3-9f53-60fe7394b8d7/userFiles-7c115a81-0f80-44b6-87b1-a06e3c8737ec/fetchFileTemp5428226011247736572.tmp\n",
      "21/09/11 23:51:16 INFO Executor: Adding file:/private/var/folders/pm/y4lv5tyd1rzfr9sx2jzdn2jw0000gn/T/spark-cfacd13f-24e8-44f3-9f53-60fe7394b8d7/userFiles-7c115a81-0f80-44b6-87b1-a06e3c8737ec/hadoop-yarn-common-3.2.0.jar to class loader\n",
      "21/09/11 23:51:16 INFO Executor: Fetching spark://192.168.0.71:63870/jars/jackson-core-asl-1.9.13.jar with timestamp 1631429472401\n",
      "21/09/11 23:51:16 INFO Utils: Fetching spark://192.168.0.71:63870/jars/jackson-core-asl-1.9.13.jar to /private/var/folders/pm/y4lv5tyd1rzfr9sx2jzdn2jw0000gn/T/spark-cfacd13f-24e8-44f3-9f53-60fe7394b8d7/userFiles-7c115a81-0f80-44b6-87b1-a06e3c8737ec/fetchFileTemp3620494970582943443.tmp\n",
      "21/09/11 23:51:16 INFO Executor: Adding file:/private/var/folders/pm/y4lv5tyd1rzfr9sx2jzdn2jw0000gn/T/spark-cfacd13f-24e8-44f3-9f53-60fe7394b8d7/userFiles-7c115a81-0f80-44b6-87b1-a06e3c8737ec/jackson-core-asl-1.9.13.jar to class loader\n",
      "21/09/11 23:51:16 INFO Executor: Fetching spark://192.168.0.71:63870/jars/jvm-repr-0.4.0-sources.jar with timestamp 1631429472401\n",
      "21/09/11 23:51:16 INFO Utils: Fetching spark://192.168.0.71:63870/jars/jvm-repr-0.4.0-sources.jar to /private/var/folders/pm/y4lv5tyd1rzfr9sx2jzdn2jw0000gn/T/spark-cfacd13f-24e8-44f3-9f53-60fe7394b8d7/userFiles-7c115a81-0f80-44b6-87b1-a06e3c8737ec/fetchFileTemp2061262329013257755.tmp\n",
      "21/09/11 23:51:16 INFO Executor: Adding file:/private/var/folders/pm/y4lv5tyd1rzfr9sx2jzdn2jw0000gn/T/spark-cfacd13f-24e8-44f3-9f53-60fe7394b8d7/userFiles-7c115a81-0f80-44b6-87b1-a06e3c8737ec/jvm-repr-0.4.0-sources.jar to class loader\n",
      "21/09/11 23:51:16 INFO Executor: Fetching spark://192.168.0.71:63870/jars/json-smart-2.3.jar with timestamp 1631429472401\n",
      "21/09/11 23:51:16 INFO Utils: Fetching spark://192.168.0.71:63870/jars/json-smart-2.3.jar to /private/var/folders/pm/y4lv5tyd1rzfr9sx2jzdn2jw0000gn/T/spark-cfacd13f-24e8-44f3-9f53-60fe7394b8d7/userFiles-7c115a81-0f80-44b6-87b1-a06e3c8737ec/fetchFileTemp7649207073725741888.tmp\n",
      "21/09/11 23:51:16 INFO Executor: Adding file:/private/var/folders/pm/y4lv5tyd1rzfr9sx2jzdn2jw0000gn/T/spark-cfacd13f-24e8-44f3-9f53-60fe7394b8d7/userFiles-7c115a81-0f80-44b6-87b1-a06e3c8737ec/json-smart-2.3.jar to class loader\n",
      "21/09/11 23:51:16 INFO Executor: Fetching spark://192.168.0.71:63870/jars/jersey-container-servlet-core-2.30.jar with timestamp 1631429472401\n",
      "21/09/11 23:51:16 INFO Utils: Fetching spark://192.168.0.71:63870/jars/jersey-container-servlet-core-2.30.jar to /private/var/folders/pm/y4lv5tyd1rzfr9sx2jzdn2jw0000gn/T/spark-cfacd13f-24e8-44f3-9f53-60fe7394b8d7/userFiles-7c115a81-0f80-44b6-87b1-a06e3c8737ec/fetchFileTemp7406420079658724124.tmp\n",
      "21/09/11 23:51:16 INFO Executor: Adding file:/private/var/folders/pm/y4lv5tyd1rzfr9sx2jzdn2jw0000gn/T/spark-cfacd13f-24e8-44f3-9f53-60fe7394b8d7/userFiles-7c115a81-0f80-44b6-87b1-a06e3c8737ec/jersey-container-servlet-core-2.30.jar to class loader\n",
      "21/09/11 23:51:16 INFO Executor: Fetching spark://192.168.0.71:63870/jars/pprint_2.12-0.6.0-sources.jar with timestamp 1631429472401\n",
      "21/09/11 23:51:16 INFO Utils: Fetching spark://192.168.0.71:63870/jars/pprint_2.12-0.6.0-sources.jar to /private/var/folders/pm/y4lv5tyd1rzfr9sx2jzdn2jw0000gn/T/spark-cfacd13f-24e8-44f3-9f53-60fe7394b8d7/userFiles-7c115a81-0f80-44b6-87b1-a06e3c8737ec/fetchFileTemp511273343432829168.tmp\n",
      "21/09/11 23:51:16 INFO Executor: Adding file:/private/var/folders/pm/y4lv5tyd1rzfr9sx2jzdn2jw0000gn/T/spark-cfacd13f-24e8-44f3-9f53-60fe7394b8d7/userFiles-7c115a81-0f80-44b6-87b1-a06e3c8737ec/pprint_2.12-0.6.0-sources.jar to class loader\n",
      "21/09/11 23:51:16 INFO Executor: Fetching spark://192.168.0.71:63870/jars/ammonite-repl-api_2.12.11-2.3.8-36-1cce53f3-sources.jar with timestamp 1631429472401\n",
      "21/09/11 23:51:16 INFO Utils: Fetching spark://192.168.0.71:63870/jars/ammonite-repl-api_2.12.11-2.3.8-36-1cce53f3-sources.jar to /private/var/folders/pm/y4lv5tyd1rzfr9sx2jzdn2jw0000gn/T/spark-cfacd13f-24e8-44f3-9f53-60fe7394b8d7/userFiles-7c115a81-0f80-44b6-87b1-a06e3c8737ec/fetchFileTemp2482758186470731492.tmp\n",
      "21/09/11 23:51:16 INFO Executor: Adding file:/private/var/folders/pm/y4lv5tyd1rzfr9sx2jzdn2jw0000gn/T/spark-cfacd13f-24e8-44f3-9f53-60fe7394b8d7/userFiles-7c115a81-0f80-44b6-87b1-a06e3c8737ec/ammonite-repl-api_2.12.11-2.3.8-36-1cce53f3-sources.jar to class loader\n",
      "21/09/11 23:51:16 INFO Executor: Fetching spark://192.168.0.71:63870/jars/commons-beanutils-1.9.3.jar with timestamp 1631429472401\n",
      "21/09/11 23:51:16 INFO Utils: Fetching spark://192.168.0.71:63870/jars/commons-beanutils-1.9.3.jar to /private/var/folders/pm/y4lv5tyd1rzfr9sx2jzdn2jw0000gn/T/spark-cfacd13f-24e8-44f3-9f53-60fe7394b8d7/userFiles-7c115a81-0f80-44b6-87b1-a06e3c8737ec/fetchFileTemp4137716954625552626.tmp\n",
      "21/09/11 23:51:16 INFO Executor: Adding file:/private/var/folders/pm/y4lv5tyd1rzfr9sx2jzdn2jw0000gn/T/spark-cfacd13f-24e8-44f3-9f53-60fe7394b8d7/userFiles-7c115a81-0f80-44b6-87b1-a06e3c8737ec/commons-beanutils-1.9.3.jar to class loader\n",
      "21/09/11 23:51:16 INFO Executor: Fetching spark://192.168.0.71:63870/jars/scala-kernel-api_2.12.11-0.11.1.jar with timestamp 1631429472401\n",
      "21/09/11 23:51:16 INFO Utils: Fetching spark://192.168.0.71:63870/jars/scala-kernel-api_2.12.11-0.11.1.jar to /private/var/folders/pm/y4lv5tyd1rzfr9sx2jzdn2jw0000gn/T/spark-cfacd13f-24e8-44f3-9f53-60fe7394b8d7/userFiles-7c115a81-0f80-44b6-87b1-a06e3c8737ec/fetchFileTemp7454531214769614363.tmp\n",
      "21/09/11 23:51:16 INFO Executor: Adding file:/private/var/folders/pm/y4lv5tyd1rzfr9sx2jzdn2jw0000gn/T/spark-cfacd13f-24e8-44f3-9f53-60fe7394b8d7/userFiles-7c115a81-0f80-44b6-87b1-a06e3c8737ec/scala-kernel-api_2.12.11-0.11.1.jar to class loader\n",
      "21/09/11 23:51:16 INFO Executor: Fetching spark://192.168.0.71:63870/jars/jakarta.servlet-api-4.0.3.jar with timestamp 1631429472401\n",
      "21/09/11 23:51:16 INFO Utils: Fetching spark://192.168.0.71:63870/jars/jakarta.servlet-api-4.0.3.jar to /private/var/folders/pm/y4lv5tyd1rzfr9sx2jzdn2jw0000gn/T/spark-cfacd13f-24e8-44f3-9f53-60fe7394b8d7/userFiles-7c115a81-0f80-44b6-87b1-a06e3c8737ec/fetchFileTemp7026073045986900075.tmp\n",
      "21/09/11 23:51:16 INFO Executor: Adding file:/private/var/folders/pm/y4lv5tyd1rzfr9sx2jzdn2jw0000gn/T/spark-cfacd13f-24e8-44f3-9f53-60fe7394b8d7/userFiles-7c115a81-0f80-44b6-87b1-a06e3c8737ec/jakarta.servlet-api-4.0.3.jar to class loader\n",
      "21/09/11 23:51:16 INFO Utils: Successfully started service 'org.apache.spark.network.netty.NettyBlockTransferService' on port 63872.\n",
      "21/09/11 23:51:16 INFO NettyBlockTransferService: Server created on 192.168.0.71:63872\n",
      "21/09/11 23:51:16 INFO BlockManager: Using org.apache.spark.storage.RandomBlockReplicationPolicy for block replication policy\n",
      "21/09/11 23:51:16 INFO BlockManagerMaster: Registering BlockManager BlockManagerId(driver, 192.168.0.71, 63872, None)\n",
      "21/09/11 23:51:16 INFO BlockManagerMasterEndpoint: Registering block manager 192.168.0.71:63872 with 2004.6 MiB RAM, BlockManagerId(driver, 192.168.0.71, 63872, None)\n",
      "21/09/11 23:51:16 INFO BlockManagerMaster: Registered BlockManager BlockManagerId(driver, 192.168.0.71, 63872, None)\n",
      "21/09/11 23:51:16 INFO BlockManager: Initialized BlockManager: BlockManagerId(driver, 192.168.0.71, 63872, None)\n"
     ]
    },
    {
     "output_type": "display_data",
     "data": {
      "text/html": [
       "<a target=\"_blank\" href=\"http://192.168.0.71:4041\">Spark UI</a>"
      ]
     },
     "metadata": {}
    },
    {
     "output_type": "execute_result",
     "data": {
      "text/plain": [
       "\u001b[36mspark\u001b[39m: \u001b[32mSparkSession\u001b[39m = org.apache.spark.sql.SparkSession@3b4f38f7"
      ]
     },
     "metadata": {},
     "execution_count": 2
    }
   ],
   "metadata": {}
  },
  {
   "cell_type": "code",
   "execution_count": 3,
   "source": [
    " val df = spark.read.format(\"json\")\n",
    "    .load(\"/Users/mehdi/Documents/Spark-The-Definitive-Guide/data/flight-data/json/2015-summary.json\")"
   ],
   "outputs": [
    {
     "output_type": "stream",
     "name": "stderr",
     "text": [
      "21/09/11 23:51:36 INFO SharedState: Setting hive.metastore.warehouse.dir ('null') to the value of spark.sql.warehouse.dir ('file:/Users/mehdi/Documents/Spark-The-Definitive-Guide/Notebooks/spark-warehouse').\n",
      "21/09/11 23:51:36 INFO SharedState: Warehouse path is 'file:/Users/mehdi/Documents/Spark-The-Definitive-Guide/Notebooks/spark-warehouse'.\n",
      "21/09/11 23:51:37 INFO InMemoryFileIndex: It took 26 ms to list leaf files for 1 paths.\n",
      "21/09/11 23:51:37 INFO InMemoryFileIndex: It took 1 ms to list leaf files for 1 paths.\n",
      "21/09/11 23:51:39 INFO FileSourceStrategy: Pushed Filters: \n",
      "21/09/11 23:51:39 INFO FileSourceStrategy: Post-Scan Filters: \n",
      "21/09/11 23:51:39 INFO FileSourceStrategy: Output Data Schema: struct<value: string>\n",
      "21/09/11 23:51:39 INFO MemoryStore: Block broadcast_0 stored as values in memory (estimated size 390.8 KiB, free 2004.2 MiB)\n",
      "21/09/11 23:51:39 INFO MemoryStore: Block broadcast_0_piece0 stored as bytes in memory (estimated size 37.8 KiB, free 2004.2 MiB)\n",
      "21/09/11 23:51:39 INFO BlockManagerInfo: Added broadcast_0_piece0 in memory on 192.168.0.71:63872 (size: 37.8 KiB, free: 2004.6 MiB)\n",
      "21/09/11 23:51:39 INFO SparkContext: Created broadcast 0 from load at cmd2.sc:2\n",
      "21/09/11 23:51:39 INFO FileSourceScanExec: Planning scan with bin packing, max size: 4194304 bytes, open cost is considered as scanning 4194304 bytes.\n",
      "21/09/11 23:51:39 INFO SparkContext: Starting job: load at cmd2.sc:2\n",
      "21/09/11 23:51:39 INFO DAGScheduler: Got job 0 (load at cmd2.sc:2) with 1 output partitions\n",
      "21/09/11 23:51:39 INFO DAGScheduler: Final stage: ResultStage 0 (load at cmd2.sc:2)\n",
      "21/09/11 23:51:39 INFO DAGScheduler: Parents of final stage: List()\n",
      "21/09/11 23:51:39 INFO DAGScheduler: Missing parents: List()\n",
      "21/09/11 23:51:39 INFO DAGScheduler: Submitting ResultStage 0 (MapPartitionsRDD[3] at load at cmd2.sc:2), which has no missing parents\n"
     ]
    },
    {
     "output_type": "display_data",
     "data": {
      "text/html": [
       "<script>\n",
       "var comm = Jupyter.notebook.kernel.comm_manager.new_comm('cancel-stage-76b73b70-20d7-4a2d-b1d6-07c847a45a5d', {});\n",
       "\n",
       "function cancelStage(stageId) {\n",
       "  console.log('Cancelling stage ' + stageId);\n",
       "  comm.send({ 'stageId': stageId });\n",
       "}\n",
       "</script>\n",
       "          "
      ]
     },
     "metadata": {}
    },
    {
     "output_type": "display_data",
     "data": {
      "text/html": [
       "<div>\n",
       "  <span style=\"float: left;\">load at cmd2.sc:2</span>\n",
       "</div>\n"
      ]
     },
     "metadata": {}
    },
    {
     "output_type": "display_data",
     "data": {
      "text/html": [
       "<div class=\"progress\">\n",
       "  <div class=\"progress-bar\" role=\"progressbar\" style=\"background-color: blue; width: 100%; word-wrap: normal; white-space: nowrap; text-align: center; color: white\" aria-valuenow=\"100\" aria-valuemin=\"0\" aria-valuemax=\"100\">\n",
       "    1 / 1\n",
       "  </div>\n",
       "  <div class=\"progress-bar\" role=\"progressbar\" style=\"background-color: red; width: 0%\" aria-valuenow=\"0\" aria-valuemin=\"0\" aria-valuemax=\"100\"></div>\n",
       "</div>\n"
      ]
     },
     "metadata": {}
    },
    {
     "output_type": "stream",
     "name": "stderr",
     "text": [
      "21/09/11 23:51:39 INFO MemoryStore: Block broadcast_1 stored as values in memory (estimated size 55.9 KiB, free 2004.1 MiB)\n",
      "21/09/11 23:51:39 INFO MemoryStore: Block broadcast_1_piece0 stored as bytes in memory (estimated size 16.0 KiB, free 2004.1 MiB)\n",
      "21/09/11 23:51:39 INFO BlockManagerInfo: Added broadcast_1_piece0 in memory on 192.168.0.71:63872 (size: 16.0 KiB, free: 2004.5 MiB)\n",
      "21/09/11 23:51:39 INFO SparkContext: Created broadcast 1 from broadcast at DAGScheduler.scala:1383\n",
      "21/09/11 23:51:39 INFO DAGScheduler: Submitting 1 missing tasks from ResultStage 0 (MapPartitionsRDD[3] at load at cmd2.sc:2) (first 15 tasks are for partitions Vector(0))\n",
      "21/09/11 23:51:39 INFO TaskSchedulerImpl: Adding task set 0.0 with 1 tasks resource profile 0\n",
      "21/09/11 23:51:39 INFO TaskSetManager: Starting task 0.0 in stage 0.0 (TID 0) (192.168.0.71, executor driver, partition 0, PROCESS_LOCAL, 4921 bytes) taskResourceAssignments Map()\n",
      "21/09/11 23:51:39 INFO Executor: Running task 0.0 in stage 0.0 (TID 0)\n",
      "21/09/11 23:51:40 INFO FileScanRDD: Reading File path: file:///Users/mehdi/Documents/Spark-The-Definitive-Guide/data/flight-data/json/2015-summary.json, range: 0-21368, partition values: [empty row]\n",
      "21/09/11 23:51:40 INFO CodeGenerator: Code generated in 391.231033 ms\n",
      "21/09/11 23:51:40 INFO Executor: Finished task 0.0 in stage 0.0 (TID 0). 2066 bytes result sent to driver\n",
      "21/09/11 23:51:40 INFO TaskSetManager: Finished task 0.0 in stage 0.0 (TID 0) in 812 ms on 192.168.0.71 (executor driver) (1/1)\n",
      "21/09/11 23:51:40 INFO TaskSchedulerImpl: Removed TaskSet 0.0, whose tasks have all completed, from pool \n",
      "21/09/11 23:51:40 INFO DAGScheduler: ResultStage 0 (load at cmd2.sc:2) finished in 0.986 s\n",
      "21/09/11 23:51:40 INFO DAGScheduler: Job 0 is finished. Cancelling potential speculative or zombie tasks for this job\n",
      "21/09/11 23:51:40 INFO TaskSchedulerImpl: Killing all running tasks in stage 0: Stage finished\n",
      "21/09/11 23:51:40 INFO DAGScheduler: Job 0 finished: load at cmd2.sc:2, took 1.037453 s\n"
     ]
    },
    {
     "output_type": "execute_result",
     "data": {
      "text/plain": [
       "\u001b[36mdf\u001b[39m: \u001b[32mDataFrame\u001b[39m = [DEST_COUNTRY_NAME: string, ORIGIN_COUNTRY_NAME: string ... 1 more field]"
      ]
     },
     "metadata": {},
     "execution_count": 3
    }
   ],
   "metadata": {}
  },
  {
   "cell_type": "code",
   "execution_count": 4,
   "source": [
    "spark.read.format(\"json\").load(\"/Users/mehdi/Documents/Spark-The-Definitive-Guide/data/flight-data/json/2015-summary.json\").schema"
   ],
   "outputs": [
    {
     "output_type": "stream",
     "name": "stderr",
     "text": [
      "21/09/11 23:52:47 INFO InMemoryFileIndex: It took 1 ms to list leaf files for 1 paths.\n",
      "21/09/11 23:52:47 INFO InMemoryFileIndex: It took 1 ms to list leaf files for 1 paths.\n",
      "21/09/11 23:52:48 INFO FileSourceStrategy: Pushed Filters: \n",
      "21/09/11 23:52:48 INFO FileSourceStrategy: Post-Scan Filters: \n",
      "21/09/11 23:52:48 INFO FileSourceStrategy: Output Data Schema: struct<value: string>\n",
      "21/09/11 23:52:48 INFO MemoryStore: Block broadcast_2 stored as values in memory (estimated size 390.8 KiB, free 2003.7 MiB)\n",
      "21/09/11 23:52:48 INFO MemoryStore: Block broadcast_2_piece0 stored as bytes in memory (estimated size 37.8 KiB, free 2003.7 MiB)\n",
      "21/09/11 23:52:48 INFO BlockManagerInfo: Added broadcast_2_piece0 in memory on 192.168.0.71:63872 (size: 37.8 KiB, free: 2004.5 MiB)\n",
      "21/09/11 23:52:48 INFO SparkContext: Created broadcast 2 from load at cmd3.sc:1\n",
      "21/09/11 23:52:48 INFO FileSourceScanExec: Planning scan with bin packing, max size: 4194304 bytes, open cost is considered as scanning 4194304 bytes.\n",
      "21/09/11 23:52:48 INFO SparkContext: Starting job: load at cmd3.sc:1\n",
      "21/09/11 23:52:48 INFO DAGScheduler: Got job 1 (load at cmd3.sc:1) with 1 output partitions\n",
      "21/09/11 23:52:48 INFO DAGScheduler: Final stage: ResultStage 1 (load at cmd3.sc:1)\n",
      "21/09/11 23:52:48 INFO DAGScheduler: Parents of final stage: List()\n",
      "21/09/11 23:52:48 INFO DAGScheduler: Missing parents: List()\n",
      "21/09/11 23:52:48 INFO DAGScheduler: Submitting ResultStage 1 (MapPartitionsRDD[7] at load at cmd3.sc:1), which has no missing parents\n"
     ]
    },
    {
     "output_type": "display_data",
     "data": {
      "text/html": [
       "<div>\n",
       "  <span style=\"float: left;\">load at cmd3.sc:1</span>\n",
       "</div>\n"
      ]
     },
     "metadata": {}
    },
    {
     "output_type": "display_data",
     "data": {
      "text/html": [
       "<div class=\"progress\">\n",
       "  <div class=\"progress-bar\" role=\"progressbar\" style=\"background-color: blue; width: 100%; word-wrap: normal; white-space: nowrap; text-align: center; color: white\" aria-valuenow=\"100\" aria-valuemin=\"0\" aria-valuemax=\"100\">\n",
       "    1 / 1\n",
       "  </div>\n",
       "  <div class=\"progress-bar\" role=\"progressbar\" style=\"background-color: red; width: 0%\" aria-valuenow=\"0\" aria-valuemin=\"0\" aria-valuemax=\"100\"></div>\n",
       "</div>\n"
      ]
     },
     "metadata": {}
    },
    {
     "output_type": "stream",
     "name": "stderr",
     "text": [
      "21/09/11 23:52:48 INFO MemoryStore: Block broadcast_3 stored as values in memory (estimated size 55.9 KiB, free 2003.6 MiB)\n",
      "21/09/11 23:52:48 INFO MemoryStore: Block broadcast_3_piece0 stored as bytes in memory (estimated size 16.0 KiB, free 2003.6 MiB)\n",
      "21/09/11 23:52:48 INFO BlockManagerInfo: Added broadcast_3_piece0 in memory on 192.168.0.71:63872 (size: 16.0 KiB, free: 2004.5 MiB)\n",
      "21/09/11 23:52:48 INFO SparkContext: Created broadcast 3 from broadcast at DAGScheduler.scala:1383\n",
      "21/09/11 23:52:48 INFO DAGScheduler: Submitting 1 missing tasks from ResultStage 1 (MapPartitionsRDD[7] at load at cmd3.sc:1) (first 15 tasks are for partitions Vector(0))\n",
      "21/09/11 23:52:48 INFO TaskSchedulerImpl: Adding task set 1.0 with 1 tasks resource profile 0\n",
      "21/09/11 23:52:48 INFO TaskSetManager: Starting task 0.0 in stage 1.0 (TID 1) (192.168.0.71, executor driver, partition 0, PROCESS_LOCAL, 4921 bytes) taskResourceAssignments Map()\n",
      "21/09/11 23:52:48 INFO Executor: Running task 0.0 in stage 1.0 (TID 1)\n",
      "21/09/11 23:52:48 INFO FileScanRDD: Reading File path: file:///Users/mehdi/Documents/Spark-The-Definitive-Guide/data/flight-data/json/2015-summary.json, range: 0-21368, partition values: [empty row]\n",
      "21/09/11 23:52:48 INFO Executor: Finished task 0.0 in stage 1.0 (TID 1). 2023 bytes result sent to driver\n",
      "21/09/11 23:52:48 INFO TaskSetManager: Finished task 0.0 in stage 1.0 (TID 1) in 39 ms on 192.168.0.71 (executor driver) (1/1)\n",
      "21/09/11 23:52:48 INFO TaskSchedulerImpl: Removed TaskSet 1.0, whose tasks have all completed, from pool \n",
      "21/09/11 23:52:48 INFO DAGScheduler: ResultStage 1 (load at cmd3.sc:1) finished in 0.052 s\n",
      "21/09/11 23:52:48 INFO DAGScheduler: Job 1 is finished. Cancelling potential speculative or zombie tasks for this job\n",
      "21/09/11 23:52:48 INFO TaskSchedulerImpl: Killing all running tasks in stage 1: Stage finished\n",
      "21/09/11 23:52:48 INFO DAGScheduler: Job 1 finished: load at cmd3.sc:1, took 0.056487 s\n"
     ]
    },
    {
     "output_type": "execute_result",
     "data": {
      "text/plain": [
       "\u001b[36mres3\u001b[39m: \u001b[32mtypes\u001b[39m.\u001b[32mStructType\u001b[39m = \u001b[33mStructType\u001b[39m(\n",
       "  \u001b[33mStructField\u001b[39m(\u001b[32m\"DEST_COUNTRY_NAME\"\u001b[39m, StringType, true, {}),\n",
       "  \u001b[33mStructField\u001b[39m(\u001b[32m\"ORIGIN_COUNTRY_NAME\"\u001b[39m, StringType, true, {}),\n",
       "  \u001b[33mStructField\u001b[39m(\u001b[32m\"count\"\u001b[39m, LongType, true, {})\n",
       ")"
      ]
     },
     "metadata": {},
     "execution_count": 4
    }
   ],
   "metadata": {}
  },
  {
   "cell_type": "code",
   "execution_count": 5,
   "source": [
    "import org.apache.spark.sql.types.{StructField, StructType, StringType, LongType}\n",
    "import org.apache.spark.sql.types.Metadata\n",
    "val myManualSchema = StructType(Array(\n",
    "    StructField(\"DEST_COUNTRY_NAME\", StringType, true),\n",
    "    StructField(\"ORIGIN_COUNTRY_NAME\", StringType, true),\n",
    "    StructField(\"count\", LongType, false,\n",
    "    Metadata.fromJson(\"{\\\"hello\\\":\\\"world\\\"}\"))\n",
    "  ))\n",
    " \n",
    "val df = spark.read.format(\"json\").schema(myManualSchema)\n",
    "    .load(\"/Users/mehdi/Documents/Spark-The-Definitive-Guide/data/flight-data/json/2015-summary.json\")\n"
   ],
   "outputs": [
    {
     "output_type": "stream",
     "name": "stderr",
     "text": [
      "21/09/11 23:56:31 INFO InMemoryFileIndex: It took 0 ms to list leaf files for 1 paths.\n"
     ]
    },
    {
     "output_type": "execute_result",
     "data": {
      "text/plain": [
       "\u001b[32mimport \u001b[39m\u001b[36morg.apache.spark.sql.types.{StructField, StructType, StringType, LongType}\n",
       "\u001b[39m\n",
       "\u001b[32mimport \u001b[39m\u001b[36morg.apache.spark.sql.types.Metadata\n",
       "\u001b[39m\n",
       "\u001b[36mmyManualSchema\u001b[39m: \u001b[32mStructType\u001b[39m = \u001b[33mStructType\u001b[39m(\n",
       "  \u001b[33mStructField\u001b[39m(\u001b[32m\"DEST_COUNTRY_NAME\"\u001b[39m, StringType, true, {}),\n",
       "  \u001b[33mStructField\u001b[39m(\u001b[32m\"ORIGIN_COUNTRY_NAME\"\u001b[39m, StringType, true, {}),\n",
       "  \u001b[33mStructField\u001b[39m(\u001b[32m\"count\"\u001b[39m, LongType, false, {\"hello\":\"world\"})\n",
       ")\n",
       "\u001b[36mdf\u001b[39m: \u001b[32mDataFrame\u001b[39m = [DEST_COUNTRY_NAME: string, ORIGIN_COUNTRY_NAME: string ... 1 more field]"
      ]
     },
     "metadata": {},
     "execution_count": 5
    }
   ],
   "metadata": {}
  },
  {
   "cell_type": "code",
   "execution_count": 6,
   "source": [
    "import org.apache.spark.sql.functions.{col, column}\n",
    "col(\"someColumnName\")\n",
    "column(\"someColumnName\")"
   ],
   "outputs": [
    {
     "output_type": "execute_result",
     "data": {
      "text/plain": [
       "\u001b[32mimport \u001b[39m\u001b[36morg.apache.spark.sql.functions.{col, column}\n",
       "\u001b[39m\n",
       "\u001b[36mres5_1\u001b[39m: \u001b[32mColumn\u001b[39m = someColumnName\n",
       "\u001b[36mres5_2\u001b[39m: \u001b[32mColumn\u001b[39m = someColumnName"
      ]
     },
     "metadata": {},
     "execution_count": 6
    }
   ],
   "metadata": {}
  },
  {
   "cell_type": "code",
   "execution_count": 7,
   "source": [
    "df.col(\"count\")"
   ],
   "outputs": [
    {
     "output_type": "stream",
     "name": "stderr",
     "text": [
      "21/09/12 00:03:26 INFO BlockManagerInfo: Removed broadcast_1_piece0 on 192.168.0.71:63872 in memory (size: 16.0 KiB, free: 2004.5 MiB)\n",
      "21/09/12 00:03:26 INFO BlockManagerInfo: Removed broadcast_2_piece0 on 192.168.0.71:63872 in memory (size: 37.8 KiB, free: 2004.5 MiB)\n",
      "21/09/12 00:03:26 INFO BlockManagerInfo: Removed broadcast_0_piece0 on 192.168.0.71:63872 in memory (size: 37.8 KiB, free: 2004.6 MiB)\n",
      "21/09/12 00:03:26 INFO BlockManagerInfo: Removed broadcast_3_piece0 on 192.168.0.71:63872 in memory (size: 16.0 KiB, free: 2004.6 MiB)\n"
     ]
    },
    {
     "output_type": "execute_result",
     "data": {
      "text/plain": [
       "\u001b[36mres6\u001b[39m: \u001b[32mColumn\u001b[39m = count"
      ]
     },
     "metadata": {},
     "execution_count": 7
    }
   ],
   "metadata": {}
  },
  {
   "cell_type": "code",
   "execution_count": 8,
   "source": [
    "import org.apache.spark.sql.functions.expr\n",
    "expr(\"(((someCol + 5) * 200) - 6) < otherCol\")"
   ],
   "outputs": [
    {
     "output_type": "execute_result",
     "data": {
      "text/plain": [
       "\u001b[32mimport \u001b[39m\u001b[36morg.apache.spark.sql.functions.expr\n",
       "\u001b[39m\n",
       "\u001b[36mres7_1\u001b[39m: \u001b[32mColumn\u001b[39m = ((((someCol + 5) * 200) - 6) < otherCol)"
      ]
     },
     "metadata": {},
     "execution_count": 8
    }
   ],
   "metadata": {}
  },
  {
   "cell_type": "code",
   "execution_count": 9,
   "source": [
    "spark.read.format(\"json\")\n",
    "\t\t  .load(\"/Users/mehdi/Documents/Spark-The-Definitive-Guide/data/flight-data/json/2015-summary.json\")\n",
    "    \t  .columns"
   ],
   "outputs": [
    {
     "output_type": "stream",
     "name": "stderr",
     "text": [
      "21/09/12 00:06:27 INFO InMemoryFileIndex: It took 1 ms to list leaf files for 1 paths.\n",
      "21/09/12 00:06:27 INFO InMemoryFileIndex: It took 0 ms to list leaf files for 1 paths.\n",
      "21/09/12 00:06:27 INFO FileSourceStrategy: Pushed Filters: \n",
      "21/09/12 00:06:27 INFO FileSourceStrategy: Post-Scan Filters: \n",
      "21/09/12 00:06:27 INFO FileSourceStrategy: Output Data Schema: struct<value: string>\n",
      "21/09/12 00:06:27 INFO MemoryStore: Block broadcast_4 stored as values in memory (estimated size 390.8 KiB, free 2004.2 MiB)\n",
      "21/09/12 00:06:27 INFO MemoryStore: Block broadcast_4_piece0 stored as bytes in memory (estimated size 37.8 KiB, free 2004.2 MiB)\n",
      "21/09/12 00:06:27 INFO BlockManagerInfo: Added broadcast_4_piece0 in memory on 192.168.0.71:63872 (size: 37.8 KiB, free: 2004.6 MiB)\n",
      "21/09/12 00:06:27 INFO SparkContext: Created broadcast 4 from load at cmd8.sc:2\n",
      "21/09/12 00:06:27 INFO FileSourceScanExec: Planning scan with bin packing, max size: 4194304 bytes, open cost is considered as scanning 4194304 bytes.\n",
      "21/09/12 00:06:27 INFO SparkContext: Starting job: load at cmd8.sc:2\n",
      "21/09/12 00:06:27 INFO DAGScheduler: Got job 2 (load at cmd8.sc:2) with 1 output partitions\n",
      "21/09/12 00:06:27 INFO DAGScheduler: Final stage: ResultStage 2 (load at cmd8.sc:2)\n",
      "21/09/12 00:06:27 INFO DAGScheduler: Parents of final stage: List()\n",
      "21/09/12 00:06:27 INFO DAGScheduler: Missing parents: List()\n",
      "21/09/12 00:06:27 INFO DAGScheduler: Submitting ResultStage 2 (MapPartitionsRDD[11] at load at cmd8.sc:2), which has no missing parents\n"
     ]
    },
    {
     "output_type": "display_data",
     "data": {
      "text/html": [
       "<div>\n",
       "  <span style=\"float: left;\">load at cmd8.sc:2</span>\n",
       "</div>\n"
      ]
     },
     "metadata": {}
    },
    {
     "output_type": "display_data",
     "data": {
      "text/html": [
       "<div class=\"progress\">\n",
       "  <div class=\"progress-bar\" role=\"progressbar\" style=\"background-color: blue; width: 100%; word-wrap: normal; white-space: nowrap; text-align: center; color: white\" aria-valuenow=\"100\" aria-valuemin=\"0\" aria-valuemax=\"100\">\n",
       "    1 / 1\n",
       "  </div>\n",
       "  <div class=\"progress-bar\" role=\"progressbar\" style=\"background-color: red; width: 0%\" aria-valuenow=\"0\" aria-valuemin=\"0\" aria-valuemax=\"100\"></div>\n",
       "</div>\n"
      ]
     },
     "metadata": {}
    },
    {
     "output_type": "stream",
     "name": "stderr",
     "text": [
      "21/09/12 00:06:27 INFO MemoryStore: Block broadcast_5 stored as values in memory (estimated size 55.9 KiB, free 2004.1 MiB)\n",
      "21/09/12 00:06:27 INFO MemoryStore: Block broadcast_5_piece0 stored as bytes in memory (estimated size 16.0 KiB, free 2004.1 MiB)\n",
      "21/09/12 00:06:27 INFO BlockManagerInfo: Added broadcast_5_piece0 in memory on 192.168.0.71:63872 (size: 16.0 KiB, free: 2004.5 MiB)\n",
      "21/09/12 00:06:27 INFO SparkContext: Created broadcast 5 from broadcast at DAGScheduler.scala:1383\n",
      "21/09/12 00:06:27 INFO DAGScheduler: Submitting 1 missing tasks from ResultStage 2 (MapPartitionsRDD[11] at load at cmd8.sc:2) (first 15 tasks are for partitions Vector(0))\n",
      "21/09/12 00:06:27 INFO TaskSchedulerImpl: Adding task set 2.0 with 1 tasks resource profile 0\n",
      "21/09/12 00:06:27 INFO TaskSetManager: Starting task 0.0 in stage 2.0 (TID 2) (192.168.0.71, executor driver, partition 0, PROCESS_LOCAL, 4921 bytes) taskResourceAssignments Map()\n",
      "21/09/12 00:06:27 INFO Executor: Running task 0.0 in stage 2.0 (TID 2)\n",
      "21/09/12 00:06:27 INFO FileScanRDD: Reading File path: file:///Users/mehdi/Documents/Spark-The-Definitive-Guide/data/flight-data/json/2015-summary.json, range: 0-21368, partition values: [empty row]\n",
      "21/09/12 00:06:27 INFO Executor: Finished task 0.0 in stage 2.0 (TID 2). 2023 bytes result sent to driver\n",
      "21/09/12 00:06:27 INFO TaskSetManager: Finished task 0.0 in stage 2.0 (TID 2) in 29 ms on 192.168.0.71 (executor driver) (1/1)\n",
      "21/09/12 00:06:27 INFO TaskSchedulerImpl: Removed TaskSet 2.0, whose tasks have all completed, from pool \n",
      "21/09/12 00:06:27 INFO DAGScheduler: ResultStage 2 (load at cmd8.sc:2) finished in 0.041 s\n",
      "21/09/12 00:06:27 INFO DAGScheduler: Job 2 is finished. Cancelling potential speculative or zombie tasks for this job\n",
      "21/09/12 00:06:27 INFO TaskSchedulerImpl: Killing all running tasks in stage 2: Stage finished\n",
      "21/09/12 00:06:27 INFO DAGScheduler: Job 2 finished: load at cmd8.sc:2, took 0.045522 s\n"
     ]
    },
    {
     "output_type": "execute_result",
     "data": {
      "text/plain": [
       "\u001b[36mres8\u001b[39m: \u001b[32mArray\u001b[39m[\u001b[32mString\u001b[39m] = \u001b[33mArray\u001b[39m(\u001b[32m\"DEST_COUNTRY_NAME\"\u001b[39m, \u001b[32m\"ORIGIN_COUNTRY_NAME\"\u001b[39m, \u001b[32m\"count\"\u001b[39m)"
      ]
     },
     "metadata": {},
     "execution_count": 9
    }
   ],
   "metadata": {}
  },
  {
   "cell_type": "code",
   "execution_count": 10,
   "source": [
    "df.first()"
   ],
   "outputs": [
    {
     "output_type": "stream",
     "name": "stderr",
     "text": [
      "21/09/12 00:07:03 INFO FileSourceStrategy: Pushed Filters: \n",
      "21/09/12 00:07:03 INFO FileSourceStrategy: Post-Scan Filters: \n",
      "21/09/12 00:07:03 INFO FileSourceStrategy: Output Data Schema: struct<DEST_COUNTRY_NAME: string, ORIGIN_COUNTRY_NAME: string, count: bigint ... 1 more fields>\n",
      "21/09/12 00:07:03 INFO MemoryStore: Block broadcast_6 stored as values in memory (estimated size 390.7 KiB, free 2003.7 MiB)\n",
      "21/09/12 00:07:03 INFO MemoryStore: Block broadcast_6_piece0 stored as bytes in memory (estimated size 37.8 KiB, free 2003.7 MiB)\n",
      "21/09/12 00:07:03 INFO BlockManagerInfo: Added broadcast_6_piece0 in memory on 192.168.0.71:63872 (size: 37.8 KiB, free: 2004.5 MiB)\n",
      "21/09/12 00:07:03 INFO SparkContext: Created broadcast 6 from first at cmd9.sc:1\n",
      "21/09/12 00:07:03 INFO FileSourceScanExec: Planning scan with bin packing, max size: 4194304 bytes, open cost is considered as scanning 4194304 bytes.\n",
      "21/09/12 00:07:03 INFO SparkContext: Starting job: first at cmd9.sc:1\n",
      "21/09/12 00:07:03 INFO DAGScheduler: Got job 3 (first at cmd9.sc:1) with 1 output partitions\n",
      "21/09/12 00:07:03 INFO DAGScheduler: Final stage: ResultStage 3 (first at cmd9.sc:1)\n",
      "21/09/12 00:07:03 INFO DAGScheduler: Parents of final stage: List()\n",
      "21/09/12 00:07:03 INFO DAGScheduler: Missing parents: List()\n",
      "21/09/12 00:07:03 INFO DAGScheduler: Submitting ResultStage 3 (MapPartitionsRDD[14] at first at cmd9.sc:1), which has no missing parents\n"
     ]
    },
    {
     "output_type": "display_data",
     "data": {
      "text/html": [
       "<div>\n",
       "  <span style=\"float: left;\">first at cmd9.sc:1</span>\n",
       "</div>\n"
      ]
     },
     "metadata": {}
    },
    {
     "output_type": "display_data",
     "data": {
      "text/html": [
       "<div class=\"progress\">\n",
       "  <div class=\"progress-bar\" role=\"progressbar\" style=\"background-color: blue; width: 100%; word-wrap: normal; white-space: nowrap; text-align: center; color: white\" aria-valuenow=\"100\" aria-valuemin=\"0\" aria-valuemax=\"100\">\n",
       "    1 / 1\n",
       "  </div>\n",
       "  <div class=\"progress-bar\" role=\"progressbar\" style=\"background-color: red; width: 0%\" aria-valuenow=\"0\" aria-valuemin=\"0\" aria-valuemax=\"100\"></div>\n",
       "</div>\n"
      ]
     },
     "metadata": {}
    },
    {
     "output_type": "stream",
     "name": "stderr",
     "text": [
      "21/09/12 00:07:03 INFO MemoryStore: Block broadcast_7 stored as values in memory (estimated size 8.7 KiB, free 2003.7 MiB)\n",
      "21/09/12 00:07:03 INFO MemoryStore: Block broadcast_7_piece0 stored as bytes in memory (estimated size 4.9 KiB, free 2003.7 MiB)\n",
      "21/09/12 00:07:03 INFO BlockManagerInfo: Added broadcast_7_piece0 in memory on 192.168.0.71:63872 (size: 4.9 KiB, free: 2004.5 MiB)\n",
      "21/09/12 00:07:03 INFO SparkContext: Created broadcast 7 from broadcast at DAGScheduler.scala:1383\n",
      "21/09/12 00:07:03 INFO DAGScheduler: Submitting 1 missing tasks from ResultStage 3 (MapPartitionsRDD[14] at first at cmd9.sc:1) (first 15 tasks are for partitions Vector(0))\n",
      "21/09/12 00:07:03 INFO TaskSchedulerImpl: Adding task set 3.0 with 1 tasks resource profile 0\n",
      "21/09/12 00:07:03 INFO TaskSetManager: Starting task 0.0 in stage 3.0 (TID 3) (192.168.0.71, executor driver, partition 0, PROCESS_LOCAL, 4921 bytes) taskResourceAssignments Map()\n",
      "21/09/12 00:07:03 INFO Executor: Running task 0.0 in stage 3.0 (TID 3)\n",
      "21/09/12 00:07:03 INFO FileScanRDD: Reading File path: file:///Users/mehdi/Documents/Spark-The-Definitive-Guide/data/flight-data/json/2015-summary.json, range: 0-21368, partition values: [empty row]\n",
      "21/09/12 00:07:03 INFO CodeGenerator: Code generated in 31.394926 ms\n",
      "21/09/12 00:07:03 INFO Executor: Finished task 0.0 in stage 3.0 (TID 3). 1462 bytes result sent to driver\n",
      "21/09/12 00:07:03 INFO TaskSetManager: Finished task 0.0 in stage 3.0 (TID 3) in 90 ms on 192.168.0.71 (executor driver) (1/1)\n",
      "21/09/12 00:07:03 INFO TaskSchedulerImpl: Removed TaskSet 3.0, whose tasks have all completed, from pool \n",
      "21/09/12 00:07:03 INFO DAGScheduler: ResultStage 3 (first at cmd9.sc:1) finished in 0.107 s\n",
      "21/09/12 00:07:03 INFO DAGScheduler: Job 3 is finished. Cancelling potential speculative or zombie tasks for this job\n",
      "21/09/12 00:07:03 INFO TaskSchedulerImpl: Killing all running tasks in stage 3: Stage finished\n",
      "21/09/12 00:07:03 INFO DAGScheduler: Job 3 finished: first at cmd9.sc:1, took 0.111122 s\n",
      "21/09/12 00:07:03 INFO CodeGenerator: Code generated in 20.101124 ms\n"
     ]
    },
    {
     "output_type": "execute_result",
     "data": {
      "text/plain": [
       "\u001b[36mres9\u001b[39m: \u001b[32mRow\u001b[39m = [United States,Romania,15]"
      ]
     },
     "metadata": {},
     "execution_count": 10
    }
   ],
   "metadata": {}
  },
  {
   "cell_type": "markdown",
   "source": [
    "<h2 align=\"left\"><span style=\"font-size: 150%;color:green\"> <b>Creating Rows</b> </span></h2> "
   ],
   "metadata": {}
  },
  {
   "cell_type": "code",
   "execution_count": 12,
   "source": [
    "import org.apache.spark.sql.Row\n",
    "val myRow = Row(\"Hello\", null, 1, false)"
   ],
   "outputs": [
    {
     "output_type": "execute_result",
     "data": {
      "text/plain": [
       "\u001b[32mimport \u001b[39m\u001b[36morg.apache.spark.sql.Row\n",
       "\u001b[39m\n",
       "\u001b[36mmyRow\u001b[39m: \u001b[32mRow\u001b[39m = [Hello,null,1,false]"
      ]
     },
     "metadata": {},
     "execution_count": 12
    }
   ],
   "metadata": {}
  },
  {
   "cell_type": "code",
   "execution_count": 13,
   "source": [
    "myRow(0) // type Any\n",
    "myRow(0).asInstanceOf[String] // String\n",
    "myRow.getString(0) // String\n",
    "myRow.getInt(2) // Int"
   ],
   "outputs": [
    {
     "output_type": "execute_result",
     "data": {
      "text/plain": [
       "\u001b[36mres12_0\u001b[39m: \u001b[32mAny\u001b[39m = \u001b[32m\"Hello\"\u001b[39m\n",
       "\u001b[36mres12_1\u001b[39m: \u001b[32mString\u001b[39m = \u001b[32m\"Hello\"\u001b[39m\n",
       "\u001b[36mres12_2\u001b[39m: \u001b[32mString\u001b[39m = \u001b[32m\"Hello\"\u001b[39m\n",
       "\u001b[36mres12_3\u001b[39m: \u001b[32mInt\u001b[39m = \u001b[32m1\u001b[39m"
      ]
     },
     "metadata": {},
     "execution_count": 13
    }
   ],
   "metadata": {}
  },
  {
   "cell_type": "markdown",
   "source": [
    "<h2 align=\"left\"><span style=\"font-size: 150%;color:green\"> <b>Creating DataFrames</b> </span></h2> "
   ],
   "metadata": {}
  },
  {
   "cell_type": "code",
   "execution_count": 15,
   "source": [
    "val df = spark.read\n",
    "\t\t\t  .format(\"json\")\n",
    "    \t\t  .load(\"/Users/mehdi/Documents/Spark-The-Definitive-Guide/data/flight-data/json/2015-summary.json\")\n",
    "df.createOrReplaceTempView(\"dfTable\")\n"
   ],
   "outputs": [
    {
     "output_type": "stream",
     "name": "stderr",
     "text": [
      "21/09/12 00:47:32 INFO InMemoryFileIndex: It took 4 ms to list leaf files for 1 paths.\n",
      "21/09/12 00:47:32 INFO InMemoryFileIndex: It took 0 ms to list leaf files for 1 paths.\n",
      "21/09/12 00:47:32 INFO FileSourceStrategy: Pushed Filters: \n",
      "21/09/12 00:47:32 INFO FileSourceStrategy: Post-Scan Filters: \n",
      "21/09/12 00:47:32 INFO FileSourceStrategy: Output Data Schema: struct<value: string>\n",
      "21/09/12 00:47:32 INFO MemoryStore: Block broadcast_8 stored as values in memory (estimated size 390.8 KiB, free 2004.2 MiB)\n",
      "21/09/12 00:47:32 INFO MemoryStore: Block broadcast_8_piece0 stored as bytes in memory (estimated size 37.8 KiB, free 2004.2 MiB)\n",
      "21/09/12 00:47:32 INFO BlockManagerInfo: Added broadcast_8_piece0 in memory on 192.168.0.71:63872 (size: 37.8 KiB, free: 2004.6 MiB)\n",
      "21/09/12 00:47:32 INFO SparkContext: Created broadcast 8 from load at cmd14.sc:3\n",
      "21/09/12 00:47:32 INFO FileSourceScanExec: Planning scan with bin packing, max size: 4194304 bytes, open cost is considered as scanning 4194304 bytes.\n",
      "21/09/12 00:47:32 INFO SparkContext: Starting job: load at cmd14.sc:3\n",
      "21/09/12 00:47:32 INFO DAGScheduler: Got job 4 (load at cmd14.sc:3) with 1 output partitions\n",
      "21/09/12 00:47:32 INFO DAGScheduler: Final stage: ResultStage 4 (load at cmd14.sc:3)\n",
      "21/09/12 00:47:32 INFO DAGScheduler: Parents of final stage: List()\n",
      "21/09/12 00:47:32 INFO DAGScheduler: Missing parents: List()\n",
      "21/09/12 00:47:32 INFO DAGScheduler: Submitting ResultStage 4 (MapPartitionsRDD[18] at load at cmd14.sc:3), which has no missing parents\n"
     ]
    },
    {
     "output_type": "display_data",
     "data": {
      "text/html": [
       "<div>\n",
       "  <span style=\"float: left;\">load at cmd14.sc:3</span>\n",
       "</div>\n"
      ]
     },
     "metadata": {}
    },
    {
     "output_type": "display_data",
     "data": {
      "text/html": [
       "<div class=\"progress\">\n",
       "  <div class=\"progress-bar\" role=\"progressbar\" style=\"background-color: blue; width: 100%; word-wrap: normal; white-space: nowrap; text-align: center; color: white\" aria-valuenow=\"100\" aria-valuemin=\"0\" aria-valuemax=\"100\">\n",
       "    1 / 1\n",
       "  </div>\n",
       "  <div class=\"progress-bar\" role=\"progressbar\" style=\"background-color: red; width: 0%\" aria-valuenow=\"0\" aria-valuemin=\"0\" aria-valuemax=\"100\"></div>\n",
       "</div>\n"
      ]
     },
     "metadata": {}
    },
    {
     "output_type": "stream",
     "name": "stderr",
     "text": [
      "21/09/12 00:47:32 INFO MemoryStore: Block broadcast_9 stored as values in memory (estimated size 55.9 KiB, free 2004.1 MiB)\n",
      "21/09/12 00:47:32 INFO MemoryStore: Block broadcast_9_piece0 stored as bytes in memory (estimated size 16.0 KiB, free 2004.1 MiB)\n",
      "21/09/12 00:47:32 INFO BlockManagerInfo: Added broadcast_9_piece0 in memory on 192.168.0.71:63872 (size: 16.0 KiB, free: 2004.5 MiB)\n",
      "21/09/12 00:47:32 INFO SparkContext: Created broadcast 9 from broadcast at DAGScheduler.scala:1383\n",
      "21/09/12 00:47:32 INFO DAGScheduler: Submitting 1 missing tasks from ResultStage 4 (MapPartitionsRDD[18] at load at cmd14.sc:3) (first 15 tasks are for partitions Vector(0))\n",
      "21/09/12 00:47:32 INFO TaskSchedulerImpl: Adding task set 4.0 with 1 tasks resource profile 0\n",
      "21/09/12 00:47:32 INFO TaskSetManager: Starting task 0.0 in stage 4.0 (TID 4) (192.168.0.71, executor driver, partition 0, PROCESS_LOCAL, 4921 bytes) taskResourceAssignments Map()\n",
      "21/09/12 00:47:32 INFO Executor: Running task 0.0 in stage 4.0 (TID 4)\n",
      "21/09/12 00:47:32 INFO FileScanRDD: Reading File path: file:///Users/mehdi/Documents/Spark-The-Definitive-Guide/data/flight-data/json/2015-summary.json, range: 0-21368, partition values: [empty row]\n",
      "21/09/12 00:47:32 INFO Executor: Finished task 0.0 in stage 4.0 (TID 4). 2023 bytes result sent to driver\n",
      "21/09/12 00:47:32 INFO TaskSetManager: Finished task 0.0 in stage 4.0 (TID 4) in 41 ms on 192.168.0.71 (executor driver) (1/1)\n",
      "21/09/12 00:47:32 INFO TaskSchedulerImpl: Removed TaskSet 4.0, whose tasks have all completed, from pool \n",
      "21/09/12 00:47:32 INFO DAGScheduler: ResultStage 4 (load at cmd14.sc:3) finished in 0.066 s\n",
      "21/09/12 00:47:32 INFO DAGScheduler: Job 4 is finished. Cancelling potential speculative or zombie tasks for this job\n",
      "21/09/12 00:47:32 INFO TaskSchedulerImpl: Killing all running tasks in stage 4: Stage finished\n",
      "21/09/12 00:47:32 INFO DAGScheduler: Job 4 finished: load at cmd14.sc:3, took 0.073676 s\n"
     ]
    },
    {
     "output_type": "execute_result",
     "data": {
      "text/plain": [
       "\u001b[36mdf\u001b[39m: \u001b[32mDataFrame\u001b[39m = [DEST_COUNTRY_NAME: string, ORIGIN_COUNTRY_NAME: string ... 1 more field]"
      ]
     },
     "metadata": {},
     "execution_count": 15
    }
   ],
   "metadata": {}
  },
  {
   "cell_type": "code",
   "execution_count": 16,
   "source": [
    "import org.apache.spark.sql.Row\n",
    "import org.apache.spark.sql.types.{StructField, StructType, StringType, LongType}\n",
    "val myManualSchema = new StructType(Array(\n",
    "\t\t\t\t\t\t\t\t\t\t\tnew StructField(\"some\", StringType, true),\n",
    "\t\t\t\t\t\t\t\t\t\t\tnew StructField(\"col\", StringType, true),\n",
    "\t\t\t\t\t\t\t\t\t\t\tnew StructField(\"names\", LongType, false)\n",
    "\t\t\t\t\t\t\t\t\t\t)\n",
    "\t\t\t\t\t\t\t\t\t)\n",
    "val myRows = Seq(Row(\"Hello\", null, 1L))\n",
    "val myRDD = spark.sparkContext.parallelize(myRows)\n",
    "val myDf = spark.createDataFrame(myRDD, myManualSchema)\n",
    "myDf.show()"
   ],
   "outputs": [
    {
     "output_type": "stream",
     "name": "stderr",
     "text": [
      "21/09/12 00:49:17 INFO CodeGenerator: Code generated in 30.500669 ms\n",
      "21/09/12 00:49:17 INFO SparkContext: Starting job: show at cmd15.sc:12\n",
      "21/09/12 00:49:17 INFO DAGScheduler: Got job 5 (show at cmd15.sc:12) with 1 output partitions\n",
      "21/09/12 00:49:17 INFO DAGScheduler: Final stage: ResultStage 5 (show at cmd15.sc:12)\n",
      "21/09/12 00:49:17 INFO DAGScheduler: Parents of final stage: List()\n",
      "21/09/12 00:49:17 INFO DAGScheduler: Missing parents: List()\n",
      "21/09/12 00:49:17 INFO DAGScheduler: Submitting ResultStage 5 (MapPartitionsRDD[22] at show at cmd15.sc:12), which has no missing parents\n"
     ]
    },
    {
     "output_type": "display_data",
     "data": {
      "text/html": [
       "<div>\n",
       "  <span style=\"float: left;\">show at cmd15.sc:12</span>\n",
       "</div>\n"
      ]
     },
     "metadata": {}
    },
    {
     "output_type": "display_data",
     "data": {
      "text/html": [
       "<div class=\"progress\">\n",
       "  <div class=\"progress-bar\" role=\"progressbar\" style=\"background-color: blue; width: 100%; word-wrap: normal; white-space: nowrap; text-align: center; color: white\" aria-valuenow=\"100\" aria-valuemin=\"0\" aria-valuemax=\"100\">\n",
       "    1 / 1\n",
       "  </div>\n",
       "  <div class=\"progress-bar\" role=\"progressbar\" style=\"background-color: red; width: 0%\" aria-valuenow=\"0\" aria-valuemin=\"0\" aria-valuemax=\"100\"></div>\n",
       "</div>\n"
      ]
     },
     "metadata": {}
    },
    {
     "output_type": "stream",
     "name": "stderr",
     "text": [
      "21/09/12 00:49:17 INFO MemoryStore: Block broadcast_10 stored as values in memory (estimated size 12.2 KiB, free 2004.1 MiB)\n",
      "21/09/12 00:49:17 INFO MemoryStore: Block broadcast_10_piece0 stored as bytes in memory (estimated size 5.5 KiB, free 2004.1 MiB)\n",
      "21/09/12 00:49:17 INFO BlockManagerInfo: Added broadcast_10_piece0 in memory on 192.168.0.71:63872 (size: 5.5 KiB, free: 2004.5 MiB)\n",
      "21/09/12 00:49:17 INFO SparkContext: Created broadcast 10 from broadcast at DAGScheduler.scala:1383\n",
      "21/09/12 00:49:17 INFO DAGScheduler: Submitting 1 missing tasks from ResultStage 5 (MapPartitionsRDD[22] at show at cmd15.sc:12) (first 15 tasks are for partitions Vector(0))\n",
      "21/09/12 00:49:17 INFO TaskSchedulerImpl: Adding task set 5.0 with 1 tasks resource profile 0\n",
      "21/09/12 00:49:17 INFO TaskSetManager: Starting task 0.0 in stage 5.0 (TID 5) (192.168.0.71, executor driver, partition 0, PROCESS_LOCAL, 4485 bytes) taskResourceAssignments Map()\n",
      "21/09/12 00:49:17 INFO Executor: Running task 0.0 in stage 5.0 (TID 5)\n",
      "21/09/12 00:49:17 INFO Executor: Finished task 0.0 in stage 5.0 (TID 5). 1347 bytes result sent to driver\n",
      "21/09/12 00:49:17 INFO TaskSetManager: Finished task 0.0 in stage 5.0 (TID 5) in 67 ms on 192.168.0.71 (executor driver) (1/1)\n",
      "21/09/12 00:49:17 INFO TaskSchedulerImpl: Removed TaskSet 5.0, whose tasks have all completed, from pool \n",
      "21/09/12 00:49:17 INFO DAGScheduler: ResultStage 5 (show at cmd15.sc:12) finished in 0.134 s\n",
      "21/09/12 00:49:17 INFO DAGScheduler: Job 5 is finished. Cancelling potential speculative or zombie tasks for this job\n",
      "21/09/12 00:49:17 INFO TaskSchedulerImpl: Killing all running tasks in stage 5: Stage finished\n",
      "21/09/12 00:49:17 INFO DAGScheduler: Job 5 finished: show at cmd15.sc:12, took 0.138858 s\n",
      "21/09/12 00:49:17 INFO SparkContext: Starting job: show at cmd15.sc:12\n",
      "21/09/12 00:49:17 INFO DAGScheduler: Got job 6 (show at cmd15.sc:12) with 4 output partitions\n",
      "21/09/12 00:49:17 INFO DAGScheduler: Final stage: ResultStage 6 (show at cmd15.sc:12)\n",
      "21/09/12 00:49:17 INFO DAGScheduler: Parents of final stage: List()\n",
      "21/09/12 00:49:17 INFO DAGScheduler: Missing parents: List()\n",
      "21/09/12 00:49:17 INFO DAGScheduler: Submitting ResultStage 6 (MapPartitionsRDD[22] at show at cmd15.sc:12), which has no missing parents\n"
     ]
    },
    {
     "output_type": "display_data",
     "data": {
      "text/html": [
       "<div>\n",
       "  <span style=\"float: left;\">show at cmd15.sc:12</span>\n",
       "</div>\n"
      ]
     },
     "metadata": {}
    },
    {
     "output_type": "display_data",
     "data": {
      "text/html": [
       "<div class=\"progress\">\n",
       "  <div class=\"progress-bar\" role=\"progressbar\" style=\"background-color: blue; width: 100%; word-wrap: normal; white-space: nowrap; text-align: center; color: white\" aria-valuenow=\"100\" aria-valuemin=\"0\" aria-valuemax=\"100\">\n",
       "    4 / 4\n",
       "  </div>\n",
       "  <div class=\"progress-bar\" role=\"progressbar\" style=\"background-color: red; width: 0%\" aria-valuenow=\"0\" aria-valuemin=\"0\" aria-valuemax=\"100\"></div>\n",
       "</div>\n"
      ]
     },
     "metadata": {}
    },
    {
     "output_type": "stream",
     "name": "stderr",
     "text": [
      "21/09/12 00:49:17 INFO MemoryStore: Block broadcast_11 stored as values in memory (estimated size 12.2 KiB, free 2004.1 MiB)\n",
      "21/09/12 00:49:17 INFO MemoryStore: Block broadcast_11_piece0 stored as bytes in memory (estimated size 5.5 KiB, free 2004.1 MiB)\n",
      "21/09/12 00:49:17 INFO BlockManagerInfo: Added broadcast_11_piece0 in memory on 192.168.0.71:63872 (size: 5.5 KiB, free: 2004.5 MiB)\n",
      "21/09/12 00:49:17 INFO SparkContext: Created broadcast 11 from broadcast at DAGScheduler.scala:1383\n",
      "21/09/12 00:49:17 INFO DAGScheduler: Submitting 4 missing tasks from ResultStage 6 (MapPartitionsRDD[22] at show at cmd15.sc:12) (first 15 tasks are for partitions Vector(1, 2, 3, 4))\n",
      "21/09/12 00:49:17 INFO TaskSchedulerImpl: Adding task set 6.0 with 4 tasks resource profile 0\n",
      "21/09/12 00:49:17 INFO TaskSetManager: Starting task 0.0 in stage 6.0 (TID 6) (192.168.0.71, executor driver, partition 1, PROCESS_LOCAL, 4485 bytes) taskResourceAssignments Map()\n",
      "21/09/12 00:49:17 INFO TaskSetManager: Starting task 1.0 in stage 6.0 (TID 7) (192.168.0.71, executor driver, partition 2, PROCESS_LOCAL, 4485 bytes) taskResourceAssignments Map()\n",
      "21/09/12 00:49:17 INFO TaskSetManager: Starting task 2.0 in stage 6.0 (TID 8) (192.168.0.71, executor driver, partition 3, PROCESS_LOCAL, 4485 bytes) taskResourceAssignments Map()\n",
      "21/09/12 00:49:17 INFO TaskSetManager: Starting task 3.0 in stage 6.0 (TID 9) (192.168.0.71, executor driver, partition 4, PROCESS_LOCAL, 4485 bytes) taskResourceAssignments Map()\n",
      "21/09/12 00:49:17 INFO Executor: Running task 0.0 in stage 6.0 (TID 6)\n",
      "21/09/12 00:49:17 INFO Executor: Running task 2.0 in stage 6.0 (TID 8)\n",
      "21/09/12 00:49:17 INFO Executor: Running task 1.0 in stage 6.0 (TID 7)\n",
      "21/09/12 00:49:17 INFO Executor: Running task 3.0 in stage 6.0 (TID 9)\n",
      "21/09/12 00:49:17 INFO Executor: Finished task 0.0 in stage 6.0 (TID 6). 1347 bytes result sent to driver\n",
      "21/09/12 00:49:17 INFO Executor: Finished task 3.0 in stage 6.0 (TID 9). 1347 bytes result sent to driver\n",
      "21/09/12 00:49:17 INFO TaskSetManager: Finished task 0.0 in stage 6.0 (TID 6) in 20 ms on 192.168.0.71 (executor driver) (1/4)\n",
      "21/09/12 00:49:17 INFO Executor: Finished task 1.0 in stage 6.0 (TID 7). 1347 bytes result sent to driver\n",
      "21/09/12 00:49:17 INFO TaskSetManager: Finished task 1.0 in stage 6.0 (TID 7) in 22 ms on 192.168.0.71 (executor driver) (2/4)\n",
      "21/09/12 00:49:17 INFO TaskSetManager: Finished task 3.0 in stage 6.0 (TID 9) in 22 ms on 192.168.0.71 (executor driver) (3/4)\n",
      "21/09/12 00:49:17 INFO Executor: Finished task 2.0 in stage 6.0 (TID 8). 1347 bytes result sent to driver\n",
      "21/09/12 00:49:17 INFO TaskSetManager: Finished task 2.0 in stage 6.0 (TID 8) in 25 ms on 192.168.0.71 (executor driver) (4/4)\n",
      "21/09/12 00:49:17 INFO TaskSchedulerImpl: Removed TaskSet 6.0, whose tasks have all completed, from pool \n",
      "21/09/12 00:49:17 INFO DAGScheduler: ResultStage 6 (show at cmd15.sc:12) finished in 0.050 s\n",
      "21/09/12 00:49:17 INFO DAGScheduler: Job 6 is finished. Cancelling potential speculative or zombie tasks for this job\n",
      "21/09/12 00:49:17 INFO TaskSchedulerImpl: Killing all running tasks in stage 6: Stage finished\n",
      "21/09/12 00:49:17 INFO DAGScheduler: Job 6 finished: show at cmd15.sc:12, took 0.052387 s\n",
      "21/09/12 00:49:17 INFO SparkContext: Starting job: show at cmd15.sc:12\n",
      "21/09/12 00:49:17 INFO DAGScheduler: Got job 7 (show at cmd15.sc:12) with 7 output partitions\n",
      "21/09/12 00:49:17 INFO DAGScheduler: Final stage: ResultStage 7 (show at cmd15.sc:12)\n",
      "21/09/12 00:49:17 INFO DAGScheduler: Parents of final stage: List()\n",
      "21/09/12 00:49:17 INFO DAGScheduler: Missing parents: List()\n",
      "21/09/12 00:49:17 INFO DAGScheduler: Submitting ResultStage 7 (MapPartitionsRDD[22] at show at cmd15.sc:12), which has no missing parents\n"
     ]
    },
    {
     "output_type": "display_data",
     "data": {
      "text/html": [
       "<div>\n",
       "  <span style=\"float: left;\">show at cmd15.sc:12</span>\n",
       "</div>\n"
      ]
     },
     "metadata": {}
    },
    {
     "output_type": "display_data",
     "data": {
      "text/html": [
       "<div class=\"progress\">\n",
       "  <div class=\"progress-bar\" role=\"progressbar\" style=\"background-color: blue; width: 100%; word-wrap: normal; white-space: nowrap; text-align: center; color: white\" aria-valuenow=\"100\" aria-valuemin=\"0\" aria-valuemax=\"100\">\n",
       "    7 / 7\n",
       "  </div>\n",
       "  <div class=\"progress-bar\" role=\"progressbar\" style=\"background-color: red; width: 0%\" aria-valuenow=\"0\" aria-valuemin=\"0\" aria-valuemax=\"100\"></div>\n",
       "</div>\n"
      ]
     },
     "metadata": {}
    },
    {
     "output_type": "stream",
     "name": "stderr",
     "text": [
      "21/09/12 00:49:17 INFO MemoryStore: Block broadcast_12 stored as values in memory (estimated size 12.2 KiB, free 2004.1 MiB)\n",
      "21/09/12 00:49:17 INFO MemoryStore: Block broadcast_12_piece0 stored as bytes in memory (estimated size 5.5 KiB, free 2004.1 MiB)\n",
      "21/09/12 00:49:17 INFO BlockManagerInfo: Added broadcast_12_piece0 in memory on 192.168.0.71:63872 (size: 5.5 KiB, free: 2004.5 MiB)\n",
      "21/09/12 00:49:17 INFO SparkContext: Created broadcast 12 from broadcast at DAGScheduler.scala:1383\n",
      "21/09/12 00:49:17 INFO DAGScheduler: Submitting 7 missing tasks from ResultStage 7 (MapPartitionsRDD[22] at show at cmd15.sc:12) (first 15 tasks are for partitions Vector(5, 6, 7, 8, 9, 10, 11))\n",
      "21/09/12 00:49:17 INFO TaskSchedulerImpl: Adding task set 7.0 with 7 tasks resource profile 0\n",
      "21/09/12 00:49:17 INFO TaskSetManager: Starting task 0.0 in stage 7.0 (TID 10) (192.168.0.71, executor driver, partition 5, PROCESS_LOCAL, 4485 bytes) taskResourceAssignments Map()\n",
      "21/09/12 00:49:17 INFO TaskSetManager: Starting task 1.0 in stage 7.0 (TID 11) (192.168.0.71, executor driver, partition 6, PROCESS_LOCAL, 4485 bytes) taskResourceAssignments Map()\n",
      "21/09/12 00:49:17 INFO TaskSetManager: Starting task 2.0 in stage 7.0 (TID 12) (192.168.0.71, executor driver, partition 7, PROCESS_LOCAL, 4485 bytes) taskResourceAssignments Map()\n",
      "21/09/12 00:49:17 INFO TaskSetManager: Starting task 3.0 in stage 7.0 (TID 13) (192.168.0.71, executor driver, partition 8, PROCESS_LOCAL, 4485 bytes) taskResourceAssignments Map()\n",
      "21/09/12 00:49:17 INFO TaskSetManager: Starting task 4.0 in stage 7.0 (TID 14) (192.168.0.71, executor driver, partition 9, PROCESS_LOCAL, 4485 bytes) taskResourceAssignments Map()\n",
      "21/09/12 00:49:17 INFO TaskSetManager: Starting task 5.0 in stage 7.0 (TID 15) (192.168.0.71, executor driver, partition 10, PROCESS_LOCAL, 4485 bytes) taskResourceAssignments Map()\n",
      "21/09/12 00:49:17 INFO TaskSetManager: Starting task 6.0 in stage 7.0 (TID 16) (192.168.0.71, executor driver, partition 11, PROCESS_LOCAL, 4668 bytes) taskResourceAssignments Map()\n",
      "21/09/12 00:49:17 INFO Executor: Running task 0.0 in stage 7.0 (TID 10)\n",
      "21/09/12 00:49:17 INFO Executor: Running task 2.0 in stage 7.0 (TID 12)\n",
      "21/09/12 00:49:17 INFO Executor: Running task 3.0 in stage 7.0 (TID 13)\n",
      "21/09/12 00:49:17 INFO Executor: Running task 1.0 in stage 7.0 (TID 11)\n",
      "21/09/12 00:49:17 INFO Executor: Running task 4.0 in stage 7.0 (TID 14)\n",
      "21/09/12 00:49:17 INFO Executor: Running task 5.0 in stage 7.0 (TID 15)\n",
      "21/09/12 00:49:17 INFO Executor: Running task 6.0 in stage 7.0 (TID 16)\n",
      "21/09/12 00:49:17 INFO Executor: Finished task 0.0 in stage 7.0 (TID 10). 1347 bytes result sent to driver\n",
      "21/09/12 00:49:17 INFO TaskSetManager: Finished task 0.0 in stage 7.0 (TID 10) in 18 ms on 192.168.0.71 (executor driver) (1/7)\n",
      "21/09/12 00:49:17 INFO Executor: Finished task 5.0 in stage 7.0 (TID 15). 1347 bytes result sent to driver\n",
      "21/09/12 00:49:17 INFO TaskSetManager: Finished task 5.0 in stage 7.0 (TID 15) in 21 ms on 192.168.0.71 (executor driver) (2/7)\n",
      "21/09/12 00:49:17 INFO Executor: Finished task 4.0 in stage 7.0 (TID 14). 1347 bytes result sent to driver\n",
      "21/09/12 00:49:17 INFO Executor: Finished task 1.0 in stage 7.0 (TID 11). 1347 bytes result sent to driver\n",
      "21/09/12 00:49:17 INFO TaskSetManager: Finished task 4.0 in stage 7.0 (TID 14) in 24 ms on 192.168.0.71 (executor driver) (3/7)\n",
      "21/09/12 00:49:17 INFO TaskSetManager: Finished task 1.0 in stage 7.0 (TID 11) in 25 ms on 192.168.0.71 (executor driver) (4/7)\n",
      "21/09/12 00:49:17 INFO Executor: Finished task 2.0 in stage 7.0 (TID 12). 1347 bytes result sent to driver\n",
      "21/09/12 00:49:17 INFO Executor: Finished task 3.0 in stage 7.0 (TID 13). 1347 bytes result sent to driver\n",
      "21/09/12 00:49:17 INFO TaskSetManager: Finished task 2.0 in stage 7.0 (TID 12) in 29 ms on 192.168.0.71 (executor driver) (5/7)\n",
      "21/09/12 00:49:17 INFO TaskSetManager: Finished task 3.0 in stage 7.0 (TID 13) in 29 ms on 192.168.0.71 (executor driver) (6/7)\n",
      "21/09/12 00:49:17 INFO CodeGenerator: Code generated in 203.403339 ms\n",
      "21/09/12 00:49:17 INFO Executor: Finished task 6.0 in stage 7.0 (TID 16). 1396 bytes result sent to driver\n",
      "21/09/12 00:49:17 INFO TaskSetManager: Finished task 6.0 in stage 7.0 (TID 16) in 259 ms on 192.168.0.71 (executor driver) (7/7)\n",
      "21/09/12 00:49:17 INFO TaskSchedulerImpl: Removed TaskSet 7.0, whose tasks have all completed, from pool \n",
      "21/09/12 00:49:17 INFO DAGScheduler: ResultStage 7 (show at cmd15.sc:12) finished in 0.280 s\n",
      "21/09/12 00:49:17 INFO DAGScheduler: Job 7 is finished. Cancelling potential speculative or zombie tasks for this job\n",
      "21/09/12 00:49:17 INFO TaskSchedulerImpl: Killing all running tasks in stage 7: Stage finished\n",
      "21/09/12 00:49:17 INFO DAGScheduler: Job 7 finished: show at cmd15.sc:12, took 0.284322 s\n",
      "21/09/12 00:49:17 INFO CodeGenerator: Code generated in 14.035081 ms\n"
     ]
    },
    {
     "output_type": "stream",
     "name": "stdout",
     "text": [
      "+-----+----+-----+\n",
      "| some| col|names|\n",
      "+-----+----+-----+\n",
      "|Hello|null|    1|\n",
      "+-----+----+-----+\n",
      "\n"
     ]
    },
    {
     "output_type": "execute_result",
     "data": {
      "text/plain": [
       "\u001b[32mimport \u001b[39m\u001b[36morg.apache.spark.sql.Row\n",
       "\u001b[39m\n",
       "\u001b[32mimport \u001b[39m\u001b[36morg.apache.spark.sql.types.{StructField, StructType, StringType, LongType}\n",
       "\u001b[39m\n",
       "\u001b[36mmyManualSchema\u001b[39m: \u001b[32mStructType\u001b[39m = \u001b[33mStructType\u001b[39m(\n",
       "  \u001b[33mStructField\u001b[39m(\u001b[32m\"some\"\u001b[39m, StringType, true, {}),\n",
       "  \u001b[33mStructField\u001b[39m(\u001b[32m\"col\"\u001b[39m, StringType, true, {}),\n",
       "  \u001b[33mStructField\u001b[39m(\u001b[32m\"names\"\u001b[39m, LongType, false, {})\n",
       ")\n",
       "\u001b[36mmyRows\u001b[39m: \u001b[32mSeq\u001b[39m[\u001b[32mRow\u001b[39m] = \u001b[33mList\u001b[39m([Hello,null,1])\n",
       "\u001b[36mmyRDD\u001b[39m: \u001b[32morg\u001b[39m.\u001b[32mapache\u001b[39m.\u001b[32mspark\u001b[39m.\u001b[32mrdd\u001b[39m.\u001b[32mRDD\u001b[39m[\u001b[32mRow\u001b[39m] = ParallelCollectionRDD[19] at parallelize at cmd15.sc:10\n",
       "\u001b[36mmyDf\u001b[39m: \u001b[32mDataFrame\u001b[39m = [some: string, col: string ... 1 more field]"
      ]
     },
     "metadata": {},
     "execution_count": 16
    }
   ],
   "metadata": {}
  },
  {
   "cell_type": "code",
   "execution_count": 17,
   "source": [
    "import spark.implicits._\n",
    "val myDF = Seq((\"Hello\", 2, 1L)).toDF(\"col1\", \"col2\", \"col3\")"
   ],
   "outputs": [
    {
     "output_type": "stream",
     "name": "stderr",
     "text": [
      "21/09/12 00:52:20 INFO CodeGenerator: Code generated in 22.080522 ms\n"
     ]
    },
    {
     "output_type": "execute_result",
     "data": {
      "text/plain": [
       "\u001b[32mimport \u001b[39m\u001b[36mspark.implicits._\n",
       "\u001b[39m\n",
       "\u001b[36mmyDF\u001b[39m: \u001b[32mDataFrame\u001b[39m = [col1: string, col2: int ... 1 more field]"
      ]
     },
     "metadata": {},
     "execution_count": 17
    }
   ],
   "metadata": {}
  },
  {
   "cell_type": "code",
   "execution_count": 18,
   "source": [
    "spark.sql(\"SELECT * FROM dfTable\").show()"
   ],
   "outputs": [
    {
     "output_type": "stream",
     "name": "stderr",
     "text": [
      "21/09/12 00:54:51 INFO FileSourceStrategy: Pushed Filters: \n",
      "21/09/12 00:54:51 INFO FileSourceStrategy: Post-Scan Filters: \n",
      "21/09/12 00:54:51 INFO FileSourceStrategy: Output Data Schema: struct<DEST_COUNTRY_NAME: string, ORIGIN_COUNTRY_NAME: string, count: bigint ... 1 more fields>\n",
      "21/09/12 00:54:51 INFO CodeGenerator: Code generated in 13.145487 ms\n",
      "21/09/12 00:54:51 INFO MemoryStore: Block broadcast_13 stored as values in memory (estimated size 390.7 KiB, free 2004.2 MiB)\n",
      "21/09/12 00:54:51 INFO MemoryStore: Block broadcast_13_piece0 stored as bytes in memory (estimated size 37.8 KiB, free 2004.2 MiB)\n",
      "21/09/12 00:54:51 INFO BlockManagerInfo: Added broadcast_13_piece0 in memory on 192.168.0.71:63872 (size: 37.8 KiB, free: 2004.6 MiB)\n",
      "21/09/12 00:54:51 INFO SparkContext: Created broadcast 13 from show at cmd17.sc:1\n",
      "21/09/12 00:54:51 INFO FileSourceScanExec: Planning scan with bin packing, max size: 4194304 bytes, open cost is considered as scanning 4194304 bytes.\n",
      "21/09/12 00:54:51 INFO SparkContext: Starting job: show at cmd17.sc:1\n",
      "21/09/12 00:54:51 INFO DAGScheduler: Got job 8 (show at cmd17.sc:1) with 1 output partitions\n",
      "21/09/12 00:54:51 INFO DAGScheduler: Final stage: ResultStage 8 (show at cmd17.sc:1)\n",
      "21/09/12 00:54:51 INFO DAGScheduler: Parents of final stage: List()\n",
      "21/09/12 00:54:51 INFO DAGScheduler: Missing parents: List()\n",
      "21/09/12 00:54:51 INFO DAGScheduler: Submitting ResultStage 8 (MapPartitionsRDD[26] at show at cmd17.sc:1), which has no missing parents\n"
     ]
    },
    {
     "output_type": "display_data",
     "data": {
      "text/html": [
       "<div>\n",
       "  <span style=\"float: left;\">show at cmd17.sc:1</span>\n",
       "</div>\n"
      ]
     },
     "metadata": {}
    },
    {
     "output_type": "display_data",
     "data": {
      "text/html": [
       "<div class=\"progress\">\n",
       "  <div class=\"progress-bar\" role=\"progressbar\" style=\"background-color: blue; width: 100%; word-wrap: normal; white-space: nowrap; text-align: center; color: white\" aria-valuenow=\"100\" aria-valuemin=\"0\" aria-valuemax=\"100\">\n",
       "    1 / 1\n",
       "  </div>\n",
       "  <div class=\"progress-bar\" role=\"progressbar\" style=\"background-color: red; width: 0%\" aria-valuenow=\"0\" aria-valuemin=\"0\" aria-valuemax=\"100\"></div>\n",
       "</div>\n"
      ]
     },
     "metadata": {}
    },
    {
     "output_type": "stream",
     "name": "stderr",
     "text": [
      "21/09/12 00:54:51 INFO MemoryStore: Block broadcast_14 stored as values in memory (estimated size 12.2 KiB, free 2004.2 MiB)\n",
      "21/09/12 00:54:51 INFO MemoryStore: Block broadcast_14_piece0 stored as bytes in memory (estimated size 6.1 KiB, free 2004.2 MiB)\n",
      "21/09/12 00:54:51 INFO BlockManagerInfo: Added broadcast_14_piece0 in memory on 192.168.0.71:63872 (size: 6.1 KiB, free: 2004.6 MiB)\n",
      "21/09/12 00:54:51 INFO SparkContext: Created broadcast 14 from broadcast at DAGScheduler.scala:1383\n",
      "21/09/12 00:54:51 INFO DAGScheduler: Submitting 1 missing tasks from ResultStage 8 (MapPartitionsRDD[26] at show at cmd17.sc:1) (first 15 tasks are for partitions Vector(0))\n",
      "21/09/12 00:54:51 INFO TaskSchedulerImpl: Adding task set 8.0 with 1 tasks resource profile 0\n",
      "21/09/12 00:54:51 INFO TaskSetManager: Starting task 0.0 in stage 8.0 (TID 17) (192.168.0.71, executor driver, partition 0, PROCESS_LOCAL, 4921 bytes) taskResourceAssignments Map()\n",
      "21/09/12 00:54:51 INFO Executor: Running task 0.0 in stage 8.0 (TID 17)\n",
      "21/09/12 00:54:51 INFO FileScanRDD: Reading File path: file:///Users/mehdi/Documents/Spark-The-Definitive-Guide/data/flight-data/json/2015-summary.json, range: 0-21368, partition values: [empty row]\n",
      "21/09/12 00:54:51 INFO Executor: Finished task 0.0 in stage 8.0 (TID 17). 2098 bytes result sent to driver\n",
      "21/09/12 00:54:51 INFO TaskSetManager: Finished task 0.0 in stage 8.0 (TID 17) in 18 ms on 192.168.0.71 (executor driver) (1/1)\n",
      "21/09/12 00:54:51 INFO TaskSchedulerImpl: Removed TaskSet 8.0, whose tasks have all completed, from pool \n",
      "21/09/12 00:54:51 INFO DAGScheduler: ResultStage 8 (show at cmd17.sc:1) finished in 0.028 s\n",
      "21/09/12 00:54:51 INFO DAGScheduler: Job 8 is finished. Cancelling potential speculative or zombie tasks for this job\n",
      "21/09/12 00:54:51 INFO TaskSchedulerImpl: Killing all running tasks in stage 8: Stage finished\n",
      "21/09/12 00:54:51 INFO DAGScheduler: Job 8 finished: show at cmd17.sc:1, took 0.033847 s\n",
      "21/09/12 00:54:51 INFO CodeGenerator: Code generated in 17.798994 ms\n"
     ]
    },
    {
     "output_type": "stream",
     "name": "stdout",
     "text": [
      "+--------------------+-------------------+-----+\n",
      "|   DEST_COUNTRY_NAME|ORIGIN_COUNTRY_NAME|count|\n",
      "+--------------------+-------------------+-----+\n",
      "|       United States|            Romania|   15|\n",
      "|       United States|            Croatia|    1|\n",
      "|       United States|            Ireland|  344|\n",
      "|               Egypt|      United States|   15|\n",
      "|       United States|              India|   62|\n",
      "|       United States|          Singapore|    1|\n",
      "|       United States|            Grenada|   62|\n",
      "|          Costa Rica|      United States|  588|\n",
      "|             Senegal|      United States|   40|\n",
      "|             Moldova|      United States|    1|\n",
      "|       United States|       Sint Maarten|  325|\n",
      "|       United States|   Marshall Islands|   39|\n",
      "|              Guyana|      United States|   64|\n",
      "|               Malta|      United States|    1|\n",
      "|            Anguilla|      United States|   41|\n",
      "|             Bolivia|      United States|   30|\n",
      "|       United States|           Paraguay|    6|\n",
      "|             Algeria|      United States|    4|\n",
      "|Turks and Caicos ...|      United States|  230|\n",
      "|       United States|          Gibraltar|    1|\n",
      "+--------------------+-------------------+-----+\n",
      "only showing top 20 rows\n",
      "\n"
     ]
    }
   ],
   "metadata": {}
  },
  {
   "cell_type": "code",
   "execution_count": 19,
   "source": [
    "df.select(\"DEST_COUNTRY_NAME\", \"ORIGIN_COUNTRY_NAME\").show(2)"
   ],
   "outputs": [
    {
     "output_type": "stream",
     "name": "stderr",
     "text": [
      "21/09/12 00:55:31 INFO FileSourceStrategy: Pushed Filters: \n",
      "21/09/12 00:55:31 INFO FileSourceStrategy: Post-Scan Filters: \n",
      "21/09/12 00:55:31 INFO FileSourceStrategy: Output Data Schema: struct<DEST_COUNTRY_NAME: string, ORIGIN_COUNTRY_NAME: string>\n",
      "21/09/12 00:55:31 INFO MemoryStore: Block broadcast_15 stored as values in memory (estimated size 390.7 KiB, free 2003.8 MiB)\n",
      "21/09/12 00:55:31 INFO MemoryStore: Block broadcast_15_piece0 stored as bytes in memory (estimated size 37.8 KiB, free 2003.7 MiB)\n",
      "21/09/12 00:55:31 INFO BlockManagerInfo: Added broadcast_15_piece0 in memory on 192.168.0.71:63872 (size: 37.8 KiB, free: 2004.5 MiB)\n",
      "21/09/12 00:55:31 INFO SparkContext: Created broadcast 15 from show at cmd18.sc:1\n",
      "21/09/12 00:55:31 INFO FileSourceScanExec: Planning scan with bin packing, max size: 4194304 bytes, open cost is considered as scanning 4194304 bytes.\n",
      "21/09/12 00:55:31 INFO SparkContext: Starting job: show at cmd18.sc:1\n",
      "21/09/12 00:55:31 INFO DAGScheduler: Got job 9 (show at cmd18.sc:1) with 1 output partitions\n",
      "21/09/12 00:55:31 INFO DAGScheduler: Final stage: ResultStage 9 (show at cmd18.sc:1)\n",
      "21/09/12 00:55:31 INFO DAGScheduler: Parents of final stage: List()\n",
      "21/09/12 00:55:31 INFO DAGScheduler: Missing parents: List()\n",
      "21/09/12 00:55:31 INFO DAGScheduler: Submitting ResultStage 9 (MapPartitionsRDD[29] at show at cmd18.sc:1), which has no missing parents\n"
     ]
    },
    {
     "output_type": "display_data",
     "data": {
      "text/html": [
       "<div>\n",
       "  <span style=\"float: left;\">show at cmd18.sc:1</span>\n",
       "</div>\n"
      ]
     },
     "metadata": {}
    },
    {
     "output_type": "display_data",
     "data": {
      "text/html": [
       "<div class=\"progress\">\n",
       "  <div class=\"progress-bar\" role=\"progressbar\" style=\"background-color: blue; width: 100%; word-wrap: normal; white-space: nowrap; text-align: center; color: white\" aria-valuenow=\"100\" aria-valuemin=\"0\" aria-valuemax=\"100\">\n",
       "    1 / 1\n",
       "  </div>\n",
       "  <div class=\"progress-bar\" role=\"progressbar\" style=\"background-color: red; width: 0%\" aria-valuenow=\"0\" aria-valuemin=\"0\" aria-valuemax=\"100\"></div>\n",
       "</div>\n"
      ]
     },
     "metadata": {}
    },
    {
     "output_type": "stream",
     "name": "stderr",
     "text": [
      "21/09/12 00:55:31 INFO MemoryStore: Block broadcast_16 stored as values in memory (estimated size 8.5 KiB, free 2003.7 MiB)\n",
      "21/09/12 00:55:32 INFO MemoryStore: Block broadcast_16_piece0 stored as bytes in memory (estimated size 4.7 KiB, free 2003.7 MiB)\n",
      "21/09/12 00:55:32 INFO BlockManagerInfo: Added broadcast_16_piece0 in memory on 192.168.0.71:63872 (size: 4.7 KiB, free: 2004.5 MiB)\n",
      "21/09/12 00:55:32 INFO SparkContext: Created broadcast 16 from broadcast at DAGScheduler.scala:1383\n",
      "21/09/12 00:55:32 INFO DAGScheduler: Submitting 1 missing tasks from ResultStage 9 (MapPartitionsRDD[29] at show at cmd18.sc:1) (first 15 tasks are for partitions Vector(0))\n",
      "21/09/12 00:55:32 INFO TaskSchedulerImpl: Adding task set 9.0 with 1 tasks resource profile 0\n",
      "21/09/12 00:55:32 INFO TaskSetManager: Starting task 0.0 in stage 9.0 (TID 18) (192.168.0.71, executor driver, partition 0, PROCESS_LOCAL, 4921 bytes) taskResourceAssignments Map()\n",
      "21/09/12 00:55:32 INFO Executor: Running task 0.0 in stage 9.0 (TID 18)\n",
      "21/09/12 00:55:32 INFO FileScanRDD: Reading File path: file:///Users/mehdi/Documents/Spark-The-Definitive-Guide/data/flight-data/json/2015-summary.json, range: 0-21368, partition values: [empty row]\n",
      "21/09/12 00:55:32 INFO CodeGenerator: Code generated in 24.78414 ms\n",
      "21/09/12 00:55:32 INFO Executor: Finished task 0.0 in stage 9.0 (TID 18). 1437 bytes result sent to driver\n",
      "21/09/12 00:55:32 INFO TaskSetManager: Finished task 0.0 in stage 9.0 (TID 18) in 44 ms on 192.168.0.71 (executor driver) (1/1)\n",
      "21/09/12 00:55:32 INFO TaskSchedulerImpl: Removed TaskSet 9.0, whose tasks have all completed, from pool \n",
      "21/09/12 00:55:32 INFO DAGScheduler: ResultStage 9 (show at cmd18.sc:1) finished in 0.053 s\n",
      "21/09/12 00:55:32 INFO DAGScheduler: Job 9 is finished. Cancelling potential speculative or zombie tasks for this job\n",
      "21/09/12 00:55:32 INFO TaskSchedulerImpl: Killing all running tasks in stage 9: Stage finished\n",
      "21/09/12 00:55:32 INFO DAGScheduler: Job 9 finished: show at cmd18.sc:1, took 0.055482 s\n",
      "21/09/12 00:55:32 INFO CodeGenerator: Code generated in 12.450953 ms\n"
     ]
    },
    {
     "output_type": "stream",
     "name": "stdout",
     "text": [
      "+-----------------+-------------------+\n",
      "|DEST_COUNTRY_NAME|ORIGIN_COUNTRY_NAME|\n",
      "+-----------------+-------------------+\n",
      "|    United States|            Romania|\n",
      "|    United States|            Croatia|\n",
      "+-----------------+-------------------+\n",
      "only showing top 2 rows\n",
      "\n"
     ]
    }
   ],
   "metadata": {}
  },
  {
   "cell_type": "code",
   "execution_count": 20,
   "source": [
    "import org.apache.spark.sql.functions.{expr, col, column}\n",
    "  df.select(\n",
    "      df.col(\"DEST_COUNTRY_NAME\"),\n",
    "      col(\"DEST_COUNTRY_NAME\"),\n",
    "      column(\"DEST_COUNTRY_NAME\"),\n",
    "      'DEST_COUNTRY_NAME,\n",
    "      $\"DEST_COUNTRY_NAME\",\n",
    "      expr(\"DEST_COUNTRY_NAME\"))\n",
    ".show(2)"
   ],
   "outputs": [
    {
     "output_type": "stream",
     "name": "stderr",
     "text": [
      "21/09/12 00:56:14 INFO FileSourceStrategy: Pushed Filters: \n",
      "21/09/12 00:56:14 INFO FileSourceStrategy: Post-Scan Filters: \n",
      "21/09/12 00:56:14 INFO FileSourceStrategy: Output Data Schema: struct<DEST_COUNTRY_NAME: string>\n",
      "21/09/12 00:56:14 INFO CodeGenerator: Code generated in 9.249023 ms\n",
      "21/09/12 00:56:14 INFO MemoryStore: Block broadcast_17 stored as values in memory (estimated size 390.7 KiB, free 2003.4 MiB)\n",
      "21/09/12 00:56:14 INFO MemoryStore: Block broadcast_17_piece0 stored as bytes in memory (estimated size 37.8 KiB, free 2003.3 MiB)\n",
      "21/09/12 00:56:14 INFO BlockManagerInfo: Added broadcast_17_piece0 in memory on 192.168.0.71:63872 (size: 37.8 KiB, free: 2004.5 MiB)\n",
      "21/09/12 00:56:14 INFO SparkContext: Created broadcast 17 from show at cmd19.sc:9\n",
      "21/09/12 00:56:14 INFO FileSourceScanExec: Planning scan with bin packing, max size: 4194304 bytes, open cost is considered as scanning 4194304 bytes.\n",
      "21/09/12 00:56:14 INFO SparkContext: Starting job: show at cmd19.sc:9\n",
      "21/09/12 00:56:14 INFO DAGScheduler: Got job 10 (show at cmd19.sc:9) with 1 output partitions\n",
      "21/09/12 00:56:14 INFO DAGScheduler: Final stage: ResultStage 10 (show at cmd19.sc:9)\n",
      "21/09/12 00:56:14 INFO DAGScheduler: Parents of final stage: List()\n",
      "21/09/12 00:56:14 INFO DAGScheduler: Missing parents: List()\n",
      "21/09/12 00:56:14 INFO DAGScheduler: Submitting ResultStage 10 (MapPartitionsRDD[33] at show at cmd19.sc:9), which has no missing parents\n"
     ]
    },
    {
     "output_type": "display_data",
     "data": {
      "text/html": [
       "<div>\n",
       "  <span style=\"float: left;\">show at cmd19.sc:9</span>\n",
       "</div>\n"
      ]
     },
     "metadata": {}
    },
    {
     "output_type": "display_data",
     "data": {
      "text/html": [
       "<div class=\"progress\">\n",
       "  <div class=\"progress-bar\" role=\"progressbar\" style=\"background-color: blue; width: 100%; word-wrap: normal; white-space: nowrap; text-align: center; color: white\" aria-valuenow=\"100\" aria-valuemin=\"0\" aria-valuemax=\"100\">\n",
       "    1 / 1\n",
       "  </div>\n",
       "  <div class=\"progress-bar\" role=\"progressbar\" style=\"background-color: red; width: 0%\" aria-valuenow=\"0\" aria-valuemin=\"0\" aria-valuemax=\"100\"></div>\n",
       "</div>\n"
      ]
     },
     "metadata": {}
    },
    {
     "output_type": "stream",
     "name": "stderr",
     "text": [
      "21/09/12 00:56:14 INFO MemoryStore: Block broadcast_18 stored as values in memory (estimated size 12.1 KiB, free 2003.3 MiB)\n",
      "21/09/12 00:56:14 INFO MemoryStore: Block broadcast_18_piece0 stored as bytes in memory (estimated size 5.9 KiB, free 2003.3 MiB)\n",
      "21/09/12 00:56:14 INFO BlockManagerInfo: Added broadcast_18_piece0 in memory on 192.168.0.71:63872 (size: 5.9 KiB, free: 2004.5 MiB)\n",
      "21/09/12 00:56:14 INFO SparkContext: Created broadcast 18 from broadcast at DAGScheduler.scala:1383\n",
      "21/09/12 00:56:14 INFO DAGScheduler: Submitting 1 missing tasks from ResultStage 10 (MapPartitionsRDD[33] at show at cmd19.sc:9) (first 15 tasks are for partitions Vector(0))\n",
      "21/09/12 00:56:14 INFO TaskSchedulerImpl: Adding task set 10.0 with 1 tasks resource profile 0\n",
      "21/09/12 00:56:14 INFO TaskSetManager: Starting task 0.0 in stage 10.0 (TID 19) (192.168.0.71, executor driver, partition 0, PROCESS_LOCAL, 4921 bytes) taskResourceAssignments Map()\n",
      "21/09/12 00:56:14 INFO Executor: Running task 0.0 in stage 10.0 (TID 19)\n",
      "21/09/12 00:56:14 INFO FileScanRDD: Reading File path: file:///Users/mehdi/Documents/Spark-The-Definitive-Guide/data/flight-data/json/2015-summary.json, range: 0-21368, partition values: [empty row]\n",
      "21/09/12 00:56:14 INFO Executor: Finished task 0.0 in stage 10.0 (TID 19). 1497 bytes result sent to driver\n",
      "21/09/12 00:56:14 INFO TaskSetManager: Finished task 0.0 in stage 10.0 (TID 19) in 13 ms on 192.168.0.71 (executor driver) (1/1)\n",
      "21/09/12 00:56:14 INFO TaskSchedulerImpl: Removed TaskSet 10.0, whose tasks have all completed, from pool \n",
      "21/09/12 00:56:14 INFO DAGScheduler: ResultStage 10 (show at cmd19.sc:9) finished in 0.022 s\n",
      "21/09/12 00:56:14 INFO DAGScheduler: Job 10 is finished. Cancelling potential speculative or zombie tasks for this job\n",
      "21/09/12 00:56:14 INFO TaskSchedulerImpl: Killing all running tasks in stage 10: Stage finished\n",
      "21/09/12 00:56:14 INFO DAGScheduler: Job 10 finished: show at cmd19.sc:9, took 0.026796 s\n",
      "21/09/12 00:56:14 INFO CodeGenerator: Code generated in 15.441173 ms\n"
     ]
    },
    {
     "output_type": "stream",
     "name": "stdout",
     "text": [
      "+-----------------+-----------------+-----------------+-----------------+-----------------+-----------------+\n",
      "|DEST_COUNTRY_NAME|DEST_COUNTRY_NAME|DEST_COUNTRY_NAME|DEST_COUNTRY_NAME|DEST_COUNTRY_NAME|DEST_COUNTRY_NAME|\n",
      "+-----------------+-----------------+-----------------+-----------------+-----------------+-----------------+\n",
      "|    United States|    United States|    United States|    United States|    United States|    United States|\n",
      "|    United States|    United States|    United States|    United States|    United States|    United States|\n",
      "+-----------------+-----------------+-----------------+-----------------+-----------------+-----------------+\n",
      "only showing top 2 rows\n",
      "\n"
     ]
    },
    {
     "output_type": "execute_result",
     "data": {
      "text/plain": [
       "\u001b[32mimport \u001b[39m\u001b[36morg.apache.spark.sql.functions.{expr, col, column}\n",
       "  \u001b[39m"
      ]
     },
     "metadata": {},
     "execution_count": 20
    }
   ],
   "metadata": {}
  },
  {
   "cell_type": "code",
   "execution_count": 21,
   "source": [
    "df.select(expr(\"DEST_COUNTRY_NAME AS destination\")).show(2)"
   ],
   "outputs": [
    {
     "output_type": "stream",
     "name": "stderr",
     "text": [
      "21/09/12 00:57:39 INFO FileSourceStrategy: Pushed Filters: \n",
      "21/09/12 00:57:39 INFO FileSourceStrategy: Post-Scan Filters: \n",
      "21/09/12 00:57:39 INFO FileSourceStrategy: Output Data Schema: struct<DEST_COUNTRY_NAME: string>\n",
      "21/09/12 00:57:39 INFO CodeGenerator: Code generated in 6.867807 ms\n",
      "21/09/12 00:57:39 INFO MemoryStore: Block broadcast_19 stored as values in memory (estimated size 390.7 KiB, free 2002.9 MiB)\n",
      "21/09/12 00:57:39 INFO MemoryStore: Block broadcast_19_piece0 stored as bytes in memory (estimated size 37.8 KiB, free 2002.9 MiB)\n",
      "21/09/12 00:57:39 INFO BlockManagerInfo: Added broadcast_19_piece0 in memory on 192.168.0.71:63872 (size: 37.8 KiB, free: 2004.4 MiB)\n",
      "21/09/12 00:57:39 INFO SparkContext: Created broadcast 19 from show at cmd20.sc:1\n",
      "21/09/12 00:57:39 INFO FileSourceScanExec: Planning scan with bin packing, max size: 4194304 bytes, open cost is considered as scanning 4194304 bytes.\n",
      "21/09/12 00:57:39 INFO SparkContext: Starting job: show at cmd20.sc:1\n",
      "21/09/12 00:57:39 INFO DAGScheduler: Got job 11 (show at cmd20.sc:1) with 1 output partitions\n",
      "21/09/12 00:57:39 INFO DAGScheduler: Final stage: ResultStage 11 (show at cmd20.sc:1)\n",
      "21/09/12 00:57:39 INFO DAGScheduler: Parents of final stage: List()\n",
      "21/09/12 00:57:39 INFO DAGScheduler: Missing parents: List()\n",
      "21/09/12 00:57:39 INFO DAGScheduler: Submitting ResultStage 11 (MapPartitionsRDD[37] at show at cmd20.sc:1), which has no missing parents\n"
     ]
    },
    {
     "output_type": "display_data",
     "data": {
      "text/html": [
       "<div>\n",
       "  <span style=\"float: left; word-wrap: normal; white-space: nowrap; text-align: center\">show at cmd20.sc:1</span>\n",
       "  <span style=\"float: right; word-wrap: normal; white-space: nowrap; text-align: center\"><a href=\"#\" onclick=\"cancelStage(11);\">(kill)</a></span>\n",
       "</div>\n",
       "<br>\n"
      ]
     },
     "metadata": {}
    },
    {
     "output_type": "display_data",
     "data": {
      "text/html": [
       "<div class=\"progress\">\n",
       "  <div class=\"progress-bar bg-success\" role=\"progressbar\" style=\"width: 0%; word-wrap: normal; white-space: nowrap; text-align: center; color: white\" aria-valuenow=\"0\" aria-valuemin=\"0\" aria-valuemax=\"100\">\n",
       "    0 / 1\n",
       "  </div>\n",
       "</div>\n"
      ]
     },
     "metadata": {}
    },
    {
     "output_type": "stream",
     "name": "stderr",
     "text": [
      "21/09/12 00:57:39 INFO MemoryStore: Block broadcast_20 stored as values in memory (estimated size 11.2 KiB, free 2002.9 MiB)\n",
      "21/09/12 00:57:39 INFO MemoryStore: Block broadcast_20_piece0 stored as bytes in memory (estimated size 5.8 KiB, free 2002.9 MiB)\n",
      "21/09/12 00:57:39 INFO BlockManagerInfo: Added broadcast_20_piece0 in memory on 192.168.0.71:63872 (size: 5.8 KiB, free: 2004.4 MiB)\n",
      "21/09/12 00:57:39 INFO SparkContext: Created broadcast 20 from broadcast at DAGScheduler.scala:1383\n",
      "21/09/12 00:57:39 INFO DAGScheduler: Submitting 1 missing tasks from ResultStage 11 (MapPartitionsRDD[37] at show at cmd20.sc:1) (first 15 tasks are for partitions Vector(0))\n"
     ]
    }
   ],
   "metadata": {}
  },
  {
   "cell_type": "code",
   "execution_count": null,
   "source": [],
   "outputs": [],
   "metadata": {}
  }
 ],
 "metadata": {
  "orig_nbformat": 4,
  "language_info": {
   "name": "scala",
   "version": "2.12.11",
   "mimetype": "text/x-scala",
   "file_extension": ".sc",
   "nbconvert_exporter": "script",
   "codemirror_mode": "text/x-scala"
  },
  "kernelspec": {
   "name": "scala",
   "display_name": "Scala",
   "language": "scala"
  }
 },
 "nbformat": 4,
 "nbformat_minor": 2
}