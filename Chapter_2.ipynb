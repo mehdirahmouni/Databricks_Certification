{
    "cells": [
        {
            "cell_type": "markdown",
            "source": [
                "<h1>Chapter 2</h1> "
            ],
            "metadata": {}
        },
        {
            "cell_type": "markdown",
            "source": [
                "1. Spark run on a number of separate machines __Cluster__\n",
                "2. Spark application is comprised of a __driver__ process and a set of __executors__\n",
                "3. The __driver__ process runs the ***main()*** function \n",
                "4. The driver is responsible for:\n",
                "\t- Maintaining information about the Spark application\n",
                "\t- Responding to user's program or input\n",
                "\t- Analyzing, distributing, and scheduling work across executors\n",
                "5. Each executor is responsible ofr the following:\n",
                "\t- Execute code assigned by the __driver__\n",
                "\t- Reporting the state of the computation on the executor back to the __driver__ node"
            ],
            "metadata": {}
        },
        {
            "cell_type": "markdown",
            "source": [
                "<p align=\"center\">\n",
                "\t<img src=\"https://miro.medium.com/max/1058/1*jLVo8Bl4m9pXhADFxzbDVA.png\"/>\n",
                "</p>"
            ],
            "metadata": {}
        },
        {
            "cell_type": "code",
            "execution_count": 1,
            "source": [
                "import $ivy.`org.apache.spark::spark-sql:3.1.1`\n",
                "import org.apache.spark.sql._\n",
                "import org.apache.log4j.{Level, Logger}"
            ],
            "outputs": [
                {
                    "output_type": "execute_result",
                    "data": {
                        "text/plain": [
                            "\u001b[32mimport \u001b[39m\u001b[36m$ivy.$                                  \n",
                            "\u001b[39m\n",
                            "\u001b[32mimport \u001b[39m\u001b[36morg.apache.spark.sql._\n",
                            "\u001b[39m\n",
                            "\u001b[32mimport \u001b[39m\u001b[36morg.apache.log4j.{Level, Logger}\u001b[39m"
                        ]
                    },
                    "metadata": {},
                    "execution_count": 1
                }
            ],
            "metadata": {}
        },
        {
            "cell_type": "code",
            "execution_count": 2,
            "source": [
                "Logger.getLogger(\"org\").setLevel(Level.WARN)"
            ],
            "outputs": [],
            "metadata": {}
        },
        {
            "cell_type": "code",
            "execution_count": 3,
            "source": [
                "val spark = {\n",
                "  NotebookSparkSession.builder()\n",
                "    .master(\"local[*]\")\n",
                "\t.config(\"sspark.executor..instances\",\"2\")\n",
                "\t.config(\"spark.executor.memory\",\"2G\")\n",
                "    .getOrCreate()\n",
                "}"
            ],
            "outputs": [
                {
                    "output_type": "stream",
                    "name": "stdout",
                    "text": [
                        "Loading spark-stubs\n",
                        "Creating SparkSession\n"
                    ]
                },
                {
                    "output_type": "stream",
                    "name": "stderr",
                    "text": [
                        "Using Spark's default log4j profile: org/apache/spark/log4j-defaults.properties\n",
                        "21/09/25 15:20:39 WARN NativeCodeLoader: Unable to load native-hadoop library for your platform... using builtin-java classes where applicable\n"
                    ]
                },
                {
                    "output_type": "display_data",
                    "data": {
                        "text/html": [
                            "<a target=\"_blank\" href=\"http://192.168.0.71:4040\">Spark UI</a>"
                        ]
                    },
                    "metadata": {}
                },
                {
                    "output_type": "execute_result",
                    "data": {
                        "text/plain": [
                            "\u001b[36mspark\u001b[39m: \u001b[32mSparkSession\u001b[39m = org.apache.spark.sql.SparkSession@412f5119"
                        ]
                    },
                    "metadata": {},
                    "execution_count": 3
                }
            ],
            "metadata": {}
        },
        {
            "cell_type": "markdown",
            "source": [
                "![Spark Eco-System](https://miro.medium.com/max/1400/1*fQ5VWad1nu4yYt2MOuSBsQ.png)"
            ],
            "metadata": {}
        },
        {
            "cell_type": "code",
            "execution_count": 4,
            "source": [
                "val myRange = spark.range(100).toDF(\"number\")\n",
                "myRange.show(5)"
            ],
            "outputs": [
                {
                    "output_type": "display_data",
                    "data": {
                        "text/html": [
                            "<script>\n",
                            "var comm = Jupyter.notebook.kernel.comm_manager.new_comm('cancel-stage-e9008dd8-1fe1-4b60-a823-1a065f3d1ba1', {});\n",
                            "\n",
                            "function cancelStage(stageId) {\n",
                            "  console.log('Cancelling stage ' + stageId);\n",
                            "  comm.send({ 'stageId': stageId });\n",
                            "}\n",
                            "</script>\n",
                            "          "
                        ]
                    },
                    "metadata": {}
                },
                {
                    "output_type": "display_data",
                    "data": {
                        "text/html": [
                            "<div>\n",
                            "  <span style=\"float: left;\">show at cmd3.sc:2</span>\n",
                            "</div>\n"
                        ]
                    },
                    "metadata": {}
                },
                {
                    "output_type": "display_data",
                    "data": {
                        "text/html": [
                            "<div class=\"progress\">\n",
                            "  <div class=\"progress-bar\" role=\"progressbar\" style=\"background-color: blue; width: 100%; word-wrap: normal; white-space: nowrap; text-align: center; color: white\" aria-valuenow=\"100\" aria-valuemin=\"0\" aria-valuemax=\"100\">\n",
                            "    1 / 1\n",
                            "  </div>\n",
                            "  <div class=\"progress-bar\" role=\"progressbar\" style=\"background-color: red; width: 0%\" aria-valuenow=\"0\" aria-valuemin=\"0\" aria-valuemax=\"100\"></div>\n",
                            "</div>\n"
                        ]
                    },
                    "metadata": {}
                },
                {
                    "output_type": "stream",
                    "name": "stdout",
                    "text": [
                        "+------+\n",
                        "|number|\n",
                        "+------+\n",
                        "|     0|\n",
                        "|     1|\n",
                        "|     2|\n",
                        "|     3|\n",
                        "|     4|\n",
                        "+------+\n",
                        "only showing top 5 rows\n",
                        "\n"
                    ]
                },
                {
                    "output_type": "execute_result",
                    "data": {
                        "text/plain": [
                            "\u001b[36mmyRange\u001b[39m: \u001b[32mDataFrame\u001b[39m = [number: bigint]"
                        ]
                    },
                    "metadata": {},
                    "execution_count": 4
                }
            ],
            "metadata": {}
        },
        {
            "cell_type": "code",
            "execution_count": 5,
            "source": [
                "val divisBy2 = myRange.where(\"number % 2 = 0\")\n",
                "divisBy2.show(5)"
            ],
            "outputs": [
                {
                    "output_type": "display_data",
                    "data": {
                        "text/html": [
                            "<div>\n",
                            "  <span style=\"float: left;\">show at cmd4.sc:2</span>\n",
                            "</div>\n"
                        ]
                    },
                    "metadata": {}
                },
                {
                    "output_type": "display_data",
                    "data": {
                        "text/html": [
                            "<div class=\"progress\">\n",
                            "  <div class=\"progress-bar\" role=\"progressbar\" style=\"background-color: blue; width: 100%; word-wrap: normal; white-space: nowrap; text-align: center; color: white\" aria-valuenow=\"100\" aria-valuemin=\"0\" aria-valuemax=\"100\">\n",
                            "    1 / 1\n",
                            "  </div>\n",
                            "  <div class=\"progress-bar\" role=\"progressbar\" style=\"background-color: red; width: 0%\" aria-valuenow=\"0\" aria-valuemin=\"0\" aria-valuemax=\"100\"></div>\n",
                            "</div>\n"
                        ]
                    },
                    "metadata": {}
                },
                {
                    "output_type": "display_data",
                    "data": {
                        "text/html": [
                            "<div>\n",
                            "  <span style=\"float: left;\">show at cmd4.sc:2</span>\n",
                            "</div>\n"
                        ]
                    },
                    "metadata": {}
                },
                {
                    "output_type": "display_data",
                    "data": {
                        "text/html": [
                            "<div class=\"progress\">\n",
                            "  <div class=\"progress-bar\" role=\"progressbar\" style=\"background-color: blue; width: 100%; word-wrap: normal; white-space: nowrap; text-align: center; color: white\" aria-valuenow=\"100\" aria-valuemin=\"0\" aria-valuemax=\"100\">\n",
                            "    1 / 1\n",
                            "  </div>\n",
                            "  <div class=\"progress-bar\" role=\"progressbar\" style=\"background-color: red; width: 0%\" aria-valuenow=\"0\" aria-valuemin=\"0\" aria-valuemax=\"100\"></div>\n",
                            "</div>\n"
                        ]
                    },
                    "metadata": {}
                },
                {
                    "output_type": "stream",
                    "name": "stdout",
                    "text": [
                        "+------+\n",
                        "|number|\n",
                        "+------+\n",
                        "|     0|\n",
                        "|     2|\n",
                        "|     4|\n",
                        "|     6|\n",
                        "|     8|\n",
                        "+------+\n",
                        "only showing top 5 rows\n",
                        "\n"
                    ]
                },
                {
                    "output_type": "execute_result",
                    "data": {
                        "text/plain": [
                            "\u001b[36mdivisBy2\u001b[39m: \u001b[32mDataset\u001b[39m[\u001b[32mRow\u001b[39m] = [number: bigint]"
                        ]
                    },
                    "metadata": {},
                    "execution_count": 5
                }
            ],
            "metadata": {}
        },
        {
            "cell_type": "code",
            "execution_count": 6,
            "source": [
                "divisBy2.count()"
            ],
            "outputs": [
                {
                    "output_type": "display_data",
                    "data": {
                        "text/html": [
                            "<div>\n",
                            "  <span style=\"float: left;\">count at cmd5.sc:1</span>\n",
                            "</div>\n"
                        ]
                    },
                    "metadata": {}
                },
                {
                    "output_type": "display_data",
                    "data": {
                        "text/html": [
                            "<div class=\"progress\">\n",
                            "  <div class=\"progress-bar\" role=\"progressbar\" style=\"background-color: blue; width: 100%; word-wrap: normal; white-space: nowrap; text-align: center; color: white\" aria-valuenow=\"100\" aria-valuemin=\"0\" aria-valuemax=\"100\">\n",
                            "    12 / 12\n",
                            "  </div>\n",
                            "  <div class=\"progress-bar\" role=\"progressbar\" style=\"background-color: red; width: 0%\" aria-valuenow=\"0\" aria-valuemin=\"0\" aria-valuemax=\"100\"></div>\n",
                            "</div>\n"
                        ]
                    },
                    "metadata": {}
                },
                {
                    "output_type": "display_data",
                    "data": {
                        "text/html": [
                            "<div>\n",
                            "  <span style=\"float: left;\">count at cmd5.sc:1</span>\n",
                            "</div>\n"
                        ]
                    },
                    "metadata": {}
                },
                {
                    "output_type": "display_data",
                    "data": {
                        "text/html": [
                            "<div class=\"progress\">\n",
                            "  <div class=\"progress-bar\" role=\"progressbar\" style=\"background-color: blue; width: 100%; word-wrap: normal; white-space: nowrap; text-align: center; color: white\" aria-valuenow=\"100\" aria-valuemin=\"0\" aria-valuemax=\"100\">\n",
                            "    1 / 1\n",
                            "  </div>\n",
                            "  <div class=\"progress-bar\" role=\"progressbar\" style=\"background-color: red; width: 0%\" aria-valuenow=\"0\" aria-valuemin=\"0\" aria-valuemax=\"100\"></div>\n",
                            "</div>\n"
                        ]
                    },
                    "metadata": {}
                },
                {
                    "output_type": "execute_result",
                    "data": {
                        "text/plain": [
                            "\u001b[36mres5\u001b[39m: \u001b[32mLong\u001b[39m = \u001b[32m50L\u001b[39m"
                        ]
                    },
                    "metadata": {},
                    "execution_count": 6
                }
            ],
            "metadata": {}
        },
        {
            "cell_type": "code",
            "execution_count": 7,
            "source": [
                "val flightData2015 = spark.read\n",
                "\t\t\t\t\t\t  .option(\"inferSchema\",\"true\")\n",
                "\t\t\t\t\t\t  .option(\"header\",\"true\")\n",
                "\t\t\t\t\t\t  .csv(\"/Users/mehdi/Documents/Spark-The-Definitive-Guide/data/flight-data/csv/2015-summary.csv\")"
            ],
            "outputs": [
                {
                    "output_type": "display_data",
                    "data": {
                        "text/html": [
                            "<div>\n",
                            "  <span style=\"float: left;\">csv at cmd6.sc:4</span>\n",
                            "</div>\n"
                        ]
                    },
                    "metadata": {}
                },
                {
                    "output_type": "display_data",
                    "data": {
                        "text/html": [
                            "<div class=\"progress\">\n",
                            "  <div class=\"progress-bar\" role=\"progressbar\" style=\"background-color: blue; width: 100%; word-wrap: normal; white-space: nowrap; text-align: center; color: white\" aria-valuenow=\"100\" aria-valuemin=\"0\" aria-valuemax=\"100\">\n",
                            "    1 / 1\n",
                            "  </div>\n",
                            "  <div class=\"progress-bar\" role=\"progressbar\" style=\"background-color: red; width: 0%\" aria-valuenow=\"0\" aria-valuemin=\"0\" aria-valuemax=\"100\"></div>\n",
                            "</div>\n"
                        ]
                    },
                    "metadata": {}
                },
                {
                    "output_type": "display_data",
                    "data": {
                        "text/html": [
                            "<div>\n",
                            "  <span style=\"float: left;\">csv at cmd6.sc:4</span>\n",
                            "</div>\n"
                        ]
                    },
                    "metadata": {}
                },
                {
                    "output_type": "display_data",
                    "data": {
                        "text/html": [
                            "<div class=\"progress\">\n",
                            "  <div class=\"progress-bar\" role=\"progressbar\" style=\"background-color: blue; width: 100%; word-wrap: normal; white-space: nowrap; text-align: center; color: white\" aria-valuenow=\"100\" aria-valuemin=\"0\" aria-valuemax=\"100\">\n",
                            "    1 / 1\n",
                            "  </div>\n",
                            "  <div class=\"progress-bar\" role=\"progressbar\" style=\"background-color: red; width: 0%\" aria-valuenow=\"0\" aria-valuemin=\"0\" aria-valuemax=\"100\"></div>\n",
                            "</div>\n"
                        ]
                    },
                    "metadata": {}
                },
                {
                    "output_type": "execute_result",
                    "data": {
                        "text/plain": [
                            "\u001b[36mflightData2015\u001b[39m: \u001b[32mDataFrame\u001b[39m = [DEST_COUNTRY_NAME: string, ORIGIN_COUNTRY_NAME: string ... 1 more field]"
                        ]
                    },
                    "metadata": {},
                    "execution_count": 7
                }
            ],
            "metadata": {}
        },
        {
            "cell_type": "code",
            "execution_count": 8,
            "source": [
                "flightData2015.take(3)"
            ],
            "outputs": [
                {
                    "output_type": "display_data",
                    "data": {
                        "text/html": [
                            "<div>\n",
                            "  <span style=\"float: left;\">take at cmd7.sc:1</span>\n",
                            "</div>\n"
                        ]
                    },
                    "metadata": {}
                },
                {
                    "output_type": "display_data",
                    "data": {
                        "text/html": [
                            "<div class=\"progress\">\n",
                            "  <div class=\"progress-bar\" role=\"progressbar\" style=\"background-color: blue; width: 100%; word-wrap: normal; white-space: nowrap; text-align: center; color: white\" aria-valuenow=\"100\" aria-valuemin=\"0\" aria-valuemax=\"100\">\n",
                            "    1 / 1\n",
                            "  </div>\n",
                            "  <div class=\"progress-bar\" role=\"progressbar\" style=\"background-color: red; width: 0%\" aria-valuenow=\"0\" aria-valuemin=\"0\" aria-valuemax=\"100\"></div>\n",
                            "</div>\n"
                        ]
                    },
                    "metadata": {}
                },
                {
                    "output_type": "execute_result",
                    "data": {
                        "text/plain": [
                            "\u001b[36mres7\u001b[39m: \u001b[32mArray\u001b[39m[\u001b[32mRow\u001b[39m] = \u001b[33mArray\u001b[39m(\n",
                            "  [United States,Romania,15],\n",
                            "  [United States,Croatia,1],\n",
                            "  [United States,Ireland,344]\n",
                            ")"
                        ]
                    },
                    "metadata": {},
                    "execution_count": 8
                }
            ],
            "metadata": {}
        },
        {
            "cell_type": "code",
            "execution_count": 10,
            "source": [
                "\n",
                "flightData2015.createOrReplaceTempView(\"flight_data_2015\")"
            ],
            "outputs": [],
            "metadata": {}
        },
        {
            "cell_type": "code",
            "execution_count": 11,
            "source": [
                "val sqlWay = spark.sql(\"\"\"\n",
                "  SELECT DEST_COUNTRY_NAME, count(1)\n",
                "  FROM flight_data_2015\n",
                "  GROUP BY DEST_COUNTRY_NAME\n",
                "  \"\"\")"
            ],
            "outputs": [
                {
                    "output_type": "execute_result",
                    "data": {
                        "text/plain": [
                            "\u001b[36msqlWay\u001b[39m: \u001b[32mDataFrame\u001b[39m = [DEST_COUNTRY_NAME: string, count(1): bigint]"
                        ]
                    },
                    "metadata": {},
                    "execution_count": 11
                }
            ],
            "metadata": {}
        },
        {
            "cell_type": "code",
            "execution_count": 12,
            "source": [
                "val dataFrameWay = flightData2015\n",
                "    .groupBy(\"DEST_COUNTRY_NAME\")\n",
                "    .count()"
            ],
            "outputs": [
                {
                    "output_type": "execute_result",
                    "data": {
                        "text/plain": [
                            "\u001b[36mdataFrameWay\u001b[39m: \u001b[32mDataFrame\u001b[39m = [DEST_COUNTRY_NAME: string, count: bigint]"
                        ]
                    },
                    "metadata": {},
                    "execution_count": 12
                }
            ],
            "metadata": {}
        },
        {
            "cell_type": "code",
            "execution_count": 13,
            "source": [
                "sqlWay.explain"
            ],
            "outputs": [
                {
                    "output_type": "stream",
                    "name": "stdout",
                    "text": [
                        "== Physical Plan ==\n",
                        "*(2) HashAggregate(keys=[DEST_COUNTRY_NAME#36], functions=[count(1)])\n",
                        "+- Exchange hashpartitioning(DEST_COUNTRY_NAME#36, 200), ENSURE_REQUIREMENTS, [id=#99]\n",
                        "   +- *(1) HashAggregate(keys=[DEST_COUNTRY_NAME#36], functions=[partial_count(1)])\n",
                        "      +- FileScan csv [DEST_COUNTRY_NAME#36] Batched: false, DataFilters: [], Format: CSV, Location: InMemoryFileIndex[file:/Users/mehdi/Documents/Spark-The-Definitive-Guide/data/flight-data/csv/201..., PartitionFilters: [], PushedFilters: [], ReadSchema: struct<DEST_COUNTRY_NAME:string>\n",
                        "\n",
                        "\n"
                    ]
                }
            ],
            "metadata": {}
        },
        {
            "cell_type": "code",
            "execution_count": 14,
            "source": [
                "dataFrameWay.explain"
            ],
            "outputs": [
                {
                    "output_type": "stream",
                    "name": "stdout",
                    "text": [
                        "== Physical Plan ==\n",
                        "*(2) HashAggregate(keys=[DEST_COUNTRY_NAME#36], functions=[count(1)])\n",
                        "+- Exchange hashpartitioning(DEST_COUNTRY_NAME#36, 200), ENSURE_REQUIREMENTS, [id=#118]\n",
                        "   +- *(1) HashAggregate(keys=[DEST_COUNTRY_NAME#36], functions=[partial_count(1)])\n",
                        "      +- FileScan csv [DEST_COUNTRY_NAME#36] Batched: false, DataFilters: [], Format: CSV, Location: InMemoryFileIndex[file:/Users/mehdi/Documents/Spark-The-Definitive-Guide/data/flight-data/csv/201..., PartitionFilters: [], PushedFilters: [], ReadSchema: struct<DEST_COUNTRY_NAME:string>\n",
                        "\n",
                        "\n"
                    ]
                }
            ],
            "metadata": {}
        },
        {
            "cell_type": "code",
            "execution_count": 15,
            "source": [
                "spark.sql(\"SELECT max(count) from flight_data_2015\").take(1)"
            ],
            "outputs": [
                {
                    "output_type": "display_data",
                    "data": {
                        "text/html": [
                            "<div>\n",
                            "  <span style=\"float: left;\">take at cmd14.sc:1</span>\n",
                            "</div>\n"
                        ]
                    },
                    "metadata": {}
                },
                {
                    "output_type": "display_data",
                    "data": {
                        "text/html": [
                            "<div class=\"progress\">\n",
                            "  <div class=\"progress-bar\" role=\"progressbar\" style=\"background-color: blue; width: 100%; word-wrap: normal; white-space: nowrap; text-align: center; color: white\" aria-valuenow=\"100\" aria-valuemin=\"0\" aria-valuemax=\"100\">\n",
                            "    1 / 1\n",
                            "  </div>\n",
                            "  <div class=\"progress-bar\" role=\"progressbar\" style=\"background-color: red; width: 0%\" aria-valuenow=\"0\" aria-valuemin=\"0\" aria-valuemax=\"100\"></div>\n",
                            "</div>\n"
                        ]
                    },
                    "metadata": {}
                },
                {
                    "output_type": "display_data",
                    "data": {
                        "text/html": [
                            "<div>\n",
                            "  <span style=\"float: left;\">take at cmd14.sc:1</span>\n",
                            "</div>\n"
                        ]
                    },
                    "metadata": {}
                },
                {
                    "output_type": "display_data",
                    "data": {
                        "text/html": [
                            "<div class=\"progress\">\n",
                            "  <div class=\"progress-bar\" role=\"progressbar\" style=\"background-color: blue; width: 100%; word-wrap: normal; white-space: nowrap; text-align: center; color: white\" aria-valuenow=\"100\" aria-valuemin=\"0\" aria-valuemax=\"100\">\n",
                            "    1 / 1\n",
                            "  </div>\n",
                            "  <div class=\"progress-bar\" role=\"progressbar\" style=\"background-color: red; width: 0%\" aria-valuenow=\"0\" aria-valuemin=\"0\" aria-valuemax=\"100\"></div>\n",
                            "</div>\n"
                        ]
                    },
                    "metadata": {}
                },
                {
                    "output_type": "execute_result",
                    "data": {
                        "text/plain": [
                            "\u001b[36mres14\u001b[39m: \u001b[32mArray\u001b[39m[\u001b[32mRow\u001b[39m] = \u001b[33mArray\u001b[39m([370002])"
                        ]
                    },
                    "metadata": {},
                    "execution_count": 15
                }
            ],
            "metadata": {}
        },
        {
            "cell_type": "code",
            "execution_count": 16,
            "source": [
                "import org.apache.spark.sql.functions.max\n",
                "flightData2015.select(max(\"count\")).take(1)"
            ],
            "outputs": [
                {
                    "output_type": "display_data",
                    "data": {
                        "text/html": [
                            "<div>\n",
                            "  <span style=\"float: left;\">take at cmd15.sc:2</span>\n",
                            "</div>\n"
                        ]
                    },
                    "metadata": {}
                },
                {
                    "output_type": "display_data",
                    "data": {
                        "text/html": [
                            "<div class=\"progress\">\n",
                            "  <div class=\"progress-bar\" role=\"progressbar\" style=\"background-color: blue; width: 100%; word-wrap: normal; white-space: nowrap; text-align: center; color: white\" aria-valuenow=\"100\" aria-valuemin=\"0\" aria-valuemax=\"100\">\n",
                            "    1 / 1\n",
                            "  </div>\n",
                            "  <div class=\"progress-bar\" role=\"progressbar\" style=\"background-color: red; width: 0%\" aria-valuenow=\"0\" aria-valuemin=\"0\" aria-valuemax=\"100\"></div>\n",
                            "</div>\n"
                        ]
                    },
                    "metadata": {}
                },
                {
                    "output_type": "display_data",
                    "data": {
                        "text/html": [
                            "<div>\n",
                            "  <span style=\"float: left;\">take at cmd15.sc:2</span>\n",
                            "</div>\n"
                        ]
                    },
                    "metadata": {}
                },
                {
                    "output_type": "display_data",
                    "data": {
                        "text/html": [
                            "<div class=\"progress\">\n",
                            "  <div class=\"progress-bar\" role=\"progressbar\" style=\"background-color: blue; width: 100%; word-wrap: normal; white-space: nowrap; text-align: center; color: white\" aria-valuenow=\"100\" aria-valuemin=\"0\" aria-valuemax=\"100\">\n",
                            "    1 / 1\n",
                            "  </div>\n",
                            "  <div class=\"progress-bar\" role=\"progressbar\" style=\"background-color: red; width: 0%\" aria-valuenow=\"0\" aria-valuemin=\"0\" aria-valuemax=\"100\"></div>\n",
                            "</div>\n"
                        ]
                    },
                    "metadata": {}
                },
                {
                    "output_type": "execute_result",
                    "data": {
                        "text/plain": [
                            "\u001b[32mimport \u001b[39m\u001b[36morg.apache.spark.sql.functions.max\n",
                            "\u001b[39m\n",
                            "\u001b[36mres15_1\u001b[39m: \u001b[32mArray\u001b[39m[\u001b[32mRow\u001b[39m] = \u001b[33mArray\u001b[39m([370002])"
                        ]
                    },
                    "metadata": {},
                    "execution_count": 16
                }
            ],
            "metadata": {}
        },
        {
            "cell_type": "code",
            "execution_count": 17,
            "source": [
                "val maxSql = spark.sql(\"\"\"\n",
                "  SELECT DEST_COUNTRY_NAME, sum(count) as destination_total\n",
                "  FROM flight_data_2015\n",
                "  GROUP BY DEST_COUNTRY_NAME\n",
                "  ORDER BY sum(count) DESC\n",
                "  LIMIT 5\n",
                "  \"\"\")\n",
                "  maxSql.show()"
            ],
            "outputs": [
                {
                    "output_type": "display_data",
                    "data": {
                        "text/html": [
                            "<div>\n",
                            "  <span style=\"float: left;\">show at cmd16.sc:8</span>\n",
                            "</div>\n"
                        ]
                    },
                    "metadata": {}
                },
                {
                    "output_type": "display_data",
                    "data": {
                        "text/html": [
                            "<div class=\"progress\">\n",
                            "  <div class=\"progress-bar\" role=\"progressbar\" style=\"background-color: blue; width: 100%; word-wrap: normal; white-space: nowrap; text-align: center; color: white\" aria-valuenow=\"100\" aria-valuemin=\"0\" aria-valuemax=\"100\">\n",
                            "    1 / 1\n",
                            "  </div>\n",
                            "  <div class=\"progress-bar\" role=\"progressbar\" style=\"background-color: red; width: 0%\" aria-valuenow=\"0\" aria-valuemin=\"0\" aria-valuemax=\"100\"></div>\n",
                            "</div>\n"
                        ]
                    },
                    "metadata": {}
                },
                {
                    "output_type": "display_data",
                    "data": {
                        "text/html": [
                            "<div>\n",
                            "  <span style=\"float: left;\">show at cmd16.sc:8</span>\n",
                            "</div>\n"
                        ]
                    },
                    "metadata": {}
                },
                {
                    "output_type": "display_data",
                    "data": {
                        "text/html": [
                            "<div class=\"progress\">\n",
                            "  <div class=\"progress-bar\" role=\"progressbar\" style=\"background-color: blue; width: 100%; word-wrap: normal; white-space: nowrap; text-align: center; color: white\" aria-valuenow=\"100\" aria-valuemin=\"0\" aria-valuemax=\"100\">\n",
                            "    200 / 200\n",
                            "  </div>\n",
                            "  <div class=\"progress-bar\" role=\"progressbar\" style=\"background-color: red; width: 0%\" aria-valuenow=\"0\" aria-valuemin=\"0\" aria-valuemax=\"100\"></div>\n",
                            "</div>\n"
                        ]
                    },
                    "metadata": {}
                },
                {
                    "output_type": "display_data",
                    "data": {
                        "text/html": [
                            "<div>\n",
                            "  <span style=\"float: left;\">show at cmd16.sc:8</span>\n",
                            "</div>\n"
                        ]
                    },
                    "metadata": {}
                },
                {
                    "output_type": "display_data",
                    "data": {
                        "text/html": [
                            "<div class=\"progress\">\n",
                            "  <div class=\"progress-bar\" role=\"progressbar\" style=\"background-color: blue; width: 100%; word-wrap: normal; white-space: nowrap; text-align: center; color: white\" aria-valuenow=\"100\" aria-valuemin=\"0\" aria-valuemax=\"100\">\n",
                            "    1 / 1\n",
                            "  </div>\n",
                            "  <div class=\"progress-bar\" role=\"progressbar\" style=\"background-color: red; width: 0%\" aria-valuenow=\"0\" aria-valuemin=\"0\" aria-valuemax=\"100\"></div>\n",
                            "</div>\n"
                        ]
                    },
                    "metadata": {}
                },
                {
                    "output_type": "stream",
                    "name": "stdout",
                    "text": [
                        "+-----------------+-----------------+\n",
                        "|DEST_COUNTRY_NAME|destination_total|\n",
                        "+-----------------+-----------------+\n",
                        "|    United States|           411352|\n",
                        "|           Canada|             8399|\n",
                        "|           Mexico|             7140|\n",
                        "|   United Kingdom|             2025|\n",
                        "|            Japan|             1548|\n",
                        "+-----------------+-----------------+\n",
                        "\n"
                    ]
                },
                {
                    "output_type": "execute_result",
                    "data": {
                        "text/plain": [
                            "\u001b[36mmaxSql\u001b[39m: \u001b[32mDataFrame\u001b[39m = [DEST_COUNTRY_NAME: string, destination_total: bigint]"
                        ]
                    },
                    "metadata": {},
                    "execution_count": 17
                }
            ],
            "metadata": {}
        },
        {
            "cell_type": "code",
            "execution_count": 18,
            "source": [
                "AmmoniteSparkSession.sync()"
            ],
            "outputs": [
                {
                    "output_type": "execute_result",
                    "data": {
                        "text/plain": [
                            "\u001b[36mres17\u001b[39m: \u001b[32mSparkSession\u001b[39m = org.apache.spark.sql.SparkSession@412f5119"
                        ]
                    },
                    "metadata": {},
                    "execution_count": 18
                }
            ],
            "metadata": {}
        },
        {
            "cell_type": "code",
            "execution_count": 19,
            "source": [
                "val maxSql = spark.sql(\"\"\"\n",
                "  SELECT DEST_COUNTRY_NAME, sum(count) \n",
                "  FROM flight_data_2015\n",
                "  WHERE DEST_COUNTRY_NAME IN(\"FRANCE\",\n",
                "  \t\t\t\t          -- \"ITALY\",\n",
                "  \t\t\t\t\t\t\t \"UNITED STATES\"\n",
                "\t\t\t\t\t\t\t)\n",
                "  GROUP BY DEST_COUNTRY_NAME\n",
                "  LIMIT 5\n",
                "  \"\"\")\n",
                " maxSql.show()"
            ],
            "outputs": [
                {
                    "output_type": "display_data",
                    "data": {
                        "text/html": [
                            "<div>\n",
                            "  <span style=\"float: left;\">show at cmd18.sc:11</span>\n",
                            "</div>\n"
                        ]
                    },
                    "metadata": {}
                },
                {
                    "output_type": "display_data",
                    "data": {
                        "text/html": [
                            "<div class=\"progress\">\n",
                            "  <div class=\"progress-bar\" role=\"progressbar\" style=\"background-color: blue; width: 100%; word-wrap: normal; white-space: nowrap; text-align: center; color: white\" aria-valuenow=\"100\" aria-valuemin=\"0\" aria-valuemax=\"100\">\n",
                            "    1 / 1\n",
                            "  </div>\n",
                            "  <div class=\"progress-bar\" role=\"progressbar\" style=\"background-color: red; width: 0%\" aria-valuenow=\"0\" aria-valuemin=\"0\" aria-valuemax=\"100\"></div>\n",
                            "</div>\n"
                        ]
                    },
                    "metadata": {}
                },
                {
                    "output_type": "display_data",
                    "data": {
                        "text/html": [
                            "<div>\n",
                            "  <span style=\"float: left;\">show at cmd18.sc:11</span>\n",
                            "</div>\n"
                        ]
                    },
                    "metadata": {}
                },
                {
                    "output_type": "display_data",
                    "data": {
                        "text/html": [
                            "<div class=\"progress\">\n",
                            "  <div class=\"progress-bar\" role=\"progressbar\" style=\"background-color: blue; width: 100%; word-wrap: normal; white-space: nowrap; text-align: center; color: white\" aria-valuenow=\"100\" aria-valuemin=\"0\" aria-valuemax=\"100\">\n",
                            "    200 / 200\n",
                            "  </div>\n",
                            "  <div class=\"progress-bar\" role=\"progressbar\" style=\"background-color: red; width: 0%\" aria-valuenow=\"0\" aria-valuemin=\"0\" aria-valuemax=\"100\"></div>\n",
                            "</div>\n"
                        ]
                    },
                    "metadata": {}
                },
                {
                    "output_type": "display_data",
                    "data": {
                        "text/html": [
                            "<div>\n",
                            "  <span style=\"float: left;\">show at cmd18.sc:11</span>\n",
                            "</div>\n"
                        ]
                    },
                    "metadata": {}
                },
                {
                    "output_type": "display_data",
                    "data": {
                        "text/html": [
                            "<div class=\"progress\">\n",
                            "  <div class=\"progress-bar\" role=\"progressbar\" style=\"background-color: blue; width: 100%; word-wrap: normal; white-space: nowrap; text-align: center; color: white\" aria-valuenow=\"100\" aria-valuemin=\"0\" aria-valuemax=\"100\">\n",
                            "    1 / 1\n",
                            "  </div>\n",
                            "  <div class=\"progress-bar\" role=\"progressbar\" style=\"background-color: red; width: 0%\" aria-valuenow=\"0\" aria-valuemin=\"0\" aria-valuemax=\"100\"></div>\n",
                            "</div>\n"
                        ]
                    },
                    "metadata": {}
                },
                {
                    "output_type": "stream",
                    "name": "stdout",
                    "text": [
                        "+-----------------+----------+\n",
                        "|DEST_COUNTRY_NAME|sum(count)|\n",
                        "+-----------------+----------+\n",
                        "+-----------------+----------+\n",
                        "\n"
                    ]
                },
                {
                    "output_type": "execute_result",
                    "data": {
                        "text/plain": [
                            "\u001b[36mmaxSql\u001b[39m: \u001b[32mDataFrame\u001b[39m = [DEST_COUNTRY_NAME: string, sum(count): bigint]"
                        ]
                    },
                    "metadata": {},
                    "execution_count": 19
                }
            ],
            "metadata": {}
        }
    ],
    "metadata": {
        "orig_nbformat": 4,
        "language_info": {
            "name": "scala",
            "version": "2.12.11",
            "mimetype": "text/x-scala",
            "file_extension": ".sc",
            "nbconvert_exporter": "script",
            "codemirror_mode": "text/x-scala"
        },
        "kernelspec": {
            "name": "scala",
            "display_name": "Scala",
            "language": "scala"
        }
    },
    "nbformat": 4,
    "nbformat_minor": 2
}